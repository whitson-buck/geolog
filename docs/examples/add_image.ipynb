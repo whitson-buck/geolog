{
 "cells": [
  {
   "cell_type": "code",
   "execution_count": 1,
   "metadata": {},
   "outputs": [],
   "source": [
    "import geolog"
   ]
  },
  {
   "cell_type": "code",
   "execution_count": 2,
   "metadata": {},
   "outputs": [
    {
     "data": {
      "application/vnd.jupyter.widget-view+json": {
       "model_id": "9ff30911c49246b29293824829482918",
       "version_major": 2,
       "version_minor": 0
      },
      "text/plain": [
       "Map(center=[35, -90], controls=(ZoomControl(options=['position', 'zoom_in_text', 'zoom_in_title', 'zoom_out_te…"
      ]
     },
     "execution_count": 2,
     "metadata": {},
     "output_type": "execute_result"
    }
   ],
   "source": [
    "m = geolog.Map()\n",
    "\n",
    "m"
   ]
  },
  {
   "cell_type": "code",
   "execution_count": 4,
   "metadata": {},
   "outputs": [
    {
     "data": {
      "application/vnd.jupyter.widget-view+json": {
       "model_id": "9ff30911c49246b29293824829482918",
       "version_major": 2,
       "version_minor": 0
      },
      "text/plain": [
       "Map(bottom=3490.0, center=[33.358061612778876, -100.85449218750001], controls=(ZoomControl(options=['position'…"
      ]
     },
     "execution_count": 4,
     "metadata": {},
     "output_type": "execute_result"
    }
   ],
   "source": [
    "#add image from any url\n",
    "import ipywidgets\n",
    "from ipyleaflet import WidgetControl\n",
    "\n",
    "m.add_image(url= 'https://media3.giphy.com/media/v1.Y2lkPTc5MGI3NjExMzBmYWQyN2ZkMGNmMDIwZGMxMTY4ZWFjZDM2YjExNThmYjBkNDRlYSZlcD12MV9pbnRlcm5hbF9naWZzX2dpZklkJmN0PWc/xTiTnpcaFPfJAzaP8A/giphy.gif', width ='200', height='200')\n",
    "\n",
    "m"
   ]
  }
 ],
 "metadata": {
  "kernelspec": {
   "display_name": "Python 3.10.11 64-bit (microsoft store)",
   "language": "python",
   "name": "python3"
  },
  "language_info": {
   "codemirror_mode": {
    "name": "ipython",
    "version": 3
   },
   "file_extension": ".py",
   "mimetype": "text/x-python",
   "name": "python",
   "nbconvert_exporter": "python",
   "pygments_lexer": "ipython3",
   "version": "3.10.11"
  },
  "orig_nbformat": 4,
  "vscode": {
   "interpreter": {
    "hash": "6392b47d10f2a60cf5c0984ae0b3f8fe711cc586c5a006a75348f691210e47b5"
   }
  }
 },
 "nbformat": 4,
 "nbformat_minor": 2
}
