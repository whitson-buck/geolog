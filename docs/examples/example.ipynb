{
 "cells": [
  {
   "cell_type": "code",
   "execution_count": null,
   "metadata": {},
   "outputs": [
    {
     "data": {
      "application/vnd.jupyter.widget-view+json": {
       "model_id": "b15a2818cad540cca3020ab198e3d449",
       "version_major": 2,
       "version_minor": 0
      },
      "text/plain": [
       "Map(center=[40, -100], controls=(ZoomControl(options=['position', 'zoom_in_text', 'zoom_in_title', 'zoom_out_t…"
      ]
     },
     "metadata": {},
     "output_type": "display_data"
    },
    {
     "ename": "TypeError",
     "evalue": "string indices must be integers, not 'str'",
     "output_type": "error",
     "traceback": [
      "\u001b[0;31m---------------------------------------------------------------------------\u001b[0m",
      "\u001b[0;31mTypeError\u001b[0m                                 Traceback (most recent call last)",
      "File \u001b[0;32m~/Documents/geolog/geolog/geotest.py:25\u001b[0m, in \u001b[0;36mMap.handle_interaction\u001b[0;34m(self, event, **kwargs)\u001b[0m\n\u001b[1;32m     24\u001b[0m \u001b[39mdef\u001b[39;00m \u001b[39mhandle_interaction\u001b[39m(\u001b[39mself\u001b[39m, event, \u001b[39m*\u001b[39m\u001b[39m*\u001b[39mkwargs):\n\u001b[0;32m---> 25\u001b[0m     \u001b[39mif\u001b[39;00m event[\u001b[39m'\u001b[39;49m\u001b[39mtype\u001b[39;49m\u001b[39m'\u001b[39;49m] \u001b[39m==\u001b[39m \u001b[39m'\u001b[39m\u001b[39mclick\u001b[39m\u001b[39m'\u001b[39m:\n\u001b[1;32m     26\u001b[0m         lat, lon \u001b[39m=\u001b[39m event[\u001b[39m'\u001b[39m\u001b[39mcoordinates\u001b[39m\u001b[39m'\u001b[39m]\n\u001b[1;32m     27\u001b[0m         marker \u001b[39m=\u001b[39m ipyleaflet\u001b[39m.\u001b[39mMarker(location\u001b[39m=\u001b[39m(lat, lon))\n",
      "\u001b[0;31mTypeError\u001b[0m: string indices must be integers, not 'str'"
     ]
    },
    {
     "ename": "TypeError",
     "evalue": "string indices must be integers, not 'str'",
     "output_type": "error",
     "traceback": [
      "\u001b[0;31m---------------------------------------------------------------------------\u001b[0m",
      "\u001b[0;31mTypeError\u001b[0m                                 Traceback (most recent call last)",
      "File \u001b[0;32m~/Documents/geolog/geolog/geotest.py:25\u001b[0m, in \u001b[0;36mMap.handle_interaction\u001b[0;34m(self, event, **kwargs)\u001b[0m\n\u001b[1;32m     24\u001b[0m \u001b[39mdef\u001b[39;00m \u001b[39mhandle_interaction\u001b[39m(\u001b[39mself\u001b[39m, event, \u001b[39m*\u001b[39m\u001b[39m*\u001b[39mkwargs):\n\u001b[0;32m---> 25\u001b[0m     \u001b[39mif\u001b[39;00m event[\u001b[39m'\u001b[39;49m\u001b[39mtype\u001b[39;49m\u001b[39m'\u001b[39;49m] \u001b[39m==\u001b[39m \u001b[39m'\u001b[39m\u001b[39mclick\u001b[39m\u001b[39m'\u001b[39m:\n\u001b[1;32m     26\u001b[0m         lat, lon \u001b[39m=\u001b[39m event[\u001b[39m'\u001b[39m\u001b[39mcoordinates\u001b[39m\u001b[39m'\u001b[39m]\n\u001b[1;32m     27\u001b[0m         marker \u001b[39m=\u001b[39m ipyleaflet\u001b[39m.\u001b[39mMarker(location\u001b[39m=\u001b[39m(lat, lon))\n",
      "\u001b[0;31mTypeError\u001b[0m: string indices must be integers, not 'str'"
     ]
    },
    {
     "ename": "TypeError",
     "evalue": "string indices must be integers, not 'str'",
     "output_type": "error",
     "traceback": [
      "\u001b[0;31m---------------------------------------------------------------------------\u001b[0m",
      "\u001b[0;31mTypeError\u001b[0m                                 Traceback (most recent call last)",
      "File \u001b[0;32m~/Documents/geolog/geolog/geotest.py:25\u001b[0m, in \u001b[0;36mMap.handle_interaction\u001b[0;34m(self, event, **kwargs)\u001b[0m\n\u001b[1;32m     24\u001b[0m \u001b[39mdef\u001b[39;00m \u001b[39mhandle_interaction\u001b[39m(\u001b[39mself\u001b[39m, event, \u001b[39m*\u001b[39m\u001b[39m*\u001b[39mkwargs):\n\u001b[0;32m---> 25\u001b[0m     \u001b[39mif\u001b[39;00m event[\u001b[39m'\u001b[39;49m\u001b[39mtype\u001b[39;49m\u001b[39m'\u001b[39;49m] \u001b[39m==\u001b[39m \u001b[39m'\u001b[39m\u001b[39mclick\u001b[39m\u001b[39m'\u001b[39m:\n\u001b[1;32m     26\u001b[0m         lat, lon \u001b[39m=\u001b[39m event[\u001b[39m'\u001b[39m\u001b[39mcoordinates\u001b[39m\u001b[39m'\u001b[39m]\n\u001b[1;32m     27\u001b[0m         marker \u001b[39m=\u001b[39m ipyleaflet\u001b[39m.\u001b[39mMarker(location\u001b[39m=\u001b[39m(lat, lon))\n",
      "\u001b[0;31mTypeError\u001b[0m: string indices must be integers, not 'str'"
     ]
    },
    {
     "ename": "TypeError",
     "evalue": "string indices must be integers, not 'str'",
     "output_type": "error",
     "traceback": [
      "\u001b[0;31m---------------------------------------------------------------------------\u001b[0m",
      "\u001b[0;31mTypeError\u001b[0m                                 Traceback (most recent call last)",
      "File \u001b[0;32m~/Documents/geolog/geolog/geotest.py:25\u001b[0m, in \u001b[0;36mMap.handle_interaction\u001b[0;34m(self, event, **kwargs)\u001b[0m\n\u001b[1;32m     24\u001b[0m \u001b[39mdef\u001b[39;00m \u001b[39mhandle_interaction\u001b[39m(\u001b[39mself\u001b[39m, event, \u001b[39m*\u001b[39m\u001b[39m*\u001b[39mkwargs):\n\u001b[0;32m---> 25\u001b[0m     \u001b[39mif\u001b[39;00m event[\u001b[39m'\u001b[39;49m\u001b[39mtype\u001b[39;49m\u001b[39m'\u001b[39;49m] \u001b[39m==\u001b[39m \u001b[39m'\u001b[39m\u001b[39mclick\u001b[39m\u001b[39m'\u001b[39m:\n\u001b[1;32m     26\u001b[0m         lat, lon \u001b[39m=\u001b[39m event[\u001b[39m'\u001b[39m\u001b[39mcoordinates\u001b[39m\u001b[39m'\u001b[39m]\n\u001b[1;32m     27\u001b[0m         marker \u001b[39m=\u001b[39m ipyleaflet\u001b[39m.\u001b[39mMarker(location\u001b[39m=\u001b[39m(lat, lon))\n",
      "\u001b[0;31mTypeError\u001b[0m: string indices must be integers, not 'str'"
     ]
    },
    {
     "ename": "TypeError",
     "evalue": "string indices must be integers, not 'str'",
     "output_type": "error",
     "traceback": [
      "\u001b[0;31m---------------------------------------------------------------------------\u001b[0m",
      "\u001b[0;31mTypeError\u001b[0m                                 Traceback (most recent call last)",
      "File \u001b[0;32m~/Documents/geolog/geolog/geotest.py:25\u001b[0m, in \u001b[0;36mMap.handle_interaction\u001b[0;34m(self, event, **kwargs)\u001b[0m\n\u001b[1;32m     24\u001b[0m \u001b[39mdef\u001b[39;00m \u001b[39mhandle_interaction\u001b[39m(\u001b[39mself\u001b[39m, event, \u001b[39m*\u001b[39m\u001b[39m*\u001b[39mkwargs):\n\u001b[0;32m---> 25\u001b[0m     \u001b[39mif\u001b[39;00m event[\u001b[39m'\u001b[39;49m\u001b[39mtype\u001b[39;49m\u001b[39m'\u001b[39;49m] \u001b[39m==\u001b[39m \u001b[39m'\u001b[39m\u001b[39mclick\u001b[39m\u001b[39m'\u001b[39m:\n\u001b[1;32m     26\u001b[0m         lat, lon \u001b[39m=\u001b[39m event[\u001b[39m'\u001b[39m\u001b[39mcoordinates\u001b[39m\u001b[39m'\u001b[39m]\n\u001b[1;32m     27\u001b[0m         marker \u001b[39m=\u001b[39m ipyleaflet\u001b[39m.\u001b[39mMarker(location\u001b[39m=\u001b[39m(lat, lon))\n",
      "\u001b[0;31mTypeError\u001b[0m: string indices must be integers, not 'str'"
     ]
    },
    {
     "ename": "TypeError",
     "evalue": "string indices must be integers, not 'str'",
     "output_type": "error",
     "traceback": [
      "\u001b[0;31m---------------------------------------------------------------------------\u001b[0m",
      "\u001b[0;31mTypeError\u001b[0m                                 Traceback (most recent call last)",
      "File \u001b[0;32m~/Documents/geolog/geolog/geotest.py:25\u001b[0m, in \u001b[0;36mMap.handle_interaction\u001b[0;34m(self, event, **kwargs)\u001b[0m\n\u001b[1;32m     24\u001b[0m \u001b[39mdef\u001b[39;00m \u001b[39mhandle_interaction\u001b[39m(\u001b[39mself\u001b[39m, event, \u001b[39m*\u001b[39m\u001b[39m*\u001b[39mkwargs):\n\u001b[0;32m---> 25\u001b[0m     \u001b[39mif\u001b[39;00m event[\u001b[39m'\u001b[39;49m\u001b[39mtype\u001b[39;49m\u001b[39m'\u001b[39;49m] \u001b[39m==\u001b[39m \u001b[39m'\u001b[39m\u001b[39mclick\u001b[39m\u001b[39m'\u001b[39m:\n\u001b[1;32m     26\u001b[0m         lat, lon \u001b[39m=\u001b[39m event[\u001b[39m'\u001b[39m\u001b[39mcoordinates\u001b[39m\u001b[39m'\u001b[39m]\n\u001b[1;32m     27\u001b[0m         marker \u001b[39m=\u001b[39m ipyleaflet\u001b[39m.\u001b[39mMarker(location\u001b[39m=\u001b[39m(lat, lon))\n",
      "\u001b[0;31mTypeError\u001b[0m: string indices must be integers, not 'str'"
     ]
    },
    {
     "ename": "TypeError",
     "evalue": "string indices must be integers, not 'str'",
     "output_type": "error",
     "traceback": [
      "\u001b[0;31m---------------------------------------------------------------------------\u001b[0m",
      "\u001b[0;31mTypeError\u001b[0m                                 Traceback (most recent call last)",
      "File \u001b[0;32m~/Documents/geolog/geolog/geotest.py:25\u001b[0m, in \u001b[0;36mMap.handle_interaction\u001b[0;34m(self, event, **kwargs)\u001b[0m\n\u001b[1;32m     24\u001b[0m \u001b[39mdef\u001b[39;00m \u001b[39mhandle_interaction\u001b[39m(\u001b[39mself\u001b[39m, event, \u001b[39m*\u001b[39m\u001b[39m*\u001b[39mkwargs):\n\u001b[0;32m---> 25\u001b[0m     \u001b[39mif\u001b[39;00m event[\u001b[39m'\u001b[39;49m\u001b[39mtype\u001b[39;49m\u001b[39m'\u001b[39;49m] \u001b[39m==\u001b[39m \u001b[39m'\u001b[39m\u001b[39mclick\u001b[39m\u001b[39m'\u001b[39m:\n\u001b[1;32m     26\u001b[0m         lat, lon \u001b[39m=\u001b[39m event[\u001b[39m'\u001b[39m\u001b[39mcoordinates\u001b[39m\u001b[39m'\u001b[39m]\n\u001b[1;32m     27\u001b[0m         marker \u001b[39m=\u001b[39m ipyleaflet\u001b[39m.\u001b[39mMarker(location\u001b[39m=\u001b[39m(lat, lon))\n",
      "\u001b[0;31mTypeError\u001b[0m: string indices must be integers, not 'str'"
     ]
    },
    {
     "ename": "TypeError",
     "evalue": "string indices must be integers, not 'str'",
     "output_type": "error",
     "traceback": [
      "\u001b[0;31m---------------------------------------------------------------------------\u001b[0m",
      "\u001b[0;31mTypeError\u001b[0m                                 Traceback (most recent call last)",
      "File \u001b[0;32m~/Documents/geolog/geolog/geotest.py:25\u001b[0m, in \u001b[0;36mMap.handle_interaction\u001b[0;34m(self, event, **kwargs)\u001b[0m\n\u001b[1;32m     24\u001b[0m \u001b[39mdef\u001b[39;00m \u001b[39mhandle_interaction\u001b[39m(\u001b[39mself\u001b[39m, event, \u001b[39m*\u001b[39m\u001b[39m*\u001b[39mkwargs):\n\u001b[0;32m---> 25\u001b[0m     \u001b[39mif\u001b[39;00m event[\u001b[39m'\u001b[39;49m\u001b[39mtype\u001b[39;49m\u001b[39m'\u001b[39;49m] \u001b[39m==\u001b[39m \u001b[39m'\u001b[39m\u001b[39mclick\u001b[39m\u001b[39m'\u001b[39m:\n\u001b[1;32m     26\u001b[0m         lat, lon \u001b[39m=\u001b[39m event[\u001b[39m'\u001b[39m\u001b[39mcoordinates\u001b[39m\u001b[39m'\u001b[39m]\n\u001b[1;32m     27\u001b[0m         marker \u001b[39m=\u001b[39m ipyleaflet\u001b[39m.\u001b[39mMarker(location\u001b[39m=\u001b[39m(lat, lon))\n",
      "\u001b[0;31mTypeError\u001b[0m: string indices must be integers, not 'str'"
     ]
    },
    {
     "ename": "TypeError",
     "evalue": "string indices must be integers, not 'str'",
     "output_type": "error",
     "traceback": [
      "\u001b[0;31m---------------------------------------------------------------------------\u001b[0m",
      "\u001b[0;31mTypeError\u001b[0m                                 Traceback (most recent call last)",
      "File \u001b[0;32m~/Documents/geolog/geolog/geotest.py:25\u001b[0m, in \u001b[0;36mMap.handle_interaction\u001b[0;34m(self, event, **kwargs)\u001b[0m\n\u001b[1;32m     24\u001b[0m \u001b[39mdef\u001b[39;00m \u001b[39mhandle_interaction\u001b[39m(\u001b[39mself\u001b[39m, event, \u001b[39m*\u001b[39m\u001b[39m*\u001b[39mkwargs):\n\u001b[0;32m---> 25\u001b[0m     \u001b[39mif\u001b[39;00m event[\u001b[39m'\u001b[39;49m\u001b[39mtype\u001b[39;49m\u001b[39m'\u001b[39;49m] \u001b[39m==\u001b[39m \u001b[39m'\u001b[39m\u001b[39mclick\u001b[39m\u001b[39m'\u001b[39m:\n\u001b[1;32m     26\u001b[0m         lat, lon \u001b[39m=\u001b[39m event[\u001b[39m'\u001b[39m\u001b[39mcoordinates\u001b[39m\u001b[39m'\u001b[39m]\n\u001b[1;32m     27\u001b[0m         marker \u001b[39m=\u001b[39m ipyleaflet\u001b[39m.\u001b[39mMarker(location\u001b[39m=\u001b[39m(lat, lon))\n",
      "\u001b[0;31mTypeError\u001b[0m: string indices must be integers, not 'str'"
     ]
    },
    {
     "ename": "TypeError",
     "evalue": "string indices must be integers, not 'str'",
     "output_type": "error",
     "traceback": [
      "\u001b[0;31m---------------------------------------------------------------------------\u001b[0m",
      "\u001b[0;31mTypeError\u001b[0m                                 Traceback (most recent call last)",
      "File \u001b[0;32m~/Documents/geolog/geolog/geotest.py:25\u001b[0m, in \u001b[0;36mMap.handle_interaction\u001b[0;34m(self, event, **kwargs)\u001b[0m\n\u001b[1;32m     24\u001b[0m \u001b[39mdef\u001b[39;00m \u001b[39mhandle_interaction\u001b[39m(\u001b[39mself\u001b[39m, event, \u001b[39m*\u001b[39m\u001b[39m*\u001b[39mkwargs):\n\u001b[0;32m---> 25\u001b[0m     \u001b[39mif\u001b[39;00m event[\u001b[39m'\u001b[39;49m\u001b[39mtype\u001b[39;49m\u001b[39m'\u001b[39;49m] \u001b[39m==\u001b[39m \u001b[39m'\u001b[39m\u001b[39mclick\u001b[39m\u001b[39m'\u001b[39m:\n\u001b[1;32m     26\u001b[0m         lat, lon \u001b[39m=\u001b[39m event[\u001b[39m'\u001b[39m\u001b[39mcoordinates\u001b[39m\u001b[39m'\u001b[39m]\n\u001b[1;32m     27\u001b[0m         marker \u001b[39m=\u001b[39m ipyleaflet\u001b[39m.\u001b[39mMarker(location\u001b[39m=\u001b[39m(lat, lon))\n",
      "\u001b[0;31mTypeError\u001b[0m: string indices must be integers, not 'str'"
     ]
    },
    {
     "ename": "TypeError",
     "evalue": "string indices must be integers, not 'str'",
     "output_type": "error",
     "traceback": [
      "\u001b[0;31m---------------------------------------------------------------------------\u001b[0m",
      "\u001b[0;31mTypeError\u001b[0m                                 Traceback (most recent call last)",
      "File \u001b[0;32m~/Documents/geolog/geolog/geotest.py:25\u001b[0m, in \u001b[0;36mMap.handle_interaction\u001b[0;34m(self, event, **kwargs)\u001b[0m\n\u001b[1;32m     24\u001b[0m \u001b[39mdef\u001b[39;00m \u001b[39mhandle_interaction\u001b[39m(\u001b[39mself\u001b[39m, event, \u001b[39m*\u001b[39m\u001b[39m*\u001b[39mkwargs):\n\u001b[0;32m---> 25\u001b[0m     \u001b[39mif\u001b[39;00m event[\u001b[39m'\u001b[39;49m\u001b[39mtype\u001b[39;49m\u001b[39m'\u001b[39;49m] \u001b[39m==\u001b[39m \u001b[39m'\u001b[39m\u001b[39mclick\u001b[39m\u001b[39m'\u001b[39m:\n\u001b[1;32m     26\u001b[0m         lat, lon \u001b[39m=\u001b[39m event[\u001b[39m'\u001b[39m\u001b[39mcoordinates\u001b[39m\u001b[39m'\u001b[39m]\n\u001b[1;32m     27\u001b[0m         marker \u001b[39m=\u001b[39m ipyleaflet\u001b[39m.\u001b[39mMarker(location\u001b[39m=\u001b[39m(lat, lon))\n",
      "\u001b[0;31mTypeError\u001b[0m: string indices must be integers, not 'str'"
     ]
    },
    {
     "ename": "TypeError",
     "evalue": "string indices must be integers, not 'str'",
     "output_type": "error",
     "traceback": [
      "\u001b[0;31m---------------------------------------------------------------------------\u001b[0m",
      "\u001b[0;31mTypeError\u001b[0m                                 Traceback (most recent call last)",
      "File \u001b[0;32m~/Documents/geolog/geolog/geotest.py:25\u001b[0m, in \u001b[0;36mMap.handle_interaction\u001b[0;34m(self, event, **kwargs)\u001b[0m\n\u001b[1;32m     24\u001b[0m \u001b[39mdef\u001b[39;00m \u001b[39mhandle_interaction\u001b[39m(\u001b[39mself\u001b[39m, event, \u001b[39m*\u001b[39m\u001b[39m*\u001b[39mkwargs):\n\u001b[0;32m---> 25\u001b[0m     \u001b[39mif\u001b[39;00m event[\u001b[39m'\u001b[39;49m\u001b[39mtype\u001b[39;49m\u001b[39m'\u001b[39;49m] \u001b[39m==\u001b[39m \u001b[39m'\u001b[39m\u001b[39mclick\u001b[39m\u001b[39m'\u001b[39m:\n\u001b[1;32m     26\u001b[0m         lat, lon \u001b[39m=\u001b[39m event[\u001b[39m'\u001b[39m\u001b[39mcoordinates\u001b[39m\u001b[39m'\u001b[39m]\n\u001b[1;32m     27\u001b[0m         marker \u001b[39m=\u001b[39m ipyleaflet\u001b[39m.\u001b[39mMarker(location\u001b[39m=\u001b[39m(lat, lon))\n",
      "\u001b[0;31mTypeError\u001b[0m: string indices must be integers, not 'str'"
     ]
    },
    {
     "ename": "TypeError",
     "evalue": "string indices must be integers, not 'str'",
     "output_type": "error",
     "traceback": [
      "\u001b[0;31m---------------------------------------------------------------------------\u001b[0m",
      "\u001b[0;31mTypeError\u001b[0m                                 Traceback (most recent call last)",
      "File \u001b[0;32m~/Documents/geolog/geolog/geotest.py:25\u001b[0m, in \u001b[0;36mMap.handle_interaction\u001b[0;34m(self, event, **kwargs)\u001b[0m\n\u001b[1;32m     24\u001b[0m \u001b[39mdef\u001b[39;00m \u001b[39mhandle_interaction\u001b[39m(\u001b[39mself\u001b[39m, event, \u001b[39m*\u001b[39m\u001b[39m*\u001b[39mkwargs):\n\u001b[0;32m---> 25\u001b[0m     \u001b[39mif\u001b[39;00m event[\u001b[39m'\u001b[39;49m\u001b[39mtype\u001b[39;49m\u001b[39m'\u001b[39;49m] \u001b[39m==\u001b[39m \u001b[39m'\u001b[39m\u001b[39mclick\u001b[39m\u001b[39m'\u001b[39m:\n\u001b[1;32m     26\u001b[0m         lat, lon \u001b[39m=\u001b[39m event[\u001b[39m'\u001b[39m\u001b[39mcoordinates\u001b[39m\u001b[39m'\u001b[39m]\n\u001b[1;32m     27\u001b[0m         marker \u001b[39m=\u001b[39m ipyleaflet\u001b[39m.\u001b[39mMarker(location\u001b[39m=\u001b[39m(lat, lon))\n",
      "\u001b[0;31mTypeError\u001b[0m: string indices must be integers, not 'str'"
     ]
    },
    {
     "ename": "TypeError",
     "evalue": "string indices must be integers, not 'str'",
     "output_type": "error",
     "traceback": [
      "\u001b[0;31m---------------------------------------------------------------------------\u001b[0m",
      "\u001b[0;31mTypeError\u001b[0m                                 Traceback (most recent call last)",
      "File \u001b[0;32m~/Documents/geolog/geolog/geotest.py:25\u001b[0m, in \u001b[0;36mMap.handle_interaction\u001b[0;34m(self, event, **kwargs)\u001b[0m\n\u001b[1;32m     24\u001b[0m \u001b[39mdef\u001b[39;00m \u001b[39mhandle_interaction\u001b[39m(\u001b[39mself\u001b[39m, event, \u001b[39m*\u001b[39m\u001b[39m*\u001b[39mkwargs):\n\u001b[0;32m---> 25\u001b[0m     \u001b[39mif\u001b[39;00m event[\u001b[39m'\u001b[39;49m\u001b[39mtype\u001b[39;49m\u001b[39m'\u001b[39;49m] \u001b[39m==\u001b[39m \u001b[39m'\u001b[39m\u001b[39mclick\u001b[39m\u001b[39m'\u001b[39m:\n\u001b[1;32m     26\u001b[0m         lat, lon \u001b[39m=\u001b[39m event[\u001b[39m'\u001b[39m\u001b[39mcoordinates\u001b[39m\u001b[39m'\u001b[39m]\n\u001b[1;32m     27\u001b[0m         marker \u001b[39m=\u001b[39m ipyleaflet\u001b[39m.\u001b[39mMarker(location\u001b[39m=\u001b[39m(lat, lon))\n",
      "\u001b[0;31mTypeError\u001b[0m: string indices must be integers, not 'str'"
     ]
    },
    {
     "ename": "TypeError",
     "evalue": "string indices must be integers, not 'str'",
     "output_type": "error",
     "traceback": [
      "\u001b[0;31m---------------------------------------------------------------------------\u001b[0m",
      "\u001b[0;31mTypeError\u001b[0m                                 Traceback (most recent call last)",
      "File \u001b[0;32m~/Documents/geolog/geolog/geotest.py:25\u001b[0m, in \u001b[0;36mMap.handle_interaction\u001b[0;34m(self, event, **kwargs)\u001b[0m\n\u001b[1;32m     24\u001b[0m \u001b[39mdef\u001b[39;00m \u001b[39mhandle_interaction\u001b[39m(\u001b[39mself\u001b[39m, event, \u001b[39m*\u001b[39m\u001b[39m*\u001b[39mkwargs):\n\u001b[0;32m---> 25\u001b[0m     \u001b[39mif\u001b[39;00m event[\u001b[39m'\u001b[39;49m\u001b[39mtype\u001b[39;49m\u001b[39m'\u001b[39;49m] \u001b[39m==\u001b[39m \u001b[39m'\u001b[39m\u001b[39mclick\u001b[39m\u001b[39m'\u001b[39m:\n\u001b[1;32m     26\u001b[0m         lat, lon \u001b[39m=\u001b[39m event[\u001b[39m'\u001b[39m\u001b[39mcoordinates\u001b[39m\u001b[39m'\u001b[39m]\n\u001b[1;32m     27\u001b[0m         marker \u001b[39m=\u001b[39m ipyleaflet\u001b[39m.\u001b[39mMarker(location\u001b[39m=\u001b[39m(lat, lon))\n",
      "\u001b[0;31mTypeError\u001b[0m: string indices must be integers, not 'str'"
     ]
    },
    {
     "ename": "TypeError",
     "evalue": "string indices must be integers, not 'str'",
     "output_type": "error",
     "traceback": [
      "\u001b[0;31m---------------------------------------------------------------------------\u001b[0m",
      "\u001b[0;31mTypeError\u001b[0m                                 Traceback (most recent call last)",
      "File \u001b[0;32m~/Documents/geolog/geolog/geotest.py:25\u001b[0m, in \u001b[0;36mMap.handle_interaction\u001b[0;34m(self, event, **kwargs)\u001b[0m\n\u001b[1;32m     24\u001b[0m \u001b[39mdef\u001b[39;00m \u001b[39mhandle_interaction\u001b[39m(\u001b[39mself\u001b[39m, event, \u001b[39m*\u001b[39m\u001b[39m*\u001b[39mkwargs):\n\u001b[0;32m---> 25\u001b[0m     \u001b[39mif\u001b[39;00m event[\u001b[39m'\u001b[39;49m\u001b[39mtype\u001b[39;49m\u001b[39m'\u001b[39;49m] \u001b[39m==\u001b[39m \u001b[39m'\u001b[39m\u001b[39mclick\u001b[39m\u001b[39m'\u001b[39m:\n\u001b[1;32m     26\u001b[0m         lat, lon \u001b[39m=\u001b[39m event[\u001b[39m'\u001b[39m\u001b[39mcoordinates\u001b[39m\u001b[39m'\u001b[39m]\n\u001b[1;32m     27\u001b[0m         marker \u001b[39m=\u001b[39m ipyleaflet\u001b[39m.\u001b[39mMarker(location\u001b[39m=\u001b[39m(lat, lon))\n",
      "\u001b[0;31mTypeError\u001b[0m: string indices must be integers, not 'str'"
     ]
    },
    {
     "ename": "TypeError",
     "evalue": "string indices must be integers, not 'str'",
     "output_type": "error",
     "traceback": [
      "\u001b[0;31m---------------------------------------------------------------------------\u001b[0m",
      "\u001b[0;31mTypeError\u001b[0m                                 Traceback (most recent call last)",
      "File \u001b[0;32m~/Documents/geolog/geolog/geotest.py:25\u001b[0m, in \u001b[0;36mMap.handle_interaction\u001b[0;34m(self, event, **kwargs)\u001b[0m\n\u001b[1;32m     24\u001b[0m \u001b[39mdef\u001b[39;00m \u001b[39mhandle_interaction\u001b[39m(\u001b[39mself\u001b[39m, event, \u001b[39m*\u001b[39m\u001b[39m*\u001b[39mkwargs):\n\u001b[0;32m---> 25\u001b[0m     \u001b[39mif\u001b[39;00m event[\u001b[39m'\u001b[39;49m\u001b[39mtype\u001b[39;49m\u001b[39m'\u001b[39;49m] \u001b[39m==\u001b[39m \u001b[39m'\u001b[39m\u001b[39mclick\u001b[39m\u001b[39m'\u001b[39m:\n\u001b[1;32m     26\u001b[0m         lat, lon \u001b[39m=\u001b[39m event[\u001b[39m'\u001b[39m\u001b[39mcoordinates\u001b[39m\u001b[39m'\u001b[39m]\n\u001b[1;32m     27\u001b[0m         marker \u001b[39m=\u001b[39m ipyleaflet\u001b[39m.\u001b[39mMarker(location\u001b[39m=\u001b[39m(lat, lon))\n",
      "\u001b[0;31mTypeError\u001b[0m: string indices must be integers, not 'str'"
     ]
    },
    {
     "ename": "TypeError",
     "evalue": "string indices must be integers, not 'str'",
     "output_type": "error",
     "traceback": [
      "\u001b[0;31m---------------------------------------------------------------------------\u001b[0m",
      "\u001b[0;31mTypeError\u001b[0m                                 Traceback (most recent call last)",
      "File \u001b[0;32m~/Documents/geolog/geolog/geotest.py:25\u001b[0m, in \u001b[0;36mMap.handle_interaction\u001b[0;34m(self, event, **kwargs)\u001b[0m\n\u001b[1;32m     24\u001b[0m \u001b[39mdef\u001b[39;00m \u001b[39mhandle_interaction\u001b[39m(\u001b[39mself\u001b[39m, event, \u001b[39m*\u001b[39m\u001b[39m*\u001b[39mkwargs):\n\u001b[0;32m---> 25\u001b[0m     \u001b[39mif\u001b[39;00m event[\u001b[39m'\u001b[39;49m\u001b[39mtype\u001b[39;49m\u001b[39m'\u001b[39;49m] \u001b[39m==\u001b[39m \u001b[39m'\u001b[39m\u001b[39mclick\u001b[39m\u001b[39m'\u001b[39m:\n\u001b[1;32m     26\u001b[0m         lat, lon \u001b[39m=\u001b[39m event[\u001b[39m'\u001b[39m\u001b[39mcoordinates\u001b[39m\u001b[39m'\u001b[39m]\n\u001b[1;32m     27\u001b[0m         marker \u001b[39m=\u001b[39m ipyleaflet\u001b[39m.\u001b[39mMarker(location\u001b[39m=\u001b[39m(lat, lon))\n",
      "\u001b[0;31mTypeError\u001b[0m: string indices must be integers, not 'str'"
     ]
    },
    {
     "ename": "TypeError",
     "evalue": "string indices must be integers, not 'str'",
     "output_type": "error",
     "traceback": [
      "\u001b[0;31m---------------------------------------------------------------------------\u001b[0m",
      "\u001b[0;31mTypeError\u001b[0m                                 Traceback (most recent call last)",
      "File \u001b[0;32m~/Documents/geolog/geolog/geotest.py:25\u001b[0m, in \u001b[0;36mMap.handle_interaction\u001b[0;34m(self, event, **kwargs)\u001b[0m\n\u001b[1;32m     24\u001b[0m \u001b[39mdef\u001b[39;00m \u001b[39mhandle_interaction\u001b[39m(\u001b[39mself\u001b[39m, event, \u001b[39m*\u001b[39m\u001b[39m*\u001b[39mkwargs):\n\u001b[0;32m---> 25\u001b[0m     \u001b[39mif\u001b[39;00m event[\u001b[39m'\u001b[39;49m\u001b[39mtype\u001b[39;49m\u001b[39m'\u001b[39;49m] \u001b[39m==\u001b[39m \u001b[39m'\u001b[39m\u001b[39mclick\u001b[39m\u001b[39m'\u001b[39m:\n\u001b[1;32m     26\u001b[0m         lat, lon \u001b[39m=\u001b[39m event[\u001b[39m'\u001b[39m\u001b[39mcoordinates\u001b[39m\u001b[39m'\u001b[39m]\n\u001b[1;32m     27\u001b[0m         marker \u001b[39m=\u001b[39m ipyleaflet\u001b[39m.\u001b[39mMarker(location\u001b[39m=\u001b[39m(lat, lon))\n",
      "\u001b[0;31mTypeError\u001b[0m: string indices must be integers, not 'str'"
     ]
    },
    {
     "ename": "TypeError",
     "evalue": "string indices must be integers, not 'str'",
     "output_type": "error",
     "traceback": [
      "\u001b[0;31m---------------------------------------------------------------------------\u001b[0m",
      "\u001b[0;31mTypeError\u001b[0m                                 Traceback (most recent call last)",
      "File \u001b[0;32m~/Documents/geolog/geolog/geotest.py:25\u001b[0m, in \u001b[0;36mMap.handle_interaction\u001b[0;34m(self, event, **kwargs)\u001b[0m\n\u001b[1;32m     24\u001b[0m \u001b[39mdef\u001b[39;00m \u001b[39mhandle_interaction\u001b[39m(\u001b[39mself\u001b[39m, event, \u001b[39m*\u001b[39m\u001b[39m*\u001b[39mkwargs):\n\u001b[0;32m---> 25\u001b[0m     \u001b[39mif\u001b[39;00m event[\u001b[39m'\u001b[39;49m\u001b[39mtype\u001b[39;49m\u001b[39m'\u001b[39;49m] \u001b[39m==\u001b[39m \u001b[39m'\u001b[39m\u001b[39mclick\u001b[39m\u001b[39m'\u001b[39m:\n\u001b[1;32m     26\u001b[0m         lat, lon \u001b[39m=\u001b[39m event[\u001b[39m'\u001b[39m\u001b[39mcoordinates\u001b[39m\u001b[39m'\u001b[39m]\n\u001b[1;32m     27\u001b[0m         marker \u001b[39m=\u001b[39m ipyleaflet\u001b[39m.\u001b[39mMarker(location\u001b[39m=\u001b[39m(lat, lon))\n",
      "\u001b[0;31mTypeError\u001b[0m: string indices must be integers, not 'str'"
     ]
    },
    {
     "ename": "TypeError",
     "evalue": "string indices must be integers, not 'str'",
     "output_type": "error",
     "traceback": [
      "\u001b[0;31m---------------------------------------------------------------------------\u001b[0m",
      "\u001b[0;31mTypeError\u001b[0m                                 Traceback (most recent call last)",
      "File \u001b[0;32m~/Documents/geolog/geolog/geotest.py:25\u001b[0m, in \u001b[0;36mMap.handle_interaction\u001b[0;34m(self, event, **kwargs)\u001b[0m\n\u001b[1;32m     24\u001b[0m \u001b[39mdef\u001b[39;00m \u001b[39mhandle_interaction\u001b[39m(\u001b[39mself\u001b[39m, event, \u001b[39m*\u001b[39m\u001b[39m*\u001b[39mkwargs):\n\u001b[0;32m---> 25\u001b[0m     \u001b[39mif\u001b[39;00m event[\u001b[39m'\u001b[39;49m\u001b[39mtype\u001b[39;49m\u001b[39m'\u001b[39;49m] \u001b[39m==\u001b[39m \u001b[39m'\u001b[39m\u001b[39mclick\u001b[39m\u001b[39m'\u001b[39m:\n\u001b[1;32m     26\u001b[0m         lat, lon \u001b[39m=\u001b[39m event[\u001b[39m'\u001b[39m\u001b[39mcoordinates\u001b[39m\u001b[39m'\u001b[39m]\n\u001b[1;32m     27\u001b[0m         marker \u001b[39m=\u001b[39m ipyleaflet\u001b[39m.\u001b[39mMarker(location\u001b[39m=\u001b[39m(lat, lon))\n",
      "\u001b[0;31mTypeError\u001b[0m: string indices must be integers, not 'str'"
     ]
    },
    {
     "ename": "TypeError",
     "evalue": "string indices must be integers, not 'str'",
     "output_type": "error",
     "traceback": [
      "\u001b[0;31m---------------------------------------------------------------------------\u001b[0m",
      "\u001b[0;31mTypeError\u001b[0m                                 Traceback (most recent call last)",
      "File \u001b[0;32m~/Documents/geolog/geolog/geotest.py:25\u001b[0m, in \u001b[0;36mMap.handle_interaction\u001b[0;34m(self, event, **kwargs)\u001b[0m\n\u001b[1;32m     24\u001b[0m \u001b[39mdef\u001b[39;00m \u001b[39mhandle_interaction\u001b[39m(\u001b[39mself\u001b[39m, event, \u001b[39m*\u001b[39m\u001b[39m*\u001b[39mkwargs):\n\u001b[0;32m---> 25\u001b[0m     \u001b[39mif\u001b[39;00m event[\u001b[39m'\u001b[39;49m\u001b[39mtype\u001b[39;49m\u001b[39m'\u001b[39;49m] \u001b[39m==\u001b[39m \u001b[39m'\u001b[39m\u001b[39mclick\u001b[39m\u001b[39m'\u001b[39m:\n\u001b[1;32m     26\u001b[0m         lat, lon \u001b[39m=\u001b[39m event[\u001b[39m'\u001b[39m\u001b[39mcoordinates\u001b[39m\u001b[39m'\u001b[39m]\n\u001b[1;32m     27\u001b[0m         marker \u001b[39m=\u001b[39m ipyleaflet\u001b[39m.\u001b[39mMarker(location\u001b[39m=\u001b[39m(lat, lon))\n",
      "\u001b[0;31mTypeError\u001b[0m: string indices must be integers, not 'str'"
     ]
    },
    {
     "ename": "TypeError",
     "evalue": "string indices must be integers, not 'str'",
     "output_type": "error",
     "traceback": [
      "\u001b[0;31m---------------------------------------------------------------------------\u001b[0m",
      "\u001b[0;31mTypeError\u001b[0m                                 Traceback (most recent call last)",
      "File \u001b[0;32m~/Documents/geolog/geolog/geotest.py:25\u001b[0m, in \u001b[0;36mMap.handle_interaction\u001b[0;34m(self, event, **kwargs)\u001b[0m\n\u001b[1;32m     24\u001b[0m \u001b[39mdef\u001b[39;00m \u001b[39mhandle_interaction\u001b[39m(\u001b[39mself\u001b[39m, event, \u001b[39m*\u001b[39m\u001b[39m*\u001b[39mkwargs):\n\u001b[0;32m---> 25\u001b[0m     \u001b[39mif\u001b[39;00m event[\u001b[39m'\u001b[39;49m\u001b[39mtype\u001b[39;49m\u001b[39m'\u001b[39;49m] \u001b[39m==\u001b[39m \u001b[39m'\u001b[39m\u001b[39mclick\u001b[39m\u001b[39m'\u001b[39m:\n\u001b[1;32m     26\u001b[0m         lat, lon \u001b[39m=\u001b[39m event[\u001b[39m'\u001b[39m\u001b[39mcoordinates\u001b[39m\u001b[39m'\u001b[39m]\n\u001b[1;32m     27\u001b[0m         marker \u001b[39m=\u001b[39m ipyleaflet\u001b[39m.\u001b[39mMarker(location\u001b[39m=\u001b[39m(lat, lon))\n",
      "\u001b[0;31mTypeError\u001b[0m: string indices must be integers, not 'str'"
     ]
    },
    {
     "ename": "TypeError",
     "evalue": "string indices must be integers, not 'str'",
     "output_type": "error",
     "traceback": [
      "\u001b[0;31m---------------------------------------------------------------------------\u001b[0m",
      "\u001b[0;31mTypeError\u001b[0m                                 Traceback (most recent call last)",
      "File \u001b[0;32m~/Documents/geolog/geolog/geotest.py:25\u001b[0m, in \u001b[0;36mMap.handle_interaction\u001b[0;34m(self, event, **kwargs)\u001b[0m\n\u001b[1;32m     24\u001b[0m \u001b[39mdef\u001b[39;00m \u001b[39mhandle_interaction\u001b[39m(\u001b[39mself\u001b[39m, event, \u001b[39m*\u001b[39m\u001b[39m*\u001b[39mkwargs):\n\u001b[0;32m---> 25\u001b[0m     \u001b[39mif\u001b[39;00m event[\u001b[39m'\u001b[39;49m\u001b[39mtype\u001b[39;49m\u001b[39m'\u001b[39;49m] \u001b[39m==\u001b[39m \u001b[39m'\u001b[39m\u001b[39mclick\u001b[39m\u001b[39m'\u001b[39m:\n\u001b[1;32m     26\u001b[0m         lat, lon \u001b[39m=\u001b[39m event[\u001b[39m'\u001b[39m\u001b[39mcoordinates\u001b[39m\u001b[39m'\u001b[39m]\n\u001b[1;32m     27\u001b[0m         marker \u001b[39m=\u001b[39m ipyleaflet\u001b[39m.\u001b[39mMarker(location\u001b[39m=\u001b[39m(lat, lon))\n",
      "\u001b[0;31mTypeError\u001b[0m: string indices must be integers, not 'str'"
     ]
    },
    {
     "ename": "TypeError",
     "evalue": "string indices must be integers, not 'str'",
     "output_type": "error",
     "traceback": [
      "\u001b[0;31m---------------------------------------------------------------------------\u001b[0m",
      "\u001b[0;31mTypeError\u001b[0m                                 Traceback (most recent call last)",
      "File \u001b[0;32m~/Documents/geolog/geolog/geotest.py:25\u001b[0m, in \u001b[0;36mMap.handle_interaction\u001b[0;34m(self, event, **kwargs)\u001b[0m\n\u001b[1;32m     24\u001b[0m \u001b[39mdef\u001b[39;00m \u001b[39mhandle_interaction\u001b[39m(\u001b[39mself\u001b[39m, event, \u001b[39m*\u001b[39m\u001b[39m*\u001b[39mkwargs):\n\u001b[0;32m---> 25\u001b[0m     \u001b[39mif\u001b[39;00m event[\u001b[39m'\u001b[39;49m\u001b[39mtype\u001b[39;49m\u001b[39m'\u001b[39;49m] \u001b[39m==\u001b[39m \u001b[39m'\u001b[39m\u001b[39mclick\u001b[39m\u001b[39m'\u001b[39m:\n\u001b[1;32m     26\u001b[0m         lat, lon \u001b[39m=\u001b[39m event[\u001b[39m'\u001b[39m\u001b[39mcoordinates\u001b[39m\u001b[39m'\u001b[39m]\n\u001b[1;32m     27\u001b[0m         marker \u001b[39m=\u001b[39m ipyleaflet\u001b[39m.\u001b[39mMarker(location\u001b[39m=\u001b[39m(lat, lon))\n",
      "\u001b[0;31mTypeError\u001b[0m: string indices must be integers, not 'str'"
     ]
    },
    {
     "ename": "TypeError",
     "evalue": "string indices must be integers, not 'str'",
     "output_type": "error",
     "traceback": [
      "\u001b[0;31m---------------------------------------------------------------------------\u001b[0m",
      "\u001b[0;31mTypeError\u001b[0m                                 Traceback (most recent call last)",
      "File \u001b[0;32m~/Documents/geolog/geolog/geotest.py:25\u001b[0m, in \u001b[0;36mMap.handle_interaction\u001b[0;34m(self, event, **kwargs)\u001b[0m\n\u001b[1;32m     24\u001b[0m \u001b[39mdef\u001b[39;00m \u001b[39mhandle_interaction\u001b[39m(\u001b[39mself\u001b[39m, event, \u001b[39m*\u001b[39m\u001b[39m*\u001b[39mkwargs):\n\u001b[0;32m---> 25\u001b[0m     \u001b[39mif\u001b[39;00m event[\u001b[39m'\u001b[39;49m\u001b[39mtype\u001b[39;49m\u001b[39m'\u001b[39;49m] \u001b[39m==\u001b[39m \u001b[39m'\u001b[39m\u001b[39mclick\u001b[39m\u001b[39m'\u001b[39m:\n\u001b[1;32m     26\u001b[0m         lat, lon \u001b[39m=\u001b[39m event[\u001b[39m'\u001b[39m\u001b[39mcoordinates\u001b[39m\u001b[39m'\u001b[39m]\n\u001b[1;32m     27\u001b[0m         marker \u001b[39m=\u001b[39m ipyleaflet\u001b[39m.\u001b[39mMarker(location\u001b[39m=\u001b[39m(lat, lon))\n",
      "\u001b[0;31mTypeError\u001b[0m: string indices must be integers, not 'str'"
     ]
    },
    {
     "ename": "TypeError",
     "evalue": "string indices must be integers, not 'str'",
     "output_type": "error",
     "traceback": [
      "\u001b[0;31m---------------------------------------------------------------------------\u001b[0m",
      "\u001b[0;31mTypeError\u001b[0m                                 Traceback (most recent call last)",
      "File \u001b[0;32m~/Documents/geolog/geolog/geotest.py:25\u001b[0m, in \u001b[0;36mMap.handle_interaction\u001b[0;34m(self, event, **kwargs)\u001b[0m\n\u001b[1;32m     24\u001b[0m \u001b[39mdef\u001b[39;00m \u001b[39mhandle_interaction\u001b[39m(\u001b[39mself\u001b[39m, event, \u001b[39m*\u001b[39m\u001b[39m*\u001b[39mkwargs):\n\u001b[0;32m---> 25\u001b[0m     \u001b[39mif\u001b[39;00m event[\u001b[39m'\u001b[39;49m\u001b[39mtype\u001b[39;49m\u001b[39m'\u001b[39;49m] \u001b[39m==\u001b[39m \u001b[39m'\u001b[39m\u001b[39mclick\u001b[39m\u001b[39m'\u001b[39m:\n\u001b[1;32m     26\u001b[0m         lat, lon \u001b[39m=\u001b[39m event[\u001b[39m'\u001b[39m\u001b[39mcoordinates\u001b[39m\u001b[39m'\u001b[39m]\n\u001b[1;32m     27\u001b[0m         marker \u001b[39m=\u001b[39m ipyleaflet\u001b[39m.\u001b[39mMarker(location\u001b[39m=\u001b[39m(lat, lon))\n",
      "\u001b[0;31mTypeError\u001b[0m: string indices must be integers, not 'str'"
     ]
    },
    {
     "ename": "TypeError",
     "evalue": "string indices must be integers, not 'str'",
     "output_type": "error",
     "traceback": [
      "\u001b[0;31m---------------------------------------------------------------------------\u001b[0m",
      "\u001b[0;31mTypeError\u001b[0m                                 Traceback (most recent call last)",
      "File \u001b[0;32m~/Documents/geolog/geolog/geotest.py:25\u001b[0m, in \u001b[0;36mMap.handle_interaction\u001b[0;34m(self, event, **kwargs)\u001b[0m\n\u001b[1;32m     24\u001b[0m \u001b[39mdef\u001b[39;00m \u001b[39mhandle_interaction\u001b[39m(\u001b[39mself\u001b[39m, event, \u001b[39m*\u001b[39m\u001b[39m*\u001b[39mkwargs):\n\u001b[0;32m---> 25\u001b[0m     \u001b[39mif\u001b[39;00m event[\u001b[39m'\u001b[39;49m\u001b[39mtype\u001b[39;49m\u001b[39m'\u001b[39;49m] \u001b[39m==\u001b[39m \u001b[39m'\u001b[39m\u001b[39mclick\u001b[39m\u001b[39m'\u001b[39m:\n\u001b[1;32m     26\u001b[0m         lat, lon \u001b[39m=\u001b[39m event[\u001b[39m'\u001b[39m\u001b[39mcoordinates\u001b[39m\u001b[39m'\u001b[39m]\n\u001b[1;32m     27\u001b[0m         marker \u001b[39m=\u001b[39m ipyleaflet\u001b[39m.\u001b[39mMarker(location\u001b[39m=\u001b[39m(lat, lon))\n",
      "\u001b[0;31mTypeError\u001b[0m: string indices must be integers, not 'str'"
     ]
    },
    {
     "ename": "TypeError",
     "evalue": "string indices must be integers, not 'str'",
     "output_type": "error",
     "traceback": [
      "\u001b[0;31m---------------------------------------------------------------------------\u001b[0m",
      "\u001b[0;31mTypeError\u001b[0m                                 Traceback (most recent call last)",
      "File \u001b[0;32m~/Documents/geolog/geolog/geotest.py:25\u001b[0m, in \u001b[0;36mMap.handle_interaction\u001b[0;34m(self, event, **kwargs)\u001b[0m\n\u001b[1;32m     24\u001b[0m \u001b[39mdef\u001b[39;00m \u001b[39mhandle_interaction\u001b[39m(\u001b[39mself\u001b[39m, event, \u001b[39m*\u001b[39m\u001b[39m*\u001b[39mkwargs):\n\u001b[0;32m---> 25\u001b[0m     \u001b[39mif\u001b[39;00m event[\u001b[39m'\u001b[39;49m\u001b[39mtype\u001b[39;49m\u001b[39m'\u001b[39;49m] \u001b[39m==\u001b[39m \u001b[39m'\u001b[39m\u001b[39mclick\u001b[39m\u001b[39m'\u001b[39m:\n\u001b[1;32m     26\u001b[0m         lat, lon \u001b[39m=\u001b[39m event[\u001b[39m'\u001b[39m\u001b[39mcoordinates\u001b[39m\u001b[39m'\u001b[39m]\n\u001b[1;32m     27\u001b[0m         marker \u001b[39m=\u001b[39m ipyleaflet\u001b[39m.\u001b[39mMarker(location\u001b[39m=\u001b[39m(lat, lon))\n",
      "\u001b[0;31mTypeError\u001b[0m: string indices must be integers, not 'str'"
     ]
    },
    {
     "ename": "TypeError",
     "evalue": "string indices must be integers, not 'str'",
     "output_type": "error",
     "traceback": [
      "\u001b[0;31m---------------------------------------------------------------------------\u001b[0m",
      "\u001b[0;31mTypeError\u001b[0m                                 Traceback (most recent call last)",
      "File \u001b[0;32m~/Documents/geolog/geolog/geotest.py:25\u001b[0m, in \u001b[0;36mMap.handle_interaction\u001b[0;34m(self, event, **kwargs)\u001b[0m\n\u001b[1;32m     24\u001b[0m \u001b[39mdef\u001b[39;00m \u001b[39mhandle_interaction\u001b[39m(\u001b[39mself\u001b[39m, event, \u001b[39m*\u001b[39m\u001b[39m*\u001b[39mkwargs):\n\u001b[0;32m---> 25\u001b[0m     \u001b[39mif\u001b[39;00m event[\u001b[39m'\u001b[39;49m\u001b[39mtype\u001b[39;49m\u001b[39m'\u001b[39;49m] \u001b[39m==\u001b[39m \u001b[39m'\u001b[39m\u001b[39mclick\u001b[39m\u001b[39m'\u001b[39m:\n\u001b[1;32m     26\u001b[0m         lat, lon \u001b[39m=\u001b[39m event[\u001b[39m'\u001b[39m\u001b[39mcoordinates\u001b[39m\u001b[39m'\u001b[39m]\n\u001b[1;32m     27\u001b[0m         marker \u001b[39m=\u001b[39m ipyleaflet\u001b[39m.\u001b[39mMarker(location\u001b[39m=\u001b[39m(lat, lon))\n",
      "\u001b[0;31mTypeError\u001b[0m: string indices must be integers, not 'str'"
     ]
    },
    {
     "ename": "TypeError",
     "evalue": "string indices must be integers, not 'str'",
     "output_type": "error",
     "traceback": [
      "\u001b[0;31m---------------------------------------------------------------------------\u001b[0m",
      "\u001b[0;31mTypeError\u001b[0m                                 Traceback (most recent call last)",
      "File \u001b[0;32m~/Documents/geolog/geolog/geotest.py:25\u001b[0m, in \u001b[0;36mMap.handle_interaction\u001b[0;34m(self, event, **kwargs)\u001b[0m\n\u001b[1;32m     24\u001b[0m \u001b[39mdef\u001b[39;00m \u001b[39mhandle_interaction\u001b[39m(\u001b[39mself\u001b[39m, event, \u001b[39m*\u001b[39m\u001b[39m*\u001b[39mkwargs):\n\u001b[0;32m---> 25\u001b[0m     \u001b[39mif\u001b[39;00m event[\u001b[39m'\u001b[39;49m\u001b[39mtype\u001b[39;49m\u001b[39m'\u001b[39;49m] \u001b[39m==\u001b[39m \u001b[39m'\u001b[39m\u001b[39mclick\u001b[39m\u001b[39m'\u001b[39m:\n\u001b[1;32m     26\u001b[0m         lat, lon \u001b[39m=\u001b[39m event[\u001b[39m'\u001b[39m\u001b[39mcoordinates\u001b[39m\u001b[39m'\u001b[39m]\n\u001b[1;32m     27\u001b[0m         marker \u001b[39m=\u001b[39m ipyleaflet\u001b[39m.\u001b[39mMarker(location\u001b[39m=\u001b[39m(lat, lon))\n",
      "\u001b[0;31mTypeError\u001b[0m: string indices must be integers, not 'str'"
     ]
    },
    {
     "ename": "TypeError",
     "evalue": "string indices must be integers, not 'str'",
     "output_type": "error",
     "traceback": [
      "\u001b[0;31m---------------------------------------------------------------------------\u001b[0m",
      "\u001b[0;31mTypeError\u001b[0m                                 Traceback (most recent call last)",
      "File \u001b[0;32m~/Documents/geolog/geolog/geotest.py:25\u001b[0m, in \u001b[0;36mMap.handle_interaction\u001b[0;34m(self, event, **kwargs)\u001b[0m\n\u001b[1;32m     24\u001b[0m \u001b[39mdef\u001b[39;00m \u001b[39mhandle_interaction\u001b[39m(\u001b[39mself\u001b[39m, event, \u001b[39m*\u001b[39m\u001b[39m*\u001b[39mkwargs):\n\u001b[0;32m---> 25\u001b[0m     \u001b[39mif\u001b[39;00m event[\u001b[39m'\u001b[39;49m\u001b[39mtype\u001b[39;49m\u001b[39m'\u001b[39;49m] \u001b[39m==\u001b[39m \u001b[39m'\u001b[39m\u001b[39mclick\u001b[39m\u001b[39m'\u001b[39m:\n\u001b[1;32m     26\u001b[0m         lat, lon \u001b[39m=\u001b[39m event[\u001b[39m'\u001b[39m\u001b[39mcoordinates\u001b[39m\u001b[39m'\u001b[39m]\n\u001b[1;32m     27\u001b[0m         marker \u001b[39m=\u001b[39m ipyleaflet\u001b[39m.\u001b[39mMarker(location\u001b[39m=\u001b[39m(lat, lon))\n",
      "\u001b[0;31mTypeError\u001b[0m: string indices must be integers, not 'str'"
     ]
    },
    {
     "ename": "TypeError",
     "evalue": "string indices must be integers, not 'str'",
     "output_type": "error",
     "traceback": [
      "\u001b[0;31m---------------------------------------------------------------------------\u001b[0m",
      "\u001b[0;31mTypeError\u001b[0m                                 Traceback (most recent call last)",
      "File \u001b[0;32m~/Documents/geolog/geolog/geotest.py:25\u001b[0m, in \u001b[0;36mMap.handle_interaction\u001b[0;34m(self, event, **kwargs)\u001b[0m\n\u001b[1;32m     24\u001b[0m \u001b[39mdef\u001b[39;00m \u001b[39mhandle_interaction\u001b[39m(\u001b[39mself\u001b[39m, event, \u001b[39m*\u001b[39m\u001b[39m*\u001b[39mkwargs):\n\u001b[0;32m---> 25\u001b[0m     \u001b[39mif\u001b[39;00m event[\u001b[39m'\u001b[39;49m\u001b[39mtype\u001b[39;49m\u001b[39m'\u001b[39;49m] \u001b[39m==\u001b[39m \u001b[39m'\u001b[39m\u001b[39mclick\u001b[39m\u001b[39m'\u001b[39m:\n\u001b[1;32m     26\u001b[0m         lat, lon \u001b[39m=\u001b[39m event[\u001b[39m'\u001b[39m\u001b[39mcoordinates\u001b[39m\u001b[39m'\u001b[39m]\n\u001b[1;32m     27\u001b[0m         marker \u001b[39m=\u001b[39m ipyleaflet\u001b[39m.\u001b[39mMarker(location\u001b[39m=\u001b[39m(lat, lon))\n",
      "\u001b[0;31mTypeError\u001b[0m: string indices must be integers, not 'str'"
     ]
    },
    {
     "ename": "TypeError",
     "evalue": "string indices must be integers, not 'str'",
     "output_type": "error",
     "traceback": [
      "\u001b[0;31m---------------------------------------------------------------------------\u001b[0m",
      "\u001b[0;31mTypeError\u001b[0m                                 Traceback (most recent call last)",
      "File \u001b[0;32m~/Documents/geolog/geolog/geotest.py:25\u001b[0m, in \u001b[0;36mMap.handle_interaction\u001b[0;34m(self, event, **kwargs)\u001b[0m\n\u001b[1;32m     24\u001b[0m \u001b[39mdef\u001b[39;00m \u001b[39mhandle_interaction\u001b[39m(\u001b[39mself\u001b[39m, event, \u001b[39m*\u001b[39m\u001b[39m*\u001b[39mkwargs):\n\u001b[0;32m---> 25\u001b[0m     \u001b[39mif\u001b[39;00m event[\u001b[39m'\u001b[39;49m\u001b[39mtype\u001b[39;49m\u001b[39m'\u001b[39;49m] \u001b[39m==\u001b[39m \u001b[39m'\u001b[39m\u001b[39mclick\u001b[39m\u001b[39m'\u001b[39m:\n\u001b[1;32m     26\u001b[0m         lat, lon \u001b[39m=\u001b[39m event[\u001b[39m'\u001b[39m\u001b[39mcoordinates\u001b[39m\u001b[39m'\u001b[39m]\n\u001b[1;32m     27\u001b[0m         marker \u001b[39m=\u001b[39m ipyleaflet\u001b[39m.\u001b[39mMarker(location\u001b[39m=\u001b[39m(lat, lon))\n",
      "\u001b[0;31mTypeError\u001b[0m: string indices must be integers, not 'str'"
     ]
    },
    {
     "ename": "TypeError",
     "evalue": "string indices must be integers, not 'str'",
     "output_type": "error",
     "traceback": [
      "\u001b[0;31m---------------------------------------------------------------------------\u001b[0m",
      "\u001b[0;31mTypeError\u001b[0m                                 Traceback (most recent call last)",
      "File \u001b[0;32m~/Documents/geolog/geolog/geotest.py:25\u001b[0m, in \u001b[0;36mMap.handle_interaction\u001b[0;34m(self, event, **kwargs)\u001b[0m\n\u001b[1;32m     24\u001b[0m \u001b[39mdef\u001b[39;00m \u001b[39mhandle_interaction\u001b[39m(\u001b[39mself\u001b[39m, event, \u001b[39m*\u001b[39m\u001b[39m*\u001b[39mkwargs):\n\u001b[0;32m---> 25\u001b[0m     \u001b[39mif\u001b[39;00m event[\u001b[39m'\u001b[39;49m\u001b[39mtype\u001b[39;49m\u001b[39m'\u001b[39;49m] \u001b[39m==\u001b[39m \u001b[39m'\u001b[39m\u001b[39mclick\u001b[39m\u001b[39m'\u001b[39m:\n\u001b[1;32m     26\u001b[0m         lat, lon \u001b[39m=\u001b[39m event[\u001b[39m'\u001b[39m\u001b[39mcoordinates\u001b[39m\u001b[39m'\u001b[39m]\n\u001b[1;32m     27\u001b[0m         marker \u001b[39m=\u001b[39m ipyleaflet\u001b[39m.\u001b[39mMarker(location\u001b[39m=\u001b[39m(lat, lon))\n",
      "\u001b[0;31mTypeError\u001b[0m: string indices must be integers, not 'str'"
     ]
    },
    {
     "ename": "TypeError",
     "evalue": "string indices must be integers, not 'str'",
     "output_type": "error",
     "traceback": [
      "\u001b[0;31m---------------------------------------------------------------------------\u001b[0m",
      "\u001b[0;31mTypeError\u001b[0m                                 Traceback (most recent call last)",
      "File \u001b[0;32m~/Documents/geolog/geolog/geotest.py:25\u001b[0m, in \u001b[0;36mMap.handle_interaction\u001b[0;34m(self, event, **kwargs)\u001b[0m\n\u001b[1;32m     24\u001b[0m \u001b[39mdef\u001b[39;00m \u001b[39mhandle_interaction\u001b[39m(\u001b[39mself\u001b[39m, event, \u001b[39m*\u001b[39m\u001b[39m*\u001b[39mkwargs):\n\u001b[0;32m---> 25\u001b[0m     \u001b[39mif\u001b[39;00m event[\u001b[39m'\u001b[39;49m\u001b[39mtype\u001b[39;49m\u001b[39m'\u001b[39;49m] \u001b[39m==\u001b[39m \u001b[39m'\u001b[39m\u001b[39mclick\u001b[39m\u001b[39m'\u001b[39m:\n\u001b[1;32m     26\u001b[0m         lat, lon \u001b[39m=\u001b[39m event[\u001b[39m'\u001b[39m\u001b[39mcoordinates\u001b[39m\u001b[39m'\u001b[39m]\n\u001b[1;32m     27\u001b[0m         marker \u001b[39m=\u001b[39m ipyleaflet\u001b[39m.\u001b[39mMarker(location\u001b[39m=\u001b[39m(lat, lon))\n",
      "\u001b[0;31mTypeError\u001b[0m: string indices must be integers, not 'str'"
     ]
    },
    {
     "ename": "TypeError",
     "evalue": "string indices must be integers, not 'str'",
     "output_type": "error",
     "traceback": [
      "\u001b[0;31m---------------------------------------------------------------------------\u001b[0m",
      "\u001b[0;31mTypeError\u001b[0m                                 Traceback (most recent call last)",
      "File \u001b[0;32m~/Documents/geolog/geolog/geotest.py:25\u001b[0m, in \u001b[0;36mMap.handle_interaction\u001b[0;34m(self, event, **kwargs)\u001b[0m\n\u001b[1;32m     24\u001b[0m \u001b[39mdef\u001b[39;00m \u001b[39mhandle_interaction\u001b[39m(\u001b[39mself\u001b[39m, event, \u001b[39m*\u001b[39m\u001b[39m*\u001b[39mkwargs):\n\u001b[0;32m---> 25\u001b[0m     \u001b[39mif\u001b[39;00m event[\u001b[39m'\u001b[39;49m\u001b[39mtype\u001b[39;49m\u001b[39m'\u001b[39;49m] \u001b[39m==\u001b[39m \u001b[39m'\u001b[39m\u001b[39mclick\u001b[39m\u001b[39m'\u001b[39m:\n\u001b[1;32m     26\u001b[0m         lat, lon \u001b[39m=\u001b[39m event[\u001b[39m'\u001b[39m\u001b[39mcoordinates\u001b[39m\u001b[39m'\u001b[39m]\n\u001b[1;32m     27\u001b[0m         marker \u001b[39m=\u001b[39m ipyleaflet\u001b[39m.\u001b[39mMarker(location\u001b[39m=\u001b[39m(lat, lon))\n",
      "\u001b[0;31mTypeError\u001b[0m: string indices must be integers, not 'str'"
     ]
    },
    {
     "ename": "TypeError",
     "evalue": "string indices must be integers, not 'str'",
     "output_type": "error",
     "traceback": [
      "\u001b[0;31m---------------------------------------------------------------------------\u001b[0m",
      "\u001b[0;31mTypeError\u001b[0m                                 Traceback (most recent call last)",
      "File \u001b[0;32m~/Documents/geolog/geolog/geotest.py:25\u001b[0m, in \u001b[0;36mMap.handle_interaction\u001b[0;34m(self, event, **kwargs)\u001b[0m\n\u001b[1;32m     24\u001b[0m \u001b[39mdef\u001b[39;00m \u001b[39mhandle_interaction\u001b[39m(\u001b[39mself\u001b[39m, event, \u001b[39m*\u001b[39m\u001b[39m*\u001b[39mkwargs):\n\u001b[0;32m---> 25\u001b[0m     \u001b[39mif\u001b[39;00m event[\u001b[39m'\u001b[39;49m\u001b[39mtype\u001b[39;49m\u001b[39m'\u001b[39;49m] \u001b[39m==\u001b[39m \u001b[39m'\u001b[39m\u001b[39mclick\u001b[39m\u001b[39m'\u001b[39m:\n\u001b[1;32m     26\u001b[0m         lat, lon \u001b[39m=\u001b[39m event[\u001b[39m'\u001b[39m\u001b[39mcoordinates\u001b[39m\u001b[39m'\u001b[39m]\n\u001b[1;32m     27\u001b[0m         marker \u001b[39m=\u001b[39m ipyleaflet\u001b[39m.\u001b[39mMarker(location\u001b[39m=\u001b[39m(lat, lon))\n",
      "\u001b[0;31mTypeError\u001b[0m: string indices must be integers, not 'str'"
     ]
    },
    {
     "ename": "TypeError",
     "evalue": "string indices must be integers, not 'str'",
     "output_type": "error",
     "traceback": [
      "\u001b[0;31m---------------------------------------------------------------------------\u001b[0m",
      "\u001b[0;31mTypeError\u001b[0m                                 Traceback (most recent call last)",
      "File \u001b[0;32m~/Documents/geolog/geolog/geotest.py:25\u001b[0m, in \u001b[0;36mMap.handle_interaction\u001b[0;34m(self, event, **kwargs)\u001b[0m\n\u001b[1;32m     24\u001b[0m \u001b[39mdef\u001b[39;00m \u001b[39mhandle_interaction\u001b[39m(\u001b[39mself\u001b[39m, event, \u001b[39m*\u001b[39m\u001b[39m*\u001b[39mkwargs):\n\u001b[0;32m---> 25\u001b[0m     \u001b[39mif\u001b[39;00m event[\u001b[39m'\u001b[39;49m\u001b[39mtype\u001b[39;49m\u001b[39m'\u001b[39;49m] \u001b[39m==\u001b[39m \u001b[39m'\u001b[39m\u001b[39mclick\u001b[39m\u001b[39m'\u001b[39m:\n\u001b[1;32m     26\u001b[0m         lat, lon \u001b[39m=\u001b[39m event[\u001b[39m'\u001b[39m\u001b[39mcoordinates\u001b[39m\u001b[39m'\u001b[39m]\n\u001b[1;32m     27\u001b[0m         marker \u001b[39m=\u001b[39m ipyleaflet\u001b[39m.\u001b[39mMarker(location\u001b[39m=\u001b[39m(lat, lon))\n",
      "\u001b[0;31mTypeError\u001b[0m: string indices must be integers, not 'str'"
     ]
    },
    {
     "ename": "TypeError",
     "evalue": "string indices must be integers, not 'str'",
     "output_type": "error",
     "traceback": [
      "\u001b[0;31m---------------------------------------------------------------------------\u001b[0m",
      "\u001b[0;31mTypeError\u001b[0m                                 Traceback (most recent call last)",
      "File \u001b[0;32m~/Documents/geolog/geolog/geotest.py:25\u001b[0m, in \u001b[0;36mMap.handle_interaction\u001b[0;34m(self, event, **kwargs)\u001b[0m\n\u001b[1;32m     24\u001b[0m \u001b[39mdef\u001b[39;00m \u001b[39mhandle_interaction\u001b[39m(\u001b[39mself\u001b[39m, event, \u001b[39m*\u001b[39m\u001b[39m*\u001b[39mkwargs):\n\u001b[0;32m---> 25\u001b[0m     \u001b[39mif\u001b[39;00m event[\u001b[39m'\u001b[39;49m\u001b[39mtype\u001b[39;49m\u001b[39m'\u001b[39;49m] \u001b[39m==\u001b[39m \u001b[39m'\u001b[39m\u001b[39mclick\u001b[39m\u001b[39m'\u001b[39m:\n\u001b[1;32m     26\u001b[0m         lat, lon \u001b[39m=\u001b[39m event[\u001b[39m'\u001b[39m\u001b[39mcoordinates\u001b[39m\u001b[39m'\u001b[39m]\n\u001b[1;32m     27\u001b[0m         marker \u001b[39m=\u001b[39m ipyleaflet\u001b[39m.\u001b[39mMarker(location\u001b[39m=\u001b[39m(lat, lon))\n",
      "\u001b[0;31mTypeError\u001b[0m: string indices must be integers, not 'str'"
     ]
    },
    {
     "ename": "TypeError",
     "evalue": "string indices must be integers, not 'str'",
     "output_type": "error",
     "traceback": [
      "\u001b[0;31m---------------------------------------------------------------------------\u001b[0m",
      "\u001b[0;31mTypeError\u001b[0m                                 Traceback (most recent call last)",
      "File \u001b[0;32m~/Documents/geolog/geolog/geotest.py:25\u001b[0m, in \u001b[0;36mMap.handle_interaction\u001b[0;34m(self, event, **kwargs)\u001b[0m\n\u001b[1;32m     24\u001b[0m \u001b[39mdef\u001b[39;00m \u001b[39mhandle_interaction\u001b[39m(\u001b[39mself\u001b[39m, event, \u001b[39m*\u001b[39m\u001b[39m*\u001b[39mkwargs):\n\u001b[0;32m---> 25\u001b[0m     \u001b[39mif\u001b[39;00m event[\u001b[39m'\u001b[39;49m\u001b[39mtype\u001b[39;49m\u001b[39m'\u001b[39;49m] \u001b[39m==\u001b[39m \u001b[39m'\u001b[39m\u001b[39mclick\u001b[39m\u001b[39m'\u001b[39m:\n\u001b[1;32m     26\u001b[0m         lat, lon \u001b[39m=\u001b[39m event[\u001b[39m'\u001b[39m\u001b[39mcoordinates\u001b[39m\u001b[39m'\u001b[39m]\n\u001b[1;32m     27\u001b[0m         marker \u001b[39m=\u001b[39m ipyleaflet\u001b[39m.\u001b[39mMarker(location\u001b[39m=\u001b[39m(lat, lon))\n",
      "\u001b[0;31mTypeError\u001b[0m: string indices must be integers, not 'str'"
     ]
    },
    {
     "ename": "TypeError",
     "evalue": "string indices must be integers, not 'str'",
     "output_type": "error",
     "traceback": [
      "\u001b[0;31m---------------------------------------------------------------------------\u001b[0m",
      "\u001b[0;31mTypeError\u001b[0m                                 Traceback (most recent call last)",
      "File \u001b[0;32m~/Documents/geolog/geolog/geotest.py:25\u001b[0m, in \u001b[0;36mMap.handle_interaction\u001b[0;34m(self, event, **kwargs)\u001b[0m\n\u001b[1;32m     24\u001b[0m \u001b[39mdef\u001b[39;00m \u001b[39mhandle_interaction\u001b[39m(\u001b[39mself\u001b[39m, event, \u001b[39m*\u001b[39m\u001b[39m*\u001b[39mkwargs):\n\u001b[0;32m---> 25\u001b[0m     \u001b[39mif\u001b[39;00m event[\u001b[39m'\u001b[39;49m\u001b[39mtype\u001b[39;49m\u001b[39m'\u001b[39;49m] \u001b[39m==\u001b[39m \u001b[39m'\u001b[39m\u001b[39mclick\u001b[39m\u001b[39m'\u001b[39m:\n\u001b[1;32m     26\u001b[0m         lat, lon \u001b[39m=\u001b[39m event[\u001b[39m'\u001b[39m\u001b[39mcoordinates\u001b[39m\u001b[39m'\u001b[39m]\n\u001b[1;32m     27\u001b[0m         marker \u001b[39m=\u001b[39m ipyleaflet\u001b[39m.\u001b[39mMarker(location\u001b[39m=\u001b[39m(lat, lon))\n",
      "\u001b[0;31mTypeError\u001b[0m: string indices must be integers, not 'str'"
     ]
    },
    {
     "ename": "TypeError",
     "evalue": "string indices must be integers, not 'str'",
     "output_type": "error",
     "traceback": [
      "\u001b[0;31m---------------------------------------------------------------------------\u001b[0m",
      "\u001b[0;31mTypeError\u001b[0m                                 Traceback (most recent call last)",
      "File \u001b[0;32m~/Documents/geolog/geolog/geotest.py:25\u001b[0m, in \u001b[0;36mMap.handle_interaction\u001b[0;34m(self, event, **kwargs)\u001b[0m\n\u001b[1;32m     24\u001b[0m \u001b[39mdef\u001b[39;00m \u001b[39mhandle_interaction\u001b[39m(\u001b[39mself\u001b[39m, event, \u001b[39m*\u001b[39m\u001b[39m*\u001b[39mkwargs):\n\u001b[0;32m---> 25\u001b[0m     \u001b[39mif\u001b[39;00m event[\u001b[39m'\u001b[39;49m\u001b[39mtype\u001b[39;49m\u001b[39m'\u001b[39;49m] \u001b[39m==\u001b[39m \u001b[39m'\u001b[39m\u001b[39mclick\u001b[39m\u001b[39m'\u001b[39m:\n\u001b[1;32m     26\u001b[0m         lat, lon \u001b[39m=\u001b[39m event[\u001b[39m'\u001b[39m\u001b[39mcoordinates\u001b[39m\u001b[39m'\u001b[39m]\n\u001b[1;32m     27\u001b[0m         marker \u001b[39m=\u001b[39m ipyleaflet\u001b[39m.\u001b[39mMarker(location\u001b[39m=\u001b[39m(lat, lon))\n",
      "\u001b[0;31mTypeError\u001b[0m: string indices must be integers, not 'str'"
     ]
    },
    {
     "ename": "TypeError",
     "evalue": "string indices must be integers, not 'str'",
     "output_type": "error",
     "traceback": [
      "\u001b[0;31m---------------------------------------------------------------------------\u001b[0m",
      "\u001b[0;31mTypeError\u001b[0m                                 Traceback (most recent call last)",
      "File \u001b[0;32m~/Documents/geolog/geolog/geotest.py:25\u001b[0m, in \u001b[0;36mMap.handle_interaction\u001b[0;34m(self, event, **kwargs)\u001b[0m\n\u001b[1;32m     24\u001b[0m \u001b[39mdef\u001b[39;00m \u001b[39mhandle_interaction\u001b[39m(\u001b[39mself\u001b[39m, event, \u001b[39m*\u001b[39m\u001b[39m*\u001b[39mkwargs):\n\u001b[0;32m---> 25\u001b[0m     \u001b[39mif\u001b[39;00m event[\u001b[39m'\u001b[39;49m\u001b[39mtype\u001b[39;49m\u001b[39m'\u001b[39;49m] \u001b[39m==\u001b[39m \u001b[39m'\u001b[39m\u001b[39mclick\u001b[39m\u001b[39m'\u001b[39m:\n\u001b[1;32m     26\u001b[0m         lat, lon \u001b[39m=\u001b[39m event[\u001b[39m'\u001b[39m\u001b[39mcoordinates\u001b[39m\u001b[39m'\u001b[39m]\n\u001b[1;32m     27\u001b[0m         marker \u001b[39m=\u001b[39m ipyleaflet\u001b[39m.\u001b[39mMarker(location\u001b[39m=\u001b[39m(lat, lon))\n",
      "\u001b[0;31mTypeError\u001b[0m: string indices must be integers, not 'str'"
     ]
    },
    {
     "ename": "TypeError",
     "evalue": "string indices must be integers, not 'str'",
     "output_type": "error",
     "traceback": [
      "\u001b[0;31m---------------------------------------------------------------------------\u001b[0m",
      "\u001b[0;31mTypeError\u001b[0m                                 Traceback (most recent call last)",
      "File \u001b[0;32m~/Documents/geolog/geolog/geotest.py:25\u001b[0m, in \u001b[0;36mMap.handle_interaction\u001b[0;34m(self, event, **kwargs)\u001b[0m\n\u001b[1;32m     24\u001b[0m \u001b[39mdef\u001b[39;00m \u001b[39mhandle_interaction\u001b[39m(\u001b[39mself\u001b[39m, event, \u001b[39m*\u001b[39m\u001b[39m*\u001b[39mkwargs):\n\u001b[0;32m---> 25\u001b[0m     \u001b[39mif\u001b[39;00m event[\u001b[39m'\u001b[39;49m\u001b[39mtype\u001b[39;49m\u001b[39m'\u001b[39;49m] \u001b[39m==\u001b[39m \u001b[39m'\u001b[39m\u001b[39mclick\u001b[39m\u001b[39m'\u001b[39m:\n\u001b[1;32m     26\u001b[0m         lat, lon \u001b[39m=\u001b[39m event[\u001b[39m'\u001b[39m\u001b[39mcoordinates\u001b[39m\u001b[39m'\u001b[39m]\n\u001b[1;32m     27\u001b[0m         marker \u001b[39m=\u001b[39m ipyleaflet\u001b[39m.\u001b[39mMarker(location\u001b[39m=\u001b[39m(lat, lon))\n",
      "\u001b[0;31mTypeError\u001b[0m: string indices must be integers, not 'str'"
     ]
    },
    {
     "ename": "TypeError",
     "evalue": "string indices must be integers, not 'str'",
     "output_type": "error",
     "traceback": [
      "\u001b[0;31m---------------------------------------------------------------------------\u001b[0m",
      "\u001b[0;31mTypeError\u001b[0m                                 Traceback (most recent call last)",
      "File \u001b[0;32m~/Documents/geolog/geolog/geotest.py:25\u001b[0m, in \u001b[0;36mMap.handle_interaction\u001b[0;34m(self, event, **kwargs)\u001b[0m\n\u001b[1;32m     24\u001b[0m \u001b[39mdef\u001b[39;00m \u001b[39mhandle_interaction\u001b[39m(\u001b[39mself\u001b[39m, event, \u001b[39m*\u001b[39m\u001b[39m*\u001b[39mkwargs):\n\u001b[0;32m---> 25\u001b[0m     \u001b[39mif\u001b[39;00m event[\u001b[39m'\u001b[39;49m\u001b[39mtype\u001b[39;49m\u001b[39m'\u001b[39;49m] \u001b[39m==\u001b[39m \u001b[39m'\u001b[39m\u001b[39mclick\u001b[39m\u001b[39m'\u001b[39m:\n\u001b[1;32m     26\u001b[0m         lat, lon \u001b[39m=\u001b[39m event[\u001b[39m'\u001b[39m\u001b[39mcoordinates\u001b[39m\u001b[39m'\u001b[39m]\n\u001b[1;32m     27\u001b[0m         marker \u001b[39m=\u001b[39m ipyleaflet\u001b[39m.\u001b[39mMarker(location\u001b[39m=\u001b[39m(lat, lon))\n",
      "\u001b[0;31mTypeError\u001b[0m: string indices must be integers, not 'str'"
     ]
    },
    {
     "ename": "TypeError",
     "evalue": "string indices must be integers, not 'str'",
     "output_type": "error",
     "traceback": [
      "\u001b[0;31m---------------------------------------------------------------------------\u001b[0m",
      "\u001b[0;31mTypeError\u001b[0m                                 Traceback (most recent call last)",
      "File \u001b[0;32m~/Documents/geolog/geolog/geotest.py:25\u001b[0m, in \u001b[0;36mMap.handle_interaction\u001b[0;34m(self, event, **kwargs)\u001b[0m\n\u001b[1;32m     24\u001b[0m \u001b[39mdef\u001b[39;00m \u001b[39mhandle_interaction\u001b[39m(\u001b[39mself\u001b[39m, event, \u001b[39m*\u001b[39m\u001b[39m*\u001b[39mkwargs):\n\u001b[0;32m---> 25\u001b[0m     \u001b[39mif\u001b[39;00m event[\u001b[39m'\u001b[39;49m\u001b[39mtype\u001b[39;49m\u001b[39m'\u001b[39;49m] \u001b[39m==\u001b[39m \u001b[39m'\u001b[39m\u001b[39mclick\u001b[39m\u001b[39m'\u001b[39m:\n\u001b[1;32m     26\u001b[0m         lat, lon \u001b[39m=\u001b[39m event[\u001b[39m'\u001b[39m\u001b[39mcoordinates\u001b[39m\u001b[39m'\u001b[39m]\n\u001b[1;32m     27\u001b[0m         marker \u001b[39m=\u001b[39m ipyleaflet\u001b[39m.\u001b[39mMarker(location\u001b[39m=\u001b[39m(lat, lon))\n",
      "\u001b[0;31mTypeError\u001b[0m: string indices must be integers, not 'str'"
     ]
    },
    {
     "ename": "TypeError",
     "evalue": "string indices must be integers, not 'str'",
     "output_type": "error",
     "traceback": [
      "\u001b[0;31m---------------------------------------------------------------------------\u001b[0m",
      "\u001b[0;31mTypeError\u001b[0m                                 Traceback (most recent call last)",
      "File \u001b[0;32m~/Documents/geolog/geolog/geotest.py:25\u001b[0m, in \u001b[0;36mMap.handle_interaction\u001b[0;34m(self, event, **kwargs)\u001b[0m\n\u001b[1;32m     24\u001b[0m \u001b[39mdef\u001b[39;00m \u001b[39mhandle_interaction\u001b[39m(\u001b[39mself\u001b[39m, event, \u001b[39m*\u001b[39m\u001b[39m*\u001b[39mkwargs):\n\u001b[0;32m---> 25\u001b[0m     \u001b[39mif\u001b[39;00m event[\u001b[39m'\u001b[39;49m\u001b[39mtype\u001b[39;49m\u001b[39m'\u001b[39;49m] \u001b[39m==\u001b[39m \u001b[39m'\u001b[39m\u001b[39mclick\u001b[39m\u001b[39m'\u001b[39m:\n\u001b[1;32m     26\u001b[0m         lat, lon \u001b[39m=\u001b[39m event[\u001b[39m'\u001b[39m\u001b[39mcoordinates\u001b[39m\u001b[39m'\u001b[39m]\n\u001b[1;32m     27\u001b[0m         marker \u001b[39m=\u001b[39m ipyleaflet\u001b[39m.\u001b[39mMarker(location\u001b[39m=\u001b[39m(lat, lon))\n",
      "\u001b[0;31mTypeError\u001b[0m: string indices must be integers, not 'str'"
     ]
    },
    {
     "ename": "TypeError",
     "evalue": "string indices must be integers, not 'str'",
     "output_type": "error",
     "traceback": [
      "\u001b[0;31m---------------------------------------------------------------------------\u001b[0m",
      "\u001b[0;31mTypeError\u001b[0m                                 Traceback (most recent call last)",
      "File \u001b[0;32m~/Documents/geolog/geolog/geotest.py:25\u001b[0m, in \u001b[0;36mMap.handle_interaction\u001b[0;34m(self, event, **kwargs)\u001b[0m\n\u001b[1;32m     24\u001b[0m \u001b[39mdef\u001b[39;00m \u001b[39mhandle_interaction\u001b[39m(\u001b[39mself\u001b[39m, event, \u001b[39m*\u001b[39m\u001b[39m*\u001b[39mkwargs):\n\u001b[0;32m---> 25\u001b[0m     \u001b[39mif\u001b[39;00m event[\u001b[39m'\u001b[39;49m\u001b[39mtype\u001b[39;49m\u001b[39m'\u001b[39;49m] \u001b[39m==\u001b[39m \u001b[39m'\u001b[39m\u001b[39mclick\u001b[39m\u001b[39m'\u001b[39m:\n\u001b[1;32m     26\u001b[0m         lat, lon \u001b[39m=\u001b[39m event[\u001b[39m'\u001b[39m\u001b[39mcoordinates\u001b[39m\u001b[39m'\u001b[39m]\n\u001b[1;32m     27\u001b[0m         marker \u001b[39m=\u001b[39m ipyleaflet\u001b[39m.\u001b[39mMarker(location\u001b[39m=\u001b[39m(lat, lon))\n",
      "\u001b[0;31mTypeError\u001b[0m: string indices must be integers, not 'str'"
     ]
    },
    {
     "ename": "TypeError",
     "evalue": "string indices must be integers, not 'str'",
     "output_type": "error",
     "traceback": [
      "\u001b[0;31m---------------------------------------------------------------------------\u001b[0m",
      "\u001b[0;31mTypeError\u001b[0m                                 Traceback (most recent call last)",
      "File \u001b[0;32m~/Documents/geolog/geolog/geotest.py:25\u001b[0m, in \u001b[0;36mMap.handle_interaction\u001b[0;34m(self, event, **kwargs)\u001b[0m\n\u001b[1;32m     24\u001b[0m \u001b[39mdef\u001b[39;00m \u001b[39mhandle_interaction\u001b[39m(\u001b[39mself\u001b[39m, event, \u001b[39m*\u001b[39m\u001b[39m*\u001b[39mkwargs):\n\u001b[0;32m---> 25\u001b[0m     \u001b[39mif\u001b[39;00m event[\u001b[39m'\u001b[39;49m\u001b[39mtype\u001b[39;49m\u001b[39m'\u001b[39;49m] \u001b[39m==\u001b[39m \u001b[39m'\u001b[39m\u001b[39mclick\u001b[39m\u001b[39m'\u001b[39m:\n\u001b[1;32m     26\u001b[0m         lat, lon \u001b[39m=\u001b[39m event[\u001b[39m'\u001b[39m\u001b[39mcoordinates\u001b[39m\u001b[39m'\u001b[39m]\n\u001b[1;32m     27\u001b[0m         marker \u001b[39m=\u001b[39m ipyleaflet\u001b[39m.\u001b[39mMarker(location\u001b[39m=\u001b[39m(lat, lon))\n",
      "\u001b[0;31mTypeError\u001b[0m: string indices must be integers, not 'str'"
     ]
    },
    {
     "ename": "TypeError",
     "evalue": "string indices must be integers, not 'str'",
     "output_type": "error",
     "traceback": [
      "\u001b[0;31m---------------------------------------------------------------------------\u001b[0m",
      "\u001b[0;31mTypeError\u001b[0m                                 Traceback (most recent call last)",
      "File \u001b[0;32m~/Documents/geolog/geolog/geotest.py:25\u001b[0m, in \u001b[0;36mMap.handle_interaction\u001b[0;34m(self, event, **kwargs)\u001b[0m\n\u001b[1;32m     24\u001b[0m \u001b[39mdef\u001b[39;00m \u001b[39mhandle_interaction\u001b[39m(\u001b[39mself\u001b[39m, event, \u001b[39m*\u001b[39m\u001b[39m*\u001b[39mkwargs):\n\u001b[0;32m---> 25\u001b[0m     \u001b[39mif\u001b[39;00m event[\u001b[39m'\u001b[39;49m\u001b[39mtype\u001b[39;49m\u001b[39m'\u001b[39;49m] \u001b[39m==\u001b[39m \u001b[39m'\u001b[39m\u001b[39mclick\u001b[39m\u001b[39m'\u001b[39m:\n\u001b[1;32m     26\u001b[0m         lat, lon \u001b[39m=\u001b[39m event[\u001b[39m'\u001b[39m\u001b[39mcoordinates\u001b[39m\u001b[39m'\u001b[39m]\n\u001b[1;32m     27\u001b[0m         marker \u001b[39m=\u001b[39m ipyleaflet\u001b[39m.\u001b[39mMarker(location\u001b[39m=\u001b[39m(lat, lon))\n",
      "\u001b[0;31mTypeError\u001b[0m: string indices must be integers, not 'str'"
     ]
    },
    {
     "ename": "TypeError",
     "evalue": "string indices must be integers, not 'str'",
     "output_type": "error",
     "traceback": [
      "\u001b[0;31m---------------------------------------------------------------------------\u001b[0m",
      "\u001b[0;31mTypeError\u001b[0m                                 Traceback (most recent call last)",
      "File \u001b[0;32m~/Documents/geolog/geolog/geotest.py:25\u001b[0m, in \u001b[0;36mMap.handle_interaction\u001b[0;34m(self, event, **kwargs)\u001b[0m\n\u001b[1;32m     24\u001b[0m \u001b[39mdef\u001b[39;00m \u001b[39mhandle_interaction\u001b[39m(\u001b[39mself\u001b[39m, event, \u001b[39m*\u001b[39m\u001b[39m*\u001b[39mkwargs):\n\u001b[0;32m---> 25\u001b[0m     \u001b[39mif\u001b[39;00m event[\u001b[39m'\u001b[39;49m\u001b[39mtype\u001b[39;49m\u001b[39m'\u001b[39;49m] \u001b[39m==\u001b[39m \u001b[39m'\u001b[39m\u001b[39mclick\u001b[39m\u001b[39m'\u001b[39m:\n\u001b[1;32m     26\u001b[0m         lat, lon \u001b[39m=\u001b[39m event[\u001b[39m'\u001b[39m\u001b[39mcoordinates\u001b[39m\u001b[39m'\u001b[39m]\n\u001b[1;32m     27\u001b[0m         marker \u001b[39m=\u001b[39m ipyleaflet\u001b[39m.\u001b[39mMarker(location\u001b[39m=\u001b[39m(lat, lon))\n",
      "\u001b[0;31mTypeError\u001b[0m: string indices must be integers, not 'str'"
     ]
    },
    {
     "ename": "TypeError",
     "evalue": "string indices must be integers, not 'str'",
     "output_type": "error",
     "traceback": [
      "\u001b[0;31m---------------------------------------------------------------------------\u001b[0m",
      "\u001b[0;31mTypeError\u001b[0m                                 Traceback (most recent call last)",
      "File \u001b[0;32m~/Documents/geolog/geolog/geotest.py:25\u001b[0m, in \u001b[0;36mMap.handle_interaction\u001b[0;34m(self, event, **kwargs)\u001b[0m\n\u001b[1;32m     24\u001b[0m \u001b[39mdef\u001b[39;00m \u001b[39mhandle_interaction\u001b[39m(\u001b[39mself\u001b[39m, event, \u001b[39m*\u001b[39m\u001b[39m*\u001b[39mkwargs):\n\u001b[0;32m---> 25\u001b[0m     \u001b[39mif\u001b[39;00m event[\u001b[39m'\u001b[39;49m\u001b[39mtype\u001b[39;49m\u001b[39m'\u001b[39;49m] \u001b[39m==\u001b[39m \u001b[39m'\u001b[39m\u001b[39mclick\u001b[39m\u001b[39m'\u001b[39m:\n\u001b[1;32m     26\u001b[0m         lat, lon \u001b[39m=\u001b[39m event[\u001b[39m'\u001b[39m\u001b[39mcoordinates\u001b[39m\u001b[39m'\u001b[39m]\n\u001b[1;32m     27\u001b[0m         marker \u001b[39m=\u001b[39m ipyleaflet\u001b[39m.\u001b[39mMarker(location\u001b[39m=\u001b[39m(lat, lon))\n",
      "\u001b[0;31mTypeError\u001b[0m: string indices must be integers, not 'str'"
     ]
    },
    {
     "ename": "TypeError",
     "evalue": "string indices must be integers, not 'str'",
     "output_type": "error",
     "traceback": [
      "\u001b[0;31m---------------------------------------------------------------------------\u001b[0m",
      "\u001b[0;31mTypeError\u001b[0m                                 Traceback (most recent call last)",
      "File \u001b[0;32m~/Documents/geolog/geolog/geotest.py:25\u001b[0m, in \u001b[0;36mMap.handle_interaction\u001b[0;34m(self, event, **kwargs)\u001b[0m\n\u001b[1;32m     24\u001b[0m \u001b[39mdef\u001b[39;00m \u001b[39mhandle_interaction\u001b[39m(\u001b[39mself\u001b[39m, event, \u001b[39m*\u001b[39m\u001b[39m*\u001b[39mkwargs):\n\u001b[0;32m---> 25\u001b[0m     \u001b[39mif\u001b[39;00m event[\u001b[39m'\u001b[39;49m\u001b[39mtype\u001b[39;49m\u001b[39m'\u001b[39;49m] \u001b[39m==\u001b[39m \u001b[39m'\u001b[39m\u001b[39mclick\u001b[39m\u001b[39m'\u001b[39m:\n\u001b[1;32m     26\u001b[0m         lat, lon \u001b[39m=\u001b[39m event[\u001b[39m'\u001b[39m\u001b[39mcoordinates\u001b[39m\u001b[39m'\u001b[39m]\n\u001b[1;32m     27\u001b[0m         marker \u001b[39m=\u001b[39m ipyleaflet\u001b[39m.\u001b[39mMarker(location\u001b[39m=\u001b[39m(lat, lon))\n",
      "\u001b[0;31mTypeError\u001b[0m: string indices must be integers, not 'str'"
     ]
    },
    {
     "ename": "TypeError",
     "evalue": "string indices must be integers, not 'str'",
     "output_type": "error",
     "traceback": [
      "\u001b[0;31m---------------------------------------------------------------------------\u001b[0m",
      "\u001b[0;31mTypeError\u001b[0m                                 Traceback (most recent call last)",
      "File \u001b[0;32m~/Documents/geolog/geolog/geotest.py:25\u001b[0m, in \u001b[0;36mMap.handle_interaction\u001b[0;34m(self, event, **kwargs)\u001b[0m\n\u001b[1;32m     24\u001b[0m \u001b[39mdef\u001b[39;00m \u001b[39mhandle_interaction\u001b[39m(\u001b[39mself\u001b[39m, event, \u001b[39m*\u001b[39m\u001b[39m*\u001b[39mkwargs):\n\u001b[0;32m---> 25\u001b[0m     \u001b[39mif\u001b[39;00m event[\u001b[39m'\u001b[39;49m\u001b[39mtype\u001b[39;49m\u001b[39m'\u001b[39;49m] \u001b[39m==\u001b[39m \u001b[39m'\u001b[39m\u001b[39mclick\u001b[39m\u001b[39m'\u001b[39m:\n\u001b[1;32m     26\u001b[0m         lat, lon \u001b[39m=\u001b[39m event[\u001b[39m'\u001b[39m\u001b[39mcoordinates\u001b[39m\u001b[39m'\u001b[39m]\n\u001b[1;32m     27\u001b[0m         marker \u001b[39m=\u001b[39m ipyleaflet\u001b[39m.\u001b[39mMarker(location\u001b[39m=\u001b[39m(lat, lon))\n",
      "\u001b[0;31mTypeError\u001b[0m: string indices must be integers, not 'str'"
     ]
    },
    {
     "ename": "TypeError",
     "evalue": "string indices must be integers, not 'str'",
     "output_type": "error",
     "traceback": [
      "\u001b[0;31m---------------------------------------------------------------------------\u001b[0m",
      "\u001b[0;31mTypeError\u001b[0m                                 Traceback (most recent call last)",
      "File \u001b[0;32m~/Documents/geolog/geolog/geotest.py:25\u001b[0m, in \u001b[0;36mMap.handle_interaction\u001b[0;34m(self, event, **kwargs)\u001b[0m\n\u001b[1;32m     24\u001b[0m \u001b[39mdef\u001b[39;00m \u001b[39mhandle_interaction\u001b[39m(\u001b[39mself\u001b[39m, event, \u001b[39m*\u001b[39m\u001b[39m*\u001b[39mkwargs):\n\u001b[0;32m---> 25\u001b[0m     \u001b[39mif\u001b[39;00m event[\u001b[39m'\u001b[39;49m\u001b[39mtype\u001b[39;49m\u001b[39m'\u001b[39;49m] \u001b[39m==\u001b[39m \u001b[39m'\u001b[39m\u001b[39mclick\u001b[39m\u001b[39m'\u001b[39m:\n\u001b[1;32m     26\u001b[0m         lat, lon \u001b[39m=\u001b[39m event[\u001b[39m'\u001b[39m\u001b[39mcoordinates\u001b[39m\u001b[39m'\u001b[39m]\n\u001b[1;32m     27\u001b[0m         marker \u001b[39m=\u001b[39m ipyleaflet\u001b[39m.\u001b[39mMarker(location\u001b[39m=\u001b[39m(lat, lon))\n",
      "\u001b[0;31mTypeError\u001b[0m: string indices must be integers, not 'str'"
     ]
    },
    {
     "ename": "TypeError",
     "evalue": "string indices must be integers, not 'str'",
     "output_type": "error",
     "traceback": [
      "\u001b[0;31m---------------------------------------------------------------------------\u001b[0m",
      "\u001b[0;31mTypeError\u001b[0m                                 Traceback (most recent call last)",
      "File \u001b[0;32m~/Documents/geolog/geolog/geotest.py:25\u001b[0m, in \u001b[0;36mMap.handle_interaction\u001b[0;34m(self, event, **kwargs)\u001b[0m\n\u001b[1;32m     24\u001b[0m \u001b[39mdef\u001b[39;00m \u001b[39mhandle_interaction\u001b[39m(\u001b[39mself\u001b[39m, event, \u001b[39m*\u001b[39m\u001b[39m*\u001b[39mkwargs):\n\u001b[0;32m---> 25\u001b[0m     \u001b[39mif\u001b[39;00m event[\u001b[39m'\u001b[39;49m\u001b[39mtype\u001b[39;49m\u001b[39m'\u001b[39;49m] \u001b[39m==\u001b[39m \u001b[39m'\u001b[39m\u001b[39mclick\u001b[39m\u001b[39m'\u001b[39m:\n\u001b[1;32m     26\u001b[0m         lat, lon \u001b[39m=\u001b[39m event[\u001b[39m'\u001b[39m\u001b[39mcoordinates\u001b[39m\u001b[39m'\u001b[39m]\n\u001b[1;32m     27\u001b[0m         marker \u001b[39m=\u001b[39m ipyleaflet\u001b[39m.\u001b[39mMarker(location\u001b[39m=\u001b[39m(lat, lon))\n",
      "\u001b[0;31mTypeError\u001b[0m: string indices must be integers, not 'str'"
     ]
    },
    {
     "ename": "TypeError",
     "evalue": "string indices must be integers, not 'str'",
     "output_type": "error",
     "traceback": [
      "\u001b[0;31m---------------------------------------------------------------------------\u001b[0m",
      "\u001b[0;31mTypeError\u001b[0m                                 Traceback (most recent call last)",
      "File \u001b[0;32m~/Documents/geolog/geolog/geotest.py:25\u001b[0m, in \u001b[0;36mMap.handle_interaction\u001b[0;34m(self, event, **kwargs)\u001b[0m\n\u001b[1;32m     24\u001b[0m \u001b[39mdef\u001b[39;00m \u001b[39mhandle_interaction\u001b[39m(\u001b[39mself\u001b[39m, event, \u001b[39m*\u001b[39m\u001b[39m*\u001b[39mkwargs):\n\u001b[0;32m---> 25\u001b[0m     \u001b[39mif\u001b[39;00m event[\u001b[39m'\u001b[39;49m\u001b[39mtype\u001b[39;49m\u001b[39m'\u001b[39;49m] \u001b[39m==\u001b[39m \u001b[39m'\u001b[39m\u001b[39mclick\u001b[39m\u001b[39m'\u001b[39m:\n\u001b[1;32m     26\u001b[0m         lat, lon \u001b[39m=\u001b[39m event[\u001b[39m'\u001b[39m\u001b[39mcoordinates\u001b[39m\u001b[39m'\u001b[39m]\n\u001b[1;32m     27\u001b[0m         marker \u001b[39m=\u001b[39m ipyleaflet\u001b[39m.\u001b[39mMarker(location\u001b[39m=\u001b[39m(lat, lon))\n",
      "\u001b[0;31mTypeError\u001b[0m: string indices must be integers, not 'str'"
     ]
    },
    {
     "ename": "TypeError",
     "evalue": "string indices must be integers, not 'str'",
     "output_type": "error",
     "traceback": [
      "\u001b[0;31m---------------------------------------------------------------------------\u001b[0m",
      "\u001b[0;31mTypeError\u001b[0m                                 Traceback (most recent call last)",
      "File \u001b[0;32m~/Documents/geolog/geolog/geotest.py:25\u001b[0m, in \u001b[0;36mMap.handle_interaction\u001b[0;34m(self, event, **kwargs)\u001b[0m\n\u001b[1;32m     24\u001b[0m \u001b[39mdef\u001b[39;00m \u001b[39mhandle_interaction\u001b[39m(\u001b[39mself\u001b[39m, event, \u001b[39m*\u001b[39m\u001b[39m*\u001b[39mkwargs):\n\u001b[0;32m---> 25\u001b[0m     \u001b[39mif\u001b[39;00m event[\u001b[39m'\u001b[39;49m\u001b[39mtype\u001b[39;49m\u001b[39m'\u001b[39;49m] \u001b[39m==\u001b[39m \u001b[39m'\u001b[39m\u001b[39mclick\u001b[39m\u001b[39m'\u001b[39m:\n\u001b[1;32m     26\u001b[0m         lat, lon \u001b[39m=\u001b[39m event[\u001b[39m'\u001b[39m\u001b[39mcoordinates\u001b[39m\u001b[39m'\u001b[39m]\n\u001b[1;32m     27\u001b[0m         marker \u001b[39m=\u001b[39m ipyleaflet\u001b[39m.\u001b[39mMarker(location\u001b[39m=\u001b[39m(lat, lon))\n",
      "\u001b[0;31mTypeError\u001b[0m: string indices must be integers, not 'str'"
     ]
    },
    {
     "ename": "TypeError",
     "evalue": "string indices must be integers, not 'str'",
     "output_type": "error",
     "traceback": [
      "\u001b[0;31m---------------------------------------------------------------------------\u001b[0m",
      "\u001b[0;31mTypeError\u001b[0m                                 Traceback (most recent call last)",
      "File \u001b[0;32m~/Documents/geolog/geolog/geotest.py:25\u001b[0m, in \u001b[0;36mMap.handle_interaction\u001b[0;34m(self, event, **kwargs)\u001b[0m\n\u001b[1;32m     24\u001b[0m \u001b[39mdef\u001b[39;00m \u001b[39mhandle_interaction\u001b[39m(\u001b[39mself\u001b[39m, event, \u001b[39m*\u001b[39m\u001b[39m*\u001b[39mkwargs):\n\u001b[0;32m---> 25\u001b[0m     \u001b[39mif\u001b[39;00m event[\u001b[39m'\u001b[39;49m\u001b[39mtype\u001b[39;49m\u001b[39m'\u001b[39;49m] \u001b[39m==\u001b[39m \u001b[39m'\u001b[39m\u001b[39mclick\u001b[39m\u001b[39m'\u001b[39m:\n\u001b[1;32m     26\u001b[0m         lat, lon \u001b[39m=\u001b[39m event[\u001b[39m'\u001b[39m\u001b[39mcoordinates\u001b[39m\u001b[39m'\u001b[39m]\n\u001b[1;32m     27\u001b[0m         marker \u001b[39m=\u001b[39m ipyleaflet\u001b[39m.\u001b[39mMarker(location\u001b[39m=\u001b[39m(lat, lon))\n",
      "\u001b[0;31mTypeError\u001b[0m: string indices must be integers, not 'str'"
     ]
    },
    {
     "ename": "TypeError",
     "evalue": "string indices must be integers, not 'str'",
     "output_type": "error",
     "traceback": [
      "\u001b[0;31m---------------------------------------------------------------------------\u001b[0m",
      "\u001b[0;31mTypeError\u001b[0m                                 Traceback (most recent call last)",
      "File \u001b[0;32m~/Documents/geolog/geolog/geotest.py:25\u001b[0m, in \u001b[0;36mMap.handle_interaction\u001b[0;34m(self, event, **kwargs)\u001b[0m\n\u001b[1;32m     24\u001b[0m \u001b[39mdef\u001b[39;00m \u001b[39mhandle_interaction\u001b[39m(\u001b[39mself\u001b[39m, event, \u001b[39m*\u001b[39m\u001b[39m*\u001b[39mkwargs):\n\u001b[0;32m---> 25\u001b[0m     \u001b[39mif\u001b[39;00m event[\u001b[39m'\u001b[39;49m\u001b[39mtype\u001b[39;49m\u001b[39m'\u001b[39;49m] \u001b[39m==\u001b[39m \u001b[39m'\u001b[39m\u001b[39mclick\u001b[39m\u001b[39m'\u001b[39m:\n\u001b[1;32m     26\u001b[0m         lat, lon \u001b[39m=\u001b[39m event[\u001b[39m'\u001b[39m\u001b[39mcoordinates\u001b[39m\u001b[39m'\u001b[39m]\n\u001b[1;32m     27\u001b[0m         marker \u001b[39m=\u001b[39m ipyleaflet\u001b[39m.\u001b[39mMarker(location\u001b[39m=\u001b[39m(lat, lon))\n",
      "\u001b[0;31mTypeError\u001b[0m: string indices must be integers, not 'str'"
     ]
    },
    {
     "ename": "TypeError",
     "evalue": "string indices must be integers, not 'str'",
     "output_type": "error",
     "traceback": [
      "\u001b[0;31m---------------------------------------------------------------------------\u001b[0m",
      "\u001b[0;31mTypeError\u001b[0m                                 Traceback (most recent call last)",
      "File \u001b[0;32m~/Documents/geolog/geolog/geotest.py:25\u001b[0m, in \u001b[0;36mMap.handle_interaction\u001b[0;34m(self, event, **kwargs)\u001b[0m\n\u001b[1;32m     24\u001b[0m \u001b[39mdef\u001b[39;00m \u001b[39mhandle_interaction\u001b[39m(\u001b[39mself\u001b[39m, event, \u001b[39m*\u001b[39m\u001b[39m*\u001b[39mkwargs):\n\u001b[0;32m---> 25\u001b[0m     \u001b[39mif\u001b[39;00m event[\u001b[39m'\u001b[39;49m\u001b[39mtype\u001b[39;49m\u001b[39m'\u001b[39;49m] \u001b[39m==\u001b[39m \u001b[39m'\u001b[39m\u001b[39mclick\u001b[39m\u001b[39m'\u001b[39m:\n\u001b[1;32m     26\u001b[0m         lat, lon \u001b[39m=\u001b[39m event[\u001b[39m'\u001b[39m\u001b[39mcoordinates\u001b[39m\u001b[39m'\u001b[39m]\n\u001b[1;32m     27\u001b[0m         marker \u001b[39m=\u001b[39m ipyleaflet\u001b[39m.\u001b[39mMarker(location\u001b[39m=\u001b[39m(lat, lon))\n",
      "\u001b[0;31mTypeError\u001b[0m: string indices must be integers, not 'str'"
     ]
    },
    {
     "ename": "TypeError",
     "evalue": "string indices must be integers, not 'str'",
     "output_type": "error",
     "traceback": [
      "\u001b[0;31m---------------------------------------------------------------------------\u001b[0m",
      "\u001b[0;31mTypeError\u001b[0m                                 Traceback (most recent call last)",
      "File \u001b[0;32m~/Documents/geolog/geolog/geotest.py:25\u001b[0m, in \u001b[0;36mMap.handle_interaction\u001b[0;34m(self, event, **kwargs)\u001b[0m\n\u001b[1;32m     24\u001b[0m \u001b[39mdef\u001b[39;00m \u001b[39mhandle_interaction\u001b[39m(\u001b[39mself\u001b[39m, event, \u001b[39m*\u001b[39m\u001b[39m*\u001b[39mkwargs):\n\u001b[0;32m---> 25\u001b[0m     \u001b[39mif\u001b[39;00m event[\u001b[39m'\u001b[39;49m\u001b[39mtype\u001b[39;49m\u001b[39m'\u001b[39;49m] \u001b[39m==\u001b[39m \u001b[39m'\u001b[39m\u001b[39mclick\u001b[39m\u001b[39m'\u001b[39m:\n\u001b[1;32m     26\u001b[0m         lat, lon \u001b[39m=\u001b[39m event[\u001b[39m'\u001b[39m\u001b[39mcoordinates\u001b[39m\u001b[39m'\u001b[39m]\n\u001b[1;32m     27\u001b[0m         marker \u001b[39m=\u001b[39m ipyleaflet\u001b[39m.\u001b[39mMarker(location\u001b[39m=\u001b[39m(lat, lon))\n",
      "\u001b[0;31mTypeError\u001b[0m: string indices must be integers, not 'str'"
     ]
    },
    {
     "ename": "TypeError",
     "evalue": "string indices must be integers, not 'str'",
     "output_type": "error",
     "traceback": [
      "\u001b[0;31m---------------------------------------------------------------------------\u001b[0m",
      "\u001b[0;31mTypeError\u001b[0m                                 Traceback (most recent call last)",
      "File \u001b[0;32m~/Documents/geolog/geolog/geotest.py:25\u001b[0m, in \u001b[0;36mMap.handle_interaction\u001b[0;34m(self, event, **kwargs)\u001b[0m\n\u001b[1;32m     24\u001b[0m \u001b[39mdef\u001b[39;00m \u001b[39mhandle_interaction\u001b[39m(\u001b[39mself\u001b[39m, event, \u001b[39m*\u001b[39m\u001b[39m*\u001b[39mkwargs):\n\u001b[0;32m---> 25\u001b[0m     \u001b[39mif\u001b[39;00m event[\u001b[39m'\u001b[39;49m\u001b[39mtype\u001b[39;49m\u001b[39m'\u001b[39;49m] \u001b[39m==\u001b[39m \u001b[39m'\u001b[39m\u001b[39mclick\u001b[39m\u001b[39m'\u001b[39m:\n\u001b[1;32m     26\u001b[0m         lat, lon \u001b[39m=\u001b[39m event[\u001b[39m'\u001b[39m\u001b[39mcoordinates\u001b[39m\u001b[39m'\u001b[39m]\n\u001b[1;32m     27\u001b[0m         marker \u001b[39m=\u001b[39m ipyleaflet\u001b[39m.\u001b[39mMarker(location\u001b[39m=\u001b[39m(lat, lon))\n",
      "\u001b[0;31mTypeError\u001b[0m: string indices must be integers, not 'str'"
     ]
    },
    {
     "ename": "TypeError",
     "evalue": "string indices must be integers, not 'str'",
     "output_type": "error",
     "traceback": [
      "\u001b[0;31m---------------------------------------------------------------------------\u001b[0m",
      "\u001b[0;31mTypeError\u001b[0m                                 Traceback (most recent call last)",
      "File \u001b[0;32m~/Documents/geolog/geolog/geotest.py:25\u001b[0m, in \u001b[0;36mMap.handle_interaction\u001b[0;34m(self, event, **kwargs)\u001b[0m\n\u001b[1;32m     24\u001b[0m \u001b[39mdef\u001b[39;00m \u001b[39mhandle_interaction\u001b[39m(\u001b[39mself\u001b[39m, event, \u001b[39m*\u001b[39m\u001b[39m*\u001b[39mkwargs):\n\u001b[0;32m---> 25\u001b[0m     \u001b[39mif\u001b[39;00m event[\u001b[39m'\u001b[39;49m\u001b[39mtype\u001b[39;49m\u001b[39m'\u001b[39;49m] \u001b[39m==\u001b[39m \u001b[39m'\u001b[39m\u001b[39mclick\u001b[39m\u001b[39m'\u001b[39m:\n\u001b[1;32m     26\u001b[0m         lat, lon \u001b[39m=\u001b[39m event[\u001b[39m'\u001b[39m\u001b[39mcoordinates\u001b[39m\u001b[39m'\u001b[39m]\n\u001b[1;32m     27\u001b[0m         marker \u001b[39m=\u001b[39m ipyleaflet\u001b[39m.\u001b[39mMarker(location\u001b[39m=\u001b[39m(lat, lon))\n",
      "\u001b[0;31mTypeError\u001b[0m: string indices must be integers, not 'str'"
     ]
    },
    {
     "ename": "TypeError",
     "evalue": "string indices must be integers, not 'str'",
     "output_type": "error",
     "traceback": [
      "\u001b[0;31m---------------------------------------------------------------------------\u001b[0m",
      "\u001b[0;31mTypeError\u001b[0m                                 Traceback (most recent call last)",
      "File \u001b[0;32m~/Documents/geolog/geolog/geotest.py:25\u001b[0m, in \u001b[0;36mMap.handle_interaction\u001b[0;34m(self, event, **kwargs)\u001b[0m\n\u001b[1;32m     24\u001b[0m \u001b[39mdef\u001b[39;00m \u001b[39mhandle_interaction\u001b[39m(\u001b[39mself\u001b[39m, event, \u001b[39m*\u001b[39m\u001b[39m*\u001b[39mkwargs):\n\u001b[0;32m---> 25\u001b[0m     \u001b[39mif\u001b[39;00m event[\u001b[39m'\u001b[39;49m\u001b[39mtype\u001b[39;49m\u001b[39m'\u001b[39;49m] \u001b[39m==\u001b[39m \u001b[39m'\u001b[39m\u001b[39mclick\u001b[39m\u001b[39m'\u001b[39m:\n\u001b[1;32m     26\u001b[0m         lat, lon \u001b[39m=\u001b[39m event[\u001b[39m'\u001b[39m\u001b[39mcoordinates\u001b[39m\u001b[39m'\u001b[39m]\n\u001b[1;32m     27\u001b[0m         marker \u001b[39m=\u001b[39m ipyleaflet\u001b[39m.\u001b[39mMarker(location\u001b[39m=\u001b[39m(lat, lon))\n",
      "\u001b[0;31mTypeError\u001b[0m: string indices must be integers, not 'str'"
     ]
    },
    {
     "ename": "TypeError",
     "evalue": "string indices must be integers, not 'str'",
     "output_type": "error",
     "traceback": [
      "\u001b[0;31m---------------------------------------------------------------------------\u001b[0m",
      "\u001b[0;31mTypeError\u001b[0m                                 Traceback (most recent call last)",
      "File \u001b[0;32m~/Documents/geolog/geolog/geotest.py:25\u001b[0m, in \u001b[0;36mMap.handle_interaction\u001b[0;34m(self, event, **kwargs)\u001b[0m\n\u001b[1;32m     24\u001b[0m \u001b[39mdef\u001b[39;00m \u001b[39mhandle_interaction\u001b[39m(\u001b[39mself\u001b[39m, event, \u001b[39m*\u001b[39m\u001b[39m*\u001b[39mkwargs):\n\u001b[0;32m---> 25\u001b[0m     \u001b[39mif\u001b[39;00m event[\u001b[39m'\u001b[39;49m\u001b[39mtype\u001b[39;49m\u001b[39m'\u001b[39;49m] \u001b[39m==\u001b[39m \u001b[39m'\u001b[39m\u001b[39mclick\u001b[39m\u001b[39m'\u001b[39m:\n\u001b[1;32m     26\u001b[0m         lat, lon \u001b[39m=\u001b[39m event[\u001b[39m'\u001b[39m\u001b[39mcoordinates\u001b[39m\u001b[39m'\u001b[39m]\n\u001b[1;32m     27\u001b[0m         marker \u001b[39m=\u001b[39m ipyleaflet\u001b[39m.\u001b[39mMarker(location\u001b[39m=\u001b[39m(lat, lon))\n",
      "\u001b[0;31mTypeError\u001b[0m: string indices must be integers, not 'str'"
     ]
    },
    {
     "ename": "TypeError",
     "evalue": "string indices must be integers, not 'str'",
     "output_type": "error",
     "traceback": [
      "\u001b[0;31m---------------------------------------------------------------------------\u001b[0m",
      "\u001b[0;31mTypeError\u001b[0m                                 Traceback (most recent call last)",
      "File \u001b[0;32m~/Documents/geolog/geolog/geotest.py:25\u001b[0m, in \u001b[0;36mMap.handle_interaction\u001b[0;34m(self, event, **kwargs)\u001b[0m\n\u001b[1;32m     24\u001b[0m \u001b[39mdef\u001b[39;00m \u001b[39mhandle_interaction\u001b[39m(\u001b[39mself\u001b[39m, event, \u001b[39m*\u001b[39m\u001b[39m*\u001b[39mkwargs):\n\u001b[0;32m---> 25\u001b[0m     \u001b[39mif\u001b[39;00m event[\u001b[39m'\u001b[39;49m\u001b[39mtype\u001b[39;49m\u001b[39m'\u001b[39;49m] \u001b[39m==\u001b[39m \u001b[39m'\u001b[39m\u001b[39mclick\u001b[39m\u001b[39m'\u001b[39m:\n\u001b[1;32m     26\u001b[0m         lat, lon \u001b[39m=\u001b[39m event[\u001b[39m'\u001b[39m\u001b[39mcoordinates\u001b[39m\u001b[39m'\u001b[39m]\n\u001b[1;32m     27\u001b[0m         marker \u001b[39m=\u001b[39m ipyleaflet\u001b[39m.\u001b[39mMarker(location\u001b[39m=\u001b[39m(lat, lon))\n",
      "\u001b[0;31mTypeError\u001b[0m: string indices must be integers, not 'str'"
     ]
    },
    {
     "ename": "TypeError",
     "evalue": "string indices must be integers, not 'str'",
     "output_type": "error",
     "traceback": [
      "\u001b[0;31m---------------------------------------------------------------------------\u001b[0m",
      "\u001b[0;31mTypeError\u001b[0m                                 Traceback (most recent call last)",
      "File \u001b[0;32m~/Documents/geolog/geolog/geotest.py:25\u001b[0m, in \u001b[0;36mMap.handle_interaction\u001b[0;34m(self, event, **kwargs)\u001b[0m\n\u001b[1;32m     24\u001b[0m \u001b[39mdef\u001b[39;00m \u001b[39mhandle_interaction\u001b[39m(\u001b[39mself\u001b[39m, event, \u001b[39m*\u001b[39m\u001b[39m*\u001b[39mkwargs):\n\u001b[0;32m---> 25\u001b[0m     \u001b[39mif\u001b[39;00m event[\u001b[39m'\u001b[39;49m\u001b[39mtype\u001b[39;49m\u001b[39m'\u001b[39;49m] \u001b[39m==\u001b[39m \u001b[39m'\u001b[39m\u001b[39mclick\u001b[39m\u001b[39m'\u001b[39m:\n\u001b[1;32m     26\u001b[0m         lat, lon \u001b[39m=\u001b[39m event[\u001b[39m'\u001b[39m\u001b[39mcoordinates\u001b[39m\u001b[39m'\u001b[39m]\n\u001b[1;32m     27\u001b[0m         marker \u001b[39m=\u001b[39m ipyleaflet\u001b[39m.\u001b[39mMarker(location\u001b[39m=\u001b[39m(lat, lon))\n",
      "\u001b[0;31mTypeError\u001b[0m: string indices must be integers, not 'str'"
     ]
    },
    {
     "ename": "TypeError",
     "evalue": "string indices must be integers, not 'str'",
     "output_type": "error",
     "traceback": [
      "\u001b[0;31m---------------------------------------------------------------------------\u001b[0m",
      "\u001b[0;31mTypeError\u001b[0m                                 Traceback (most recent call last)",
      "File \u001b[0;32m~/Documents/geolog/geolog/geotest.py:25\u001b[0m, in \u001b[0;36mMap.handle_interaction\u001b[0;34m(self, event, **kwargs)\u001b[0m\n\u001b[1;32m     24\u001b[0m \u001b[39mdef\u001b[39;00m \u001b[39mhandle_interaction\u001b[39m(\u001b[39mself\u001b[39m, event, \u001b[39m*\u001b[39m\u001b[39m*\u001b[39mkwargs):\n\u001b[0;32m---> 25\u001b[0m     \u001b[39mif\u001b[39;00m event[\u001b[39m'\u001b[39;49m\u001b[39mtype\u001b[39;49m\u001b[39m'\u001b[39;49m] \u001b[39m==\u001b[39m \u001b[39m'\u001b[39m\u001b[39mclick\u001b[39m\u001b[39m'\u001b[39m:\n\u001b[1;32m     26\u001b[0m         lat, lon \u001b[39m=\u001b[39m event[\u001b[39m'\u001b[39m\u001b[39mcoordinates\u001b[39m\u001b[39m'\u001b[39m]\n\u001b[1;32m     27\u001b[0m         marker \u001b[39m=\u001b[39m ipyleaflet\u001b[39m.\u001b[39mMarker(location\u001b[39m=\u001b[39m(lat, lon))\n",
      "\u001b[0;31mTypeError\u001b[0m: string indices must be integers, not 'str'"
     ]
    },
    {
     "ename": "TypeError",
     "evalue": "string indices must be integers, not 'str'",
     "output_type": "error",
     "traceback": [
      "\u001b[0;31m---------------------------------------------------------------------------\u001b[0m",
      "\u001b[0;31mTypeError\u001b[0m                                 Traceback (most recent call last)",
      "File \u001b[0;32m~/Documents/geolog/geolog/geotest.py:25\u001b[0m, in \u001b[0;36mMap.handle_interaction\u001b[0;34m(self, event, **kwargs)\u001b[0m\n\u001b[1;32m     24\u001b[0m \u001b[39mdef\u001b[39;00m \u001b[39mhandle_interaction\u001b[39m(\u001b[39mself\u001b[39m, event, \u001b[39m*\u001b[39m\u001b[39m*\u001b[39mkwargs):\n\u001b[0;32m---> 25\u001b[0m     \u001b[39mif\u001b[39;00m event[\u001b[39m'\u001b[39;49m\u001b[39mtype\u001b[39;49m\u001b[39m'\u001b[39;49m] \u001b[39m==\u001b[39m \u001b[39m'\u001b[39m\u001b[39mclick\u001b[39m\u001b[39m'\u001b[39m:\n\u001b[1;32m     26\u001b[0m         lat, lon \u001b[39m=\u001b[39m event[\u001b[39m'\u001b[39m\u001b[39mcoordinates\u001b[39m\u001b[39m'\u001b[39m]\n\u001b[1;32m     27\u001b[0m         marker \u001b[39m=\u001b[39m ipyleaflet\u001b[39m.\u001b[39mMarker(location\u001b[39m=\u001b[39m(lat, lon))\n",
      "\u001b[0;31mTypeError\u001b[0m: string indices must be integers, not 'str'"
     ]
    },
    {
     "ename": "TypeError",
     "evalue": "string indices must be integers, not 'str'",
     "output_type": "error",
     "traceback": [
      "\u001b[0;31m---------------------------------------------------------------------------\u001b[0m",
      "\u001b[0;31mTypeError\u001b[0m                                 Traceback (most recent call last)",
      "File \u001b[0;32m~/Documents/geolog/geolog/geotest.py:25\u001b[0m, in \u001b[0;36mMap.handle_interaction\u001b[0;34m(self, event, **kwargs)\u001b[0m\n\u001b[1;32m     24\u001b[0m \u001b[39mdef\u001b[39;00m \u001b[39mhandle_interaction\u001b[39m(\u001b[39mself\u001b[39m, event, \u001b[39m*\u001b[39m\u001b[39m*\u001b[39mkwargs):\n\u001b[0;32m---> 25\u001b[0m     \u001b[39mif\u001b[39;00m event[\u001b[39m'\u001b[39;49m\u001b[39mtype\u001b[39;49m\u001b[39m'\u001b[39;49m] \u001b[39m==\u001b[39m \u001b[39m'\u001b[39m\u001b[39mclick\u001b[39m\u001b[39m'\u001b[39m:\n\u001b[1;32m     26\u001b[0m         lat, lon \u001b[39m=\u001b[39m event[\u001b[39m'\u001b[39m\u001b[39mcoordinates\u001b[39m\u001b[39m'\u001b[39m]\n\u001b[1;32m     27\u001b[0m         marker \u001b[39m=\u001b[39m ipyleaflet\u001b[39m.\u001b[39mMarker(location\u001b[39m=\u001b[39m(lat, lon))\n",
      "\u001b[0;31mTypeError\u001b[0m: string indices must be integers, not 'str'"
     ]
    },
    {
     "ename": "TypeError",
     "evalue": "string indices must be integers, not 'str'",
     "output_type": "error",
     "traceback": [
      "\u001b[0;31m---------------------------------------------------------------------------\u001b[0m",
      "\u001b[0;31mTypeError\u001b[0m                                 Traceback (most recent call last)",
      "File \u001b[0;32m~/Documents/geolog/geolog/geotest.py:25\u001b[0m, in \u001b[0;36mMap.handle_interaction\u001b[0;34m(self, event, **kwargs)\u001b[0m\n\u001b[1;32m     24\u001b[0m \u001b[39mdef\u001b[39;00m \u001b[39mhandle_interaction\u001b[39m(\u001b[39mself\u001b[39m, event, \u001b[39m*\u001b[39m\u001b[39m*\u001b[39mkwargs):\n\u001b[0;32m---> 25\u001b[0m     \u001b[39mif\u001b[39;00m event[\u001b[39m'\u001b[39;49m\u001b[39mtype\u001b[39;49m\u001b[39m'\u001b[39;49m] \u001b[39m==\u001b[39m \u001b[39m'\u001b[39m\u001b[39mclick\u001b[39m\u001b[39m'\u001b[39m:\n\u001b[1;32m     26\u001b[0m         lat, lon \u001b[39m=\u001b[39m event[\u001b[39m'\u001b[39m\u001b[39mcoordinates\u001b[39m\u001b[39m'\u001b[39m]\n\u001b[1;32m     27\u001b[0m         marker \u001b[39m=\u001b[39m ipyleaflet\u001b[39m.\u001b[39mMarker(location\u001b[39m=\u001b[39m(lat, lon))\n",
      "\u001b[0;31mTypeError\u001b[0m: string indices must be integers, not 'str'"
     ]
    },
    {
     "ename": "TypeError",
     "evalue": "string indices must be integers, not 'str'",
     "output_type": "error",
     "traceback": [
      "\u001b[0;31m---------------------------------------------------------------------------\u001b[0m",
      "\u001b[0;31mTypeError\u001b[0m                                 Traceback (most recent call last)",
      "File \u001b[0;32m~/Documents/geolog/geolog/geotest.py:25\u001b[0m, in \u001b[0;36mMap.handle_interaction\u001b[0;34m(self, event, **kwargs)\u001b[0m\n\u001b[1;32m     24\u001b[0m \u001b[39mdef\u001b[39;00m \u001b[39mhandle_interaction\u001b[39m(\u001b[39mself\u001b[39m, event, \u001b[39m*\u001b[39m\u001b[39m*\u001b[39mkwargs):\n\u001b[0;32m---> 25\u001b[0m     \u001b[39mif\u001b[39;00m event[\u001b[39m'\u001b[39;49m\u001b[39mtype\u001b[39;49m\u001b[39m'\u001b[39;49m] \u001b[39m==\u001b[39m \u001b[39m'\u001b[39m\u001b[39mclick\u001b[39m\u001b[39m'\u001b[39m:\n\u001b[1;32m     26\u001b[0m         lat, lon \u001b[39m=\u001b[39m event[\u001b[39m'\u001b[39m\u001b[39mcoordinates\u001b[39m\u001b[39m'\u001b[39m]\n\u001b[1;32m     27\u001b[0m         marker \u001b[39m=\u001b[39m ipyleaflet\u001b[39m.\u001b[39mMarker(location\u001b[39m=\u001b[39m(lat, lon))\n",
      "\u001b[0;31mTypeError\u001b[0m: string indices must be integers, not 'str'"
     ]
    },
    {
     "ename": "TypeError",
     "evalue": "string indices must be integers, not 'str'",
     "output_type": "error",
     "traceback": [
      "\u001b[0;31m---------------------------------------------------------------------------\u001b[0m",
      "\u001b[0;31mTypeError\u001b[0m                                 Traceback (most recent call last)",
      "File \u001b[0;32m~/Documents/geolog/geolog/geotest.py:25\u001b[0m, in \u001b[0;36mMap.handle_interaction\u001b[0;34m(self, event, **kwargs)\u001b[0m\n\u001b[1;32m     24\u001b[0m \u001b[39mdef\u001b[39;00m \u001b[39mhandle_interaction\u001b[39m(\u001b[39mself\u001b[39m, event, \u001b[39m*\u001b[39m\u001b[39m*\u001b[39mkwargs):\n\u001b[0;32m---> 25\u001b[0m     \u001b[39mif\u001b[39;00m event[\u001b[39m'\u001b[39;49m\u001b[39mtype\u001b[39;49m\u001b[39m'\u001b[39;49m] \u001b[39m==\u001b[39m \u001b[39m'\u001b[39m\u001b[39mclick\u001b[39m\u001b[39m'\u001b[39m:\n\u001b[1;32m     26\u001b[0m         lat, lon \u001b[39m=\u001b[39m event[\u001b[39m'\u001b[39m\u001b[39mcoordinates\u001b[39m\u001b[39m'\u001b[39m]\n\u001b[1;32m     27\u001b[0m         marker \u001b[39m=\u001b[39m ipyleaflet\u001b[39m.\u001b[39mMarker(location\u001b[39m=\u001b[39m(lat, lon))\n",
      "\u001b[0;31mTypeError\u001b[0m: string indices must be integers, not 'str'"
     ]
    },
    {
     "ename": "TypeError",
     "evalue": "string indices must be integers, not 'str'",
     "output_type": "error",
     "traceback": [
      "\u001b[0;31m---------------------------------------------------------------------------\u001b[0m",
      "\u001b[0;31mTypeError\u001b[0m                                 Traceback (most recent call last)",
      "File \u001b[0;32m~/Documents/geolog/geolog/geotest.py:25\u001b[0m, in \u001b[0;36mMap.handle_interaction\u001b[0;34m(self, event, **kwargs)\u001b[0m\n\u001b[1;32m     24\u001b[0m \u001b[39mdef\u001b[39;00m \u001b[39mhandle_interaction\u001b[39m(\u001b[39mself\u001b[39m, event, \u001b[39m*\u001b[39m\u001b[39m*\u001b[39mkwargs):\n\u001b[0;32m---> 25\u001b[0m     \u001b[39mif\u001b[39;00m event[\u001b[39m'\u001b[39;49m\u001b[39mtype\u001b[39;49m\u001b[39m'\u001b[39;49m] \u001b[39m==\u001b[39m \u001b[39m'\u001b[39m\u001b[39mclick\u001b[39m\u001b[39m'\u001b[39m:\n\u001b[1;32m     26\u001b[0m         lat, lon \u001b[39m=\u001b[39m event[\u001b[39m'\u001b[39m\u001b[39mcoordinates\u001b[39m\u001b[39m'\u001b[39m]\n\u001b[1;32m     27\u001b[0m         marker \u001b[39m=\u001b[39m ipyleaflet\u001b[39m.\u001b[39mMarker(location\u001b[39m=\u001b[39m(lat, lon))\n",
      "\u001b[0;31mTypeError\u001b[0m: string indices must be integers, not 'str'"
     ]
    },
    {
     "ename": "TypeError",
     "evalue": "string indices must be integers, not 'str'",
     "output_type": "error",
     "traceback": [
      "\u001b[0;31m---------------------------------------------------------------------------\u001b[0m",
      "\u001b[0;31mTypeError\u001b[0m                                 Traceback (most recent call last)",
      "File \u001b[0;32m~/Documents/geolog/geolog/geotest.py:25\u001b[0m, in \u001b[0;36mMap.handle_interaction\u001b[0;34m(self, event, **kwargs)\u001b[0m\n\u001b[1;32m     24\u001b[0m \u001b[39mdef\u001b[39;00m \u001b[39mhandle_interaction\u001b[39m(\u001b[39mself\u001b[39m, event, \u001b[39m*\u001b[39m\u001b[39m*\u001b[39mkwargs):\n\u001b[0;32m---> 25\u001b[0m     \u001b[39mif\u001b[39;00m event[\u001b[39m'\u001b[39;49m\u001b[39mtype\u001b[39;49m\u001b[39m'\u001b[39;49m] \u001b[39m==\u001b[39m \u001b[39m'\u001b[39m\u001b[39mclick\u001b[39m\u001b[39m'\u001b[39m:\n\u001b[1;32m     26\u001b[0m         lat, lon \u001b[39m=\u001b[39m event[\u001b[39m'\u001b[39m\u001b[39mcoordinates\u001b[39m\u001b[39m'\u001b[39m]\n\u001b[1;32m     27\u001b[0m         marker \u001b[39m=\u001b[39m ipyleaflet\u001b[39m.\u001b[39mMarker(location\u001b[39m=\u001b[39m(lat, lon))\n",
      "\u001b[0;31mTypeError\u001b[0m: string indices must be integers, not 'str'"
     ]
    },
    {
     "ename": "TypeError",
     "evalue": "string indices must be integers, not 'str'",
     "output_type": "error",
     "traceback": [
      "\u001b[0;31m---------------------------------------------------------------------------\u001b[0m",
      "\u001b[0;31mTypeError\u001b[0m                                 Traceback (most recent call last)",
      "File \u001b[0;32m~/Documents/geolog/geolog/geotest.py:25\u001b[0m, in \u001b[0;36mMap.handle_interaction\u001b[0;34m(self, event, **kwargs)\u001b[0m\n\u001b[1;32m     24\u001b[0m \u001b[39mdef\u001b[39;00m \u001b[39mhandle_interaction\u001b[39m(\u001b[39mself\u001b[39m, event, \u001b[39m*\u001b[39m\u001b[39m*\u001b[39mkwargs):\n\u001b[0;32m---> 25\u001b[0m     \u001b[39mif\u001b[39;00m event[\u001b[39m'\u001b[39;49m\u001b[39mtype\u001b[39;49m\u001b[39m'\u001b[39;49m] \u001b[39m==\u001b[39m \u001b[39m'\u001b[39m\u001b[39mclick\u001b[39m\u001b[39m'\u001b[39m:\n\u001b[1;32m     26\u001b[0m         lat, lon \u001b[39m=\u001b[39m event[\u001b[39m'\u001b[39m\u001b[39mcoordinates\u001b[39m\u001b[39m'\u001b[39m]\n\u001b[1;32m     27\u001b[0m         marker \u001b[39m=\u001b[39m ipyleaflet\u001b[39m.\u001b[39mMarker(location\u001b[39m=\u001b[39m(lat, lon))\n",
      "\u001b[0;31mTypeError\u001b[0m: string indices must be integers, not 'str'"
     ]
    },
    {
     "ename": "TypeError",
     "evalue": "string indices must be integers, not 'str'",
     "output_type": "error",
     "traceback": [
      "\u001b[0;31m---------------------------------------------------------------------------\u001b[0m",
      "\u001b[0;31mTypeError\u001b[0m                                 Traceback (most recent call last)",
      "File \u001b[0;32m~/Documents/geolog/geolog/geotest.py:25\u001b[0m, in \u001b[0;36mMap.handle_interaction\u001b[0;34m(self, event, **kwargs)\u001b[0m\n\u001b[1;32m     24\u001b[0m \u001b[39mdef\u001b[39;00m \u001b[39mhandle_interaction\u001b[39m(\u001b[39mself\u001b[39m, event, \u001b[39m*\u001b[39m\u001b[39m*\u001b[39mkwargs):\n\u001b[0;32m---> 25\u001b[0m     \u001b[39mif\u001b[39;00m event[\u001b[39m'\u001b[39;49m\u001b[39mtype\u001b[39;49m\u001b[39m'\u001b[39;49m] \u001b[39m==\u001b[39m \u001b[39m'\u001b[39m\u001b[39mclick\u001b[39m\u001b[39m'\u001b[39m:\n\u001b[1;32m     26\u001b[0m         lat, lon \u001b[39m=\u001b[39m event[\u001b[39m'\u001b[39m\u001b[39mcoordinates\u001b[39m\u001b[39m'\u001b[39m]\n\u001b[1;32m     27\u001b[0m         marker \u001b[39m=\u001b[39m ipyleaflet\u001b[39m.\u001b[39mMarker(location\u001b[39m=\u001b[39m(lat, lon))\n",
      "\u001b[0;31mTypeError\u001b[0m: string indices must be integers, not 'str'"
     ]
    },
    {
     "ename": "TypeError",
     "evalue": "string indices must be integers, not 'str'",
     "output_type": "error",
     "traceback": [
      "\u001b[0;31m---------------------------------------------------------------------------\u001b[0m",
      "\u001b[0;31mTypeError\u001b[0m                                 Traceback (most recent call last)",
      "File \u001b[0;32m~/Documents/geolog/geolog/geotest.py:25\u001b[0m, in \u001b[0;36mMap.handle_interaction\u001b[0;34m(self, event, **kwargs)\u001b[0m\n\u001b[1;32m     24\u001b[0m \u001b[39mdef\u001b[39;00m \u001b[39mhandle_interaction\u001b[39m(\u001b[39mself\u001b[39m, event, \u001b[39m*\u001b[39m\u001b[39m*\u001b[39mkwargs):\n\u001b[0;32m---> 25\u001b[0m     \u001b[39mif\u001b[39;00m event[\u001b[39m'\u001b[39;49m\u001b[39mtype\u001b[39;49m\u001b[39m'\u001b[39;49m] \u001b[39m==\u001b[39m \u001b[39m'\u001b[39m\u001b[39mclick\u001b[39m\u001b[39m'\u001b[39m:\n\u001b[1;32m     26\u001b[0m         lat, lon \u001b[39m=\u001b[39m event[\u001b[39m'\u001b[39m\u001b[39mcoordinates\u001b[39m\u001b[39m'\u001b[39m]\n\u001b[1;32m     27\u001b[0m         marker \u001b[39m=\u001b[39m ipyleaflet\u001b[39m.\u001b[39mMarker(location\u001b[39m=\u001b[39m(lat, lon))\n",
      "\u001b[0;31mTypeError\u001b[0m: string indices must be integers, not 'str'"
     ]
    },
    {
     "ename": "TypeError",
     "evalue": "string indices must be integers, not 'str'",
     "output_type": "error",
     "traceback": [
      "\u001b[0;31m---------------------------------------------------------------------------\u001b[0m",
      "\u001b[0;31mTypeError\u001b[0m                                 Traceback (most recent call last)",
      "File \u001b[0;32m~/Documents/geolog/geolog/geotest.py:25\u001b[0m, in \u001b[0;36mMap.handle_interaction\u001b[0;34m(self, event, **kwargs)\u001b[0m\n\u001b[1;32m     24\u001b[0m \u001b[39mdef\u001b[39;00m \u001b[39mhandle_interaction\u001b[39m(\u001b[39mself\u001b[39m, event, \u001b[39m*\u001b[39m\u001b[39m*\u001b[39mkwargs):\n\u001b[0;32m---> 25\u001b[0m     \u001b[39mif\u001b[39;00m event[\u001b[39m'\u001b[39;49m\u001b[39mtype\u001b[39;49m\u001b[39m'\u001b[39;49m] \u001b[39m==\u001b[39m \u001b[39m'\u001b[39m\u001b[39mclick\u001b[39m\u001b[39m'\u001b[39m:\n\u001b[1;32m     26\u001b[0m         lat, lon \u001b[39m=\u001b[39m event[\u001b[39m'\u001b[39m\u001b[39mcoordinates\u001b[39m\u001b[39m'\u001b[39m]\n\u001b[1;32m     27\u001b[0m         marker \u001b[39m=\u001b[39m ipyleaflet\u001b[39m.\u001b[39mMarker(location\u001b[39m=\u001b[39m(lat, lon))\n",
      "\u001b[0;31mTypeError\u001b[0m: string indices must be integers, not 'str'"
     ]
    },
    {
     "ename": "TypeError",
     "evalue": "string indices must be integers, not 'str'",
     "output_type": "error",
     "traceback": [
      "\u001b[0;31m---------------------------------------------------------------------------\u001b[0m",
      "\u001b[0;31mTypeError\u001b[0m                                 Traceback (most recent call last)",
      "File \u001b[0;32m~/Documents/geolog/geolog/geotest.py:25\u001b[0m, in \u001b[0;36mMap.handle_interaction\u001b[0;34m(self, event, **kwargs)\u001b[0m\n\u001b[1;32m     24\u001b[0m \u001b[39mdef\u001b[39;00m \u001b[39mhandle_interaction\u001b[39m(\u001b[39mself\u001b[39m, event, \u001b[39m*\u001b[39m\u001b[39m*\u001b[39mkwargs):\n\u001b[0;32m---> 25\u001b[0m     \u001b[39mif\u001b[39;00m event[\u001b[39m'\u001b[39;49m\u001b[39mtype\u001b[39;49m\u001b[39m'\u001b[39;49m] \u001b[39m==\u001b[39m \u001b[39m'\u001b[39m\u001b[39mclick\u001b[39m\u001b[39m'\u001b[39m:\n\u001b[1;32m     26\u001b[0m         lat, lon \u001b[39m=\u001b[39m event[\u001b[39m'\u001b[39m\u001b[39mcoordinates\u001b[39m\u001b[39m'\u001b[39m]\n\u001b[1;32m     27\u001b[0m         marker \u001b[39m=\u001b[39m ipyleaflet\u001b[39m.\u001b[39mMarker(location\u001b[39m=\u001b[39m(lat, lon))\n",
      "\u001b[0;31mTypeError\u001b[0m: string indices must be integers, not 'str'"
     ]
    },
    {
     "ename": "TypeError",
     "evalue": "string indices must be integers, not 'str'",
     "output_type": "error",
     "traceback": [
      "\u001b[0;31m---------------------------------------------------------------------------\u001b[0m",
      "\u001b[0;31mTypeError\u001b[0m                                 Traceback (most recent call last)",
      "File \u001b[0;32m~/Documents/geolog/geolog/geotest.py:25\u001b[0m, in \u001b[0;36mMap.handle_interaction\u001b[0;34m(self, event, **kwargs)\u001b[0m\n\u001b[1;32m     24\u001b[0m \u001b[39mdef\u001b[39;00m \u001b[39mhandle_interaction\u001b[39m(\u001b[39mself\u001b[39m, event, \u001b[39m*\u001b[39m\u001b[39m*\u001b[39mkwargs):\n\u001b[0;32m---> 25\u001b[0m     \u001b[39mif\u001b[39;00m event[\u001b[39m'\u001b[39;49m\u001b[39mtype\u001b[39;49m\u001b[39m'\u001b[39;49m] \u001b[39m==\u001b[39m \u001b[39m'\u001b[39m\u001b[39mclick\u001b[39m\u001b[39m'\u001b[39m:\n\u001b[1;32m     26\u001b[0m         lat, lon \u001b[39m=\u001b[39m event[\u001b[39m'\u001b[39m\u001b[39mcoordinates\u001b[39m\u001b[39m'\u001b[39m]\n\u001b[1;32m     27\u001b[0m         marker \u001b[39m=\u001b[39m ipyleaflet\u001b[39m.\u001b[39mMarker(location\u001b[39m=\u001b[39m(lat, lon))\n",
      "\u001b[0;31mTypeError\u001b[0m: string indices must be integers, not 'str'"
     ]
    },
    {
     "ename": "TypeError",
     "evalue": "string indices must be integers, not 'str'",
     "output_type": "error",
     "traceback": [
      "\u001b[0;31m---------------------------------------------------------------------------\u001b[0m",
      "\u001b[0;31mTypeError\u001b[0m                                 Traceback (most recent call last)",
      "File \u001b[0;32m~/Documents/geolog/geolog/geotest.py:25\u001b[0m, in \u001b[0;36mMap.handle_interaction\u001b[0;34m(self, event, **kwargs)\u001b[0m\n\u001b[1;32m     24\u001b[0m \u001b[39mdef\u001b[39;00m \u001b[39mhandle_interaction\u001b[39m(\u001b[39mself\u001b[39m, event, \u001b[39m*\u001b[39m\u001b[39m*\u001b[39mkwargs):\n\u001b[0;32m---> 25\u001b[0m     \u001b[39mif\u001b[39;00m event[\u001b[39m'\u001b[39;49m\u001b[39mtype\u001b[39;49m\u001b[39m'\u001b[39;49m] \u001b[39m==\u001b[39m \u001b[39m'\u001b[39m\u001b[39mclick\u001b[39m\u001b[39m'\u001b[39m:\n\u001b[1;32m     26\u001b[0m         lat, lon \u001b[39m=\u001b[39m event[\u001b[39m'\u001b[39m\u001b[39mcoordinates\u001b[39m\u001b[39m'\u001b[39m]\n\u001b[1;32m     27\u001b[0m         marker \u001b[39m=\u001b[39m ipyleaflet\u001b[39m.\u001b[39mMarker(location\u001b[39m=\u001b[39m(lat, lon))\n",
      "\u001b[0;31mTypeError\u001b[0m: string indices must be integers, not 'str'"
     ]
    },
    {
     "ename": "TypeError",
     "evalue": "string indices must be integers, not 'str'",
     "output_type": "error",
     "traceback": [
      "\u001b[0;31m---------------------------------------------------------------------------\u001b[0m",
      "\u001b[0;31mTypeError\u001b[0m                                 Traceback (most recent call last)",
      "File \u001b[0;32m~/Documents/geolog/geolog/geotest.py:25\u001b[0m, in \u001b[0;36mMap.handle_interaction\u001b[0;34m(self, event, **kwargs)\u001b[0m\n\u001b[1;32m     24\u001b[0m \u001b[39mdef\u001b[39;00m \u001b[39mhandle_interaction\u001b[39m(\u001b[39mself\u001b[39m, event, \u001b[39m*\u001b[39m\u001b[39m*\u001b[39mkwargs):\n\u001b[0;32m---> 25\u001b[0m     \u001b[39mif\u001b[39;00m event[\u001b[39m'\u001b[39;49m\u001b[39mtype\u001b[39;49m\u001b[39m'\u001b[39;49m] \u001b[39m==\u001b[39m \u001b[39m'\u001b[39m\u001b[39mclick\u001b[39m\u001b[39m'\u001b[39m:\n\u001b[1;32m     26\u001b[0m         lat, lon \u001b[39m=\u001b[39m event[\u001b[39m'\u001b[39m\u001b[39mcoordinates\u001b[39m\u001b[39m'\u001b[39m]\n\u001b[1;32m     27\u001b[0m         marker \u001b[39m=\u001b[39m ipyleaflet\u001b[39m.\u001b[39mMarker(location\u001b[39m=\u001b[39m(lat, lon))\n",
      "\u001b[0;31mTypeError\u001b[0m: string indices must be integers, not 'str'"
     ]
    },
    {
     "ename": "TypeError",
     "evalue": "string indices must be integers, not 'str'",
     "output_type": "error",
     "traceback": [
      "\u001b[0;31m---------------------------------------------------------------------------\u001b[0m",
      "\u001b[0;31mTypeError\u001b[0m                                 Traceback (most recent call last)",
      "File \u001b[0;32m~/Documents/geolog/geolog/geotest.py:25\u001b[0m, in \u001b[0;36mMap.handle_interaction\u001b[0;34m(self, event, **kwargs)\u001b[0m\n\u001b[1;32m     24\u001b[0m \u001b[39mdef\u001b[39;00m \u001b[39mhandle_interaction\u001b[39m(\u001b[39mself\u001b[39m, event, \u001b[39m*\u001b[39m\u001b[39m*\u001b[39mkwargs):\n\u001b[0;32m---> 25\u001b[0m     \u001b[39mif\u001b[39;00m event[\u001b[39m'\u001b[39;49m\u001b[39mtype\u001b[39;49m\u001b[39m'\u001b[39;49m] \u001b[39m==\u001b[39m \u001b[39m'\u001b[39m\u001b[39mclick\u001b[39m\u001b[39m'\u001b[39m:\n\u001b[1;32m     26\u001b[0m         lat, lon \u001b[39m=\u001b[39m event[\u001b[39m'\u001b[39m\u001b[39mcoordinates\u001b[39m\u001b[39m'\u001b[39m]\n\u001b[1;32m     27\u001b[0m         marker \u001b[39m=\u001b[39m ipyleaflet\u001b[39m.\u001b[39mMarker(location\u001b[39m=\u001b[39m(lat, lon))\n",
      "\u001b[0;31mTypeError\u001b[0m: string indices must be integers, not 'str'"
     ]
    },
    {
     "ename": "TypeError",
     "evalue": "string indices must be integers, not 'str'",
     "output_type": "error",
     "traceback": [
      "\u001b[0;31m---------------------------------------------------------------------------\u001b[0m",
      "\u001b[0;31mTypeError\u001b[0m                                 Traceback (most recent call last)",
      "File \u001b[0;32m~/Documents/geolog/geolog/geotest.py:25\u001b[0m, in \u001b[0;36mMap.handle_interaction\u001b[0;34m(self, event, **kwargs)\u001b[0m\n\u001b[1;32m     24\u001b[0m \u001b[39mdef\u001b[39;00m \u001b[39mhandle_interaction\u001b[39m(\u001b[39mself\u001b[39m, event, \u001b[39m*\u001b[39m\u001b[39m*\u001b[39mkwargs):\n\u001b[0;32m---> 25\u001b[0m     \u001b[39mif\u001b[39;00m event[\u001b[39m'\u001b[39;49m\u001b[39mtype\u001b[39;49m\u001b[39m'\u001b[39;49m] \u001b[39m==\u001b[39m \u001b[39m'\u001b[39m\u001b[39mclick\u001b[39m\u001b[39m'\u001b[39m:\n\u001b[1;32m     26\u001b[0m         lat, lon \u001b[39m=\u001b[39m event[\u001b[39m'\u001b[39m\u001b[39mcoordinates\u001b[39m\u001b[39m'\u001b[39m]\n\u001b[1;32m     27\u001b[0m         marker \u001b[39m=\u001b[39m ipyleaflet\u001b[39m.\u001b[39mMarker(location\u001b[39m=\u001b[39m(lat, lon))\n",
      "\u001b[0;31mTypeError\u001b[0m: string indices must be integers, not 'str'"
     ]
    },
    {
     "ename": "TypeError",
     "evalue": "string indices must be integers, not 'str'",
     "output_type": "error",
     "traceback": [
      "\u001b[0;31m---------------------------------------------------------------------------\u001b[0m",
      "\u001b[0;31mTypeError\u001b[0m                                 Traceback (most recent call last)",
      "File \u001b[0;32m~/Documents/geolog/geolog/geotest.py:25\u001b[0m, in \u001b[0;36mMap.handle_interaction\u001b[0;34m(self, event, **kwargs)\u001b[0m\n\u001b[1;32m     24\u001b[0m \u001b[39mdef\u001b[39;00m \u001b[39mhandle_interaction\u001b[39m(\u001b[39mself\u001b[39m, event, \u001b[39m*\u001b[39m\u001b[39m*\u001b[39mkwargs):\n\u001b[0;32m---> 25\u001b[0m     \u001b[39mif\u001b[39;00m event[\u001b[39m'\u001b[39;49m\u001b[39mtype\u001b[39;49m\u001b[39m'\u001b[39;49m] \u001b[39m==\u001b[39m \u001b[39m'\u001b[39m\u001b[39mclick\u001b[39m\u001b[39m'\u001b[39m:\n\u001b[1;32m     26\u001b[0m         lat, lon \u001b[39m=\u001b[39m event[\u001b[39m'\u001b[39m\u001b[39mcoordinates\u001b[39m\u001b[39m'\u001b[39m]\n\u001b[1;32m     27\u001b[0m         marker \u001b[39m=\u001b[39m ipyleaflet\u001b[39m.\u001b[39mMarker(location\u001b[39m=\u001b[39m(lat, lon))\n",
      "\u001b[0;31mTypeError\u001b[0m: string indices must be integers, not 'str'"
     ]
    },
    {
     "ename": "TypeError",
     "evalue": "string indices must be integers, not 'str'",
     "output_type": "error",
     "traceback": [
      "\u001b[0;31m---------------------------------------------------------------------------\u001b[0m",
      "\u001b[0;31mTypeError\u001b[0m                                 Traceback (most recent call last)",
      "File \u001b[0;32m~/Documents/geolog/geolog/geotest.py:25\u001b[0m, in \u001b[0;36mMap.handle_interaction\u001b[0;34m(self, event, **kwargs)\u001b[0m\n\u001b[1;32m     24\u001b[0m \u001b[39mdef\u001b[39;00m \u001b[39mhandle_interaction\u001b[39m(\u001b[39mself\u001b[39m, event, \u001b[39m*\u001b[39m\u001b[39m*\u001b[39mkwargs):\n\u001b[0;32m---> 25\u001b[0m     \u001b[39mif\u001b[39;00m event[\u001b[39m'\u001b[39;49m\u001b[39mtype\u001b[39;49m\u001b[39m'\u001b[39;49m] \u001b[39m==\u001b[39m \u001b[39m'\u001b[39m\u001b[39mclick\u001b[39m\u001b[39m'\u001b[39m:\n\u001b[1;32m     26\u001b[0m         lat, lon \u001b[39m=\u001b[39m event[\u001b[39m'\u001b[39m\u001b[39mcoordinates\u001b[39m\u001b[39m'\u001b[39m]\n\u001b[1;32m     27\u001b[0m         marker \u001b[39m=\u001b[39m ipyleaflet\u001b[39m.\u001b[39mMarker(location\u001b[39m=\u001b[39m(lat, lon))\n",
      "\u001b[0;31mTypeError\u001b[0m: string indices must be integers, not 'str'"
     ]
    },
    {
     "ename": "TypeError",
     "evalue": "string indices must be integers, not 'str'",
     "output_type": "error",
     "traceback": [
      "\u001b[0;31m---------------------------------------------------------------------------\u001b[0m",
      "\u001b[0;31mTypeError\u001b[0m                                 Traceback (most recent call last)",
      "File \u001b[0;32m~/Documents/geolog/geolog/geotest.py:25\u001b[0m, in \u001b[0;36mMap.handle_interaction\u001b[0;34m(self, event, **kwargs)\u001b[0m\n\u001b[1;32m     24\u001b[0m \u001b[39mdef\u001b[39;00m \u001b[39mhandle_interaction\u001b[39m(\u001b[39mself\u001b[39m, event, \u001b[39m*\u001b[39m\u001b[39m*\u001b[39mkwargs):\n\u001b[0;32m---> 25\u001b[0m     \u001b[39mif\u001b[39;00m event[\u001b[39m'\u001b[39;49m\u001b[39mtype\u001b[39;49m\u001b[39m'\u001b[39;49m] \u001b[39m==\u001b[39m \u001b[39m'\u001b[39m\u001b[39mclick\u001b[39m\u001b[39m'\u001b[39m:\n\u001b[1;32m     26\u001b[0m         lat, lon \u001b[39m=\u001b[39m event[\u001b[39m'\u001b[39m\u001b[39mcoordinates\u001b[39m\u001b[39m'\u001b[39m]\n\u001b[1;32m     27\u001b[0m         marker \u001b[39m=\u001b[39m ipyleaflet\u001b[39m.\u001b[39mMarker(location\u001b[39m=\u001b[39m(lat, lon))\n",
      "\u001b[0;31mTypeError\u001b[0m: string indices must be integers, not 'str'"
     ]
    },
    {
     "ename": "TypeError",
     "evalue": "string indices must be integers, not 'str'",
     "output_type": "error",
     "traceback": [
      "\u001b[0;31m---------------------------------------------------------------------------\u001b[0m",
      "\u001b[0;31mTypeError\u001b[0m                                 Traceback (most recent call last)",
      "File \u001b[0;32m~/Documents/geolog/geolog/geotest.py:25\u001b[0m, in \u001b[0;36mMap.handle_interaction\u001b[0;34m(self, event, **kwargs)\u001b[0m\n\u001b[1;32m     24\u001b[0m \u001b[39mdef\u001b[39;00m \u001b[39mhandle_interaction\u001b[39m(\u001b[39mself\u001b[39m, event, \u001b[39m*\u001b[39m\u001b[39m*\u001b[39mkwargs):\n\u001b[0;32m---> 25\u001b[0m     \u001b[39mif\u001b[39;00m event[\u001b[39m'\u001b[39;49m\u001b[39mtype\u001b[39;49m\u001b[39m'\u001b[39;49m] \u001b[39m==\u001b[39m \u001b[39m'\u001b[39m\u001b[39mclick\u001b[39m\u001b[39m'\u001b[39m:\n\u001b[1;32m     26\u001b[0m         lat, lon \u001b[39m=\u001b[39m event[\u001b[39m'\u001b[39m\u001b[39mcoordinates\u001b[39m\u001b[39m'\u001b[39m]\n\u001b[1;32m     27\u001b[0m         marker \u001b[39m=\u001b[39m ipyleaflet\u001b[39m.\u001b[39mMarker(location\u001b[39m=\u001b[39m(lat, lon))\n",
      "\u001b[0;31mTypeError\u001b[0m: string indices must be integers, not 'str'"
     ]
    },
    {
     "ename": "TypeError",
     "evalue": "string indices must be integers, not 'str'",
     "output_type": "error",
     "traceback": [
      "\u001b[0;31m---------------------------------------------------------------------------\u001b[0m",
      "\u001b[0;31mTypeError\u001b[0m                                 Traceback (most recent call last)",
      "File \u001b[0;32m~/Documents/geolog/geolog/geotest.py:25\u001b[0m, in \u001b[0;36mMap.handle_interaction\u001b[0;34m(self, event, **kwargs)\u001b[0m\n\u001b[1;32m     24\u001b[0m \u001b[39mdef\u001b[39;00m \u001b[39mhandle_interaction\u001b[39m(\u001b[39mself\u001b[39m, event, \u001b[39m*\u001b[39m\u001b[39m*\u001b[39mkwargs):\n\u001b[0;32m---> 25\u001b[0m     \u001b[39mif\u001b[39;00m event[\u001b[39m'\u001b[39;49m\u001b[39mtype\u001b[39;49m\u001b[39m'\u001b[39;49m] \u001b[39m==\u001b[39m \u001b[39m'\u001b[39m\u001b[39mclick\u001b[39m\u001b[39m'\u001b[39m:\n\u001b[1;32m     26\u001b[0m         lat, lon \u001b[39m=\u001b[39m event[\u001b[39m'\u001b[39m\u001b[39mcoordinates\u001b[39m\u001b[39m'\u001b[39m]\n\u001b[1;32m     27\u001b[0m         marker \u001b[39m=\u001b[39m ipyleaflet\u001b[39m.\u001b[39mMarker(location\u001b[39m=\u001b[39m(lat, lon))\n",
      "\u001b[0;31mTypeError\u001b[0m: string indices must be integers, not 'str'"
     ]
    },
    {
     "ename": "TypeError",
     "evalue": "string indices must be integers, not 'str'",
     "output_type": "error",
     "traceback": [
      "\u001b[0;31m---------------------------------------------------------------------------\u001b[0m",
      "\u001b[0;31mTypeError\u001b[0m                                 Traceback (most recent call last)",
      "File \u001b[0;32m~/Documents/geolog/geolog/geotest.py:25\u001b[0m, in \u001b[0;36mMap.handle_interaction\u001b[0;34m(self, event, **kwargs)\u001b[0m\n\u001b[1;32m     24\u001b[0m \u001b[39mdef\u001b[39;00m \u001b[39mhandle_interaction\u001b[39m(\u001b[39mself\u001b[39m, event, \u001b[39m*\u001b[39m\u001b[39m*\u001b[39mkwargs):\n\u001b[0;32m---> 25\u001b[0m     \u001b[39mif\u001b[39;00m event[\u001b[39m'\u001b[39;49m\u001b[39mtype\u001b[39;49m\u001b[39m'\u001b[39;49m] \u001b[39m==\u001b[39m \u001b[39m'\u001b[39m\u001b[39mclick\u001b[39m\u001b[39m'\u001b[39m:\n\u001b[1;32m     26\u001b[0m         lat, lon \u001b[39m=\u001b[39m event[\u001b[39m'\u001b[39m\u001b[39mcoordinates\u001b[39m\u001b[39m'\u001b[39m]\n\u001b[1;32m     27\u001b[0m         marker \u001b[39m=\u001b[39m ipyleaflet\u001b[39m.\u001b[39mMarker(location\u001b[39m=\u001b[39m(lat, lon))\n",
      "\u001b[0;31mTypeError\u001b[0m: string indices must be integers, not 'str'"
     ]
    },
    {
     "ename": "TypeError",
     "evalue": "string indices must be integers, not 'str'",
     "output_type": "error",
     "traceback": [
      "\u001b[0;31m---------------------------------------------------------------------------\u001b[0m",
      "\u001b[0;31mTypeError\u001b[0m                                 Traceback (most recent call last)",
      "File \u001b[0;32m~/Documents/geolog/geolog/geotest.py:25\u001b[0m, in \u001b[0;36mMap.handle_interaction\u001b[0;34m(self, event, **kwargs)\u001b[0m\n\u001b[1;32m     24\u001b[0m \u001b[39mdef\u001b[39;00m \u001b[39mhandle_interaction\u001b[39m(\u001b[39mself\u001b[39m, event, \u001b[39m*\u001b[39m\u001b[39m*\u001b[39mkwargs):\n\u001b[0;32m---> 25\u001b[0m     \u001b[39mif\u001b[39;00m event[\u001b[39m'\u001b[39;49m\u001b[39mtype\u001b[39;49m\u001b[39m'\u001b[39;49m] \u001b[39m==\u001b[39m \u001b[39m'\u001b[39m\u001b[39mclick\u001b[39m\u001b[39m'\u001b[39m:\n\u001b[1;32m     26\u001b[0m         lat, lon \u001b[39m=\u001b[39m event[\u001b[39m'\u001b[39m\u001b[39mcoordinates\u001b[39m\u001b[39m'\u001b[39m]\n\u001b[1;32m     27\u001b[0m         marker \u001b[39m=\u001b[39m ipyleaflet\u001b[39m.\u001b[39mMarker(location\u001b[39m=\u001b[39m(lat, lon))\n",
      "\u001b[0;31mTypeError\u001b[0m: string indices must be integers, not 'str'"
     ]
    },
    {
     "ename": "TypeError",
     "evalue": "string indices must be integers, not 'str'",
     "output_type": "error",
     "traceback": [
      "\u001b[0;31m---------------------------------------------------------------------------\u001b[0m",
      "\u001b[0;31mTypeError\u001b[0m                                 Traceback (most recent call last)",
      "File \u001b[0;32m~/Documents/geolog/geolog/geotest.py:25\u001b[0m, in \u001b[0;36mMap.handle_interaction\u001b[0;34m(self, event, **kwargs)\u001b[0m\n\u001b[1;32m     24\u001b[0m \u001b[39mdef\u001b[39;00m \u001b[39mhandle_interaction\u001b[39m(\u001b[39mself\u001b[39m, event, \u001b[39m*\u001b[39m\u001b[39m*\u001b[39mkwargs):\n\u001b[0;32m---> 25\u001b[0m     \u001b[39mif\u001b[39;00m event[\u001b[39m'\u001b[39;49m\u001b[39mtype\u001b[39;49m\u001b[39m'\u001b[39;49m] \u001b[39m==\u001b[39m \u001b[39m'\u001b[39m\u001b[39mclick\u001b[39m\u001b[39m'\u001b[39m:\n\u001b[1;32m     26\u001b[0m         lat, lon \u001b[39m=\u001b[39m event[\u001b[39m'\u001b[39m\u001b[39mcoordinates\u001b[39m\u001b[39m'\u001b[39m]\n\u001b[1;32m     27\u001b[0m         marker \u001b[39m=\u001b[39m ipyleaflet\u001b[39m.\u001b[39mMarker(location\u001b[39m=\u001b[39m(lat, lon))\n",
      "\u001b[0;31mTypeError\u001b[0m: string indices must be integers, not 'str'"
     ]
    },
    {
     "ename": "TypeError",
     "evalue": "string indices must be integers, not 'str'",
     "output_type": "error",
     "traceback": [
      "\u001b[0;31m---------------------------------------------------------------------------\u001b[0m",
      "\u001b[0;31mTypeError\u001b[0m                                 Traceback (most recent call last)",
      "File \u001b[0;32m~/Documents/geolog/geolog/geotest.py:25\u001b[0m, in \u001b[0;36mMap.handle_interaction\u001b[0;34m(self, event, **kwargs)\u001b[0m\n\u001b[1;32m     24\u001b[0m \u001b[39mdef\u001b[39;00m \u001b[39mhandle_interaction\u001b[39m(\u001b[39mself\u001b[39m, event, \u001b[39m*\u001b[39m\u001b[39m*\u001b[39mkwargs):\n\u001b[0;32m---> 25\u001b[0m     \u001b[39mif\u001b[39;00m event[\u001b[39m'\u001b[39;49m\u001b[39mtype\u001b[39;49m\u001b[39m'\u001b[39;49m] \u001b[39m==\u001b[39m \u001b[39m'\u001b[39m\u001b[39mclick\u001b[39m\u001b[39m'\u001b[39m:\n\u001b[1;32m     26\u001b[0m         lat, lon \u001b[39m=\u001b[39m event[\u001b[39m'\u001b[39m\u001b[39mcoordinates\u001b[39m\u001b[39m'\u001b[39m]\n\u001b[1;32m     27\u001b[0m         marker \u001b[39m=\u001b[39m ipyleaflet\u001b[39m.\u001b[39mMarker(location\u001b[39m=\u001b[39m(lat, lon))\n",
      "\u001b[0;31mTypeError\u001b[0m: string indices must be integers, not 'str'"
     ]
    },
    {
     "ename": "TypeError",
     "evalue": "string indices must be integers, not 'str'",
     "output_type": "error",
     "traceback": [
      "\u001b[0;31m---------------------------------------------------------------------------\u001b[0m",
      "\u001b[0;31mTypeError\u001b[0m                                 Traceback (most recent call last)",
      "File \u001b[0;32m~/Documents/geolog/geolog/geotest.py:25\u001b[0m, in \u001b[0;36mMap.handle_interaction\u001b[0;34m(self, event, **kwargs)\u001b[0m\n\u001b[1;32m     24\u001b[0m \u001b[39mdef\u001b[39;00m \u001b[39mhandle_interaction\u001b[39m(\u001b[39mself\u001b[39m, event, \u001b[39m*\u001b[39m\u001b[39m*\u001b[39mkwargs):\n\u001b[0;32m---> 25\u001b[0m     \u001b[39mif\u001b[39;00m event[\u001b[39m'\u001b[39;49m\u001b[39mtype\u001b[39;49m\u001b[39m'\u001b[39;49m] \u001b[39m==\u001b[39m \u001b[39m'\u001b[39m\u001b[39mclick\u001b[39m\u001b[39m'\u001b[39m:\n\u001b[1;32m     26\u001b[0m         lat, lon \u001b[39m=\u001b[39m event[\u001b[39m'\u001b[39m\u001b[39mcoordinates\u001b[39m\u001b[39m'\u001b[39m]\n\u001b[1;32m     27\u001b[0m         marker \u001b[39m=\u001b[39m ipyleaflet\u001b[39m.\u001b[39mMarker(location\u001b[39m=\u001b[39m(lat, lon))\n",
      "\u001b[0;31mTypeError\u001b[0m: string indices must be integers, not 'str'"
     ]
    },
    {
     "ename": "TypeError",
     "evalue": "string indices must be integers, not 'str'",
     "output_type": "error",
     "traceback": [
      "\u001b[0;31m---------------------------------------------------------------------------\u001b[0m",
      "\u001b[0;31mTypeError\u001b[0m                                 Traceback (most recent call last)",
      "File \u001b[0;32m~/Documents/geolog/geolog/geotest.py:25\u001b[0m, in \u001b[0;36mMap.handle_interaction\u001b[0;34m(self, event, **kwargs)\u001b[0m\n\u001b[1;32m     24\u001b[0m \u001b[39mdef\u001b[39;00m \u001b[39mhandle_interaction\u001b[39m(\u001b[39mself\u001b[39m, event, \u001b[39m*\u001b[39m\u001b[39m*\u001b[39mkwargs):\n\u001b[0;32m---> 25\u001b[0m     \u001b[39mif\u001b[39;00m event[\u001b[39m'\u001b[39;49m\u001b[39mtype\u001b[39;49m\u001b[39m'\u001b[39;49m] \u001b[39m==\u001b[39m \u001b[39m'\u001b[39m\u001b[39mclick\u001b[39m\u001b[39m'\u001b[39m:\n\u001b[1;32m     26\u001b[0m         lat, lon \u001b[39m=\u001b[39m event[\u001b[39m'\u001b[39m\u001b[39mcoordinates\u001b[39m\u001b[39m'\u001b[39m]\n\u001b[1;32m     27\u001b[0m         marker \u001b[39m=\u001b[39m ipyleaflet\u001b[39m.\u001b[39mMarker(location\u001b[39m=\u001b[39m(lat, lon))\n",
      "\u001b[0;31mTypeError\u001b[0m: string indices must be integers, not 'str'"
     ]
    },
    {
     "ename": "TypeError",
     "evalue": "string indices must be integers, not 'str'",
     "output_type": "error",
     "traceback": [
      "\u001b[0;31m---------------------------------------------------------------------------\u001b[0m",
      "\u001b[0;31mTypeError\u001b[0m                                 Traceback (most recent call last)",
      "File \u001b[0;32m~/Documents/geolog/geolog/geotest.py:25\u001b[0m, in \u001b[0;36mMap.handle_interaction\u001b[0;34m(self, event, **kwargs)\u001b[0m\n\u001b[1;32m     24\u001b[0m \u001b[39mdef\u001b[39;00m \u001b[39mhandle_interaction\u001b[39m(\u001b[39mself\u001b[39m, event, \u001b[39m*\u001b[39m\u001b[39m*\u001b[39mkwargs):\n\u001b[0;32m---> 25\u001b[0m     \u001b[39mif\u001b[39;00m event[\u001b[39m'\u001b[39;49m\u001b[39mtype\u001b[39;49m\u001b[39m'\u001b[39;49m] \u001b[39m==\u001b[39m \u001b[39m'\u001b[39m\u001b[39mclick\u001b[39m\u001b[39m'\u001b[39m:\n\u001b[1;32m     26\u001b[0m         lat, lon \u001b[39m=\u001b[39m event[\u001b[39m'\u001b[39m\u001b[39mcoordinates\u001b[39m\u001b[39m'\u001b[39m]\n\u001b[1;32m     27\u001b[0m         marker \u001b[39m=\u001b[39m ipyleaflet\u001b[39m.\u001b[39mMarker(location\u001b[39m=\u001b[39m(lat, lon))\n",
      "\u001b[0;31mTypeError\u001b[0m: string indices must be integers, not 'str'"
     ]
    },
    {
     "ename": "TypeError",
     "evalue": "string indices must be integers, not 'str'",
     "output_type": "error",
     "traceback": [
      "\u001b[0;31m---------------------------------------------------------------------------\u001b[0m",
      "\u001b[0;31mTypeError\u001b[0m                                 Traceback (most recent call last)",
      "File \u001b[0;32m~/Documents/geolog/geolog/geotest.py:25\u001b[0m, in \u001b[0;36mMap.handle_interaction\u001b[0;34m(self, event, **kwargs)\u001b[0m\n\u001b[1;32m     24\u001b[0m \u001b[39mdef\u001b[39;00m \u001b[39mhandle_interaction\u001b[39m(\u001b[39mself\u001b[39m, event, \u001b[39m*\u001b[39m\u001b[39m*\u001b[39mkwargs):\n\u001b[0;32m---> 25\u001b[0m     \u001b[39mif\u001b[39;00m event[\u001b[39m'\u001b[39;49m\u001b[39mtype\u001b[39;49m\u001b[39m'\u001b[39;49m] \u001b[39m==\u001b[39m \u001b[39m'\u001b[39m\u001b[39mclick\u001b[39m\u001b[39m'\u001b[39m:\n\u001b[1;32m     26\u001b[0m         lat, lon \u001b[39m=\u001b[39m event[\u001b[39m'\u001b[39m\u001b[39mcoordinates\u001b[39m\u001b[39m'\u001b[39m]\n\u001b[1;32m     27\u001b[0m         marker \u001b[39m=\u001b[39m ipyleaflet\u001b[39m.\u001b[39mMarker(location\u001b[39m=\u001b[39m(lat, lon))\n",
      "\u001b[0;31mTypeError\u001b[0m: string indices must be integers, not 'str'"
     ]
    },
    {
     "ename": "TypeError",
     "evalue": "string indices must be integers, not 'str'",
     "output_type": "error",
     "traceback": [
      "\u001b[0;31m---------------------------------------------------------------------------\u001b[0m",
      "\u001b[0;31mTypeError\u001b[0m                                 Traceback (most recent call last)",
      "File \u001b[0;32m~/Documents/geolog/geolog/geotest.py:25\u001b[0m, in \u001b[0;36mMap.handle_interaction\u001b[0;34m(self, event, **kwargs)\u001b[0m\n\u001b[1;32m     24\u001b[0m \u001b[39mdef\u001b[39;00m \u001b[39mhandle_interaction\u001b[39m(\u001b[39mself\u001b[39m, event, \u001b[39m*\u001b[39m\u001b[39m*\u001b[39mkwargs):\n\u001b[0;32m---> 25\u001b[0m     \u001b[39mif\u001b[39;00m event[\u001b[39m'\u001b[39;49m\u001b[39mtype\u001b[39;49m\u001b[39m'\u001b[39;49m] \u001b[39m==\u001b[39m \u001b[39m'\u001b[39m\u001b[39mclick\u001b[39m\u001b[39m'\u001b[39m:\n\u001b[1;32m     26\u001b[0m         lat, lon \u001b[39m=\u001b[39m event[\u001b[39m'\u001b[39m\u001b[39mcoordinates\u001b[39m\u001b[39m'\u001b[39m]\n\u001b[1;32m     27\u001b[0m         marker \u001b[39m=\u001b[39m ipyleaflet\u001b[39m.\u001b[39mMarker(location\u001b[39m=\u001b[39m(lat, lon))\n",
      "\u001b[0;31mTypeError\u001b[0m: string indices must be integers, not 'str'"
     ]
    },
    {
     "ename": "TypeError",
     "evalue": "string indices must be integers, not 'str'",
     "output_type": "error",
     "traceback": [
      "\u001b[0;31m---------------------------------------------------------------------------\u001b[0m",
      "\u001b[0;31mTypeError\u001b[0m                                 Traceback (most recent call last)",
      "File \u001b[0;32m~/Documents/geolog/geolog/geotest.py:25\u001b[0m, in \u001b[0;36mMap.handle_interaction\u001b[0;34m(self, event, **kwargs)\u001b[0m\n\u001b[1;32m     24\u001b[0m \u001b[39mdef\u001b[39;00m \u001b[39mhandle_interaction\u001b[39m(\u001b[39mself\u001b[39m, event, \u001b[39m*\u001b[39m\u001b[39m*\u001b[39mkwargs):\n\u001b[0;32m---> 25\u001b[0m     \u001b[39mif\u001b[39;00m event[\u001b[39m'\u001b[39;49m\u001b[39mtype\u001b[39;49m\u001b[39m'\u001b[39;49m] \u001b[39m==\u001b[39m \u001b[39m'\u001b[39m\u001b[39mclick\u001b[39m\u001b[39m'\u001b[39m:\n\u001b[1;32m     26\u001b[0m         lat, lon \u001b[39m=\u001b[39m event[\u001b[39m'\u001b[39m\u001b[39mcoordinates\u001b[39m\u001b[39m'\u001b[39m]\n\u001b[1;32m     27\u001b[0m         marker \u001b[39m=\u001b[39m ipyleaflet\u001b[39m.\u001b[39mMarker(location\u001b[39m=\u001b[39m(lat, lon))\n",
      "\u001b[0;31mTypeError\u001b[0m: string indices must be integers, not 'str'"
     ]
    },
    {
     "ename": "TypeError",
     "evalue": "string indices must be integers, not 'str'",
     "output_type": "error",
     "traceback": [
      "\u001b[0;31m---------------------------------------------------------------------------\u001b[0m",
      "\u001b[0;31mTypeError\u001b[0m                                 Traceback (most recent call last)",
      "File \u001b[0;32m~/Documents/geolog/geolog/geotest.py:25\u001b[0m, in \u001b[0;36mMap.handle_interaction\u001b[0;34m(self, event, **kwargs)\u001b[0m\n\u001b[1;32m     24\u001b[0m \u001b[39mdef\u001b[39;00m \u001b[39mhandle_interaction\u001b[39m(\u001b[39mself\u001b[39m, event, \u001b[39m*\u001b[39m\u001b[39m*\u001b[39mkwargs):\n\u001b[0;32m---> 25\u001b[0m     \u001b[39mif\u001b[39;00m event[\u001b[39m'\u001b[39;49m\u001b[39mtype\u001b[39;49m\u001b[39m'\u001b[39;49m] \u001b[39m==\u001b[39m \u001b[39m'\u001b[39m\u001b[39mclick\u001b[39m\u001b[39m'\u001b[39m:\n\u001b[1;32m     26\u001b[0m         lat, lon \u001b[39m=\u001b[39m event[\u001b[39m'\u001b[39m\u001b[39mcoordinates\u001b[39m\u001b[39m'\u001b[39m]\n\u001b[1;32m     27\u001b[0m         marker \u001b[39m=\u001b[39m ipyleaflet\u001b[39m.\u001b[39mMarker(location\u001b[39m=\u001b[39m(lat, lon))\n",
      "\u001b[0;31mTypeError\u001b[0m: string indices must be integers, not 'str'"
     ]
    },
    {
     "ename": "TypeError",
     "evalue": "string indices must be integers, not 'str'",
     "output_type": "error",
     "traceback": [
      "\u001b[0;31m---------------------------------------------------------------------------\u001b[0m",
      "\u001b[0;31mTypeError\u001b[0m                                 Traceback (most recent call last)",
      "File \u001b[0;32m~/Documents/geolog/geolog/geotest.py:25\u001b[0m, in \u001b[0;36mMap.handle_interaction\u001b[0;34m(self, event, **kwargs)\u001b[0m\n\u001b[1;32m     24\u001b[0m \u001b[39mdef\u001b[39;00m \u001b[39mhandle_interaction\u001b[39m(\u001b[39mself\u001b[39m, event, \u001b[39m*\u001b[39m\u001b[39m*\u001b[39mkwargs):\n\u001b[0;32m---> 25\u001b[0m     \u001b[39mif\u001b[39;00m event[\u001b[39m'\u001b[39;49m\u001b[39mtype\u001b[39;49m\u001b[39m'\u001b[39;49m] \u001b[39m==\u001b[39m \u001b[39m'\u001b[39m\u001b[39mclick\u001b[39m\u001b[39m'\u001b[39m:\n\u001b[1;32m     26\u001b[0m         lat, lon \u001b[39m=\u001b[39m event[\u001b[39m'\u001b[39m\u001b[39mcoordinates\u001b[39m\u001b[39m'\u001b[39m]\n\u001b[1;32m     27\u001b[0m         marker \u001b[39m=\u001b[39m ipyleaflet\u001b[39m.\u001b[39mMarker(location\u001b[39m=\u001b[39m(lat, lon))\n",
      "\u001b[0;31mTypeError\u001b[0m: string indices must be integers, not 'str'"
     ]
    },
    {
     "ename": "TypeError",
     "evalue": "string indices must be integers, not 'str'",
     "output_type": "error",
     "traceback": [
      "\u001b[0;31m---------------------------------------------------------------------------\u001b[0m",
      "\u001b[0;31mTypeError\u001b[0m                                 Traceback (most recent call last)",
      "File \u001b[0;32m~/Documents/geolog/geolog/geotest.py:25\u001b[0m, in \u001b[0;36mMap.handle_interaction\u001b[0;34m(self, event, **kwargs)\u001b[0m\n\u001b[1;32m     24\u001b[0m \u001b[39mdef\u001b[39;00m \u001b[39mhandle_interaction\u001b[39m(\u001b[39mself\u001b[39m, event, \u001b[39m*\u001b[39m\u001b[39m*\u001b[39mkwargs):\n\u001b[0;32m---> 25\u001b[0m     \u001b[39mif\u001b[39;00m event[\u001b[39m'\u001b[39;49m\u001b[39mtype\u001b[39;49m\u001b[39m'\u001b[39;49m] \u001b[39m==\u001b[39m \u001b[39m'\u001b[39m\u001b[39mclick\u001b[39m\u001b[39m'\u001b[39m:\n\u001b[1;32m     26\u001b[0m         lat, lon \u001b[39m=\u001b[39m event[\u001b[39m'\u001b[39m\u001b[39mcoordinates\u001b[39m\u001b[39m'\u001b[39m]\n\u001b[1;32m     27\u001b[0m         marker \u001b[39m=\u001b[39m ipyleaflet\u001b[39m.\u001b[39mMarker(location\u001b[39m=\u001b[39m(lat, lon))\n",
      "\u001b[0;31mTypeError\u001b[0m: string indices must be integers, not 'str'"
     ]
    },
    {
     "ename": "TypeError",
     "evalue": "string indices must be integers, not 'str'",
     "output_type": "error",
     "traceback": [
      "\u001b[0;31m---------------------------------------------------------------------------\u001b[0m",
      "\u001b[0;31mTypeError\u001b[0m                                 Traceback (most recent call last)",
      "File \u001b[0;32m~/Documents/geolog/geolog/geotest.py:25\u001b[0m, in \u001b[0;36mMap.handle_interaction\u001b[0;34m(self, event, **kwargs)\u001b[0m\n\u001b[1;32m     24\u001b[0m \u001b[39mdef\u001b[39;00m \u001b[39mhandle_interaction\u001b[39m(\u001b[39mself\u001b[39m, event, \u001b[39m*\u001b[39m\u001b[39m*\u001b[39mkwargs):\n\u001b[0;32m---> 25\u001b[0m     \u001b[39mif\u001b[39;00m event[\u001b[39m'\u001b[39;49m\u001b[39mtype\u001b[39;49m\u001b[39m'\u001b[39;49m] \u001b[39m==\u001b[39m \u001b[39m'\u001b[39m\u001b[39mclick\u001b[39m\u001b[39m'\u001b[39m:\n\u001b[1;32m     26\u001b[0m         lat, lon \u001b[39m=\u001b[39m event[\u001b[39m'\u001b[39m\u001b[39mcoordinates\u001b[39m\u001b[39m'\u001b[39m]\n\u001b[1;32m     27\u001b[0m         marker \u001b[39m=\u001b[39m ipyleaflet\u001b[39m.\u001b[39mMarker(location\u001b[39m=\u001b[39m(lat, lon))\n",
      "\u001b[0;31mTypeError\u001b[0m: string indices must be integers, not 'str'"
     ]
    },
    {
     "ename": "TypeError",
     "evalue": "string indices must be integers, not 'str'",
     "output_type": "error",
     "traceback": [
      "\u001b[0;31m---------------------------------------------------------------------------\u001b[0m",
      "\u001b[0;31mTypeError\u001b[0m                                 Traceback (most recent call last)",
      "File \u001b[0;32m~/Documents/geolog/geolog/geotest.py:25\u001b[0m, in \u001b[0;36mMap.handle_interaction\u001b[0;34m(self, event, **kwargs)\u001b[0m\n\u001b[1;32m     24\u001b[0m \u001b[39mdef\u001b[39;00m \u001b[39mhandle_interaction\u001b[39m(\u001b[39mself\u001b[39m, event, \u001b[39m*\u001b[39m\u001b[39m*\u001b[39mkwargs):\n\u001b[0;32m---> 25\u001b[0m     \u001b[39mif\u001b[39;00m event[\u001b[39m'\u001b[39;49m\u001b[39mtype\u001b[39;49m\u001b[39m'\u001b[39;49m] \u001b[39m==\u001b[39m \u001b[39m'\u001b[39m\u001b[39mclick\u001b[39m\u001b[39m'\u001b[39m:\n\u001b[1;32m     26\u001b[0m         lat, lon \u001b[39m=\u001b[39m event[\u001b[39m'\u001b[39m\u001b[39mcoordinates\u001b[39m\u001b[39m'\u001b[39m]\n\u001b[1;32m     27\u001b[0m         marker \u001b[39m=\u001b[39m ipyleaflet\u001b[39m.\u001b[39mMarker(location\u001b[39m=\u001b[39m(lat, lon))\n",
      "\u001b[0;31mTypeError\u001b[0m: string indices must be integers, not 'str'"
     ]
    },
    {
     "ename": "TypeError",
     "evalue": "string indices must be integers, not 'str'",
     "output_type": "error",
     "traceback": [
      "\u001b[0;31m---------------------------------------------------------------------------\u001b[0m",
      "\u001b[0;31mTypeError\u001b[0m                                 Traceback (most recent call last)",
      "File \u001b[0;32m~/Documents/geolog/geolog/geotest.py:25\u001b[0m, in \u001b[0;36mMap.handle_interaction\u001b[0;34m(self, event, **kwargs)\u001b[0m\n\u001b[1;32m     24\u001b[0m \u001b[39mdef\u001b[39;00m \u001b[39mhandle_interaction\u001b[39m(\u001b[39mself\u001b[39m, event, \u001b[39m*\u001b[39m\u001b[39m*\u001b[39mkwargs):\n\u001b[0;32m---> 25\u001b[0m     \u001b[39mif\u001b[39;00m event[\u001b[39m'\u001b[39;49m\u001b[39mtype\u001b[39;49m\u001b[39m'\u001b[39;49m] \u001b[39m==\u001b[39m \u001b[39m'\u001b[39m\u001b[39mclick\u001b[39m\u001b[39m'\u001b[39m:\n\u001b[1;32m     26\u001b[0m         lat, lon \u001b[39m=\u001b[39m event[\u001b[39m'\u001b[39m\u001b[39mcoordinates\u001b[39m\u001b[39m'\u001b[39m]\n\u001b[1;32m     27\u001b[0m         marker \u001b[39m=\u001b[39m ipyleaflet\u001b[39m.\u001b[39mMarker(location\u001b[39m=\u001b[39m(lat, lon))\n",
      "\u001b[0;31mTypeError\u001b[0m: string indices must be integers, not 'str'"
     ]
    },
    {
     "ename": "TypeError",
     "evalue": "string indices must be integers, not 'str'",
     "output_type": "error",
     "traceback": [
      "\u001b[0;31m---------------------------------------------------------------------------\u001b[0m",
      "\u001b[0;31mTypeError\u001b[0m                                 Traceback (most recent call last)",
      "File \u001b[0;32m~/Documents/geolog/geolog/geotest.py:25\u001b[0m, in \u001b[0;36mMap.handle_interaction\u001b[0;34m(self, event, **kwargs)\u001b[0m\n\u001b[1;32m     24\u001b[0m \u001b[39mdef\u001b[39;00m \u001b[39mhandle_interaction\u001b[39m(\u001b[39mself\u001b[39m, event, \u001b[39m*\u001b[39m\u001b[39m*\u001b[39mkwargs):\n\u001b[0;32m---> 25\u001b[0m     \u001b[39mif\u001b[39;00m event[\u001b[39m'\u001b[39;49m\u001b[39mtype\u001b[39;49m\u001b[39m'\u001b[39;49m] \u001b[39m==\u001b[39m \u001b[39m'\u001b[39m\u001b[39mclick\u001b[39m\u001b[39m'\u001b[39m:\n\u001b[1;32m     26\u001b[0m         lat, lon \u001b[39m=\u001b[39m event[\u001b[39m'\u001b[39m\u001b[39mcoordinates\u001b[39m\u001b[39m'\u001b[39m]\n\u001b[1;32m     27\u001b[0m         marker \u001b[39m=\u001b[39m ipyleaflet\u001b[39m.\u001b[39mMarker(location\u001b[39m=\u001b[39m(lat, lon))\n",
      "\u001b[0;31mTypeError\u001b[0m: string indices must be integers, not 'str'"
     ]
    },
    {
     "ename": "TypeError",
     "evalue": "string indices must be integers, not 'str'",
     "output_type": "error",
     "traceback": [
      "\u001b[0;31m---------------------------------------------------------------------------\u001b[0m",
      "\u001b[0;31mTypeError\u001b[0m                                 Traceback (most recent call last)",
      "File \u001b[0;32m~/Documents/geolog/geolog/geotest.py:25\u001b[0m, in \u001b[0;36mMap.handle_interaction\u001b[0;34m(self, event, **kwargs)\u001b[0m\n\u001b[1;32m     24\u001b[0m \u001b[39mdef\u001b[39;00m \u001b[39mhandle_interaction\u001b[39m(\u001b[39mself\u001b[39m, event, \u001b[39m*\u001b[39m\u001b[39m*\u001b[39mkwargs):\n\u001b[0;32m---> 25\u001b[0m     \u001b[39mif\u001b[39;00m event[\u001b[39m'\u001b[39;49m\u001b[39mtype\u001b[39;49m\u001b[39m'\u001b[39;49m] \u001b[39m==\u001b[39m \u001b[39m'\u001b[39m\u001b[39mclick\u001b[39m\u001b[39m'\u001b[39m:\n\u001b[1;32m     26\u001b[0m         lat, lon \u001b[39m=\u001b[39m event[\u001b[39m'\u001b[39m\u001b[39mcoordinates\u001b[39m\u001b[39m'\u001b[39m]\n\u001b[1;32m     27\u001b[0m         marker \u001b[39m=\u001b[39m ipyleaflet\u001b[39m.\u001b[39mMarker(location\u001b[39m=\u001b[39m(lat, lon))\n",
      "\u001b[0;31mTypeError\u001b[0m: string indices must be integers, not 'str'"
     ]
    },
    {
     "ename": "TypeError",
     "evalue": "string indices must be integers, not 'str'",
     "output_type": "error",
     "traceback": [
      "\u001b[0;31m---------------------------------------------------------------------------\u001b[0m",
      "\u001b[0;31mTypeError\u001b[0m                                 Traceback (most recent call last)",
      "File \u001b[0;32m~/Documents/geolog/geolog/geotest.py:25\u001b[0m, in \u001b[0;36mMap.handle_interaction\u001b[0;34m(self, event, **kwargs)\u001b[0m\n\u001b[1;32m     24\u001b[0m \u001b[39mdef\u001b[39;00m \u001b[39mhandle_interaction\u001b[39m(\u001b[39mself\u001b[39m, event, \u001b[39m*\u001b[39m\u001b[39m*\u001b[39mkwargs):\n\u001b[0;32m---> 25\u001b[0m     \u001b[39mif\u001b[39;00m event[\u001b[39m'\u001b[39;49m\u001b[39mtype\u001b[39;49m\u001b[39m'\u001b[39;49m] \u001b[39m==\u001b[39m \u001b[39m'\u001b[39m\u001b[39mclick\u001b[39m\u001b[39m'\u001b[39m:\n\u001b[1;32m     26\u001b[0m         lat, lon \u001b[39m=\u001b[39m event[\u001b[39m'\u001b[39m\u001b[39mcoordinates\u001b[39m\u001b[39m'\u001b[39m]\n\u001b[1;32m     27\u001b[0m         marker \u001b[39m=\u001b[39m ipyleaflet\u001b[39m.\u001b[39mMarker(location\u001b[39m=\u001b[39m(lat, lon))\n",
      "\u001b[0;31mTypeError\u001b[0m: string indices must be integers, not 'str'"
     ]
    },
    {
     "ename": "TypeError",
     "evalue": "string indices must be integers, not 'str'",
     "output_type": "error",
     "traceback": [
      "\u001b[0;31m---------------------------------------------------------------------------\u001b[0m",
      "\u001b[0;31mTypeError\u001b[0m                                 Traceback (most recent call last)",
      "File \u001b[0;32m~/Documents/geolog/geolog/geotest.py:25\u001b[0m, in \u001b[0;36mMap.handle_interaction\u001b[0;34m(self, event, **kwargs)\u001b[0m\n\u001b[1;32m     24\u001b[0m \u001b[39mdef\u001b[39;00m \u001b[39mhandle_interaction\u001b[39m(\u001b[39mself\u001b[39m, event, \u001b[39m*\u001b[39m\u001b[39m*\u001b[39mkwargs):\n\u001b[0;32m---> 25\u001b[0m     \u001b[39mif\u001b[39;00m event[\u001b[39m'\u001b[39;49m\u001b[39mtype\u001b[39;49m\u001b[39m'\u001b[39;49m] \u001b[39m==\u001b[39m \u001b[39m'\u001b[39m\u001b[39mclick\u001b[39m\u001b[39m'\u001b[39m:\n\u001b[1;32m     26\u001b[0m         lat, lon \u001b[39m=\u001b[39m event[\u001b[39m'\u001b[39m\u001b[39mcoordinates\u001b[39m\u001b[39m'\u001b[39m]\n\u001b[1;32m     27\u001b[0m         marker \u001b[39m=\u001b[39m ipyleaflet\u001b[39m.\u001b[39mMarker(location\u001b[39m=\u001b[39m(lat, lon))\n",
      "\u001b[0;31mTypeError\u001b[0m: string indices must be integers, not 'str'"
     ]
    },
    {
     "ename": "TypeError",
     "evalue": "string indices must be integers, not 'str'",
     "output_type": "error",
     "traceback": [
      "\u001b[0;31m---------------------------------------------------------------------------\u001b[0m",
      "\u001b[0;31mTypeError\u001b[0m                                 Traceback (most recent call last)",
      "File \u001b[0;32m~/Documents/geolog/geolog/geotest.py:25\u001b[0m, in \u001b[0;36mMap.handle_interaction\u001b[0;34m(self, event, **kwargs)\u001b[0m\n\u001b[1;32m     24\u001b[0m \u001b[39mdef\u001b[39;00m \u001b[39mhandle_interaction\u001b[39m(\u001b[39mself\u001b[39m, event, \u001b[39m*\u001b[39m\u001b[39m*\u001b[39mkwargs):\n\u001b[0;32m---> 25\u001b[0m     \u001b[39mif\u001b[39;00m event[\u001b[39m'\u001b[39;49m\u001b[39mtype\u001b[39;49m\u001b[39m'\u001b[39;49m] \u001b[39m==\u001b[39m \u001b[39m'\u001b[39m\u001b[39mclick\u001b[39m\u001b[39m'\u001b[39m:\n\u001b[1;32m     26\u001b[0m         lat, lon \u001b[39m=\u001b[39m event[\u001b[39m'\u001b[39m\u001b[39mcoordinates\u001b[39m\u001b[39m'\u001b[39m]\n\u001b[1;32m     27\u001b[0m         marker \u001b[39m=\u001b[39m ipyleaflet\u001b[39m.\u001b[39mMarker(location\u001b[39m=\u001b[39m(lat, lon))\n",
      "\u001b[0;31mTypeError\u001b[0m: string indices must be integers, not 'str'"
     ]
    },
    {
     "ename": "TypeError",
     "evalue": "string indices must be integers, not 'str'",
     "output_type": "error",
     "traceback": [
      "\u001b[0;31m---------------------------------------------------------------------------\u001b[0m",
      "\u001b[0;31mTypeError\u001b[0m                                 Traceback (most recent call last)",
      "File \u001b[0;32m~/Documents/geolog/geolog/geotest.py:25\u001b[0m, in \u001b[0;36mMap.handle_interaction\u001b[0;34m(self, event, **kwargs)\u001b[0m\n\u001b[1;32m     24\u001b[0m \u001b[39mdef\u001b[39;00m \u001b[39mhandle_interaction\u001b[39m(\u001b[39mself\u001b[39m, event, \u001b[39m*\u001b[39m\u001b[39m*\u001b[39mkwargs):\n\u001b[0;32m---> 25\u001b[0m     \u001b[39mif\u001b[39;00m event[\u001b[39m'\u001b[39;49m\u001b[39mtype\u001b[39;49m\u001b[39m'\u001b[39;49m] \u001b[39m==\u001b[39m \u001b[39m'\u001b[39m\u001b[39mclick\u001b[39m\u001b[39m'\u001b[39m:\n\u001b[1;32m     26\u001b[0m         lat, lon \u001b[39m=\u001b[39m event[\u001b[39m'\u001b[39m\u001b[39mcoordinates\u001b[39m\u001b[39m'\u001b[39m]\n\u001b[1;32m     27\u001b[0m         marker \u001b[39m=\u001b[39m ipyleaflet\u001b[39m.\u001b[39mMarker(location\u001b[39m=\u001b[39m(lat, lon))\n",
      "\u001b[0;31mTypeError\u001b[0m: string indices must be integers, not 'str'"
     ]
    },
    {
     "ename": "TypeError",
     "evalue": "string indices must be integers, not 'str'",
     "output_type": "error",
     "traceback": [
      "\u001b[0;31m---------------------------------------------------------------------------\u001b[0m",
      "\u001b[0;31mTypeError\u001b[0m                                 Traceback (most recent call last)",
      "File \u001b[0;32m~/Documents/geolog/geolog/geotest.py:25\u001b[0m, in \u001b[0;36mMap.handle_interaction\u001b[0;34m(self, event, **kwargs)\u001b[0m\n\u001b[1;32m     24\u001b[0m \u001b[39mdef\u001b[39;00m \u001b[39mhandle_interaction\u001b[39m(\u001b[39mself\u001b[39m, event, \u001b[39m*\u001b[39m\u001b[39m*\u001b[39mkwargs):\n\u001b[0;32m---> 25\u001b[0m     \u001b[39mif\u001b[39;00m event[\u001b[39m'\u001b[39;49m\u001b[39mtype\u001b[39;49m\u001b[39m'\u001b[39;49m] \u001b[39m==\u001b[39m \u001b[39m'\u001b[39m\u001b[39mclick\u001b[39m\u001b[39m'\u001b[39m:\n\u001b[1;32m     26\u001b[0m         lat, lon \u001b[39m=\u001b[39m event[\u001b[39m'\u001b[39m\u001b[39mcoordinates\u001b[39m\u001b[39m'\u001b[39m]\n\u001b[1;32m     27\u001b[0m         marker \u001b[39m=\u001b[39m ipyleaflet\u001b[39m.\u001b[39mMarker(location\u001b[39m=\u001b[39m(lat, lon))\n",
      "\u001b[0;31mTypeError\u001b[0m: string indices must be integers, not 'str'"
     ]
    },
    {
     "ename": "TypeError",
     "evalue": "string indices must be integers, not 'str'",
     "output_type": "error",
     "traceback": [
      "\u001b[0;31m---------------------------------------------------------------------------\u001b[0m",
      "\u001b[0;31mTypeError\u001b[0m                                 Traceback (most recent call last)",
      "File \u001b[0;32m~/Documents/geolog/geolog/geotest.py:25\u001b[0m, in \u001b[0;36mMap.handle_interaction\u001b[0;34m(self, event, **kwargs)\u001b[0m\n\u001b[1;32m     24\u001b[0m \u001b[39mdef\u001b[39;00m \u001b[39mhandle_interaction\u001b[39m(\u001b[39mself\u001b[39m, event, \u001b[39m*\u001b[39m\u001b[39m*\u001b[39mkwargs):\n\u001b[0;32m---> 25\u001b[0m     \u001b[39mif\u001b[39;00m event[\u001b[39m'\u001b[39;49m\u001b[39mtype\u001b[39;49m\u001b[39m'\u001b[39;49m] \u001b[39m==\u001b[39m \u001b[39m'\u001b[39m\u001b[39mclick\u001b[39m\u001b[39m'\u001b[39m:\n\u001b[1;32m     26\u001b[0m         lat, lon \u001b[39m=\u001b[39m event[\u001b[39m'\u001b[39m\u001b[39mcoordinates\u001b[39m\u001b[39m'\u001b[39m]\n\u001b[1;32m     27\u001b[0m         marker \u001b[39m=\u001b[39m ipyleaflet\u001b[39m.\u001b[39mMarker(location\u001b[39m=\u001b[39m(lat, lon))\n",
      "\u001b[0;31mTypeError\u001b[0m: string indices must be integers, not 'str'"
     ]
    },
    {
     "ename": "TypeError",
     "evalue": "string indices must be integers, not 'str'",
     "output_type": "error",
     "traceback": [
      "\u001b[0;31m---------------------------------------------------------------------------\u001b[0m",
      "\u001b[0;31mTypeError\u001b[0m                                 Traceback (most recent call last)",
      "File \u001b[0;32m~/Documents/geolog/geolog/geotest.py:25\u001b[0m, in \u001b[0;36mMap.handle_interaction\u001b[0;34m(self, event, **kwargs)\u001b[0m\n\u001b[1;32m     24\u001b[0m \u001b[39mdef\u001b[39;00m \u001b[39mhandle_interaction\u001b[39m(\u001b[39mself\u001b[39m, event, \u001b[39m*\u001b[39m\u001b[39m*\u001b[39mkwargs):\n\u001b[0;32m---> 25\u001b[0m     \u001b[39mif\u001b[39;00m event[\u001b[39m'\u001b[39;49m\u001b[39mtype\u001b[39;49m\u001b[39m'\u001b[39;49m] \u001b[39m==\u001b[39m \u001b[39m'\u001b[39m\u001b[39mclick\u001b[39m\u001b[39m'\u001b[39m:\n\u001b[1;32m     26\u001b[0m         lat, lon \u001b[39m=\u001b[39m event[\u001b[39m'\u001b[39m\u001b[39mcoordinates\u001b[39m\u001b[39m'\u001b[39m]\n\u001b[1;32m     27\u001b[0m         marker \u001b[39m=\u001b[39m ipyleaflet\u001b[39m.\u001b[39mMarker(location\u001b[39m=\u001b[39m(lat, lon))\n",
      "\u001b[0;31mTypeError\u001b[0m: string indices must be integers, not 'str'"
     ]
    },
    {
     "ename": "TypeError",
     "evalue": "string indices must be integers, not 'str'",
     "output_type": "error",
     "traceback": [
      "\u001b[0;31m---------------------------------------------------------------------------\u001b[0m",
      "\u001b[0;31mTypeError\u001b[0m                                 Traceback (most recent call last)",
      "File \u001b[0;32m~/Documents/geolog/geolog/geotest.py:25\u001b[0m, in \u001b[0;36mMap.handle_interaction\u001b[0;34m(self, event, **kwargs)\u001b[0m\n\u001b[1;32m     24\u001b[0m \u001b[39mdef\u001b[39;00m \u001b[39mhandle_interaction\u001b[39m(\u001b[39mself\u001b[39m, event, \u001b[39m*\u001b[39m\u001b[39m*\u001b[39mkwargs):\n\u001b[0;32m---> 25\u001b[0m     \u001b[39mif\u001b[39;00m event[\u001b[39m'\u001b[39;49m\u001b[39mtype\u001b[39;49m\u001b[39m'\u001b[39;49m] \u001b[39m==\u001b[39m \u001b[39m'\u001b[39m\u001b[39mclick\u001b[39m\u001b[39m'\u001b[39m:\n\u001b[1;32m     26\u001b[0m         lat, lon \u001b[39m=\u001b[39m event[\u001b[39m'\u001b[39m\u001b[39mcoordinates\u001b[39m\u001b[39m'\u001b[39m]\n\u001b[1;32m     27\u001b[0m         marker \u001b[39m=\u001b[39m ipyleaflet\u001b[39m.\u001b[39mMarker(location\u001b[39m=\u001b[39m(lat, lon))\n",
      "\u001b[0;31mTypeError\u001b[0m: string indices must be integers, not 'str'"
     ]
    },
    {
     "ename": "TypeError",
     "evalue": "string indices must be integers, not 'str'",
     "output_type": "error",
     "traceback": [
      "\u001b[0;31m---------------------------------------------------------------------------\u001b[0m",
      "\u001b[0;31mTypeError\u001b[0m                                 Traceback (most recent call last)",
      "File \u001b[0;32m~/Documents/geolog/geolog/geotest.py:25\u001b[0m, in \u001b[0;36mMap.handle_interaction\u001b[0;34m(self, event, **kwargs)\u001b[0m\n\u001b[1;32m     24\u001b[0m \u001b[39mdef\u001b[39;00m \u001b[39mhandle_interaction\u001b[39m(\u001b[39mself\u001b[39m, event, \u001b[39m*\u001b[39m\u001b[39m*\u001b[39mkwargs):\n\u001b[0;32m---> 25\u001b[0m     \u001b[39mif\u001b[39;00m event[\u001b[39m'\u001b[39;49m\u001b[39mtype\u001b[39;49m\u001b[39m'\u001b[39;49m] \u001b[39m==\u001b[39m \u001b[39m'\u001b[39m\u001b[39mclick\u001b[39m\u001b[39m'\u001b[39m:\n\u001b[1;32m     26\u001b[0m         lat, lon \u001b[39m=\u001b[39m event[\u001b[39m'\u001b[39m\u001b[39mcoordinates\u001b[39m\u001b[39m'\u001b[39m]\n\u001b[1;32m     27\u001b[0m         marker \u001b[39m=\u001b[39m ipyleaflet\u001b[39m.\u001b[39mMarker(location\u001b[39m=\u001b[39m(lat, lon))\n",
      "\u001b[0;31mTypeError\u001b[0m: string indices must be integers, not 'str'"
     ]
    },
    {
     "ename": "TypeError",
     "evalue": "string indices must be integers, not 'str'",
     "output_type": "error",
     "traceback": [
      "\u001b[0;31m---------------------------------------------------------------------------\u001b[0m",
      "\u001b[0;31mTypeError\u001b[0m                                 Traceback (most recent call last)",
      "File \u001b[0;32m~/Documents/geolog/geolog/geotest.py:25\u001b[0m, in \u001b[0;36mMap.handle_interaction\u001b[0;34m(self, event, **kwargs)\u001b[0m\n\u001b[1;32m     24\u001b[0m \u001b[39mdef\u001b[39;00m \u001b[39mhandle_interaction\u001b[39m(\u001b[39mself\u001b[39m, event, \u001b[39m*\u001b[39m\u001b[39m*\u001b[39mkwargs):\n\u001b[0;32m---> 25\u001b[0m     \u001b[39mif\u001b[39;00m event[\u001b[39m'\u001b[39;49m\u001b[39mtype\u001b[39;49m\u001b[39m'\u001b[39;49m] \u001b[39m==\u001b[39m \u001b[39m'\u001b[39m\u001b[39mclick\u001b[39m\u001b[39m'\u001b[39m:\n\u001b[1;32m     26\u001b[0m         lat, lon \u001b[39m=\u001b[39m event[\u001b[39m'\u001b[39m\u001b[39mcoordinates\u001b[39m\u001b[39m'\u001b[39m]\n\u001b[1;32m     27\u001b[0m         marker \u001b[39m=\u001b[39m ipyleaflet\u001b[39m.\u001b[39mMarker(location\u001b[39m=\u001b[39m(lat, lon))\n",
      "\u001b[0;31mTypeError\u001b[0m: string indices must be integers, not 'str'"
     ]
    },
    {
     "ename": "TypeError",
     "evalue": "string indices must be integers, not 'str'",
     "output_type": "error",
     "traceback": [
      "\u001b[0;31m---------------------------------------------------------------------------\u001b[0m",
      "\u001b[0;31mTypeError\u001b[0m                                 Traceback (most recent call last)",
      "File \u001b[0;32m~/Documents/geolog/geolog/geotest.py:25\u001b[0m, in \u001b[0;36mMap.handle_interaction\u001b[0;34m(self, event, **kwargs)\u001b[0m\n\u001b[1;32m     24\u001b[0m \u001b[39mdef\u001b[39;00m \u001b[39mhandle_interaction\u001b[39m(\u001b[39mself\u001b[39m, event, \u001b[39m*\u001b[39m\u001b[39m*\u001b[39mkwargs):\n\u001b[0;32m---> 25\u001b[0m     \u001b[39mif\u001b[39;00m event[\u001b[39m'\u001b[39;49m\u001b[39mtype\u001b[39;49m\u001b[39m'\u001b[39;49m] \u001b[39m==\u001b[39m \u001b[39m'\u001b[39m\u001b[39mclick\u001b[39m\u001b[39m'\u001b[39m:\n\u001b[1;32m     26\u001b[0m         lat, lon \u001b[39m=\u001b[39m event[\u001b[39m'\u001b[39m\u001b[39mcoordinates\u001b[39m\u001b[39m'\u001b[39m]\n\u001b[1;32m     27\u001b[0m         marker \u001b[39m=\u001b[39m ipyleaflet\u001b[39m.\u001b[39mMarker(location\u001b[39m=\u001b[39m(lat, lon))\n",
      "\u001b[0;31mTypeError\u001b[0m: string indices must be integers, not 'str'"
     ]
    },
    {
     "ename": "TypeError",
     "evalue": "string indices must be integers, not 'str'",
     "output_type": "error",
     "traceback": [
      "\u001b[0;31m---------------------------------------------------------------------------\u001b[0m",
      "\u001b[0;31mTypeError\u001b[0m                                 Traceback (most recent call last)",
      "File \u001b[0;32m~/Documents/geolog/geolog/geotest.py:25\u001b[0m, in \u001b[0;36mMap.handle_interaction\u001b[0;34m(self, event, **kwargs)\u001b[0m\n\u001b[1;32m     24\u001b[0m \u001b[39mdef\u001b[39;00m \u001b[39mhandle_interaction\u001b[39m(\u001b[39mself\u001b[39m, event, \u001b[39m*\u001b[39m\u001b[39m*\u001b[39mkwargs):\n\u001b[0;32m---> 25\u001b[0m     \u001b[39mif\u001b[39;00m event[\u001b[39m'\u001b[39;49m\u001b[39mtype\u001b[39;49m\u001b[39m'\u001b[39;49m] \u001b[39m==\u001b[39m \u001b[39m'\u001b[39m\u001b[39mclick\u001b[39m\u001b[39m'\u001b[39m:\n\u001b[1;32m     26\u001b[0m         lat, lon \u001b[39m=\u001b[39m event[\u001b[39m'\u001b[39m\u001b[39mcoordinates\u001b[39m\u001b[39m'\u001b[39m]\n\u001b[1;32m     27\u001b[0m         marker \u001b[39m=\u001b[39m ipyleaflet\u001b[39m.\u001b[39mMarker(location\u001b[39m=\u001b[39m(lat, lon))\n",
      "\u001b[0;31mTypeError\u001b[0m: string indices must be integers, not 'str'"
     ]
    },
    {
     "ename": "TypeError",
     "evalue": "string indices must be integers, not 'str'",
     "output_type": "error",
     "traceback": [
      "\u001b[0;31m---------------------------------------------------------------------------\u001b[0m",
      "\u001b[0;31mTypeError\u001b[0m                                 Traceback (most recent call last)",
      "File \u001b[0;32m~/Documents/geolog/geolog/geotest.py:25\u001b[0m, in \u001b[0;36mMap.handle_interaction\u001b[0;34m(self, event, **kwargs)\u001b[0m\n\u001b[1;32m     24\u001b[0m \u001b[39mdef\u001b[39;00m \u001b[39mhandle_interaction\u001b[39m(\u001b[39mself\u001b[39m, event, \u001b[39m*\u001b[39m\u001b[39m*\u001b[39mkwargs):\n\u001b[0;32m---> 25\u001b[0m     \u001b[39mif\u001b[39;00m event[\u001b[39m'\u001b[39;49m\u001b[39mtype\u001b[39;49m\u001b[39m'\u001b[39;49m] \u001b[39m==\u001b[39m \u001b[39m'\u001b[39m\u001b[39mclick\u001b[39m\u001b[39m'\u001b[39m:\n\u001b[1;32m     26\u001b[0m         lat, lon \u001b[39m=\u001b[39m event[\u001b[39m'\u001b[39m\u001b[39mcoordinates\u001b[39m\u001b[39m'\u001b[39m]\n\u001b[1;32m     27\u001b[0m         marker \u001b[39m=\u001b[39m ipyleaflet\u001b[39m.\u001b[39mMarker(location\u001b[39m=\u001b[39m(lat, lon))\n",
      "\u001b[0;31mTypeError\u001b[0m: string indices must be integers, not 'str'"
     ]
    },
    {
     "ename": "TypeError",
     "evalue": "string indices must be integers, not 'str'",
     "output_type": "error",
     "traceback": [
      "\u001b[0;31m---------------------------------------------------------------------------\u001b[0m",
      "\u001b[0;31mTypeError\u001b[0m                                 Traceback (most recent call last)",
      "File \u001b[0;32m~/Documents/geolog/geolog/geotest.py:25\u001b[0m, in \u001b[0;36mMap.handle_interaction\u001b[0;34m(self, event, **kwargs)\u001b[0m\n\u001b[1;32m     24\u001b[0m \u001b[39mdef\u001b[39;00m \u001b[39mhandle_interaction\u001b[39m(\u001b[39mself\u001b[39m, event, \u001b[39m*\u001b[39m\u001b[39m*\u001b[39mkwargs):\n\u001b[0;32m---> 25\u001b[0m     \u001b[39mif\u001b[39;00m event[\u001b[39m'\u001b[39;49m\u001b[39mtype\u001b[39;49m\u001b[39m'\u001b[39;49m] \u001b[39m==\u001b[39m \u001b[39m'\u001b[39m\u001b[39mclick\u001b[39m\u001b[39m'\u001b[39m:\n\u001b[1;32m     26\u001b[0m         lat, lon \u001b[39m=\u001b[39m event[\u001b[39m'\u001b[39m\u001b[39mcoordinates\u001b[39m\u001b[39m'\u001b[39m]\n\u001b[1;32m     27\u001b[0m         marker \u001b[39m=\u001b[39m ipyleaflet\u001b[39m.\u001b[39mMarker(location\u001b[39m=\u001b[39m(lat, lon))\n",
      "\u001b[0;31mTypeError\u001b[0m: string indices must be integers, not 'str'"
     ]
    },
    {
     "ename": "TypeError",
     "evalue": "string indices must be integers, not 'str'",
     "output_type": "error",
     "traceback": [
      "\u001b[0;31m---------------------------------------------------------------------------\u001b[0m",
      "\u001b[0;31mTypeError\u001b[0m                                 Traceback (most recent call last)",
      "File \u001b[0;32m~/Documents/geolog/geolog/geotest.py:25\u001b[0m, in \u001b[0;36mMap.handle_interaction\u001b[0;34m(self, event, **kwargs)\u001b[0m\n\u001b[1;32m     24\u001b[0m \u001b[39mdef\u001b[39;00m \u001b[39mhandle_interaction\u001b[39m(\u001b[39mself\u001b[39m, event, \u001b[39m*\u001b[39m\u001b[39m*\u001b[39mkwargs):\n\u001b[0;32m---> 25\u001b[0m     \u001b[39mif\u001b[39;00m event[\u001b[39m'\u001b[39;49m\u001b[39mtype\u001b[39;49m\u001b[39m'\u001b[39;49m] \u001b[39m==\u001b[39m \u001b[39m'\u001b[39m\u001b[39mclick\u001b[39m\u001b[39m'\u001b[39m:\n\u001b[1;32m     26\u001b[0m         lat, lon \u001b[39m=\u001b[39m event[\u001b[39m'\u001b[39m\u001b[39mcoordinates\u001b[39m\u001b[39m'\u001b[39m]\n\u001b[1;32m     27\u001b[0m         marker \u001b[39m=\u001b[39m ipyleaflet\u001b[39m.\u001b[39mMarker(location\u001b[39m=\u001b[39m(lat, lon))\n",
      "\u001b[0;31mTypeError\u001b[0m: string indices must be integers, not 'str'"
     ]
    },
    {
     "ename": "TypeError",
     "evalue": "string indices must be integers, not 'str'",
     "output_type": "error",
     "traceback": [
      "\u001b[0;31m---------------------------------------------------------------------------\u001b[0m",
      "\u001b[0;31mTypeError\u001b[0m                                 Traceback (most recent call last)",
      "File \u001b[0;32m~/Documents/geolog/geolog/geotest.py:25\u001b[0m, in \u001b[0;36mMap.handle_interaction\u001b[0;34m(self, event, **kwargs)\u001b[0m\n\u001b[1;32m     24\u001b[0m \u001b[39mdef\u001b[39;00m \u001b[39mhandle_interaction\u001b[39m(\u001b[39mself\u001b[39m, event, \u001b[39m*\u001b[39m\u001b[39m*\u001b[39mkwargs):\n\u001b[0;32m---> 25\u001b[0m     \u001b[39mif\u001b[39;00m event[\u001b[39m'\u001b[39;49m\u001b[39mtype\u001b[39;49m\u001b[39m'\u001b[39;49m] \u001b[39m==\u001b[39m \u001b[39m'\u001b[39m\u001b[39mclick\u001b[39m\u001b[39m'\u001b[39m:\n\u001b[1;32m     26\u001b[0m         lat, lon \u001b[39m=\u001b[39m event[\u001b[39m'\u001b[39m\u001b[39mcoordinates\u001b[39m\u001b[39m'\u001b[39m]\n\u001b[1;32m     27\u001b[0m         marker \u001b[39m=\u001b[39m ipyleaflet\u001b[39m.\u001b[39mMarker(location\u001b[39m=\u001b[39m(lat, lon))\n",
      "\u001b[0;31mTypeError\u001b[0m: string indices must be integers, not 'str'"
     ]
    },
    {
     "ename": "TypeError",
     "evalue": "string indices must be integers, not 'str'",
     "output_type": "error",
     "traceback": [
      "\u001b[0;31m---------------------------------------------------------------------------\u001b[0m",
      "\u001b[0;31mTypeError\u001b[0m                                 Traceback (most recent call last)",
      "File \u001b[0;32m~/Documents/geolog/geolog/geotest.py:25\u001b[0m, in \u001b[0;36mMap.handle_interaction\u001b[0;34m(self, event, **kwargs)\u001b[0m\n\u001b[1;32m     24\u001b[0m \u001b[39mdef\u001b[39;00m \u001b[39mhandle_interaction\u001b[39m(\u001b[39mself\u001b[39m, event, \u001b[39m*\u001b[39m\u001b[39m*\u001b[39mkwargs):\n\u001b[0;32m---> 25\u001b[0m     \u001b[39mif\u001b[39;00m event[\u001b[39m'\u001b[39;49m\u001b[39mtype\u001b[39;49m\u001b[39m'\u001b[39;49m] \u001b[39m==\u001b[39m \u001b[39m'\u001b[39m\u001b[39mclick\u001b[39m\u001b[39m'\u001b[39m:\n\u001b[1;32m     26\u001b[0m         lat, lon \u001b[39m=\u001b[39m event[\u001b[39m'\u001b[39m\u001b[39mcoordinates\u001b[39m\u001b[39m'\u001b[39m]\n\u001b[1;32m     27\u001b[0m         marker \u001b[39m=\u001b[39m ipyleaflet\u001b[39m.\u001b[39mMarker(location\u001b[39m=\u001b[39m(lat, lon))\n",
      "\u001b[0;31mTypeError\u001b[0m: string indices must be integers, not 'str'"
     ]
    },
    {
     "ename": "TypeError",
     "evalue": "string indices must be integers, not 'str'",
     "output_type": "error",
     "traceback": [
      "\u001b[0;31m---------------------------------------------------------------------------\u001b[0m",
      "\u001b[0;31mTypeError\u001b[0m                                 Traceback (most recent call last)",
      "File \u001b[0;32m~/Documents/geolog/geolog/geotest.py:25\u001b[0m, in \u001b[0;36mMap.handle_interaction\u001b[0;34m(self, event, **kwargs)\u001b[0m\n\u001b[1;32m     24\u001b[0m \u001b[39mdef\u001b[39;00m \u001b[39mhandle_interaction\u001b[39m(\u001b[39mself\u001b[39m, event, \u001b[39m*\u001b[39m\u001b[39m*\u001b[39mkwargs):\n\u001b[0;32m---> 25\u001b[0m     \u001b[39mif\u001b[39;00m event[\u001b[39m'\u001b[39;49m\u001b[39mtype\u001b[39;49m\u001b[39m'\u001b[39;49m] \u001b[39m==\u001b[39m \u001b[39m'\u001b[39m\u001b[39mclick\u001b[39m\u001b[39m'\u001b[39m:\n\u001b[1;32m     26\u001b[0m         lat, lon \u001b[39m=\u001b[39m event[\u001b[39m'\u001b[39m\u001b[39mcoordinates\u001b[39m\u001b[39m'\u001b[39m]\n\u001b[1;32m     27\u001b[0m         marker \u001b[39m=\u001b[39m ipyleaflet\u001b[39m.\u001b[39mMarker(location\u001b[39m=\u001b[39m(lat, lon))\n",
      "\u001b[0;31mTypeError\u001b[0m: string indices must be integers, not 'str'"
     ]
    },
    {
     "ename": "TypeError",
     "evalue": "string indices must be integers, not 'str'",
     "output_type": "error",
     "traceback": [
      "\u001b[0;31m---------------------------------------------------------------------------\u001b[0m",
      "\u001b[0;31mTypeError\u001b[0m                                 Traceback (most recent call last)",
      "File \u001b[0;32m~/Documents/geolog/geolog/geotest.py:25\u001b[0m, in \u001b[0;36mMap.handle_interaction\u001b[0;34m(self, event, **kwargs)\u001b[0m\n\u001b[1;32m     24\u001b[0m \u001b[39mdef\u001b[39;00m \u001b[39mhandle_interaction\u001b[39m(\u001b[39mself\u001b[39m, event, \u001b[39m*\u001b[39m\u001b[39m*\u001b[39mkwargs):\n\u001b[0;32m---> 25\u001b[0m     \u001b[39mif\u001b[39;00m event[\u001b[39m'\u001b[39;49m\u001b[39mtype\u001b[39;49m\u001b[39m'\u001b[39;49m] \u001b[39m==\u001b[39m \u001b[39m'\u001b[39m\u001b[39mclick\u001b[39m\u001b[39m'\u001b[39m:\n\u001b[1;32m     26\u001b[0m         lat, lon \u001b[39m=\u001b[39m event[\u001b[39m'\u001b[39m\u001b[39mcoordinates\u001b[39m\u001b[39m'\u001b[39m]\n\u001b[1;32m     27\u001b[0m         marker \u001b[39m=\u001b[39m ipyleaflet\u001b[39m.\u001b[39mMarker(location\u001b[39m=\u001b[39m(lat, lon))\n",
      "\u001b[0;31mTypeError\u001b[0m: string indices must be integers, not 'str'"
     ]
    },
    {
     "ename": "TypeError",
     "evalue": "string indices must be integers, not 'str'",
     "output_type": "error",
     "traceback": [
      "\u001b[0;31m---------------------------------------------------------------------------\u001b[0m",
      "\u001b[0;31mTypeError\u001b[0m                                 Traceback (most recent call last)",
      "File \u001b[0;32m~/Documents/geolog/geolog/geotest.py:25\u001b[0m, in \u001b[0;36mMap.handle_interaction\u001b[0;34m(self, event, **kwargs)\u001b[0m\n\u001b[1;32m     24\u001b[0m \u001b[39mdef\u001b[39;00m \u001b[39mhandle_interaction\u001b[39m(\u001b[39mself\u001b[39m, event, \u001b[39m*\u001b[39m\u001b[39m*\u001b[39mkwargs):\n\u001b[0;32m---> 25\u001b[0m     \u001b[39mif\u001b[39;00m event[\u001b[39m'\u001b[39;49m\u001b[39mtype\u001b[39;49m\u001b[39m'\u001b[39;49m] \u001b[39m==\u001b[39m \u001b[39m'\u001b[39m\u001b[39mclick\u001b[39m\u001b[39m'\u001b[39m:\n\u001b[1;32m     26\u001b[0m         lat, lon \u001b[39m=\u001b[39m event[\u001b[39m'\u001b[39m\u001b[39mcoordinates\u001b[39m\u001b[39m'\u001b[39m]\n\u001b[1;32m     27\u001b[0m         marker \u001b[39m=\u001b[39m ipyleaflet\u001b[39m.\u001b[39mMarker(location\u001b[39m=\u001b[39m(lat, lon))\n",
      "\u001b[0;31mTypeError\u001b[0m: string indices must be integers, not 'str'"
     ]
    },
    {
     "ename": "TypeError",
     "evalue": "string indices must be integers, not 'str'",
     "output_type": "error",
     "traceback": [
      "\u001b[0;31m---------------------------------------------------------------------------\u001b[0m",
      "\u001b[0;31mTypeError\u001b[0m                                 Traceback (most recent call last)",
      "File \u001b[0;32m~/Documents/geolog/geolog/geotest.py:25\u001b[0m, in \u001b[0;36mMap.handle_interaction\u001b[0;34m(self, event, **kwargs)\u001b[0m\n\u001b[1;32m     24\u001b[0m \u001b[39mdef\u001b[39;00m \u001b[39mhandle_interaction\u001b[39m(\u001b[39mself\u001b[39m, event, \u001b[39m*\u001b[39m\u001b[39m*\u001b[39mkwargs):\n\u001b[0;32m---> 25\u001b[0m     \u001b[39mif\u001b[39;00m event[\u001b[39m'\u001b[39;49m\u001b[39mtype\u001b[39;49m\u001b[39m'\u001b[39;49m] \u001b[39m==\u001b[39m \u001b[39m'\u001b[39m\u001b[39mclick\u001b[39m\u001b[39m'\u001b[39m:\n\u001b[1;32m     26\u001b[0m         lat, lon \u001b[39m=\u001b[39m event[\u001b[39m'\u001b[39m\u001b[39mcoordinates\u001b[39m\u001b[39m'\u001b[39m]\n\u001b[1;32m     27\u001b[0m         marker \u001b[39m=\u001b[39m ipyleaflet\u001b[39m.\u001b[39mMarker(location\u001b[39m=\u001b[39m(lat, lon))\n",
      "\u001b[0;31mTypeError\u001b[0m: string indices must be integers, not 'str'"
     ]
    },
    {
     "ename": "TypeError",
     "evalue": "string indices must be integers, not 'str'",
     "output_type": "error",
     "traceback": [
      "\u001b[0;31m---------------------------------------------------------------------------\u001b[0m",
      "\u001b[0;31mTypeError\u001b[0m                                 Traceback (most recent call last)",
      "File \u001b[0;32m~/Documents/geolog/geolog/geotest.py:25\u001b[0m, in \u001b[0;36mMap.handle_interaction\u001b[0;34m(self, event, **kwargs)\u001b[0m\n\u001b[1;32m     24\u001b[0m \u001b[39mdef\u001b[39;00m \u001b[39mhandle_interaction\u001b[39m(\u001b[39mself\u001b[39m, event, \u001b[39m*\u001b[39m\u001b[39m*\u001b[39mkwargs):\n\u001b[0;32m---> 25\u001b[0m     \u001b[39mif\u001b[39;00m event[\u001b[39m'\u001b[39;49m\u001b[39mtype\u001b[39;49m\u001b[39m'\u001b[39;49m] \u001b[39m==\u001b[39m \u001b[39m'\u001b[39m\u001b[39mclick\u001b[39m\u001b[39m'\u001b[39m:\n\u001b[1;32m     26\u001b[0m         lat, lon \u001b[39m=\u001b[39m event[\u001b[39m'\u001b[39m\u001b[39mcoordinates\u001b[39m\u001b[39m'\u001b[39m]\n\u001b[1;32m     27\u001b[0m         marker \u001b[39m=\u001b[39m ipyleaflet\u001b[39m.\u001b[39mMarker(location\u001b[39m=\u001b[39m(lat, lon))\n",
      "\u001b[0;31mTypeError\u001b[0m: string indices must be integers, not 'str'"
     ]
    },
    {
     "ename": "TypeError",
     "evalue": "string indices must be integers, not 'str'",
     "output_type": "error",
     "traceback": [
      "\u001b[0;31m---------------------------------------------------------------------------\u001b[0m",
      "\u001b[0;31mTypeError\u001b[0m                                 Traceback (most recent call last)",
      "File \u001b[0;32m~/Documents/geolog/geolog/geotest.py:25\u001b[0m, in \u001b[0;36mMap.handle_interaction\u001b[0;34m(self, event, **kwargs)\u001b[0m\n\u001b[1;32m     24\u001b[0m \u001b[39mdef\u001b[39;00m \u001b[39mhandle_interaction\u001b[39m(\u001b[39mself\u001b[39m, event, \u001b[39m*\u001b[39m\u001b[39m*\u001b[39mkwargs):\n\u001b[0;32m---> 25\u001b[0m     \u001b[39mif\u001b[39;00m event[\u001b[39m'\u001b[39;49m\u001b[39mtype\u001b[39;49m\u001b[39m'\u001b[39;49m] \u001b[39m==\u001b[39m \u001b[39m'\u001b[39m\u001b[39mclick\u001b[39m\u001b[39m'\u001b[39m:\n\u001b[1;32m     26\u001b[0m         lat, lon \u001b[39m=\u001b[39m event[\u001b[39m'\u001b[39m\u001b[39mcoordinates\u001b[39m\u001b[39m'\u001b[39m]\n\u001b[1;32m     27\u001b[0m         marker \u001b[39m=\u001b[39m ipyleaflet\u001b[39m.\u001b[39mMarker(location\u001b[39m=\u001b[39m(lat, lon))\n",
      "\u001b[0;31mTypeError\u001b[0m: string indices must be integers, not 'str'"
     ]
    },
    {
     "ename": "TypeError",
     "evalue": "string indices must be integers, not 'str'",
     "output_type": "error",
     "traceback": [
      "\u001b[0;31m---------------------------------------------------------------------------\u001b[0m",
      "\u001b[0;31mTypeError\u001b[0m                                 Traceback (most recent call last)",
      "File \u001b[0;32m~/Documents/geolog/geolog/geotest.py:25\u001b[0m, in \u001b[0;36mMap.handle_interaction\u001b[0;34m(self, event, **kwargs)\u001b[0m\n\u001b[1;32m     24\u001b[0m \u001b[39mdef\u001b[39;00m \u001b[39mhandle_interaction\u001b[39m(\u001b[39mself\u001b[39m, event, \u001b[39m*\u001b[39m\u001b[39m*\u001b[39mkwargs):\n\u001b[0;32m---> 25\u001b[0m     \u001b[39mif\u001b[39;00m event[\u001b[39m'\u001b[39;49m\u001b[39mtype\u001b[39;49m\u001b[39m'\u001b[39;49m] \u001b[39m==\u001b[39m \u001b[39m'\u001b[39m\u001b[39mclick\u001b[39m\u001b[39m'\u001b[39m:\n\u001b[1;32m     26\u001b[0m         lat, lon \u001b[39m=\u001b[39m event[\u001b[39m'\u001b[39m\u001b[39mcoordinates\u001b[39m\u001b[39m'\u001b[39m]\n\u001b[1;32m     27\u001b[0m         marker \u001b[39m=\u001b[39m ipyleaflet\u001b[39m.\u001b[39mMarker(location\u001b[39m=\u001b[39m(lat, lon))\n",
      "\u001b[0;31mTypeError\u001b[0m: string indices must be integers, not 'str'"
     ]
    },
    {
     "ename": "TypeError",
     "evalue": "string indices must be integers, not 'str'",
     "output_type": "error",
     "traceback": [
      "\u001b[0;31m---------------------------------------------------------------------------\u001b[0m",
      "\u001b[0;31mTypeError\u001b[0m                                 Traceback (most recent call last)",
      "File \u001b[0;32m~/Documents/geolog/geolog/geotest.py:25\u001b[0m, in \u001b[0;36mMap.handle_interaction\u001b[0;34m(self, event, **kwargs)\u001b[0m\n\u001b[1;32m     24\u001b[0m \u001b[39mdef\u001b[39;00m \u001b[39mhandle_interaction\u001b[39m(\u001b[39mself\u001b[39m, event, \u001b[39m*\u001b[39m\u001b[39m*\u001b[39mkwargs):\n\u001b[0;32m---> 25\u001b[0m     \u001b[39mif\u001b[39;00m event[\u001b[39m'\u001b[39;49m\u001b[39mtype\u001b[39;49m\u001b[39m'\u001b[39;49m] \u001b[39m==\u001b[39m \u001b[39m'\u001b[39m\u001b[39mclick\u001b[39m\u001b[39m'\u001b[39m:\n\u001b[1;32m     26\u001b[0m         lat, lon \u001b[39m=\u001b[39m event[\u001b[39m'\u001b[39m\u001b[39mcoordinates\u001b[39m\u001b[39m'\u001b[39m]\n\u001b[1;32m     27\u001b[0m         marker \u001b[39m=\u001b[39m ipyleaflet\u001b[39m.\u001b[39mMarker(location\u001b[39m=\u001b[39m(lat, lon))\n",
      "\u001b[0;31mTypeError\u001b[0m: string indices must be integers, not 'str'"
     ]
    },
    {
     "ename": "TypeError",
     "evalue": "string indices must be integers, not 'str'",
     "output_type": "error",
     "traceback": [
      "\u001b[0;31m---------------------------------------------------------------------------\u001b[0m",
      "\u001b[0;31mTypeError\u001b[0m                                 Traceback (most recent call last)",
      "File \u001b[0;32m~/Documents/geolog/geolog/geotest.py:25\u001b[0m, in \u001b[0;36mMap.handle_interaction\u001b[0;34m(self, event, **kwargs)\u001b[0m\n\u001b[1;32m     24\u001b[0m \u001b[39mdef\u001b[39;00m \u001b[39mhandle_interaction\u001b[39m(\u001b[39mself\u001b[39m, event, \u001b[39m*\u001b[39m\u001b[39m*\u001b[39mkwargs):\n\u001b[0;32m---> 25\u001b[0m     \u001b[39mif\u001b[39;00m event[\u001b[39m'\u001b[39;49m\u001b[39mtype\u001b[39;49m\u001b[39m'\u001b[39;49m] \u001b[39m==\u001b[39m \u001b[39m'\u001b[39m\u001b[39mclick\u001b[39m\u001b[39m'\u001b[39m:\n\u001b[1;32m     26\u001b[0m         lat, lon \u001b[39m=\u001b[39m event[\u001b[39m'\u001b[39m\u001b[39mcoordinates\u001b[39m\u001b[39m'\u001b[39m]\n\u001b[1;32m     27\u001b[0m         marker \u001b[39m=\u001b[39m ipyleaflet\u001b[39m.\u001b[39mMarker(location\u001b[39m=\u001b[39m(lat, lon))\n",
      "\u001b[0;31mTypeError\u001b[0m: string indices must be integers, not 'str'"
     ]
    },
    {
     "ename": "TypeError",
     "evalue": "string indices must be integers, not 'str'",
     "output_type": "error",
     "traceback": [
      "\u001b[0;31m---------------------------------------------------------------------------\u001b[0m",
      "\u001b[0;31mTypeError\u001b[0m                                 Traceback (most recent call last)",
      "File \u001b[0;32m~/Documents/geolog/geolog/geotest.py:25\u001b[0m, in \u001b[0;36mMap.handle_interaction\u001b[0;34m(self, event, **kwargs)\u001b[0m\n\u001b[1;32m     24\u001b[0m \u001b[39mdef\u001b[39;00m \u001b[39mhandle_interaction\u001b[39m(\u001b[39mself\u001b[39m, event, \u001b[39m*\u001b[39m\u001b[39m*\u001b[39mkwargs):\n\u001b[0;32m---> 25\u001b[0m     \u001b[39mif\u001b[39;00m event[\u001b[39m'\u001b[39;49m\u001b[39mtype\u001b[39;49m\u001b[39m'\u001b[39;49m] \u001b[39m==\u001b[39m \u001b[39m'\u001b[39m\u001b[39mclick\u001b[39m\u001b[39m'\u001b[39m:\n\u001b[1;32m     26\u001b[0m         lat, lon \u001b[39m=\u001b[39m event[\u001b[39m'\u001b[39m\u001b[39mcoordinates\u001b[39m\u001b[39m'\u001b[39m]\n\u001b[1;32m     27\u001b[0m         marker \u001b[39m=\u001b[39m ipyleaflet\u001b[39m.\u001b[39mMarker(location\u001b[39m=\u001b[39m(lat, lon))\n",
      "\u001b[0;31mTypeError\u001b[0m: string indices must be integers, not 'str'"
     ]
    },
    {
     "ename": "TypeError",
     "evalue": "string indices must be integers, not 'str'",
     "output_type": "error",
     "traceback": [
      "\u001b[0;31m---------------------------------------------------------------------------\u001b[0m",
      "\u001b[0;31mTypeError\u001b[0m                                 Traceback (most recent call last)",
      "File \u001b[0;32m~/Documents/geolog/geolog/geotest.py:25\u001b[0m, in \u001b[0;36mMap.handle_interaction\u001b[0;34m(self, event, **kwargs)\u001b[0m\n\u001b[1;32m     24\u001b[0m \u001b[39mdef\u001b[39;00m \u001b[39mhandle_interaction\u001b[39m(\u001b[39mself\u001b[39m, event, \u001b[39m*\u001b[39m\u001b[39m*\u001b[39mkwargs):\n\u001b[0;32m---> 25\u001b[0m     \u001b[39mif\u001b[39;00m event[\u001b[39m'\u001b[39;49m\u001b[39mtype\u001b[39;49m\u001b[39m'\u001b[39;49m] \u001b[39m==\u001b[39m \u001b[39m'\u001b[39m\u001b[39mclick\u001b[39m\u001b[39m'\u001b[39m:\n\u001b[1;32m     26\u001b[0m         lat, lon \u001b[39m=\u001b[39m event[\u001b[39m'\u001b[39m\u001b[39mcoordinates\u001b[39m\u001b[39m'\u001b[39m]\n\u001b[1;32m     27\u001b[0m         marker \u001b[39m=\u001b[39m ipyleaflet\u001b[39m.\u001b[39mMarker(location\u001b[39m=\u001b[39m(lat, lon))\n",
      "\u001b[0;31mTypeError\u001b[0m: string indices must be integers, not 'str'"
     ]
    },
    {
     "ename": "TypeError",
     "evalue": "string indices must be integers, not 'str'",
     "output_type": "error",
     "traceback": [
      "\u001b[0;31m---------------------------------------------------------------------------\u001b[0m",
      "\u001b[0;31mTypeError\u001b[0m                                 Traceback (most recent call last)",
      "File \u001b[0;32m~/Documents/geolog/geolog/geotest.py:25\u001b[0m, in \u001b[0;36mMap.handle_interaction\u001b[0;34m(self, event, **kwargs)\u001b[0m\n\u001b[1;32m     24\u001b[0m \u001b[39mdef\u001b[39;00m \u001b[39mhandle_interaction\u001b[39m(\u001b[39mself\u001b[39m, event, \u001b[39m*\u001b[39m\u001b[39m*\u001b[39mkwargs):\n\u001b[0;32m---> 25\u001b[0m     \u001b[39mif\u001b[39;00m event[\u001b[39m'\u001b[39;49m\u001b[39mtype\u001b[39;49m\u001b[39m'\u001b[39;49m] \u001b[39m==\u001b[39m \u001b[39m'\u001b[39m\u001b[39mclick\u001b[39m\u001b[39m'\u001b[39m:\n\u001b[1;32m     26\u001b[0m         lat, lon \u001b[39m=\u001b[39m event[\u001b[39m'\u001b[39m\u001b[39mcoordinates\u001b[39m\u001b[39m'\u001b[39m]\n\u001b[1;32m     27\u001b[0m         marker \u001b[39m=\u001b[39m ipyleaflet\u001b[39m.\u001b[39mMarker(location\u001b[39m=\u001b[39m(lat, lon))\n",
      "\u001b[0;31mTypeError\u001b[0m: string indices must be integers, not 'str'"
     ]
    },
    {
     "ename": "TypeError",
     "evalue": "string indices must be integers, not 'str'",
     "output_type": "error",
     "traceback": [
      "\u001b[0;31m---------------------------------------------------------------------------\u001b[0m",
      "\u001b[0;31mTypeError\u001b[0m                                 Traceback (most recent call last)",
      "File \u001b[0;32m~/Documents/geolog/geolog/geotest.py:25\u001b[0m, in \u001b[0;36mMap.handle_interaction\u001b[0;34m(self, event, **kwargs)\u001b[0m\n\u001b[1;32m     24\u001b[0m \u001b[39mdef\u001b[39;00m \u001b[39mhandle_interaction\u001b[39m(\u001b[39mself\u001b[39m, event, \u001b[39m*\u001b[39m\u001b[39m*\u001b[39mkwargs):\n\u001b[0;32m---> 25\u001b[0m     \u001b[39mif\u001b[39;00m event[\u001b[39m'\u001b[39;49m\u001b[39mtype\u001b[39;49m\u001b[39m'\u001b[39;49m] \u001b[39m==\u001b[39m \u001b[39m'\u001b[39m\u001b[39mclick\u001b[39m\u001b[39m'\u001b[39m:\n\u001b[1;32m     26\u001b[0m         lat, lon \u001b[39m=\u001b[39m event[\u001b[39m'\u001b[39m\u001b[39mcoordinates\u001b[39m\u001b[39m'\u001b[39m]\n\u001b[1;32m     27\u001b[0m         marker \u001b[39m=\u001b[39m ipyleaflet\u001b[39m.\u001b[39mMarker(location\u001b[39m=\u001b[39m(lat, lon))\n",
      "\u001b[0;31mTypeError\u001b[0m: string indices must be integers, not 'str'"
     ]
    },
    {
     "ename": "TypeError",
     "evalue": "string indices must be integers, not 'str'",
     "output_type": "error",
     "traceback": [
      "\u001b[0;31m---------------------------------------------------------------------------\u001b[0m",
      "\u001b[0;31mTypeError\u001b[0m                                 Traceback (most recent call last)",
      "File \u001b[0;32m~/Documents/geolog/geolog/geotest.py:25\u001b[0m, in \u001b[0;36mMap.handle_interaction\u001b[0;34m(self, event, **kwargs)\u001b[0m\n\u001b[1;32m     24\u001b[0m \u001b[39mdef\u001b[39;00m \u001b[39mhandle_interaction\u001b[39m(\u001b[39mself\u001b[39m, event, \u001b[39m*\u001b[39m\u001b[39m*\u001b[39mkwargs):\n\u001b[0;32m---> 25\u001b[0m     \u001b[39mif\u001b[39;00m event[\u001b[39m'\u001b[39;49m\u001b[39mtype\u001b[39;49m\u001b[39m'\u001b[39;49m] \u001b[39m==\u001b[39m \u001b[39m'\u001b[39m\u001b[39mclick\u001b[39m\u001b[39m'\u001b[39m:\n\u001b[1;32m     26\u001b[0m         lat, lon \u001b[39m=\u001b[39m event[\u001b[39m'\u001b[39m\u001b[39mcoordinates\u001b[39m\u001b[39m'\u001b[39m]\n\u001b[1;32m     27\u001b[0m         marker \u001b[39m=\u001b[39m ipyleaflet\u001b[39m.\u001b[39mMarker(location\u001b[39m=\u001b[39m(lat, lon))\n",
      "\u001b[0;31mTypeError\u001b[0m: string indices must be integers, not 'str'"
     ]
    },
    {
     "ename": "TypeError",
     "evalue": "string indices must be integers, not 'str'",
     "output_type": "error",
     "traceback": [
      "\u001b[0;31m---------------------------------------------------------------------------\u001b[0m",
      "\u001b[0;31mTypeError\u001b[0m                                 Traceback (most recent call last)",
      "File \u001b[0;32m~/Documents/geolog/geolog/geotest.py:25\u001b[0m, in \u001b[0;36mMap.handle_interaction\u001b[0;34m(self, event, **kwargs)\u001b[0m\n\u001b[1;32m     24\u001b[0m \u001b[39mdef\u001b[39;00m \u001b[39mhandle_interaction\u001b[39m(\u001b[39mself\u001b[39m, event, \u001b[39m*\u001b[39m\u001b[39m*\u001b[39mkwargs):\n\u001b[0;32m---> 25\u001b[0m     \u001b[39mif\u001b[39;00m event[\u001b[39m'\u001b[39;49m\u001b[39mtype\u001b[39;49m\u001b[39m'\u001b[39;49m] \u001b[39m==\u001b[39m \u001b[39m'\u001b[39m\u001b[39mclick\u001b[39m\u001b[39m'\u001b[39m:\n\u001b[1;32m     26\u001b[0m         lat, lon \u001b[39m=\u001b[39m event[\u001b[39m'\u001b[39m\u001b[39mcoordinates\u001b[39m\u001b[39m'\u001b[39m]\n\u001b[1;32m     27\u001b[0m         marker \u001b[39m=\u001b[39m ipyleaflet\u001b[39m.\u001b[39mMarker(location\u001b[39m=\u001b[39m(lat, lon))\n",
      "\u001b[0;31mTypeError\u001b[0m: string indices must be integers, not 'str'"
     ]
    },
    {
     "ename": "TypeError",
     "evalue": "string indices must be integers, not 'str'",
     "output_type": "error",
     "traceback": [
      "\u001b[0;31m---------------------------------------------------------------------------\u001b[0m",
      "\u001b[0;31mTypeError\u001b[0m                                 Traceback (most recent call last)",
      "File \u001b[0;32m~/Documents/geolog/geolog/geotest.py:25\u001b[0m, in \u001b[0;36mMap.handle_interaction\u001b[0;34m(self, event, **kwargs)\u001b[0m\n\u001b[1;32m     24\u001b[0m \u001b[39mdef\u001b[39;00m \u001b[39mhandle_interaction\u001b[39m(\u001b[39mself\u001b[39m, event, \u001b[39m*\u001b[39m\u001b[39m*\u001b[39mkwargs):\n\u001b[0;32m---> 25\u001b[0m     \u001b[39mif\u001b[39;00m event[\u001b[39m'\u001b[39;49m\u001b[39mtype\u001b[39;49m\u001b[39m'\u001b[39;49m] \u001b[39m==\u001b[39m \u001b[39m'\u001b[39m\u001b[39mclick\u001b[39m\u001b[39m'\u001b[39m:\n\u001b[1;32m     26\u001b[0m         lat, lon \u001b[39m=\u001b[39m event[\u001b[39m'\u001b[39m\u001b[39mcoordinates\u001b[39m\u001b[39m'\u001b[39m]\n\u001b[1;32m     27\u001b[0m         marker \u001b[39m=\u001b[39m ipyleaflet\u001b[39m.\u001b[39mMarker(location\u001b[39m=\u001b[39m(lat, lon))\n",
      "\u001b[0;31mTypeError\u001b[0m: string indices must be integers, not 'str'"
     ]
    },
    {
     "ename": "TypeError",
     "evalue": "string indices must be integers, not 'str'",
     "output_type": "error",
     "traceback": [
      "\u001b[0;31m---------------------------------------------------------------------------\u001b[0m",
      "\u001b[0;31mTypeError\u001b[0m                                 Traceback (most recent call last)",
      "File \u001b[0;32m~/Documents/geolog/geolog/geotest.py:25\u001b[0m, in \u001b[0;36mMap.handle_interaction\u001b[0;34m(self, event, **kwargs)\u001b[0m\n\u001b[1;32m     24\u001b[0m \u001b[39mdef\u001b[39;00m \u001b[39mhandle_interaction\u001b[39m(\u001b[39mself\u001b[39m, event, \u001b[39m*\u001b[39m\u001b[39m*\u001b[39mkwargs):\n\u001b[0;32m---> 25\u001b[0m     \u001b[39mif\u001b[39;00m event[\u001b[39m'\u001b[39;49m\u001b[39mtype\u001b[39;49m\u001b[39m'\u001b[39;49m] \u001b[39m==\u001b[39m \u001b[39m'\u001b[39m\u001b[39mclick\u001b[39m\u001b[39m'\u001b[39m:\n\u001b[1;32m     26\u001b[0m         lat, lon \u001b[39m=\u001b[39m event[\u001b[39m'\u001b[39m\u001b[39mcoordinates\u001b[39m\u001b[39m'\u001b[39m]\n\u001b[1;32m     27\u001b[0m         marker \u001b[39m=\u001b[39m ipyleaflet\u001b[39m.\u001b[39mMarker(location\u001b[39m=\u001b[39m(lat, lon))\n",
      "\u001b[0;31mTypeError\u001b[0m: string indices must be integers, not 'str'"
     ]
    },
    {
     "ename": "TypeError",
     "evalue": "string indices must be integers, not 'str'",
     "output_type": "error",
     "traceback": [
      "\u001b[0;31m---------------------------------------------------------------------------\u001b[0m",
      "\u001b[0;31mTypeError\u001b[0m                                 Traceback (most recent call last)",
      "File \u001b[0;32m~/Documents/geolog/geolog/geotest.py:25\u001b[0m, in \u001b[0;36mMap.handle_interaction\u001b[0;34m(self, event, **kwargs)\u001b[0m\n\u001b[1;32m     24\u001b[0m \u001b[39mdef\u001b[39;00m \u001b[39mhandle_interaction\u001b[39m(\u001b[39mself\u001b[39m, event, \u001b[39m*\u001b[39m\u001b[39m*\u001b[39mkwargs):\n\u001b[0;32m---> 25\u001b[0m     \u001b[39mif\u001b[39;00m event[\u001b[39m'\u001b[39;49m\u001b[39mtype\u001b[39;49m\u001b[39m'\u001b[39;49m] \u001b[39m==\u001b[39m \u001b[39m'\u001b[39m\u001b[39mclick\u001b[39m\u001b[39m'\u001b[39m:\n\u001b[1;32m     26\u001b[0m         lat, lon \u001b[39m=\u001b[39m event[\u001b[39m'\u001b[39m\u001b[39mcoordinates\u001b[39m\u001b[39m'\u001b[39m]\n\u001b[1;32m     27\u001b[0m         marker \u001b[39m=\u001b[39m ipyleaflet\u001b[39m.\u001b[39mMarker(location\u001b[39m=\u001b[39m(lat, lon))\n",
      "\u001b[0;31mTypeError\u001b[0m: string indices must be integers, not 'str'"
     ]
    },
    {
     "ename": "TypeError",
     "evalue": "string indices must be integers, not 'str'",
     "output_type": "error",
     "traceback": [
      "\u001b[0;31m---------------------------------------------------------------------------\u001b[0m",
      "\u001b[0;31mTypeError\u001b[0m                                 Traceback (most recent call last)",
      "File \u001b[0;32m~/Documents/geolog/geolog/geotest.py:25\u001b[0m, in \u001b[0;36mMap.handle_interaction\u001b[0;34m(self, event, **kwargs)\u001b[0m\n\u001b[1;32m     24\u001b[0m \u001b[39mdef\u001b[39;00m \u001b[39mhandle_interaction\u001b[39m(\u001b[39mself\u001b[39m, event, \u001b[39m*\u001b[39m\u001b[39m*\u001b[39mkwargs):\n\u001b[0;32m---> 25\u001b[0m     \u001b[39mif\u001b[39;00m event[\u001b[39m'\u001b[39;49m\u001b[39mtype\u001b[39;49m\u001b[39m'\u001b[39;49m] \u001b[39m==\u001b[39m \u001b[39m'\u001b[39m\u001b[39mclick\u001b[39m\u001b[39m'\u001b[39m:\n\u001b[1;32m     26\u001b[0m         lat, lon \u001b[39m=\u001b[39m event[\u001b[39m'\u001b[39m\u001b[39mcoordinates\u001b[39m\u001b[39m'\u001b[39m]\n\u001b[1;32m     27\u001b[0m         marker \u001b[39m=\u001b[39m ipyleaflet\u001b[39m.\u001b[39mMarker(location\u001b[39m=\u001b[39m(lat, lon))\n",
      "\u001b[0;31mTypeError\u001b[0m: string indices must be integers, not 'str'"
     ]
    },
    {
     "ename": "TypeError",
     "evalue": "string indices must be integers, not 'str'",
     "output_type": "error",
     "traceback": [
      "\u001b[0;31m---------------------------------------------------------------------------\u001b[0m",
      "\u001b[0;31mTypeError\u001b[0m                                 Traceback (most recent call last)",
      "File \u001b[0;32m~/Documents/geolog/geolog/geotest.py:25\u001b[0m, in \u001b[0;36mMap.handle_interaction\u001b[0;34m(self, event, **kwargs)\u001b[0m\n\u001b[1;32m     24\u001b[0m \u001b[39mdef\u001b[39;00m \u001b[39mhandle_interaction\u001b[39m(\u001b[39mself\u001b[39m, event, \u001b[39m*\u001b[39m\u001b[39m*\u001b[39mkwargs):\n\u001b[0;32m---> 25\u001b[0m     \u001b[39mif\u001b[39;00m event[\u001b[39m'\u001b[39;49m\u001b[39mtype\u001b[39;49m\u001b[39m'\u001b[39;49m] \u001b[39m==\u001b[39m \u001b[39m'\u001b[39m\u001b[39mclick\u001b[39m\u001b[39m'\u001b[39m:\n\u001b[1;32m     26\u001b[0m         lat, lon \u001b[39m=\u001b[39m event[\u001b[39m'\u001b[39m\u001b[39mcoordinates\u001b[39m\u001b[39m'\u001b[39m]\n\u001b[1;32m     27\u001b[0m         marker \u001b[39m=\u001b[39m ipyleaflet\u001b[39m.\u001b[39mMarker(location\u001b[39m=\u001b[39m(lat, lon))\n",
      "\u001b[0;31mTypeError\u001b[0m: string indices must be integers, not 'str'"
     ]
    },
    {
     "ename": "TypeError",
     "evalue": "string indices must be integers, not 'str'",
     "output_type": "error",
     "traceback": [
      "\u001b[0;31m---------------------------------------------------------------------------\u001b[0m",
      "\u001b[0;31mTypeError\u001b[0m                                 Traceback (most recent call last)",
      "File \u001b[0;32m~/Documents/geolog/geolog/geotest.py:25\u001b[0m, in \u001b[0;36mMap.handle_interaction\u001b[0;34m(self, event, **kwargs)\u001b[0m\n\u001b[1;32m     24\u001b[0m \u001b[39mdef\u001b[39;00m \u001b[39mhandle_interaction\u001b[39m(\u001b[39mself\u001b[39m, event, \u001b[39m*\u001b[39m\u001b[39m*\u001b[39mkwargs):\n\u001b[0;32m---> 25\u001b[0m     \u001b[39mif\u001b[39;00m event[\u001b[39m'\u001b[39;49m\u001b[39mtype\u001b[39;49m\u001b[39m'\u001b[39;49m] \u001b[39m==\u001b[39m \u001b[39m'\u001b[39m\u001b[39mclick\u001b[39m\u001b[39m'\u001b[39m:\n\u001b[1;32m     26\u001b[0m         lat, lon \u001b[39m=\u001b[39m event[\u001b[39m'\u001b[39m\u001b[39mcoordinates\u001b[39m\u001b[39m'\u001b[39m]\n\u001b[1;32m     27\u001b[0m         marker \u001b[39m=\u001b[39m ipyleaflet\u001b[39m.\u001b[39mMarker(location\u001b[39m=\u001b[39m(lat, lon))\n",
      "\u001b[0;31mTypeError\u001b[0m: string indices must be integers, not 'str'"
     ]
    },
    {
     "ename": "TypeError",
     "evalue": "string indices must be integers, not 'str'",
     "output_type": "error",
     "traceback": [
      "\u001b[0;31m---------------------------------------------------------------------------\u001b[0m",
      "\u001b[0;31mTypeError\u001b[0m                                 Traceback (most recent call last)",
      "File \u001b[0;32m~/Documents/geolog/geolog/geotest.py:25\u001b[0m, in \u001b[0;36mMap.handle_interaction\u001b[0;34m(self, event, **kwargs)\u001b[0m\n\u001b[1;32m     24\u001b[0m \u001b[39mdef\u001b[39;00m \u001b[39mhandle_interaction\u001b[39m(\u001b[39mself\u001b[39m, event, \u001b[39m*\u001b[39m\u001b[39m*\u001b[39mkwargs):\n\u001b[0;32m---> 25\u001b[0m     \u001b[39mif\u001b[39;00m event[\u001b[39m'\u001b[39;49m\u001b[39mtype\u001b[39;49m\u001b[39m'\u001b[39;49m] \u001b[39m==\u001b[39m \u001b[39m'\u001b[39m\u001b[39mclick\u001b[39m\u001b[39m'\u001b[39m:\n\u001b[1;32m     26\u001b[0m         lat, lon \u001b[39m=\u001b[39m event[\u001b[39m'\u001b[39m\u001b[39mcoordinates\u001b[39m\u001b[39m'\u001b[39m]\n\u001b[1;32m     27\u001b[0m         marker \u001b[39m=\u001b[39m ipyleaflet\u001b[39m.\u001b[39mMarker(location\u001b[39m=\u001b[39m(lat, lon))\n",
      "\u001b[0;31mTypeError\u001b[0m: string indices must be integers, not 'str'"
     ]
    },
    {
     "ename": "TypeError",
     "evalue": "string indices must be integers, not 'str'",
     "output_type": "error",
     "traceback": [
      "\u001b[0;31m---------------------------------------------------------------------------\u001b[0m",
      "\u001b[0;31mTypeError\u001b[0m                                 Traceback (most recent call last)",
      "File \u001b[0;32m~/Documents/geolog/geolog/geotest.py:25\u001b[0m, in \u001b[0;36mMap.handle_interaction\u001b[0;34m(self, event, **kwargs)\u001b[0m\n\u001b[1;32m     24\u001b[0m \u001b[39mdef\u001b[39;00m \u001b[39mhandle_interaction\u001b[39m(\u001b[39mself\u001b[39m, event, \u001b[39m*\u001b[39m\u001b[39m*\u001b[39mkwargs):\n\u001b[0;32m---> 25\u001b[0m     \u001b[39mif\u001b[39;00m event[\u001b[39m'\u001b[39;49m\u001b[39mtype\u001b[39;49m\u001b[39m'\u001b[39;49m] \u001b[39m==\u001b[39m \u001b[39m'\u001b[39m\u001b[39mclick\u001b[39m\u001b[39m'\u001b[39m:\n\u001b[1;32m     26\u001b[0m         lat, lon \u001b[39m=\u001b[39m event[\u001b[39m'\u001b[39m\u001b[39mcoordinates\u001b[39m\u001b[39m'\u001b[39m]\n\u001b[1;32m     27\u001b[0m         marker \u001b[39m=\u001b[39m ipyleaflet\u001b[39m.\u001b[39mMarker(location\u001b[39m=\u001b[39m(lat, lon))\n",
      "\u001b[0;31mTypeError\u001b[0m: string indices must be integers, not 'str'"
     ]
    },
    {
     "ename": "TypeError",
     "evalue": "string indices must be integers, not 'str'",
     "output_type": "error",
     "traceback": [
      "\u001b[0;31m---------------------------------------------------------------------------\u001b[0m",
      "\u001b[0;31mTypeError\u001b[0m                                 Traceback (most recent call last)",
      "File \u001b[0;32m~/Documents/geolog/geolog/geotest.py:25\u001b[0m, in \u001b[0;36mMap.handle_interaction\u001b[0;34m(self, event, **kwargs)\u001b[0m\n\u001b[1;32m     24\u001b[0m \u001b[39mdef\u001b[39;00m \u001b[39mhandle_interaction\u001b[39m(\u001b[39mself\u001b[39m, event, \u001b[39m*\u001b[39m\u001b[39m*\u001b[39mkwargs):\n\u001b[0;32m---> 25\u001b[0m     \u001b[39mif\u001b[39;00m event[\u001b[39m'\u001b[39;49m\u001b[39mtype\u001b[39;49m\u001b[39m'\u001b[39;49m] \u001b[39m==\u001b[39m \u001b[39m'\u001b[39m\u001b[39mclick\u001b[39m\u001b[39m'\u001b[39m:\n\u001b[1;32m     26\u001b[0m         lat, lon \u001b[39m=\u001b[39m event[\u001b[39m'\u001b[39m\u001b[39mcoordinates\u001b[39m\u001b[39m'\u001b[39m]\n\u001b[1;32m     27\u001b[0m         marker \u001b[39m=\u001b[39m ipyleaflet\u001b[39m.\u001b[39mMarker(location\u001b[39m=\u001b[39m(lat, lon))\n",
      "\u001b[0;31mTypeError\u001b[0m: string indices must be integers, not 'str'"
     ]
    },
    {
     "ename": "TypeError",
     "evalue": "string indices must be integers, not 'str'",
     "output_type": "error",
     "traceback": [
      "\u001b[0;31m---------------------------------------------------------------------------\u001b[0m",
      "\u001b[0;31mTypeError\u001b[0m                                 Traceback (most recent call last)",
      "File \u001b[0;32m~/Documents/geolog/geolog/geotest.py:25\u001b[0m, in \u001b[0;36mMap.handle_interaction\u001b[0;34m(self, event, **kwargs)\u001b[0m\n\u001b[1;32m     24\u001b[0m \u001b[39mdef\u001b[39;00m \u001b[39mhandle_interaction\u001b[39m(\u001b[39mself\u001b[39m, event, \u001b[39m*\u001b[39m\u001b[39m*\u001b[39mkwargs):\n\u001b[0;32m---> 25\u001b[0m     \u001b[39mif\u001b[39;00m event[\u001b[39m'\u001b[39;49m\u001b[39mtype\u001b[39;49m\u001b[39m'\u001b[39;49m] \u001b[39m==\u001b[39m \u001b[39m'\u001b[39m\u001b[39mclick\u001b[39m\u001b[39m'\u001b[39m:\n\u001b[1;32m     26\u001b[0m         lat, lon \u001b[39m=\u001b[39m event[\u001b[39m'\u001b[39m\u001b[39mcoordinates\u001b[39m\u001b[39m'\u001b[39m]\n\u001b[1;32m     27\u001b[0m         marker \u001b[39m=\u001b[39m ipyleaflet\u001b[39m.\u001b[39mMarker(location\u001b[39m=\u001b[39m(lat, lon))\n",
      "\u001b[0;31mTypeError\u001b[0m: string indices must be integers, not 'str'"
     ]
    },
    {
     "ename": "TypeError",
     "evalue": "string indices must be integers, not 'str'",
     "output_type": "error",
     "traceback": [
      "\u001b[0;31m---------------------------------------------------------------------------\u001b[0m",
      "\u001b[0;31mTypeError\u001b[0m                                 Traceback (most recent call last)",
      "File \u001b[0;32m~/Documents/geolog/geolog/geotest.py:25\u001b[0m, in \u001b[0;36mMap.handle_interaction\u001b[0;34m(self, event, **kwargs)\u001b[0m\n\u001b[1;32m     24\u001b[0m \u001b[39mdef\u001b[39;00m \u001b[39mhandle_interaction\u001b[39m(\u001b[39mself\u001b[39m, event, \u001b[39m*\u001b[39m\u001b[39m*\u001b[39mkwargs):\n\u001b[0;32m---> 25\u001b[0m     \u001b[39mif\u001b[39;00m event[\u001b[39m'\u001b[39;49m\u001b[39mtype\u001b[39;49m\u001b[39m'\u001b[39;49m] \u001b[39m==\u001b[39m \u001b[39m'\u001b[39m\u001b[39mclick\u001b[39m\u001b[39m'\u001b[39m:\n\u001b[1;32m     26\u001b[0m         lat, lon \u001b[39m=\u001b[39m event[\u001b[39m'\u001b[39m\u001b[39mcoordinates\u001b[39m\u001b[39m'\u001b[39m]\n\u001b[1;32m     27\u001b[0m         marker \u001b[39m=\u001b[39m ipyleaflet\u001b[39m.\u001b[39mMarker(location\u001b[39m=\u001b[39m(lat, lon))\n",
      "\u001b[0;31mTypeError\u001b[0m: string indices must be integers, not 'str'"
     ]
    },
    {
     "ename": "TypeError",
     "evalue": "string indices must be integers, not 'str'",
     "output_type": "error",
     "traceback": [
      "\u001b[0;31m---------------------------------------------------------------------------\u001b[0m",
      "\u001b[0;31mTypeError\u001b[0m                                 Traceback (most recent call last)",
      "File \u001b[0;32m~/Documents/geolog/geolog/geotest.py:25\u001b[0m, in \u001b[0;36mMap.handle_interaction\u001b[0;34m(self, event, **kwargs)\u001b[0m\n\u001b[1;32m     24\u001b[0m \u001b[39mdef\u001b[39;00m \u001b[39mhandle_interaction\u001b[39m(\u001b[39mself\u001b[39m, event, \u001b[39m*\u001b[39m\u001b[39m*\u001b[39mkwargs):\n\u001b[0;32m---> 25\u001b[0m     \u001b[39mif\u001b[39;00m event[\u001b[39m'\u001b[39;49m\u001b[39mtype\u001b[39;49m\u001b[39m'\u001b[39;49m] \u001b[39m==\u001b[39m \u001b[39m'\u001b[39m\u001b[39mclick\u001b[39m\u001b[39m'\u001b[39m:\n\u001b[1;32m     26\u001b[0m         lat, lon \u001b[39m=\u001b[39m event[\u001b[39m'\u001b[39m\u001b[39mcoordinates\u001b[39m\u001b[39m'\u001b[39m]\n\u001b[1;32m     27\u001b[0m         marker \u001b[39m=\u001b[39m ipyleaflet\u001b[39m.\u001b[39mMarker(location\u001b[39m=\u001b[39m(lat, lon))\n",
      "\u001b[0;31mTypeError\u001b[0m: string indices must be integers, not 'str'"
     ]
    },
    {
     "ename": "TypeError",
     "evalue": "string indices must be integers, not 'str'",
     "output_type": "error",
     "traceback": [
      "\u001b[0;31m---------------------------------------------------------------------------\u001b[0m",
      "\u001b[0;31mTypeError\u001b[0m                                 Traceback (most recent call last)",
      "File \u001b[0;32m~/Documents/geolog/geolog/geotest.py:25\u001b[0m, in \u001b[0;36mMap.handle_interaction\u001b[0;34m(self, event, **kwargs)\u001b[0m\n\u001b[1;32m     24\u001b[0m \u001b[39mdef\u001b[39;00m \u001b[39mhandle_interaction\u001b[39m(\u001b[39mself\u001b[39m, event, \u001b[39m*\u001b[39m\u001b[39m*\u001b[39mkwargs):\n\u001b[0;32m---> 25\u001b[0m     \u001b[39mif\u001b[39;00m event[\u001b[39m'\u001b[39;49m\u001b[39mtype\u001b[39;49m\u001b[39m'\u001b[39;49m] \u001b[39m==\u001b[39m \u001b[39m'\u001b[39m\u001b[39mclick\u001b[39m\u001b[39m'\u001b[39m:\n\u001b[1;32m     26\u001b[0m         lat, lon \u001b[39m=\u001b[39m event[\u001b[39m'\u001b[39m\u001b[39mcoordinates\u001b[39m\u001b[39m'\u001b[39m]\n\u001b[1;32m     27\u001b[0m         marker \u001b[39m=\u001b[39m ipyleaflet\u001b[39m.\u001b[39mMarker(location\u001b[39m=\u001b[39m(lat, lon))\n",
      "\u001b[0;31mTypeError\u001b[0m: string indices must be integers, not 'str'"
     ]
    },
    {
     "ename": "TypeError",
     "evalue": "string indices must be integers, not 'str'",
     "output_type": "error",
     "traceback": [
      "\u001b[0;31m---------------------------------------------------------------------------\u001b[0m",
      "\u001b[0;31mTypeError\u001b[0m                                 Traceback (most recent call last)",
      "File \u001b[0;32m~/Documents/geolog/geolog/geotest.py:25\u001b[0m, in \u001b[0;36mMap.handle_interaction\u001b[0;34m(self, event, **kwargs)\u001b[0m\n\u001b[1;32m     24\u001b[0m \u001b[39mdef\u001b[39;00m \u001b[39mhandle_interaction\u001b[39m(\u001b[39mself\u001b[39m, event, \u001b[39m*\u001b[39m\u001b[39m*\u001b[39mkwargs):\n\u001b[0;32m---> 25\u001b[0m     \u001b[39mif\u001b[39;00m event[\u001b[39m'\u001b[39;49m\u001b[39mtype\u001b[39;49m\u001b[39m'\u001b[39;49m] \u001b[39m==\u001b[39m \u001b[39m'\u001b[39m\u001b[39mclick\u001b[39m\u001b[39m'\u001b[39m:\n\u001b[1;32m     26\u001b[0m         lat, lon \u001b[39m=\u001b[39m event[\u001b[39m'\u001b[39m\u001b[39mcoordinates\u001b[39m\u001b[39m'\u001b[39m]\n\u001b[1;32m     27\u001b[0m         marker \u001b[39m=\u001b[39m ipyleaflet\u001b[39m.\u001b[39mMarker(location\u001b[39m=\u001b[39m(lat, lon))\n",
      "\u001b[0;31mTypeError\u001b[0m: string indices must be integers, not 'str'"
     ]
    },
    {
     "ename": "TypeError",
     "evalue": "string indices must be integers, not 'str'",
     "output_type": "error",
     "traceback": [
      "\u001b[0;31m---------------------------------------------------------------------------\u001b[0m",
      "\u001b[0;31mTypeError\u001b[0m                                 Traceback (most recent call last)",
      "File \u001b[0;32m~/Documents/geolog/geolog/geotest.py:25\u001b[0m, in \u001b[0;36mMap.handle_interaction\u001b[0;34m(self, event, **kwargs)\u001b[0m\n\u001b[1;32m     24\u001b[0m \u001b[39mdef\u001b[39;00m \u001b[39mhandle_interaction\u001b[39m(\u001b[39mself\u001b[39m, event, \u001b[39m*\u001b[39m\u001b[39m*\u001b[39mkwargs):\n\u001b[0;32m---> 25\u001b[0m     \u001b[39mif\u001b[39;00m event[\u001b[39m'\u001b[39;49m\u001b[39mtype\u001b[39;49m\u001b[39m'\u001b[39;49m] \u001b[39m==\u001b[39m \u001b[39m'\u001b[39m\u001b[39mclick\u001b[39m\u001b[39m'\u001b[39m:\n\u001b[1;32m     26\u001b[0m         lat, lon \u001b[39m=\u001b[39m event[\u001b[39m'\u001b[39m\u001b[39mcoordinates\u001b[39m\u001b[39m'\u001b[39m]\n\u001b[1;32m     27\u001b[0m         marker \u001b[39m=\u001b[39m ipyleaflet\u001b[39m.\u001b[39mMarker(location\u001b[39m=\u001b[39m(lat, lon))\n",
      "\u001b[0;31mTypeError\u001b[0m: string indices must be integers, not 'str'"
     ]
    },
    {
     "ename": "TypeError",
     "evalue": "string indices must be integers, not 'str'",
     "output_type": "error",
     "traceback": [
      "\u001b[0;31m---------------------------------------------------------------------------\u001b[0m",
      "\u001b[0;31mTypeError\u001b[0m                                 Traceback (most recent call last)",
      "File \u001b[0;32m~/Documents/geolog/geolog/geotest.py:25\u001b[0m, in \u001b[0;36mMap.handle_interaction\u001b[0;34m(self, event, **kwargs)\u001b[0m\n\u001b[1;32m     24\u001b[0m \u001b[39mdef\u001b[39;00m \u001b[39mhandle_interaction\u001b[39m(\u001b[39mself\u001b[39m, event, \u001b[39m*\u001b[39m\u001b[39m*\u001b[39mkwargs):\n\u001b[0;32m---> 25\u001b[0m     \u001b[39mif\u001b[39;00m event[\u001b[39m'\u001b[39;49m\u001b[39mtype\u001b[39;49m\u001b[39m'\u001b[39;49m] \u001b[39m==\u001b[39m \u001b[39m'\u001b[39m\u001b[39mclick\u001b[39m\u001b[39m'\u001b[39m:\n\u001b[1;32m     26\u001b[0m         lat, lon \u001b[39m=\u001b[39m event[\u001b[39m'\u001b[39m\u001b[39mcoordinates\u001b[39m\u001b[39m'\u001b[39m]\n\u001b[1;32m     27\u001b[0m         marker \u001b[39m=\u001b[39m ipyleaflet\u001b[39m.\u001b[39mMarker(location\u001b[39m=\u001b[39m(lat, lon))\n",
      "\u001b[0;31mTypeError\u001b[0m: string indices must be integers, not 'str'"
     ]
    },
    {
     "ename": "TypeError",
     "evalue": "string indices must be integers, not 'str'",
     "output_type": "error",
     "traceback": [
      "\u001b[0;31m---------------------------------------------------------------------------\u001b[0m",
      "\u001b[0;31mTypeError\u001b[0m                                 Traceback (most recent call last)",
      "File \u001b[0;32m~/Documents/geolog/geolog/geotest.py:25\u001b[0m, in \u001b[0;36mMap.handle_interaction\u001b[0;34m(self, event, **kwargs)\u001b[0m\n\u001b[1;32m     24\u001b[0m \u001b[39mdef\u001b[39;00m \u001b[39mhandle_interaction\u001b[39m(\u001b[39mself\u001b[39m, event, \u001b[39m*\u001b[39m\u001b[39m*\u001b[39mkwargs):\n\u001b[0;32m---> 25\u001b[0m     \u001b[39mif\u001b[39;00m event[\u001b[39m'\u001b[39;49m\u001b[39mtype\u001b[39;49m\u001b[39m'\u001b[39;49m] \u001b[39m==\u001b[39m \u001b[39m'\u001b[39m\u001b[39mclick\u001b[39m\u001b[39m'\u001b[39m:\n\u001b[1;32m     26\u001b[0m         lat, lon \u001b[39m=\u001b[39m event[\u001b[39m'\u001b[39m\u001b[39mcoordinates\u001b[39m\u001b[39m'\u001b[39m]\n\u001b[1;32m     27\u001b[0m         marker \u001b[39m=\u001b[39m ipyleaflet\u001b[39m.\u001b[39mMarker(location\u001b[39m=\u001b[39m(lat, lon))\n",
      "\u001b[0;31mTypeError\u001b[0m: string indices must be integers, not 'str'"
     ]
    },
    {
     "ename": "TypeError",
     "evalue": "string indices must be integers, not 'str'",
     "output_type": "error",
     "traceback": [
      "\u001b[0;31m---------------------------------------------------------------------------\u001b[0m",
      "\u001b[0;31mTypeError\u001b[0m                                 Traceback (most recent call last)",
      "File \u001b[0;32m~/Documents/geolog/geolog/geotest.py:25\u001b[0m, in \u001b[0;36mMap.handle_interaction\u001b[0;34m(self, event, **kwargs)\u001b[0m\n\u001b[1;32m     24\u001b[0m \u001b[39mdef\u001b[39;00m \u001b[39mhandle_interaction\u001b[39m(\u001b[39mself\u001b[39m, event, \u001b[39m*\u001b[39m\u001b[39m*\u001b[39mkwargs):\n\u001b[0;32m---> 25\u001b[0m     \u001b[39mif\u001b[39;00m event[\u001b[39m'\u001b[39;49m\u001b[39mtype\u001b[39;49m\u001b[39m'\u001b[39;49m] \u001b[39m==\u001b[39m \u001b[39m'\u001b[39m\u001b[39mclick\u001b[39m\u001b[39m'\u001b[39m:\n\u001b[1;32m     26\u001b[0m         lat, lon \u001b[39m=\u001b[39m event[\u001b[39m'\u001b[39m\u001b[39mcoordinates\u001b[39m\u001b[39m'\u001b[39m]\n\u001b[1;32m     27\u001b[0m         marker \u001b[39m=\u001b[39m ipyleaflet\u001b[39m.\u001b[39mMarker(location\u001b[39m=\u001b[39m(lat, lon))\n",
      "\u001b[0;31mTypeError\u001b[0m: string indices must be integers, not 'str'"
     ]
    },
    {
     "ename": "TypeError",
     "evalue": "string indices must be integers, not 'str'",
     "output_type": "error",
     "traceback": [
      "\u001b[0;31m---------------------------------------------------------------------------\u001b[0m",
      "\u001b[0;31mTypeError\u001b[0m                                 Traceback (most recent call last)",
      "File \u001b[0;32m~/Documents/geolog/geolog/geotest.py:25\u001b[0m, in \u001b[0;36mMap.handle_interaction\u001b[0;34m(self, event, **kwargs)\u001b[0m\n\u001b[1;32m     24\u001b[0m \u001b[39mdef\u001b[39;00m \u001b[39mhandle_interaction\u001b[39m(\u001b[39mself\u001b[39m, event, \u001b[39m*\u001b[39m\u001b[39m*\u001b[39mkwargs):\n\u001b[0;32m---> 25\u001b[0m     \u001b[39mif\u001b[39;00m event[\u001b[39m'\u001b[39;49m\u001b[39mtype\u001b[39;49m\u001b[39m'\u001b[39;49m] \u001b[39m==\u001b[39m \u001b[39m'\u001b[39m\u001b[39mclick\u001b[39m\u001b[39m'\u001b[39m:\n\u001b[1;32m     26\u001b[0m         lat, lon \u001b[39m=\u001b[39m event[\u001b[39m'\u001b[39m\u001b[39mcoordinates\u001b[39m\u001b[39m'\u001b[39m]\n\u001b[1;32m     27\u001b[0m         marker \u001b[39m=\u001b[39m ipyleaflet\u001b[39m.\u001b[39mMarker(location\u001b[39m=\u001b[39m(lat, lon))\n",
      "\u001b[0;31mTypeError\u001b[0m: string indices must be integers, not 'str'"
     ]
    },
    {
     "ename": "TypeError",
     "evalue": "string indices must be integers, not 'str'",
     "output_type": "error",
     "traceback": [
      "\u001b[0;31m---------------------------------------------------------------------------\u001b[0m",
      "\u001b[0;31mTypeError\u001b[0m                                 Traceback (most recent call last)",
      "File \u001b[0;32m~/Documents/geolog/geolog/geotest.py:25\u001b[0m, in \u001b[0;36mMap.handle_interaction\u001b[0;34m(self, event, **kwargs)\u001b[0m\n\u001b[1;32m     24\u001b[0m \u001b[39mdef\u001b[39;00m \u001b[39mhandle_interaction\u001b[39m(\u001b[39mself\u001b[39m, event, \u001b[39m*\u001b[39m\u001b[39m*\u001b[39mkwargs):\n\u001b[0;32m---> 25\u001b[0m     \u001b[39mif\u001b[39;00m event[\u001b[39m'\u001b[39;49m\u001b[39mtype\u001b[39;49m\u001b[39m'\u001b[39;49m] \u001b[39m==\u001b[39m \u001b[39m'\u001b[39m\u001b[39mclick\u001b[39m\u001b[39m'\u001b[39m:\n\u001b[1;32m     26\u001b[0m         lat, lon \u001b[39m=\u001b[39m event[\u001b[39m'\u001b[39m\u001b[39mcoordinates\u001b[39m\u001b[39m'\u001b[39m]\n\u001b[1;32m     27\u001b[0m         marker \u001b[39m=\u001b[39m ipyleaflet\u001b[39m.\u001b[39mMarker(location\u001b[39m=\u001b[39m(lat, lon))\n",
      "\u001b[0;31mTypeError\u001b[0m: string indices must be integers, not 'str'"
     ]
    },
    {
     "ename": "TypeError",
     "evalue": "string indices must be integers, not 'str'",
     "output_type": "error",
     "traceback": [
      "\u001b[0;31m---------------------------------------------------------------------------\u001b[0m",
      "\u001b[0;31mTypeError\u001b[0m                                 Traceback (most recent call last)",
      "File \u001b[0;32m~/Documents/geolog/geolog/geotest.py:25\u001b[0m, in \u001b[0;36mMap.handle_interaction\u001b[0;34m(self, event, **kwargs)\u001b[0m\n\u001b[1;32m     24\u001b[0m \u001b[39mdef\u001b[39;00m \u001b[39mhandle_interaction\u001b[39m(\u001b[39mself\u001b[39m, event, \u001b[39m*\u001b[39m\u001b[39m*\u001b[39mkwargs):\n\u001b[0;32m---> 25\u001b[0m     \u001b[39mif\u001b[39;00m event[\u001b[39m'\u001b[39;49m\u001b[39mtype\u001b[39;49m\u001b[39m'\u001b[39;49m] \u001b[39m==\u001b[39m \u001b[39m'\u001b[39m\u001b[39mclick\u001b[39m\u001b[39m'\u001b[39m:\n\u001b[1;32m     26\u001b[0m         lat, lon \u001b[39m=\u001b[39m event[\u001b[39m'\u001b[39m\u001b[39mcoordinates\u001b[39m\u001b[39m'\u001b[39m]\n\u001b[1;32m     27\u001b[0m         marker \u001b[39m=\u001b[39m ipyleaflet\u001b[39m.\u001b[39mMarker(location\u001b[39m=\u001b[39m(lat, lon))\n",
      "\u001b[0;31mTypeError\u001b[0m: string indices must be integers, not 'str'"
     ]
    },
    {
     "ename": "TypeError",
     "evalue": "string indices must be integers, not 'str'",
     "output_type": "error",
     "traceback": [
      "\u001b[0;31m---------------------------------------------------------------------------\u001b[0m",
      "\u001b[0;31mTypeError\u001b[0m                                 Traceback (most recent call last)",
      "File \u001b[0;32m~/Documents/geolog/geolog/geotest.py:25\u001b[0m, in \u001b[0;36mMap.handle_interaction\u001b[0;34m(self, event, **kwargs)\u001b[0m\n\u001b[1;32m     24\u001b[0m \u001b[39mdef\u001b[39;00m \u001b[39mhandle_interaction\u001b[39m(\u001b[39mself\u001b[39m, event, \u001b[39m*\u001b[39m\u001b[39m*\u001b[39mkwargs):\n\u001b[0;32m---> 25\u001b[0m     \u001b[39mif\u001b[39;00m event[\u001b[39m'\u001b[39;49m\u001b[39mtype\u001b[39;49m\u001b[39m'\u001b[39;49m] \u001b[39m==\u001b[39m \u001b[39m'\u001b[39m\u001b[39mclick\u001b[39m\u001b[39m'\u001b[39m:\n\u001b[1;32m     26\u001b[0m         lat, lon \u001b[39m=\u001b[39m event[\u001b[39m'\u001b[39m\u001b[39mcoordinates\u001b[39m\u001b[39m'\u001b[39m]\n\u001b[1;32m     27\u001b[0m         marker \u001b[39m=\u001b[39m ipyleaflet\u001b[39m.\u001b[39mMarker(location\u001b[39m=\u001b[39m(lat, lon))\n",
      "\u001b[0;31mTypeError\u001b[0m: string indices must be integers, not 'str'"
     ]
    },
    {
     "ename": "TypeError",
     "evalue": "string indices must be integers, not 'str'",
     "output_type": "error",
     "traceback": [
      "\u001b[0;31m---------------------------------------------------------------------------\u001b[0m",
      "\u001b[0;31mTypeError\u001b[0m                                 Traceback (most recent call last)",
      "File \u001b[0;32m~/Documents/geolog/geolog/geotest.py:25\u001b[0m, in \u001b[0;36mMap.handle_interaction\u001b[0;34m(self, event, **kwargs)\u001b[0m\n\u001b[1;32m     24\u001b[0m \u001b[39mdef\u001b[39;00m \u001b[39mhandle_interaction\u001b[39m(\u001b[39mself\u001b[39m, event, \u001b[39m*\u001b[39m\u001b[39m*\u001b[39mkwargs):\n\u001b[0;32m---> 25\u001b[0m     \u001b[39mif\u001b[39;00m event[\u001b[39m'\u001b[39;49m\u001b[39mtype\u001b[39;49m\u001b[39m'\u001b[39;49m] \u001b[39m==\u001b[39m \u001b[39m'\u001b[39m\u001b[39mclick\u001b[39m\u001b[39m'\u001b[39m:\n\u001b[1;32m     26\u001b[0m         lat, lon \u001b[39m=\u001b[39m event[\u001b[39m'\u001b[39m\u001b[39mcoordinates\u001b[39m\u001b[39m'\u001b[39m]\n\u001b[1;32m     27\u001b[0m         marker \u001b[39m=\u001b[39m ipyleaflet\u001b[39m.\u001b[39mMarker(location\u001b[39m=\u001b[39m(lat, lon))\n",
      "\u001b[0;31mTypeError\u001b[0m: string indices must be integers, not 'str'"
     ]
    },
    {
     "ename": "TypeError",
     "evalue": "string indices must be integers, not 'str'",
     "output_type": "error",
     "traceback": [
      "\u001b[0;31m---------------------------------------------------------------------------\u001b[0m",
      "\u001b[0;31mTypeError\u001b[0m                                 Traceback (most recent call last)",
      "File \u001b[0;32m~/Documents/geolog/geolog/geotest.py:25\u001b[0m, in \u001b[0;36mMap.handle_interaction\u001b[0;34m(self, event, **kwargs)\u001b[0m\n\u001b[1;32m     24\u001b[0m \u001b[39mdef\u001b[39;00m \u001b[39mhandle_interaction\u001b[39m(\u001b[39mself\u001b[39m, event, \u001b[39m*\u001b[39m\u001b[39m*\u001b[39mkwargs):\n\u001b[0;32m---> 25\u001b[0m     \u001b[39mif\u001b[39;00m event[\u001b[39m'\u001b[39;49m\u001b[39mtype\u001b[39;49m\u001b[39m'\u001b[39;49m] \u001b[39m==\u001b[39m \u001b[39m'\u001b[39m\u001b[39mclick\u001b[39m\u001b[39m'\u001b[39m:\n\u001b[1;32m     26\u001b[0m         lat, lon \u001b[39m=\u001b[39m event[\u001b[39m'\u001b[39m\u001b[39mcoordinates\u001b[39m\u001b[39m'\u001b[39m]\n\u001b[1;32m     27\u001b[0m         marker \u001b[39m=\u001b[39m ipyleaflet\u001b[39m.\u001b[39mMarker(location\u001b[39m=\u001b[39m(lat, lon))\n",
      "\u001b[0;31mTypeError\u001b[0m: string indices must be integers, not 'str'"
     ]
    },
    {
     "ename": "TypeError",
     "evalue": "string indices must be integers, not 'str'",
     "output_type": "error",
     "traceback": [
      "\u001b[0;31m---------------------------------------------------------------------------\u001b[0m",
      "\u001b[0;31mTypeError\u001b[0m                                 Traceback (most recent call last)",
      "File \u001b[0;32m~/Documents/geolog/geolog/geotest.py:25\u001b[0m, in \u001b[0;36mMap.handle_interaction\u001b[0;34m(self, event, **kwargs)\u001b[0m\n\u001b[1;32m     24\u001b[0m \u001b[39mdef\u001b[39;00m \u001b[39mhandle_interaction\u001b[39m(\u001b[39mself\u001b[39m, event, \u001b[39m*\u001b[39m\u001b[39m*\u001b[39mkwargs):\n\u001b[0;32m---> 25\u001b[0m     \u001b[39mif\u001b[39;00m event[\u001b[39m'\u001b[39;49m\u001b[39mtype\u001b[39;49m\u001b[39m'\u001b[39;49m] \u001b[39m==\u001b[39m \u001b[39m'\u001b[39m\u001b[39mclick\u001b[39m\u001b[39m'\u001b[39m:\n\u001b[1;32m     26\u001b[0m         lat, lon \u001b[39m=\u001b[39m event[\u001b[39m'\u001b[39m\u001b[39mcoordinates\u001b[39m\u001b[39m'\u001b[39m]\n\u001b[1;32m     27\u001b[0m         marker \u001b[39m=\u001b[39m ipyleaflet\u001b[39m.\u001b[39mMarker(location\u001b[39m=\u001b[39m(lat, lon))\n",
      "\u001b[0;31mTypeError\u001b[0m: string indices must be integers, not 'str'"
     ]
    },
    {
     "ename": "TypeError",
     "evalue": "string indices must be integers, not 'str'",
     "output_type": "error",
     "traceback": [
      "\u001b[0;31m---------------------------------------------------------------------------\u001b[0m",
      "\u001b[0;31mTypeError\u001b[0m                                 Traceback (most recent call last)",
      "File \u001b[0;32m~/Documents/geolog/geolog/geotest.py:25\u001b[0m, in \u001b[0;36mMap.handle_interaction\u001b[0;34m(self, event, **kwargs)\u001b[0m\n\u001b[1;32m     24\u001b[0m \u001b[39mdef\u001b[39;00m \u001b[39mhandle_interaction\u001b[39m(\u001b[39mself\u001b[39m, event, \u001b[39m*\u001b[39m\u001b[39m*\u001b[39mkwargs):\n\u001b[0;32m---> 25\u001b[0m     \u001b[39mif\u001b[39;00m event[\u001b[39m'\u001b[39;49m\u001b[39mtype\u001b[39;49m\u001b[39m'\u001b[39;49m] \u001b[39m==\u001b[39m \u001b[39m'\u001b[39m\u001b[39mclick\u001b[39m\u001b[39m'\u001b[39m:\n\u001b[1;32m     26\u001b[0m         lat, lon \u001b[39m=\u001b[39m event[\u001b[39m'\u001b[39m\u001b[39mcoordinates\u001b[39m\u001b[39m'\u001b[39m]\n\u001b[1;32m     27\u001b[0m         marker \u001b[39m=\u001b[39m ipyleaflet\u001b[39m.\u001b[39mMarker(location\u001b[39m=\u001b[39m(lat, lon))\n",
      "\u001b[0;31mTypeError\u001b[0m: string indices must be integers, not 'str'"
     ]
    },
    {
     "ename": "TypeError",
     "evalue": "string indices must be integers, not 'str'",
     "output_type": "error",
     "traceback": [
      "\u001b[0;31m---------------------------------------------------------------------------\u001b[0m",
      "\u001b[0;31mTypeError\u001b[0m                                 Traceback (most recent call last)",
      "File \u001b[0;32m~/Documents/geolog/geolog/geotest.py:25\u001b[0m, in \u001b[0;36mMap.handle_interaction\u001b[0;34m(self, event, **kwargs)\u001b[0m\n\u001b[1;32m     24\u001b[0m \u001b[39mdef\u001b[39;00m \u001b[39mhandle_interaction\u001b[39m(\u001b[39mself\u001b[39m, event, \u001b[39m*\u001b[39m\u001b[39m*\u001b[39mkwargs):\n\u001b[0;32m---> 25\u001b[0m     \u001b[39mif\u001b[39;00m event[\u001b[39m'\u001b[39;49m\u001b[39mtype\u001b[39;49m\u001b[39m'\u001b[39;49m] \u001b[39m==\u001b[39m \u001b[39m'\u001b[39m\u001b[39mclick\u001b[39m\u001b[39m'\u001b[39m:\n\u001b[1;32m     26\u001b[0m         lat, lon \u001b[39m=\u001b[39m event[\u001b[39m'\u001b[39m\u001b[39mcoordinates\u001b[39m\u001b[39m'\u001b[39m]\n\u001b[1;32m     27\u001b[0m         marker \u001b[39m=\u001b[39m ipyleaflet\u001b[39m.\u001b[39mMarker(location\u001b[39m=\u001b[39m(lat, lon))\n",
      "\u001b[0;31mTypeError\u001b[0m: string indices must be integers, not 'str'"
     ]
    },
    {
     "ename": "TypeError",
     "evalue": "string indices must be integers, not 'str'",
     "output_type": "error",
     "traceback": [
      "\u001b[0;31m---------------------------------------------------------------------------\u001b[0m",
      "\u001b[0;31mTypeError\u001b[0m                                 Traceback (most recent call last)",
      "File \u001b[0;32m~/Documents/geolog/geolog/geotest.py:25\u001b[0m, in \u001b[0;36mMap.handle_interaction\u001b[0;34m(self, event, **kwargs)\u001b[0m\n\u001b[1;32m     24\u001b[0m \u001b[39mdef\u001b[39;00m \u001b[39mhandle_interaction\u001b[39m(\u001b[39mself\u001b[39m, event, \u001b[39m*\u001b[39m\u001b[39m*\u001b[39mkwargs):\n\u001b[0;32m---> 25\u001b[0m     \u001b[39mif\u001b[39;00m event[\u001b[39m'\u001b[39;49m\u001b[39mtype\u001b[39;49m\u001b[39m'\u001b[39;49m] \u001b[39m==\u001b[39m \u001b[39m'\u001b[39m\u001b[39mclick\u001b[39m\u001b[39m'\u001b[39m:\n\u001b[1;32m     26\u001b[0m         lat, lon \u001b[39m=\u001b[39m event[\u001b[39m'\u001b[39m\u001b[39mcoordinates\u001b[39m\u001b[39m'\u001b[39m]\n\u001b[1;32m     27\u001b[0m         marker \u001b[39m=\u001b[39m ipyleaflet\u001b[39m.\u001b[39mMarker(location\u001b[39m=\u001b[39m(lat, lon))\n",
      "\u001b[0;31mTypeError\u001b[0m: string indices must be integers, not 'str'"
     ]
    },
    {
     "ename": "TypeError",
     "evalue": "string indices must be integers, not 'str'",
     "output_type": "error",
     "traceback": [
      "\u001b[0;31m---------------------------------------------------------------------------\u001b[0m",
      "\u001b[0;31mTypeError\u001b[0m                                 Traceback (most recent call last)",
      "File \u001b[0;32m~/Documents/geolog/geolog/geotest.py:25\u001b[0m, in \u001b[0;36mMap.handle_interaction\u001b[0;34m(self, event, **kwargs)\u001b[0m\n\u001b[1;32m     24\u001b[0m \u001b[39mdef\u001b[39;00m \u001b[39mhandle_interaction\u001b[39m(\u001b[39mself\u001b[39m, event, \u001b[39m*\u001b[39m\u001b[39m*\u001b[39mkwargs):\n\u001b[0;32m---> 25\u001b[0m     \u001b[39mif\u001b[39;00m event[\u001b[39m'\u001b[39;49m\u001b[39mtype\u001b[39;49m\u001b[39m'\u001b[39;49m] \u001b[39m==\u001b[39m \u001b[39m'\u001b[39m\u001b[39mclick\u001b[39m\u001b[39m'\u001b[39m:\n\u001b[1;32m     26\u001b[0m         lat, lon \u001b[39m=\u001b[39m event[\u001b[39m'\u001b[39m\u001b[39mcoordinates\u001b[39m\u001b[39m'\u001b[39m]\n\u001b[1;32m     27\u001b[0m         marker \u001b[39m=\u001b[39m ipyleaflet\u001b[39m.\u001b[39mMarker(location\u001b[39m=\u001b[39m(lat, lon))\n",
      "\u001b[0;31mTypeError\u001b[0m: string indices must be integers, not 'str'"
     ]
    },
    {
     "ename": "TypeError",
     "evalue": "string indices must be integers, not 'str'",
     "output_type": "error",
     "traceback": [
      "\u001b[0;31m---------------------------------------------------------------------------\u001b[0m",
      "\u001b[0;31mTypeError\u001b[0m                                 Traceback (most recent call last)",
      "File \u001b[0;32m~/Documents/geolog/geolog/geotest.py:25\u001b[0m, in \u001b[0;36mMap.handle_interaction\u001b[0;34m(self, event, **kwargs)\u001b[0m\n\u001b[1;32m     24\u001b[0m \u001b[39mdef\u001b[39;00m \u001b[39mhandle_interaction\u001b[39m(\u001b[39mself\u001b[39m, event, \u001b[39m*\u001b[39m\u001b[39m*\u001b[39mkwargs):\n\u001b[0;32m---> 25\u001b[0m     \u001b[39mif\u001b[39;00m event[\u001b[39m'\u001b[39;49m\u001b[39mtype\u001b[39;49m\u001b[39m'\u001b[39;49m] \u001b[39m==\u001b[39m \u001b[39m'\u001b[39m\u001b[39mclick\u001b[39m\u001b[39m'\u001b[39m:\n\u001b[1;32m     26\u001b[0m         lat, lon \u001b[39m=\u001b[39m event[\u001b[39m'\u001b[39m\u001b[39mcoordinates\u001b[39m\u001b[39m'\u001b[39m]\n\u001b[1;32m     27\u001b[0m         marker \u001b[39m=\u001b[39m ipyleaflet\u001b[39m.\u001b[39mMarker(location\u001b[39m=\u001b[39m(lat, lon))\n",
      "\u001b[0;31mTypeError\u001b[0m: string indices must be integers, not 'str'"
     ]
    },
    {
     "ename": "TypeError",
     "evalue": "string indices must be integers, not 'str'",
     "output_type": "error",
     "traceback": [
      "\u001b[0;31m---------------------------------------------------------------------------\u001b[0m",
      "\u001b[0;31mTypeError\u001b[0m                                 Traceback (most recent call last)",
      "File \u001b[0;32m~/Documents/geolog/geolog/geotest.py:25\u001b[0m, in \u001b[0;36mMap.handle_interaction\u001b[0;34m(self, event, **kwargs)\u001b[0m\n\u001b[1;32m     24\u001b[0m \u001b[39mdef\u001b[39;00m \u001b[39mhandle_interaction\u001b[39m(\u001b[39mself\u001b[39m, event, \u001b[39m*\u001b[39m\u001b[39m*\u001b[39mkwargs):\n\u001b[0;32m---> 25\u001b[0m     \u001b[39mif\u001b[39;00m event[\u001b[39m'\u001b[39;49m\u001b[39mtype\u001b[39;49m\u001b[39m'\u001b[39;49m] \u001b[39m==\u001b[39m \u001b[39m'\u001b[39m\u001b[39mclick\u001b[39m\u001b[39m'\u001b[39m:\n\u001b[1;32m     26\u001b[0m         lat, lon \u001b[39m=\u001b[39m event[\u001b[39m'\u001b[39m\u001b[39mcoordinates\u001b[39m\u001b[39m'\u001b[39m]\n\u001b[1;32m     27\u001b[0m         marker \u001b[39m=\u001b[39m ipyleaflet\u001b[39m.\u001b[39mMarker(location\u001b[39m=\u001b[39m(lat, lon))\n",
      "\u001b[0;31mTypeError\u001b[0m: string indices must be integers, not 'str'"
     ]
    },
    {
     "ename": "TypeError",
     "evalue": "string indices must be integers, not 'str'",
     "output_type": "error",
     "traceback": [
      "\u001b[0;31m---------------------------------------------------------------------------\u001b[0m",
      "\u001b[0;31mTypeError\u001b[0m                                 Traceback (most recent call last)",
      "File \u001b[0;32m~/Documents/geolog/geolog/geotest.py:25\u001b[0m, in \u001b[0;36mMap.handle_interaction\u001b[0;34m(self, event, **kwargs)\u001b[0m\n\u001b[1;32m     24\u001b[0m \u001b[39mdef\u001b[39;00m \u001b[39mhandle_interaction\u001b[39m(\u001b[39mself\u001b[39m, event, \u001b[39m*\u001b[39m\u001b[39m*\u001b[39mkwargs):\n\u001b[0;32m---> 25\u001b[0m     \u001b[39mif\u001b[39;00m event[\u001b[39m'\u001b[39;49m\u001b[39mtype\u001b[39;49m\u001b[39m'\u001b[39;49m] \u001b[39m==\u001b[39m \u001b[39m'\u001b[39m\u001b[39mclick\u001b[39m\u001b[39m'\u001b[39m:\n\u001b[1;32m     26\u001b[0m         lat, lon \u001b[39m=\u001b[39m event[\u001b[39m'\u001b[39m\u001b[39mcoordinates\u001b[39m\u001b[39m'\u001b[39m]\n\u001b[1;32m     27\u001b[0m         marker \u001b[39m=\u001b[39m ipyleaflet\u001b[39m.\u001b[39mMarker(location\u001b[39m=\u001b[39m(lat, lon))\n",
      "\u001b[0;31mTypeError\u001b[0m: string indices must be integers, not 'str'"
     ]
    },
    {
     "ename": "TypeError",
     "evalue": "string indices must be integers, not 'str'",
     "output_type": "error",
     "traceback": [
      "\u001b[0;31m---------------------------------------------------------------------------\u001b[0m",
      "\u001b[0;31mTypeError\u001b[0m                                 Traceback (most recent call last)",
      "File \u001b[0;32m~/Documents/geolog/geolog/geotest.py:25\u001b[0m, in \u001b[0;36mMap.handle_interaction\u001b[0;34m(self, event, **kwargs)\u001b[0m\n\u001b[1;32m     24\u001b[0m \u001b[39mdef\u001b[39;00m \u001b[39mhandle_interaction\u001b[39m(\u001b[39mself\u001b[39m, event, \u001b[39m*\u001b[39m\u001b[39m*\u001b[39mkwargs):\n\u001b[0;32m---> 25\u001b[0m     \u001b[39mif\u001b[39;00m event[\u001b[39m'\u001b[39;49m\u001b[39mtype\u001b[39;49m\u001b[39m'\u001b[39;49m] \u001b[39m==\u001b[39m \u001b[39m'\u001b[39m\u001b[39mclick\u001b[39m\u001b[39m'\u001b[39m:\n\u001b[1;32m     26\u001b[0m         lat, lon \u001b[39m=\u001b[39m event[\u001b[39m'\u001b[39m\u001b[39mcoordinates\u001b[39m\u001b[39m'\u001b[39m]\n\u001b[1;32m     27\u001b[0m         marker \u001b[39m=\u001b[39m ipyleaflet\u001b[39m.\u001b[39mMarker(location\u001b[39m=\u001b[39m(lat, lon))\n",
      "\u001b[0;31mTypeError\u001b[0m: string indices must be integers, not 'str'"
     ]
    },
    {
     "ename": "TypeError",
     "evalue": "string indices must be integers, not 'str'",
     "output_type": "error",
     "traceback": [
      "\u001b[0;31m---------------------------------------------------------------------------\u001b[0m",
      "\u001b[0;31mTypeError\u001b[0m                                 Traceback (most recent call last)",
      "File \u001b[0;32m~/Documents/geolog/geolog/geotest.py:25\u001b[0m, in \u001b[0;36mMap.handle_interaction\u001b[0;34m(self, event, **kwargs)\u001b[0m\n\u001b[1;32m     24\u001b[0m \u001b[39mdef\u001b[39;00m \u001b[39mhandle_interaction\u001b[39m(\u001b[39mself\u001b[39m, event, \u001b[39m*\u001b[39m\u001b[39m*\u001b[39mkwargs):\n\u001b[0;32m---> 25\u001b[0m     \u001b[39mif\u001b[39;00m event[\u001b[39m'\u001b[39;49m\u001b[39mtype\u001b[39;49m\u001b[39m'\u001b[39;49m] \u001b[39m==\u001b[39m \u001b[39m'\u001b[39m\u001b[39mclick\u001b[39m\u001b[39m'\u001b[39m:\n\u001b[1;32m     26\u001b[0m         lat, lon \u001b[39m=\u001b[39m event[\u001b[39m'\u001b[39m\u001b[39mcoordinates\u001b[39m\u001b[39m'\u001b[39m]\n\u001b[1;32m     27\u001b[0m         marker \u001b[39m=\u001b[39m ipyleaflet\u001b[39m.\u001b[39mMarker(location\u001b[39m=\u001b[39m(lat, lon))\n",
      "\u001b[0;31mTypeError\u001b[0m: string indices must be integers, not 'str'"
     ]
    },
    {
     "ename": "TypeError",
     "evalue": "string indices must be integers, not 'str'",
     "output_type": "error",
     "traceback": [
      "\u001b[0;31m---------------------------------------------------------------------------\u001b[0m",
      "\u001b[0;31mTypeError\u001b[0m                                 Traceback (most recent call last)",
      "File \u001b[0;32m~/Documents/geolog/geolog/geotest.py:25\u001b[0m, in \u001b[0;36mMap.handle_interaction\u001b[0;34m(self, event, **kwargs)\u001b[0m\n\u001b[1;32m     24\u001b[0m \u001b[39mdef\u001b[39;00m \u001b[39mhandle_interaction\u001b[39m(\u001b[39mself\u001b[39m, event, \u001b[39m*\u001b[39m\u001b[39m*\u001b[39mkwargs):\n\u001b[0;32m---> 25\u001b[0m     \u001b[39mif\u001b[39;00m event[\u001b[39m'\u001b[39;49m\u001b[39mtype\u001b[39;49m\u001b[39m'\u001b[39;49m] \u001b[39m==\u001b[39m \u001b[39m'\u001b[39m\u001b[39mclick\u001b[39m\u001b[39m'\u001b[39m:\n\u001b[1;32m     26\u001b[0m         lat, lon \u001b[39m=\u001b[39m event[\u001b[39m'\u001b[39m\u001b[39mcoordinates\u001b[39m\u001b[39m'\u001b[39m]\n\u001b[1;32m     27\u001b[0m         marker \u001b[39m=\u001b[39m ipyleaflet\u001b[39m.\u001b[39mMarker(location\u001b[39m=\u001b[39m(lat, lon))\n",
      "\u001b[0;31mTypeError\u001b[0m: string indices must be integers, not 'str'"
     ]
    },
    {
     "ename": "TypeError",
     "evalue": "string indices must be integers, not 'str'",
     "output_type": "error",
     "traceback": [
      "\u001b[0;31m---------------------------------------------------------------------------\u001b[0m",
      "\u001b[0;31mTypeError\u001b[0m                                 Traceback (most recent call last)",
      "File \u001b[0;32m~/Documents/geolog/geolog/geotest.py:25\u001b[0m, in \u001b[0;36mMap.handle_interaction\u001b[0;34m(self, event, **kwargs)\u001b[0m\n\u001b[1;32m     24\u001b[0m \u001b[39mdef\u001b[39;00m \u001b[39mhandle_interaction\u001b[39m(\u001b[39mself\u001b[39m, event, \u001b[39m*\u001b[39m\u001b[39m*\u001b[39mkwargs):\n\u001b[0;32m---> 25\u001b[0m     \u001b[39mif\u001b[39;00m event[\u001b[39m'\u001b[39;49m\u001b[39mtype\u001b[39;49m\u001b[39m'\u001b[39;49m] \u001b[39m==\u001b[39m \u001b[39m'\u001b[39m\u001b[39mclick\u001b[39m\u001b[39m'\u001b[39m:\n\u001b[1;32m     26\u001b[0m         lat, lon \u001b[39m=\u001b[39m event[\u001b[39m'\u001b[39m\u001b[39mcoordinates\u001b[39m\u001b[39m'\u001b[39m]\n\u001b[1;32m     27\u001b[0m         marker \u001b[39m=\u001b[39m ipyleaflet\u001b[39m.\u001b[39mMarker(location\u001b[39m=\u001b[39m(lat, lon))\n",
      "\u001b[0;31mTypeError\u001b[0m: string indices must be integers, not 'str'"
     ]
    },
    {
     "ename": "TypeError",
     "evalue": "string indices must be integers, not 'str'",
     "output_type": "error",
     "traceback": [
      "\u001b[0;31m---------------------------------------------------------------------------\u001b[0m",
      "\u001b[0;31mTypeError\u001b[0m                                 Traceback (most recent call last)",
      "File \u001b[0;32m~/Documents/geolog/geolog/geotest.py:25\u001b[0m, in \u001b[0;36mMap.handle_interaction\u001b[0;34m(self, event, **kwargs)\u001b[0m\n\u001b[1;32m     24\u001b[0m \u001b[39mdef\u001b[39;00m \u001b[39mhandle_interaction\u001b[39m(\u001b[39mself\u001b[39m, event, \u001b[39m*\u001b[39m\u001b[39m*\u001b[39mkwargs):\n\u001b[0;32m---> 25\u001b[0m     \u001b[39mif\u001b[39;00m event[\u001b[39m'\u001b[39;49m\u001b[39mtype\u001b[39;49m\u001b[39m'\u001b[39;49m] \u001b[39m==\u001b[39m \u001b[39m'\u001b[39m\u001b[39mclick\u001b[39m\u001b[39m'\u001b[39m:\n\u001b[1;32m     26\u001b[0m         lat, lon \u001b[39m=\u001b[39m event[\u001b[39m'\u001b[39m\u001b[39mcoordinates\u001b[39m\u001b[39m'\u001b[39m]\n\u001b[1;32m     27\u001b[0m         marker \u001b[39m=\u001b[39m ipyleaflet\u001b[39m.\u001b[39mMarker(location\u001b[39m=\u001b[39m(lat, lon))\n",
      "\u001b[0;31mTypeError\u001b[0m: string indices must be integers, not 'str'"
     ]
    },
    {
     "ename": "TypeError",
     "evalue": "string indices must be integers, not 'str'",
     "output_type": "error",
     "traceback": [
      "\u001b[0;31m---------------------------------------------------------------------------\u001b[0m",
      "\u001b[0;31mTypeError\u001b[0m                                 Traceback (most recent call last)",
      "File \u001b[0;32m~/Documents/geolog/geolog/geotest.py:25\u001b[0m, in \u001b[0;36mMap.handle_interaction\u001b[0;34m(self, event, **kwargs)\u001b[0m\n\u001b[1;32m     24\u001b[0m \u001b[39mdef\u001b[39;00m \u001b[39mhandle_interaction\u001b[39m(\u001b[39mself\u001b[39m, event, \u001b[39m*\u001b[39m\u001b[39m*\u001b[39mkwargs):\n\u001b[0;32m---> 25\u001b[0m     \u001b[39mif\u001b[39;00m event[\u001b[39m'\u001b[39;49m\u001b[39mtype\u001b[39;49m\u001b[39m'\u001b[39;49m] \u001b[39m==\u001b[39m \u001b[39m'\u001b[39m\u001b[39mclick\u001b[39m\u001b[39m'\u001b[39m:\n\u001b[1;32m     26\u001b[0m         lat, lon \u001b[39m=\u001b[39m event[\u001b[39m'\u001b[39m\u001b[39mcoordinates\u001b[39m\u001b[39m'\u001b[39m]\n\u001b[1;32m     27\u001b[0m         marker \u001b[39m=\u001b[39m ipyleaflet\u001b[39m.\u001b[39mMarker(location\u001b[39m=\u001b[39m(lat, lon))\n",
      "\u001b[0;31mTypeError\u001b[0m: string indices must be integers, not 'str'"
     ]
    },
    {
     "ename": "TypeError",
     "evalue": "string indices must be integers, not 'str'",
     "output_type": "error",
     "traceback": [
      "\u001b[0;31m---------------------------------------------------------------------------\u001b[0m",
      "\u001b[0;31mTypeError\u001b[0m                                 Traceback (most recent call last)",
      "File \u001b[0;32m~/Documents/geolog/geolog/geotest.py:25\u001b[0m, in \u001b[0;36mMap.handle_interaction\u001b[0;34m(self, event, **kwargs)\u001b[0m\n\u001b[1;32m     24\u001b[0m \u001b[39mdef\u001b[39;00m \u001b[39mhandle_interaction\u001b[39m(\u001b[39mself\u001b[39m, event, \u001b[39m*\u001b[39m\u001b[39m*\u001b[39mkwargs):\n\u001b[0;32m---> 25\u001b[0m     \u001b[39mif\u001b[39;00m event[\u001b[39m'\u001b[39;49m\u001b[39mtype\u001b[39;49m\u001b[39m'\u001b[39;49m] \u001b[39m==\u001b[39m \u001b[39m'\u001b[39m\u001b[39mclick\u001b[39m\u001b[39m'\u001b[39m:\n\u001b[1;32m     26\u001b[0m         lat, lon \u001b[39m=\u001b[39m event[\u001b[39m'\u001b[39m\u001b[39mcoordinates\u001b[39m\u001b[39m'\u001b[39m]\n\u001b[1;32m     27\u001b[0m         marker \u001b[39m=\u001b[39m ipyleaflet\u001b[39m.\u001b[39mMarker(location\u001b[39m=\u001b[39m(lat, lon))\n",
      "\u001b[0;31mTypeError\u001b[0m: string indices must be integers, not 'str'"
     ]
    },
    {
     "ename": "TypeError",
     "evalue": "string indices must be integers, not 'str'",
     "output_type": "error",
     "traceback": [
      "\u001b[0;31m---------------------------------------------------------------------------\u001b[0m",
      "\u001b[0;31mTypeError\u001b[0m                                 Traceback (most recent call last)",
      "File \u001b[0;32m~/Documents/geolog/geolog/geotest.py:25\u001b[0m, in \u001b[0;36mMap.handle_interaction\u001b[0;34m(self, event, **kwargs)\u001b[0m\n\u001b[1;32m     24\u001b[0m \u001b[39mdef\u001b[39;00m \u001b[39mhandle_interaction\u001b[39m(\u001b[39mself\u001b[39m, event, \u001b[39m*\u001b[39m\u001b[39m*\u001b[39mkwargs):\n\u001b[0;32m---> 25\u001b[0m     \u001b[39mif\u001b[39;00m event[\u001b[39m'\u001b[39;49m\u001b[39mtype\u001b[39;49m\u001b[39m'\u001b[39;49m] \u001b[39m==\u001b[39m \u001b[39m'\u001b[39m\u001b[39mclick\u001b[39m\u001b[39m'\u001b[39m:\n\u001b[1;32m     26\u001b[0m         lat, lon \u001b[39m=\u001b[39m event[\u001b[39m'\u001b[39m\u001b[39mcoordinates\u001b[39m\u001b[39m'\u001b[39m]\n\u001b[1;32m     27\u001b[0m         marker \u001b[39m=\u001b[39m ipyleaflet\u001b[39m.\u001b[39mMarker(location\u001b[39m=\u001b[39m(lat, lon))\n",
      "\u001b[0;31mTypeError\u001b[0m: string indices must be integers, not 'str'"
     ]
    },
    {
     "ename": "TypeError",
     "evalue": "string indices must be integers, not 'str'",
     "output_type": "error",
     "traceback": [
      "\u001b[0;31m---------------------------------------------------------------------------\u001b[0m",
      "\u001b[0;31mTypeError\u001b[0m                                 Traceback (most recent call last)",
      "File \u001b[0;32m~/Documents/geolog/geolog/geotest.py:25\u001b[0m, in \u001b[0;36mMap.handle_interaction\u001b[0;34m(self, event, **kwargs)\u001b[0m\n\u001b[1;32m     24\u001b[0m \u001b[39mdef\u001b[39;00m \u001b[39mhandle_interaction\u001b[39m(\u001b[39mself\u001b[39m, event, \u001b[39m*\u001b[39m\u001b[39m*\u001b[39mkwargs):\n\u001b[0;32m---> 25\u001b[0m     \u001b[39mif\u001b[39;00m event[\u001b[39m'\u001b[39;49m\u001b[39mtype\u001b[39;49m\u001b[39m'\u001b[39;49m] \u001b[39m==\u001b[39m \u001b[39m'\u001b[39m\u001b[39mclick\u001b[39m\u001b[39m'\u001b[39m:\n\u001b[1;32m     26\u001b[0m         lat, lon \u001b[39m=\u001b[39m event[\u001b[39m'\u001b[39m\u001b[39mcoordinates\u001b[39m\u001b[39m'\u001b[39m]\n\u001b[1;32m     27\u001b[0m         marker \u001b[39m=\u001b[39m ipyleaflet\u001b[39m.\u001b[39mMarker(location\u001b[39m=\u001b[39m(lat, lon))\n",
      "\u001b[0;31mTypeError\u001b[0m: string indices must be integers, not 'str'"
     ]
    },
    {
     "ename": "TypeError",
     "evalue": "string indices must be integers, not 'str'",
     "output_type": "error",
     "traceback": [
      "\u001b[0;31m---------------------------------------------------------------------------\u001b[0m",
      "\u001b[0;31mTypeError\u001b[0m                                 Traceback (most recent call last)",
      "File \u001b[0;32m~/Documents/geolog/geolog/geotest.py:25\u001b[0m, in \u001b[0;36mMap.handle_interaction\u001b[0;34m(self, event, **kwargs)\u001b[0m\n\u001b[1;32m     24\u001b[0m \u001b[39mdef\u001b[39;00m \u001b[39mhandle_interaction\u001b[39m(\u001b[39mself\u001b[39m, event, \u001b[39m*\u001b[39m\u001b[39m*\u001b[39mkwargs):\n\u001b[0;32m---> 25\u001b[0m     \u001b[39mif\u001b[39;00m event[\u001b[39m'\u001b[39;49m\u001b[39mtype\u001b[39;49m\u001b[39m'\u001b[39;49m] \u001b[39m==\u001b[39m \u001b[39m'\u001b[39m\u001b[39mclick\u001b[39m\u001b[39m'\u001b[39m:\n\u001b[1;32m     26\u001b[0m         lat, lon \u001b[39m=\u001b[39m event[\u001b[39m'\u001b[39m\u001b[39mcoordinates\u001b[39m\u001b[39m'\u001b[39m]\n\u001b[1;32m     27\u001b[0m         marker \u001b[39m=\u001b[39m ipyleaflet\u001b[39m.\u001b[39mMarker(location\u001b[39m=\u001b[39m(lat, lon))\n",
      "\u001b[0;31mTypeError\u001b[0m: string indices must be integers, not 'str'"
     ]
    },
    {
     "ename": "TypeError",
     "evalue": "string indices must be integers, not 'str'",
     "output_type": "error",
     "traceback": [
      "\u001b[0;31m---------------------------------------------------------------------------\u001b[0m",
      "\u001b[0;31mTypeError\u001b[0m                                 Traceback (most recent call last)",
      "File \u001b[0;32m~/Documents/geolog/geolog/geotest.py:25\u001b[0m, in \u001b[0;36mMap.handle_interaction\u001b[0;34m(self, event, **kwargs)\u001b[0m\n\u001b[1;32m     24\u001b[0m \u001b[39mdef\u001b[39;00m \u001b[39mhandle_interaction\u001b[39m(\u001b[39mself\u001b[39m, event, \u001b[39m*\u001b[39m\u001b[39m*\u001b[39mkwargs):\n\u001b[0;32m---> 25\u001b[0m     \u001b[39mif\u001b[39;00m event[\u001b[39m'\u001b[39;49m\u001b[39mtype\u001b[39;49m\u001b[39m'\u001b[39;49m] \u001b[39m==\u001b[39m \u001b[39m'\u001b[39m\u001b[39mclick\u001b[39m\u001b[39m'\u001b[39m:\n\u001b[1;32m     26\u001b[0m         lat, lon \u001b[39m=\u001b[39m event[\u001b[39m'\u001b[39m\u001b[39mcoordinates\u001b[39m\u001b[39m'\u001b[39m]\n\u001b[1;32m     27\u001b[0m         marker \u001b[39m=\u001b[39m ipyleaflet\u001b[39m.\u001b[39mMarker(location\u001b[39m=\u001b[39m(lat, lon))\n",
      "\u001b[0;31mTypeError\u001b[0m: string indices must be integers, not 'str'"
     ]
    },
    {
     "ename": "TypeError",
     "evalue": "string indices must be integers, not 'str'",
     "output_type": "error",
     "traceback": [
      "\u001b[0;31m---------------------------------------------------------------------------\u001b[0m",
      "\u001b[0;31mTypeError\u001b[0m                                 Traceback (most recent call last)",
      "File \u001b[0;32m~/Documents/geolog/geolog/geotest.py:25\u001b[0m, in \u001b[0;36mMap.handle_interaction\u001b[0;34m(self, event, **kwargs)\u001b[0m\n\u001b[1;32m     24\u001b[0m \u001b[39mdef\u001b[39;00m \u001b[39mhandle_interaction\u001b[39m(\u001b[39mself\u001b[39m, event, \u001b[39m*\u001b[39m\u001b[39m*\u001b[39mkwargs):\n\u001b[0;32m---> 25\u001b[0m     \u001b[39mif\u001b[39;00m event[\u001b[39m'\u001b[39;49m\u001b[39mtype\u001b[39;49m\u001b[39m'\u001b[39;49m] \u001b[39m==\u001b[39m \u001b[39m'\u001b[39m\u001b[39mclick\u001b[39m\u001b[39m'\u001b[39m:\n\u001b[1;32m     26\u001b[0m         lat, lon \u001b[39m=\u001b[39m event[\u001b[39m'\u001b[39m\u001b[39mcoordinates\u001b[39m\u001b[39m'\u001b[39m]\n\u001b[1;32m     27\u001b[0m         marker \u001b[39m=\u001b[39m ipyleaflet\u001b[39m.\u001b[39mMarker(location\u001b[39m=\u001b[39m(lat, lon))\n",
      "\u001b[0;31mTypeError\u001b[0m: string indices must be integers, not 'str'"
     ]
    },
    {
     "ename": "TypeError",
     "evalue": "string indices must be integers, not 'str'",
     "output_type": "error",
     "traceback": [
      "\u001b[0;31m---------------------------------------------------------------------------\u001b[0m",
      "\u001b[0;31mTypeError\u001b[0m                                 Traceback (most recent call last)",
      "File \u001b[0;32m~/Documents/geolog/geolog/geotest.py:25\u001b[0m, in \u001b[0;36mMap.handle_interaction\u001b[0;34m(self, event, **kwargs)\u001b[0m\n\u001b[1;32m     24\u001b[0m \u001b[39mdef\u001b[39;00m \u001b[39mhandle_interaction\u001b[39m(\u001b[39mself\u001b[39m, event, \u001b[39m*\u001b[39m\u001b[39m*\u001b[39mkwargs):\n\u001b[0;32m---> 25\u001b[0m     \u001b[39mif\u001b[39;00m event[\u001b[39m'\u001b[39;49m\u001b[39mtype\u001b[39;49m\u001b[39m'\u001b[39;49m] \u001b[39m==\u001b[39m \u001b[39m'\u001b[39m\u001b[39mclick\u001b[39m\u001b[39m'\u001b[39m:\n\u001b[1;32m     26\u001b[0m         lat, lon \u001b[39m=\u001b[39m event[\u001b[39m'\u001b[39m\u001b[39mcoordinates\u001b[39m\u001b[39m'\u001b[39m]\n\u001b[1;32m     27\u001b[0m         marker \u001b[39m=\u001b[39m ipyleaflet\u001b[39m.\u001b[39mMarker(location\u001b[39m=\u001b[39m(lat, lon))\n",
      "\u001b[0;31mTypeError\u001b[0m: string indices must be integers, not 'str'"
     ]
    },
    {
     "ename": "TypeError",
     "evalue": "string indices must be integers, not 'str'",
     "output_type": "error",
     "traceback": [
      "\u001b[0;31m---------------------------------------------------------------------------\u001b[0m",
      "\u001b[0;31mTypeError\u001b[0m                                 Traceback (most recent call last)",
      "File \u001b[0;32m~/Documents/geolog/geolog/geotest.py:25\u001b[0m, in \u001b[0;36mMap.handle_interaction\u001b[0;34m(self, event, **kwargs)\u001b[0m\n\u001b[1;32m     24\u001b[0m \u001b[39mdef\u001b[39;00m \u001b[39mhandle_interaction\u001b[39m(\u001b[39mself\u001b[39m, event, \u001b[39m*\u001b[39m\u001b[39m*\u001b[39mkwargs):\n\u001b[0;32m---> 25\u001b[0m     \u001b[39mif\u001b[39;00m event[\u001b[39m'\u001b[39;49m\u001b[39mtype\u001b[39;49m\u001b[39m'\u001b[39;49m] \u001b[39m==\u001b[39m \u001b[39m'\u001b[39m\u001b[39mclick\u001b[39m\u001b[39m'\u001b[39m:\n\u001b[1;32m     26\u001b[0m         lat, lon \u001b[39m=\u001b[39m event[\u001b[39m'\u001b[39m\u001b[39mcoordinates\u001b[39m\u001b[39m'\u001b[39m]\n\u001b[1;32m     27\u001b[0m         marker \u001b[39m=\u001b[39m ipyleaflet\u001b[39m.\u001b[39mMarker(location\u001b[39m=\u001b[39m(lat, lon))\n",
      "\u001b[0;31mTypeError\u001b[0m: string indices must be integers, not 'str'"
     ]
    },
    {
     "ename": "TypeError",
     "evalue": "string indices must be integers, not 'str'",
     "output_type": "error",
     "traceback": [
      "\u001b[0;31m---------------------------------------------------------------------------\u001b[0m",
      "\u001b[0;31mTypeError\u001b[0m                                 Traceback (most recent call last)",
      "File \u001b[0;32m~/Documents/geolog/geolog/geotest.py:25\u001b[0m, in \u001b[0;36mMap.handle_interaction\u001b[0;34m(self, event, **kwargs)\u001b[0m\n\u001b[1;32m     24\u001b[0m \u001b[39mdef\u001b[39;00m \u001b[39mhandle_interaction\u001b[39m(\u001b[39mself\u001b[39m, event, \u001b[39m*\u001b[39m\u001b[39m*\u001b[39mkwargs):\n\u001b[0;32m---> 25\u001b[0m     \u001b[39mif\u001b[39;00m event[\u001b[39m'\u001b[39;49m\u001b[39mtype\u001b[39;49m\u001b[39m'\u001b[39;49m] \u001b[39m==\u001b[39m \u001b[39m'\u001b[39m\u001b[39mclick\u001b[39m\u001b[39m'\u001b[39m:\n\u001b[1;32m     26\u001b[0m         lat, lon \u001b[39m=\u001b[39m event[\u001b[39m'\u001b[39m\u001b[39mcoordinates\u001b[39m\u001b[39m'\u001b[39m]\n\u001b[1;32m     27\u001b[0m         marker \u001b[39m=\u001b[39m ipyleaflet\u001b[39m.\u001b[39mMarker(location\u001b[39m=\u001b[39m(lat, lon))\n",
      "\u001b[0;31mTypeError\u001b[0m: string indices must be integers, not 'str'"
     ]
    },
    {
     "ename": "TypeError",
     "evalue": "string indices must be integers, not 'str'",
     "output_type": "error",
     "traceback": [
      "\u001b[0;31m---------------------------------------------------------------------------\u001b[0m",
      "\u001b[0;31mTypeError\u001b[0m                                 Traceback (most recent call last)",
      "File \u001b[0;32m~/Documents/geolog/geolog/geotest.py:25\u001b[0m, in \u001b[0;36mMap.handle_interaction\u001b[0;34m(self, event, **kwargs)\u001b[0m\n\u001b[1;32m     24\u001b[0m \u001b[39mdef\u001b[39;00m \u001b[39mhandle_interaction\u001b[39m(\u001b[39mself\u001b[39m, event, \u001b[39m*\u001b[39m\u001b[39m*\u001b[39mkwargs):\n\u001b[0;32m---> 25\u001b[0m     \u001b[39mif\u001b[39;00m event[\u001b[39m'\u001b[39;49m\u001b[39mtype\u001b[39;49m\u001b[39m'\u001b[39;49m] \u001b[39m==\u001b[39m \u001b[39m'\u001b[39m\u001b[39mclick\u001b[39m\u001b[39m'\u001b[39m:\n\u001b[1;32m     26\u001b[0m         lat, lon \u001b[39m=\u001b[39m event[\u001b[39m'\u001b[39m\u001b[39mcoordinates\u001b[39m\u001b[39m'\u001b[39m]\n\u001b[1;32m     27\u001b[0m         marker \u001b[39m=\u001b[39m ipyleaflet\u001b[39m.\u001b[39mMarker(location\u001b[39m=\u001b[39m(lat, lon))\n",
      "\u001b[0;31mTypeError\u001b[0m: string indices must be integers, not 'str'"
     ]
    },
    {
     "ename": "TypeError",
     "evalue": "string indices must be integers, not 'str'",
     "output_type": "error",
     "traceback": [
      "\u001b[0;31m---------------------------------------------------------------------------\u001b[0m",
      "\u001b[0;31mTypeError\u001b[0m                                 Traceback (most recent call last)",
      "File \u001b[0;32m~/Documents/geolog/geolog/geotest.py:25\u001b[0m, in \u001b[0;36mMap.handle_interaction\u001b[0;34m(self, event, **kwargs)\u001b[0m\n\u001b[1;32m     24\u001b[0m \u001b[39mdef\u001b[39;00m \u001b[39mhandle_interaction\u001b[39m(\u001b[39mself\u001b[39m, event, \u001b[39m*\u001b[39m\u001b[39m*\u001b[39mkwargs):\n\u001b[0;32m---> 25\u001b[0m     \u001b[39mif\u001b[39;00m event[\u001b[39m'\u001b[39;49m\u001b[39mtype\u001b[39;49m\u001b[39m'\u001b[39;49m] \u001b[39m==\u001b[39m \u001b[39m'\u001b[39m\u001b[39mclick\u001b[39m\u001b[39m'\u001b[39m:\n\u001b[1;32m     26\u001b[0m         lat, lon \u001b[39m=\u001b[39m event[\u001b[39m'\u001b[39m\u001b[39mcoordinates\u001b[39m\u001b[39m'\u001b[39m]\n\u001b[1;32m     27\u001b[0m         marker \u001b[39m=\u001b[39m ipyleaflet\u001b[39m.\u001b[39mMarker(location\u001b[39m=\u001b[39m(lat, lon))\n",
      "\u001b[0;31mTypeError\u001b[0m: string indices must be integers, not 'str'"
     ]
    },
    {
     "ename": "TypeError",
     "evalue": "string indices must be integers, not 'str'",
     "output_type": "error",
     "traceback": [
      "\u001b[0;31m---------------------------------------------------------------------------\u001b[0m",
      "\u001b[0;31mTypeError\u001b[0m                                 Traceback (most recent call last)",
      "File \u001b[0;32m~/Documents/geolog/geolog/geotest.py:25\u001b[0m, in \u001b[0;36mMap.handle_interaction\u001b[0;34m(self, event, **kwargs)\u001b[0m\n\u001b[1;32m     24\u001b[0m \u001b[39mdef\u001b[39;00m \u001b[39mhandle_interaction\u001b[39m(\u001b[39mself\u001b[39m, event, \u001b[39m*\u001b[39m\u001b[39m*\u001b[39mkwargs):\n\u001b[0;32m---> 25\u001b[0m     \u001b[39mif\u001b[39;00m event[\u001b[39m'\u001b[39;49m\u001b[39mtype\u001b[39;49m\u001b[39m'\u001b[39;49m] \u001b[39m==\u001b[39m \u001b[39m'\u001b[39m\u001b[39mclick\u001b[39m\u001b[39m'\u001b[39m:\n\u001b[1;32m     26\u001b[0m         lat, lon \u001b[39m=\u001b[39m event[\u001b[39m'\u001b[39m\u001b[39mcoordinates\u001b[39m\u001b[39m'\u001b[39m]\n\u001b[1;32m     27\u001b[0m         marker \u001b[39m=\u001b[39m ipyleaflet\u001b[39m.\u001b[39mMarker(location\u001b[39m=\u001b[39m(lat, lon))\n",
      "\u001b[0;31mTypeError\u001b[0m: string indices must be integers, not 'str'"
     ]
    },
    {
     "ename": "TypeError",
     "evalue": "string indices must be integers, not 'str'",
     "output_type": "error",
     "traceback": [
      "\u001b[0;31m---------------------------------------------------------------------------\u001b[0m",
      "\u001b[0;31mTypeError\u001b[0m                                 Traceback (most recent call last)",
      "File \u001b[0;32m~/Documents/geolog/geolog/geotest.py:25\u001b[0m, in \u001b[0;36mMap.handle_interaction\u001b[0;34m(self, event, **kwargs)\u001b[0m\n\u001b[1;32m     24\u001b[0m \u001b[39mdef\u001b[39;00m \u001b[39mhandle_interaction\u001b[39m(\u001b[39mself\u001b[39m, event, \u001b[39m*\u001b[39m\u001b[39m*\u001b[39mkwargs):\n\u001b[0;32m---> 25\u001b[0m     \u001b[39mif\u001b[39;00m event[\u001b[39m'\u001b[39;49m\u001b[39mtype\u001b[39;49m\u001b[39m'\u001b[39;49m] \u001b[39m==\u001b[39m \u001b[39m'\u001b[39m\u001b[39mclick\u001b[39m\u001b[39m'\u001b[39m:\n\u001b[1;32m     26\u001b[0m         lat, lon \u001b[39m=\u001b[39m event[\u001b[39m'\u001b[39m\u001b[39mcoordinates\u001b[39m\u001b[39m'\u001b[39m]\n\u001b[1;32m     27\u001b[0m         marker \u001b[39m=\u001b[39m ipyleaflet\u001b[39m.\u001b[39mMarker(location\u001b[39m=\u001b[39m(lat, lon))\n",
      "\u001b[0;31mTypeError\u001b[0m: string indices must be integers, not 'str'"
     ]
    },
    {
     "ename": "TypeError",
     "evalue": "string indices must be integers, not 'str'",
     "output_type": "error",
     "traceback": [
      "\u001b[0;31m---------------------------------------------------------------------------\u001b[0m",
      "\u001b[0;31mTypeError\u001b[0m                                 Traceback (most recent call last)",
      "File \u001b[0;32m~/Documents/geolog/geolog/geotest.py:25\u001b[0m, in \u001b[0;36mMap.handle_interaction\u001b[0;34m(self, event, **kwargs)\u001b[0m\n\u001b[1;32m     24\u001b[0m \u001b[39mdef\u001b[39;00m \u001b[39mhandle_interaction\u001b[39m(\u001b[39mself\u001b[39m, event, \u001b[39m*\u001b[39m\u001b[39m*\u001b[39mkwargs):\n\u001b[0;32m---> 25\u001b[0m     \u001b[39mif\u001b[39;00m event[\u001b[39m'\u001b[39;49m\u001b[39mtype\u001b[39;49m\u001b[39m'\u001b[39;49m] \u001b[39m==\u001b[39m \u001b[39m'\u001b[39m\u001b[39mclick\u001b[39m\u001b[39m'\u001b[39m:\n\u001b[1;32m     26\u001b[0m         lat, lon \u001b[39m=\u001b[39m event[\u001b[39m'\u001b[39m\u001b[39mcoordinates\u001b[39m\u001b[39m'\u001b[39m]\n\u001b[1;32m     27\u001b[0m         marker \u001b[39m=\u001b[39m ipyleaflet\u001b[39m.\u001b[39mMarker(location\u001b[39m=\u001b[39m(lat, lon))\n",
      "\u001b[0;31mTypeError\u001b[0m: string indices must be integers, not 'str'"
     ]
    },
    {
     "ename": "TypeError",
     "evalue": "string indices must be integers, not 'str'",
     "output_type": "error",
     "traceback": [
      "\u001b[0;31m---------------------------------------------------------------------------\u001b[0m",
      "\u001b[0;31mTypeError\u001b[0m                                 Traceback (most recent call last)",
      "File \u001b[0;32m~/Documents/geolog/geolog/geotest.py:25\u001b[0m, in \u001b[0;36mMap.handle_interaction\u001b[0;34m(self, event, **kwargs)\u001b[0m\n\u001b[1;32m     24\u001b[0m \u001b[39mdef\u001b[39;00m \u001b[39mhandle_interaction\u001b[39m(\u001b[39mself\u001b[39m, event, \u001b[39m*\u001b[39m\u001b[39m*\u001b[39mkwargs):\n\u001b[0;32m---> 25\u001b[0m     \u001b[39mif\u001b[39;00m event[\u001b[39m'\u001b[39;49m\u001b[39mtype\u001b[39;49m\u001b[39m'\u001b[39;49m] \u001b[39m==\u001b[39m \u001b[39m'\u001b[39m\u001b[39mclick\u001b[39m\u001b[39m'\u001b[39m:\n\u001b[1;32m     26\u001b[0m         lat, lon \u001b[39m=\u001b[39m event[\u001b[39m'\u001b[39m\u001b[39mcoordinates\u001b[39m\u001b[39m'\u001b[39m]\n\u001b[1;32m     27\u001b[0m         marker \u001b[39m=\u001b[39m ipyleaflet\u001b[39m.\u001b[39mMarker(location\u001b[39m=\u001b[39m(lat, lon))\n",
      "\u001b[0;31mTypeError\u001b[0m: string indices must be integers, not 'str'"
     ]
    },
    {
     "ename": "TypeError",
     "evalue": "string indices must be integers, not 'str'",
     "output_type": "error",
     "traceback": [
      "\u001b[0;31m---------------------------------------------------------------------------\u001b[0m",
      "\u001b[0;31mTypeError\u001b[0m                                 Traceback (most recent call last)",
      "File \u001b[0;32m~/Documents/geolog/geolog/geotest.py:25\u001b[0m, in \u001b[0;36mMap.handle_interaction\u001b[0;34m(self, event, **kwargs)\u001b[0m\n\u001b[1;32m     24\u001b[0m \u001b[39mdef\u001b[39;00m \u001b[39mhandle_interaction\u001b[39m(\u001b[39mself\u001b[39m, event, \u001b[39m*\u001b[39m\u001b[39m*\u001b[39mkwargs):\n\u001b[0;32m---> 25\u001b[0m     \u001b[39mif\u001b[39;00m event[\u001b[39m'\u001b[39;49m\u001b[39mtype\u001b[39;49m\u001b[39m'\u001b[39;49m] \u001b[39m==\u001b[39m \u001b[39m'\u001b[39m\u001b[39mclick\u001b[39m\u001b[39m'\u001b[39m:\n\u001b[1;32m     26\u001b[0m         lat, lon \u001b[39m=\u001b[39m event[\u001b[39m'\u001b[39m\u001b[39mcoordinates\u001b[39m\u001b[39m'\u001b[39m]\n\u001b[1;32m     27\u001b[0m         marker \u001b[39m=\u001b[39m ipyleaflet\u001b[39m.\u001b[39mMarker(location\u001b[39m=\u001b[39m(lat, lon))\n",
      "\u001b[0;31mTypeError\u001b[0m: string indices must be integers, not 'str'"
     ]
    },
    {
     "ename": "TypeError",
     "evalue": "string indices must be integers, not 'str'",
     "output_type": "error",
     "traceback": [
      "\u001b[0;31m---------------------------------------------------------------------------\u001b[0m",
      "\u001b[0;31mTypeError\u001b[0m                                 Traceback (most recent call last)",
      "File \u001b[0;32m~/Documents/geolog/geolog/geotest.py:25\u001b[0m, in \u001b[0;36mMap.handle_interaction\u001b[0;34m(self, event, **kwargs)\u001b[0m\n\u001b[1;32m     24\u001b[0m \u001b[39mdef\u001b[39;00m \u001b[39mhandle_interaction\u001b[39m(\u001b[39mself\u001b[39m, event, \u001b[39m*\u001b[39m\u001b[39m*\u001b[39mkwargs):\n\u001b[0;32m---> 25\u001b[0m     \u001b[39mif\u001b[39;00m event[\u001b[39m'\u001b[39;49m\u001b[39mtype\u001b[39;49m\u001b[39m'\u001b[39;49m] \u001b[39m==\u001b[39m \u001b[39m'\u001b[39m\u001b[39mclick\u001b[39m\u001b[39m'\u001b[39m:\n\u001b[1;32m     26\u001b[0m         lat, lon \u001b[39m=\u001b[39m event[\u001b[39m'\u001b[39m\u001b[39mcoordinates\u001b[39m\u001b[39m'\u001b[39m]\n\u001b[1;32m     27\u001b[0m         marker \u001b[39m=\u001b[39m ipyleaflet\u001b[39m.\u001b[39mMarker(location\u001b[39m=\u001b[39m(lat, lon))\n",
      "\u001b[0;31mTypeError\u001b[0m: string indices must be integers, not 'str'"
     ]
    },
    {
     "ename": "TypeError",
     "evalue": "string indices must be integers, not 'str'",
     "output_type": "error",
     "traceback": [
      "\u001b[0;31m---------------------------------------------------------------------------\u001b[0m",
      "\u001b[0;31mTypeError\u001b[0m                                 Traceback (most recent call last)",
      "File \u001b[0;32m~/Documents/geolog/geolog/geotest.py:25\u001b[0m, in \u001b[0;36mMap.handle_interaction\u001b[0;34m(self, event, **kwargs)\u001b[0m\n\u001b[1;32m     24\u001b[0m \u001b[39mdef\u001b[39;00m \u001b[39mhandle_interaction\u001b[39m(\u001b[39mself\u001b[39m, event, \u001b[39m*\u001b[39m\u001b[39m*\u001b[39mkwargs):\n\u001b[0;32m---> 25\u001b[0m     \u001b[39mif\u001b[39;00m event[\u001b[39m'\u001b[39;49m\u001b[39mtype\u001b[39;49m\u001b[39m'\u001b[39;49m] \u001b[39m==\u001b[39m \u001b[39m'\u001b[39m\u001b[39mclick\u001b[39m\u001b[39m'\u001b[39m:\n\u001b[1;32m     26\u001b[0m         lat, lon \u001b[39m=\u001b[39m event[\u001b[39m'\u001b[39m\u001b[39mcoordinates\u001b[39m\u001b[39m'\u001b[39m]\n\u001b[1;32m     27\u001b[0m         marker \u001b[39m=\u001b[39m ipyleaflet\u001b[39m.\u001b[39mMarker(location\u001b[39m=\u001b[39m(lat, lon))\n",
      "\u001b[0;31mTypeError\u001b[0m: string indices must be integers, not 'str'"
     ]
    },
    {
     "ename": "TypeError",
     "evalue": "string indices must be integers, not 'str'",
     "output_type": "error",
     "traceback": [
      "\u001b[0;31m---------------------------------------------------------------------------\u001b[0m",
      "\u001b[0;31mTypeError\u001b[0m                                 Traceback (most recent call last)",
      "File \u001b[0;32m~/Documents/geolog/geolog/geotest.py:25\u001b[0m, in \u001b[0;36mMap.handle_interaction\u001b[0;34m(self, event, **kwargs)\u001b[0m\n\u001b[1;32m     24\u001b[0m \u001b[39mdef\u001b[39;00m \u001b[39mhandle_interaction\u001b[39m(\u001b[39mself\u001b[39m, event, \u001b[39m*\u001b[39m\u001b[39m*\u001b[39mkwargs):\n\u001b[0;32m---> 25\u001b[0m     \u001b[39mif\u001b[39;00m event[\u001b[39m'\u001b[39;49m\u001b[39mtype\u001b[39;49m\u001b[39m'\u001b[39;49m] \u001b[39m==\u001b[39m \u001b[39m'\u001b[39m\u001b[39mclick\u001b[39m\u001b[39m'\u001b[39m:\n\u001b[1;32m     26\u001b[0m         lat, lon \u001b[39m=\u001b[39m event[\u001b[39m'\u001b[39m\u001b[39mcoordinates\u001b[39m\u001b[39m'\u001b[39m]\n\u001b[1;32m     27\u001b[0m         marker \u001b[39m=\u001b[39m ipyleaflet\u001b[39m.\u001b[39mMarker(location\u001b[39m=\u001b[39m(lat, lon))\n",
      "\u001b[0;31mTypeError\u001b[0m: string indices must be integers, not 'str'"
     ]
    },
    {
     "ename": "TypeError",
     "evalue": "string indices must be integers, not 'str'",
     "output_type": "error",
     "traceback": [
      "\u001b[0;31m---------------------------------------------------------------------------\u001b[0m",
      "\u001b[0;31mTypeError\u001b[0m                                 Traceback (most recent call last)",
      "File \u001b[0;32m~/Documents/geolog/geolog/geotest.py:25\u001b[0m, in \u001b[0;36mMap.handle_interaction\u001b[0;34m(self, event, **kwargs)\u001b[0m\n\u001b[1;32m     24\u001b[0m \u001b[39mdef\u001b[39;00m \u001b[39mhandle_interaction\u001b[39m(\u001b[39mself\u001b[39m, event, \u001b[39m*\u001b[39m\u001b[39m*\u001b[39mkwargs):\n\u001b[0;32m---> 25\u001b[0m     \u001b[39mif\u001b[39;00m event[\u001b[39m'\u001b[39;49m\u001b[39mtype\u001b[39;49m\u001b[39m'\u001b[39;49m] \u001b[39m==\u001b[39m \u001b[39m'\u001b[39m\u001b[39mclick\u001b[39m\u001b[39m'\u001b[39m:\n\u001b[1;32m     26\u001b[0m         lat, lon \u001b[39m=\u001b[39m event[\u001b[39m'\u001b[39m\u001b[39mcoordinates\u001b[39m\u001b[39m'\u001b[39m]\n\u001b[1;32m     27\u001b[0m         marker \u001b[39m=\u001b[39m ipyleaflet\u001b[39m.\u001b[39mMarker(location\u001b[39m=\u001b[39m(lat, lon))\n",
      "\u001b[0;31mTypeError\u001b[0m: string indices must be integers, not 'str'"
     ]
    },
    {
     "ename": "TypeError",
     "evalue": "string indices must be integers, not 'str'",
     "output_type": "error",
     "traceback": [
      "\u001b[0;31m---------------------------------------------------------------------------\u001b[0m",
      "\u001b[0;31mTypeError\u001b[0m                                 Traceback (most recent call last)",
      "File \u001b[0;32m~/Documents/geolog/geolog/geotest.py:25\u001b[0m, in \u001b[0;36mMap.handle_interaction\u001b[0;34m(self, event, **kwargs)\u001b[0m\n\u001b[1;32m     24\u001b[0m \u001b[39mdef\u001b[39;00m \u001b[39mhandle_interaction\u001b[39m(\u001b[39mself\u001b[39m, event, \u001b[39m*\u001b[39m\u001b[39m*\u001b[39mkwargs):\n\u001b[0;32m---> 25\u001b[0m     \u001b[39mif\u001b[39;00m event[\u001b[39m'\u001b[39;49m\u001b[39mtype\u001b[39;49m\u001b[39m'\u001b[39;49m] \u001b[39m==\u001b[39m \u001b[39m'\u001b[39m\u001b[39mclick\u001b[39m\u001b[39m'\u001b[39m:\n\u001b[1;32m     26\u001b[0m         lat, lon \u001b[39m=\u001b[39m event[\u001b[39m'\u001b[39m\u001b[39mcoordinates\u001b[39m\u001b[39m'\u001b[39m]\n\u001b[1;32m     27\u001b[0m         marker \u001b[39m=\u001b[39m ipyleaflet\u001b[39m.\u001b[39mMarker(location\u001b[39m=\u001b[39m(lat, lon))\n",
      "\u001b[0;31mTypeError\u001b[0m: string indices must be integers, not 'str'"
     ]
    },
    {
     "ename": "TypeError",
     "evalue": "string indices must be integers, not 'str'",
     "output_type": "error",
     "traceback": [
      "\u001b[0;31m---------------------------------------------------------------------------\u001b[0m",
      "\u001b[0;31mTypeError\u001b[0m                                 Traceback (most recent call last)",
      "File \u001b[0;32m~/Documents/geolog/geolog/geotest.py:25\u001b[0m, in \u001b[0;36mMap.handle_interaction\u001b[0;34m(self, event, **kwargs)\u001b[0m\n\u001b[1;32m     24\u001b[0m \u001b[39mdef\u001b[39;00m \u001b[39mhandle_interaction\u001b[39m(\u001b[39mself\u001b[39m, event, \u001b[39m*\u001b[39m\u001b[39m*\u001b[39mkwargs):\n\u001b[0;32m---> 25\u001b[0m     \u001b[39mif\u001b[39;00m event[\u001b[39m'\u001b[39;49m\u001b[39mtype\u001b[39;49m\u001b[39m'\u001b[39;49m] \u001b[39m==\u001b[39m \u001b[39m'\u001b[39m\u001b[39mclick\u001b[39m\u001b[39m'\u001b[39m:\n\u001b[1;32m     26\u001b[0m         lat, lon \u001b[39m=\u001b[39m event[\u001b[39m'\u001b[39m\u001b[39mcoordinates\u001b[39m\u001b[39m'\u001b[39m]\n\u001b[1;32m     27\u001b[0m         marker \u001b[39m=\u001b[39m ipyleaflet\u001b[39m.\u001b[39mMarker(location\u001b[39m=\u001b[39m(lat, lon))\n",
      "\u001b[0;31mTypeError\u001b[0m: string indices must be integers, not 'str'"
     ]
    },
    {
     "ename": "TypeError",
     "evalue": "string indices must be integers, not 'str'",
     "output_type": "error",
     "traceback": [
      "\u001b[0;31m---------------------------------------------------------------------------\u001b[0m",
      "\u001b[0;31mTypeError\u001b[0m                                 Traceback (most recent call last)",
      "File \u001b[0;32m~/Documents/geolog/geolog/geotest.py:25\u001b[0m, in \u001b[0;36mMap.handle_interaction\u001b[0;34m(self, event, **kwargs)\u001b[0m\n\u001b[1;32m     24\u001b[0m \u001b[39mdef\u001b[39;00m \u001b[39mhandle_interaction\u001b[39m(\u001b[39mself\u001b[39m, event, \u001b[39m*\u001b[39m\u001b[39m*\u001b[39mkwargs):\n\u001b[0;32m---> 25\u001b[0m     \u001b[39mif\u001b[39;00m event[\u001b[39m'\u001b[39;49m\u001b[39mtype\u001b[39;49m\u001b[39m'\u001b[39;49m] \u001b[39m==\u001b[39m \u001b[39m'\u001b[39m\u001b[39mclick\u001b[39m\u001b[39m'\u001b[39m:\n\u001b[1;32m     26\u001b[0m         lat, lon \u001b[39m=\u001b[39m event[\u001b[39m'\u001b[39m\u001b[39mcoordinates\u001b[39m\u001b[39m'\u001b[39m]\n\u001b[1;32m     27\u001b[0m         marker \u001b[39m=\u001b[39m ipyleaflet\u001b[39m.\u001b[39mMarker(location\u001b[39m=\u001b[39m(lat, lon))\n",
      "\u001b[0;31mTypeError\u001b[0m: string indices must be integers, not 'str'"
     ]
    },
    {
     "ename": "TypeError",
     "evalue": "string indices must be integers, not 'str'",
     "output_type": "error",
     "traceback": [
      "\u001b[0;31m---------------------------------------------------------------------------\u001b[0m",
      "\u001b[0;31mTypeError\u001b[0m                                 Traceback (most recent call last)",
      "File \u001b[0;32m~/Documents/geolog/geolog/geotest.py:25\u001b[0m, in \u001b[0;36mMap.handle_interaction\u001b[0;34m(self, event, **kwargs)\u001b[0m\n\u001b[1;32m     24\u001b[0m \u001b[39mdef\u001b[39;00m \u001b[39mhandle_interaction\u001b[39m(\u001b[39mself\u001b[39m, event, \u001b[39m*\u001b[39m\u001b[39m*\u001b[39mkwargs):\n\u001b[0;32m---> 25\u001b[0m     \u001b[39mif\u001b[39;00m event[\u001b[39m'\u001b[39;49m\u001b[39mtype\u001b[39;49m\u001b[39m'\u001b[39;49m] \u001b[39m==\u001b[39m \u001b[39m'\u001b[39m\u001b[39mclick\u001b[39m\u001b[39m'\u001b[39m:\n\u001b[1;32m     26\u001b[0m         lat, lon \u001b[39m=\u001b[39m event[\u001b[39m'\u001b[39m\u001b[39mcoordinates\u001b[39m\u001b[39m'\u001b[39m]\n\u001b[1;32m     27\u001b[0m         marker \u001b[39m=\u001b[39m ipyleaflet\u001b[39m.\u001b[39mMarker(location\u001b[39m=\u001b[39m(lat, lon))\n",
      "\u001b[0;31mTypeError\u001b[0m: string indices must be integers, not 'str'"
     ]
    },
    {
     "ename": "TypeError",
     "evalue": "string indices must be integers, not 'str'",
     "output_type": "error",
     "traceback": [
      "\u001b[0;31m---------------------------------------------------------------------------\u001b[0m",
      "\u001b[0;31mTypeError\u001b[0m                                 Traceback (most recent call last)",
      "File \u001b[0;32m~/Documents/geolog/geolog/geotest.py:25\u001b[0m, in \u001b[0;36mMap.handle_interaction\u001b[0;34m(self, event, **kwargs)\u001b[0m\n\u001b[1;32m     24\u001b[0m \u001b[39mdef\u001b[39;00m \u001b[39mhandle_interaction\u001b[39m(\u001b[39mself\u001b[39m, event, \u001b[39m*\u001b[39m\u001b[39m*\u001b[39mkwargs):\n\u001b[0;32m---> 25\u001b[0m     \u001b[39mif\u001b[39;00m event[\u001b[39m'\u001b[39;49m\u001b[39mtype\u001b[39;49m\u001b[39m'\u001b[39;49m] \u001b[39m==\u001b[39m \u001b[39m'\u001b[39m\u001b[39mclick\u001b[39m\u001b[39m'\u001b[39m:\n\u001b[1;32m     26\u001b[0m         lat, lon \u001b[39m=\u001b[39m event[\u001b[39m'\u001b[39m\u001b[39mcoordinates\u001b[39m\u001b[39m'\u001b[39m]\n\u001b[1;32m     27\u001b[0m         marker \u001b[39m=\u001b[39m ipyleaflet\u001b[39m.\u001b[39mMarker(location\u001b[39m=\u001b[39m(lat, lon))\n",
      "\u001b[0;31mTypeError\u001b[0m: string indices must be integers, not 'str'"
     ]
    },
    {
     "ename": "TypeError",
     "evalue": "string indices must be integers, not 'str'",
     "output_type": "error",
     "traceback": [
      "\u001b[0;31m---------------------------------------------------------------------------\u001b[0m",
      "\u001b[0;31mTypeError\u001b[0m                                 Traceback (most recent call last)",
      "File \u001b[0;32m~/Documents/geolog/geolog/geotest.py:25\u001b[0m, in \u001b[0;36mMap.handle_interaction\u001b[0;34m(self, event, **kwargs)\u001b[0m\n\u001b[1;32m     24\u001b[0m \u001b[39mdef\u001b[39;00m \u001b[39mhandle_interaction\u001b[39m(\u001b[39mself\u001b[39m, event, \u001b[39m*\u001b[39m\u001b[39m*\u001b[39mkwargs):\n\u001b[0;32m---> 25\u001b[0m     \u001b[39mif\u001b[39;00m event[\u001b[39m'\u001b[39;49m\u001b[39mtype\u001b[39;49m\u001b[39m'\u001b[39;49m] \u001b[39m==\u001b[39m \u001b[39m'\u001b[39m\u001b[39mclick\u001b[39m\u001b[39m'\u001b[39m:\n\u001b[1;32m     26\u001b[0m         lat, lon \u001b[39m=\u001b[39m event[\u001b[39m'\u001b[39m\u001b[39mcoordinates\u001b[39m\u001b[39m'\u001b[39m]\n\u001b[1;32m     27\u001b[0m         marker \u001b[39m=\u001b[39m ipyleaflet\u001b[39m.\u001b[39mMarker(location\u001b[39m=\u001b[39m(lat, lon))\n",
      "\u001b[0;31mTypeError\u001b[0m: string indices must be integers, not 'str'"
     ]
    },
    {
     "ename": "TypeError",
     "evalue": "string indices must be integers, not 'str'",
     "output_type": "error",
     "traceback": [
      "\u001b[0;31m---------------------------------------------------------------------------\u001b[0m",
      "\u001b[0;31mTypeError\u001b[0m                                 Traceback (most recent call last)",
      "File \u001b[0;32m~/Documents/geolog/geolog/geotest.py:25\u001b[0m, in \u001b[0;36mMap.handle_interaction\u001b[0;34m(self, event, **kwargs)\u001b[0m\n\u001b[1;32m     24\u001b[0m \u001b[39mdef\u001b[39;00m \u001b[39mhandle_interaction\u001b[39m(\u001b[39mself\u001b[39m, event, \u001b[39m*\u001b[39m\u001b[39m*\u001b[39mkwargs):\n\u001b[0;32m---> 25\u001b[0m     \u001b[39mif\u001b[39;00m event[\u001b[39m'\u001b[39;49m\u001b[39mtype\u001b[39;49m\u001b[39m'\u001b[39;49m] \u001b[39m==\u001b[39m \u001b[39m'\u001b[39m\u001b[39mclick\u001b[39m\u001b[39m'\u001b[39m:\n\u001b[1;32m     26\u001b[0m         lat, lon \u001b[39m=\u001b[39m event[\u001b[39m'\u001b[39m\u001b[39mcoordinates\u001b[39m\u001b[39m'\u001b[39m]\n\u001b[1;32m     27\u001b[0m         marker \u001b[39m=\u001b[39m ipyleaflet\u001b[39m.\u001b[39mMarker(location\u001b[39m=\u001b[39m(lat, lon))\n",
      "\u001b[0;31mTypeError\u001b[0m: string indices must be integers, not 'str'"
     ]
    },
    {
     "ename": "TypeError",
     "evalue": "string indices must be integers, not 'str'",
     "output_type": "error",
     "traceback": [
      "\u001b[0;31m---------------------------------------------------------------------------\u001b[0m",
      "\u001b[0;31mTypeError\u001b[0m                                 Traceback (most recent call last)",
      "File \u001b[0;32m~/Documents/geolog/geolog/geotest.py:25\u001b[0m, in \u001b[0;36mMap.handle_interaction\u001b[0;34m(self, event, **kwargs)\u001b[0m\n\u001b[1;32m     24\u001b[0m \u001b[39mdef\u001b[39;00m \u001b[39mhandle_interaction\u001b[39m(\u001b[39mself\u001b[39m, event, \u001b[39m*\u001b[39m\u001b[39m*\u001b[39mkwargs):\n\u001b[0;32m---> 25\u001b[0m     \u001b[39mif\u001b[39;00m event[\u001b[39m'\u001b[39;49m\u001b[39mtype\u001b[39;49m\u001b[39m'\u001b[39;49m] \u001b[39m==\u001b[39m \u001b[39m'\u001b[39m\u001b[39mclick\u001b[39m\u001b[39m'\u001b[39m:\n\u001b[1;32m     26\u001b[0m         lat, lon \u001b[39m=\u001b[39m event[\u001b[39m'\u001b[39m\u001b[39mcoordinates\u001b[39m\u001b[39m'\u001b[39m]\n\u001b[1;32m     27\u001b[0m         marker \u001b[39m=\u001b[39m ipyleaflet\u001b[39m.\u001b[39mMarker(location\u001b[39m=\u001b[39m(lat, lon))\n",
      "\u001b[0;31mTypeError\u001b[0m: string indices must be integers, not 'str'"
     ]
    },
    {
     "ename": "TypeError",
     "evalue": "string indices must be integers, not 'str'",
     "output_type": "error",
     "traceback": [
      "\u001b[0;31m---------------------------------------------------------------------------\u001b[0m",
      "\u001b[0;31mTypeError\u001b[0m                                 Traceback (most recent call last)",
      "File \u001b[0;32m~/Documents/geolog/geolog/geotest.py:25\u001b[0m, in \u001b[0;36mMap.handle_interaction\u001b[0;34m(self, event, **kwargs)\u001b[0m\n\u001b[1;32m     24\u001b[0m \u001b[39mdef\u001b[39;00m \u001b[39mhandle_interaction\u001b[39m(\u001b[39mself\u001b[39m, event, \u001b[39m*\u001b[39m\u001b[39m*\u001b[39mkwargs):\n\u001b[0;32m---> 25\u001b[0m     \u001b[39mif\u001b[39;00m event[\u001b[39m'\u001b[39;49m\u001b[39mtype\u001b[39;49m\u001b[39m'\u001b[39;49m] \u001b[39m==\u001b[39m \u001b[39m'\u001b[39m\u001b[39mclick\u001b[39m\u001b[39m'\u001b[39m:\n\u001b[1;32m     26\u001b[0m         lat, lon \u001b[39m=\u001b[39m event[\u001b[39m'\u001b[39m\u001b[39mcoordinates\u001b[39m\u001b[39m'\u001b[39m]\n\u001b[1;32m     27\u001b[0m         marker \u001b[39m=\u001b[39m ipyleaflet\u001b[39m.\u001b[39mMarker(location\u001b[39m=\u001b[39m(lat, lon))\n",
      "\u001b[0;31mTypeError\u001b[0m: string indices must be integers, not 'str'"
     ]
    },
    {
     "ename": "TypeError",
     "evalue": "string indices must be integers, not 'str'",
     "output_type": "error",
     "traceback": [
      "\u001b[0;31m---------------------------------------------------------------------------\u001b[0m",
      "\u001b[0;31mTypeError\u001b[0m                                 Traceback (most recent call last)",
      "File \u001b[0;32m~/Documents/geolog/geolog/geotest.py:25\u001b[0m, in \u001b[0;36mMap.handle_interaction\u001b[0;34m(self, event, **kwargs)\u001b[0m\n\u001b[1;32m     24\u001b[0m \u001b[39mdef\u001b[39;00m \u001b[39mhandle_interaction\u001b[39m(\u001b[39mself\u001b[39m, event, \u001b[39m*\u001b[39m\u001b[39m*\u001b[39mkwargs):\n\u001b[0;32m---> 25\u001b[0m     \u001b[39mif\u001b[39;00m event[\u001b[39m'\u001b[39;49m\u001b[39mtype\u001b[39;49m\u001b[39m'\u001b[39;49m] \u001b[39m==\u001b[39m \u001b[39m'\u001b[39m\u001b[39mclick\u001b[39m\u001b[39m'\u001b[39m:\n\u001b[1;32m     26\u001b[0m         lat, lon \u001b[39m=\u001b[39m event[\u001b[39m'\u001b[39m\u001b[39mcoordinates\u001b[39m\u001b[39m'\u001b[39m]\n\u001b[1;32m     27\u001b[0m         marker \u001b[39m=\u001b[39m ipyleaflet\u001b[39m.\u001b[39mMarker(location\u001b[39m=\u001b[39m(lat, lon))\n",
      "\u001b[0;31mTypeError\u001b[0m: string indices must be integers, not 'str'"
     ]
    },
    {
     "ename": "TypeError",
     "evalue": "string indices must be integers, not 'str'",
     "output_type": "error",
     "traceback": [
      "\u001b[0;31m---------------------------------------------------------------------------\u001b[0m",
      "\u001b[0;31mTypeError\u001b[0m                                 Traceback (most recent call last)",
      "File \u001b[0;32m~/Documents/geolog/geolog/geotest.py:25\u001b[0m, in \u001b[0;36mMap.handle_interaction\u001b[0;34m(self, event, **kwargs)\u001b[0m\n\u001b[1;32m     24\u001b[0m \u001b[39mdef\u001b[39;00m \u001b[39mhandle_interaction\u001b[39m(\u001b[39mself\u001b[39m, event, \u001b[39m*\u001b[39m\u001b[39m*\u001b[39mkwargs):\n\u001b[0;32m---> 25\u001b[0m     \u001b[39mif\u001b[39;00m event[\u001b[39m'\u001b[39;49m\u001b[39mtype\u001b[39;49m\u001b[39m'\u001b[39;49m] \u001b[39m==\u001b[39m \u001b[39m'\u001b[39m\u001b[39mclick\u001b[39m\u001b[39m'\u001b[39m:\n\u001b[1;32m     26\u001b[0m         lat, lon \u001b[39m=\u001b[39m event[\u001b[39m'\u001b[39m\u001b[39mcoordinates\u001b[39m\u001b[39m'\u001b[39m]\n\u001b[1;32m     27\u001b[0m         marker \u001b[39m=\u001b[39m ipyleaflet\u001b[39m.\u001b[39mMarker(location\u001b[39m=\u001b[39m(lat, lon))\n",
      "\u001b[0;31mTypeError\u001b[0m: string indices must be integers, not 'str'"
     ]
    },
    {
     "ename": "TypeError",
     "evalue": "string indices must be integers, not 'str'",
     "output_type": "error",
     "traceback": [
      "\u001b[0;31m---------------------------------------------------------------------------\u001b[0m",
      "\u001b[0;31mTypeError\u001b[0m                                 Traceback (most recent call last)",
      "File \u001b[0;32m~/Documents/geolog/geolog/geotest.py:25\u001b[0m, in \u001b[0;36mMap.handle_interaction\u001b[0;34m(self, event, **kwargs)\u001b[0m\n\u001b[1;32m     24\u001b[0m \u001b[39mdef\u001b[39;00m \u001b[39mhandle_interaction\u001b[39m(\u001b[39mself\u001b[39m, event, \u001b[39m*\u001b[39m\u001b[39m*\u001b[39mkwargs):\n\u001b[0;32m---> 25\u001b[0m     \u001b[39mif\u001b[39;00m event[\u001b[39m'\u001b[39;49m\u001b[39mtype\u001b[39;49m\u001b[39m'\u001b[39;49m] \u001b[39m==\u001b[39m \u001b[39m'\u001b[39m\u001b[39mclick\u001b[39m\u001b[39m'\u001b[39m:\n\u001b[1;32m     26\u001b[0m         lat, lon \u001b[39m=\u001b[39m event[\u001b[39m'\u001b[39m\u001b[39mcoordinates\u001b[39m\u001b[39m'\u001b[39m]\n\u001b[1;32m     27\u001b[0m         marker \u001b[39m=\u001b[39m ipyleaflet\u001b[39m.\u001b[39mMarker(location\u001b[39m=\u001b[39m(lat, lon))\n",
      "\u001b[0;31mTypeError\u001b[0m: string indices must be integers, not 'str'"
     ]
    },
    {
     "ename": "TypeError",
     "evalue": "string indices must be integers, not 'str'",
     "output_type": "error",
     "traceback": [
      "\u001b[0;31m---------------------------------------------------------------------------\u001b[0m",
      "\u001b[0;31mTypeError\u001b[0m                                 Traceback (most recent call last)",
      "File \u001b[0;32m~/Documents/geolog/geolog/geotest.py:25\u001b[0m, in \u001b[0;36mMap.handle_interaction\u001b[0;34m(self, event, **kwargs)\u001b[0m\n\u001b[1;32m     24\u001b[0m \u001b[39mdef\u001b[39;00m \u001b[39mhandle_interaction\u001b[39m(\u001b[39mself\u001b[39m, event, \u001b[39m*\u001b[39m\u001b[39m*\u001b[39mkwargs):\n\u001b[0;32m---> 25\u001b[0m     \u001b[39mif\u001b[39;00m event[\u001b[39m'\u001b[39;49m\u001b[39mtype\u001b[39;49m\u001b[39m'\u001b[39;49m] \u001b[39m==\u001b[39m \u001b[39m'\u001b[39m\u001b[39mclick\u001b[39m\u001b[39m'\u001b[39m:\n\u001b[1;32m     26\u001b[0m         lat, lon \u001b[39m=\u001b[39m event[\u001b[39m'\u001b[39m\u001b[39mcoordinates\u001b[39m\u001b[39m'\u001b[39m]\n\u001b[1;32m     27\u001b[0m         marker \u001b[39m=\u001b[39m ipyleaflet\u001b[39m.\u001b[39mMarker(location\u001b[39m=\u001b[39m(lat, lon))\n",
      "\u001b[0;31mTypeError\u001b[0m: string indices must be integers, not 'str'"
     ]
    },
    {
     "ename": "TypeError",
     "evalue": "string indices must be integers, not 'str'",
     "output_type": "error",
     "traceback": [
      "\u001b[0;31m---------------------------------------------------------------------------\u001b[0m",
      "\u001b[0;31mTypeError\u001b[0m                                 Traceback (most recent call last)",
      "File \u001b[0;32m~/Documents/geolog/geolog/geotest.py:25\u001b[0m, in \u001b[0;36mMap.handle_interaction\u001b[0;34m(self, event, **kwargs)\u001b[0m\n\u001b[1;32m     24\u001b[0m \u001b[39mdef\u001b[39;00m \u001b[39mhandle_interaction\u001b[39m(\u001b[39mself\u001b[39m, event, \u001b[39m*\u001b[39m\u001b[39m*\u001b[39mkwargs):\n\u001b[0;32m---> 25\u001b[0m     \u001b[39mif\u001b[39;00m event[\u001b[39m'\u001b[39;49m\u001b[39mtype\u001b[39;49m\u001b[39m'\u001b[39;49m] \u001b[39m==\u001b[39m \u001b[39m'\u001b[39m\u001b[39mclick\u001b[39m\u001b[39m'\u001b[39m:\n\u001b[1;32m     26\u001b[0m         lat, lon \u001b[39m=\u001b[39m event[\u001b[39m'\u001b[39m\u001b[39mcoordinates\u001b[39m\u001b[39m'\u001b[39m]\n\u001b[1;32m     27\u001b[0m         marker \u001b[39m=\u001b[39m ipyleaflet\u001b[39m.\u001b[39mMarker(location\u001b[39m=\u001b[39m(lat, lon))\n",
      "\u001b[0;31mTypeError\u001b[0m: string indices must be integers, not 'str'"
     ]
    },
    {
     "ename": "TypeError",
     "evalue": "string indices must be integers, not 'str'",
     "output_type": "error",
     "traceback": [
      "\u001b[0;31m---------------------------------------------------------------------------\u001b[0m",
      "\u001b[0;31mTypeError\u001b[0m                                 Traceback (most recent call last)",
      "File \u001b[0;32m~/Documents/geolog/geolog/geotest.py:25\u001b[0m, in \u001b[0;36mMap.handle_interaction\u001b[0;34m(self, event, **kwargs)\u001b[0m\n\u001b[1;32m     24\u001b[0m \u001b[39mdef\u001b[39;00m \u001b[39mhandle_interaction\u001b[39m(\u001b[39mself\u001b[39m, event, \u001b[39m*\u001b[39m\u001b[39m*\u001b[39mkwargs):\n\u001b[0;32m---> 25\u001b[0m     \u001b[39mif\u001b[39;00m event[\u001b[39m'\u001b[39;49m\u001b[39mtype\u001b[39;49m\u001b[39m'\u001b[39;49m] \u001b[39m==\u001b[39m \u001b[39m'\u001b[39m\u001b[39mclick\u001b[39m\u001b[39m'\u001b[39m:\n\u001b[1;32m     26\u001b[0m         lat, lon \u001b[39m=\u001b[39m event[\u001b[39m'\u001b[39m\u001b[39mcoordinates\u001b[39m\u001b[39m'\u001b[39m]\n\u001b[1;32m     27\u001b[0m         marker \u001b[39m=\u001b[39m ipyleaflet\u001b[39m.\u001b[39mMarker(location\u001b[39m=\u001b[39m(lat, lon))\n",
      "\u001b[0;31mTypeError\u001b[0m: string indices must be integers, not 'str'"
     ]
    },
    {
     "ename": "TypeError",
     "evalue": "string indices must be integers, not 'str'",
     "output_type": "error",
     "traceback": [
      "\u001b[0;31m---------------------------------------------------------------------------\u001b[0m",
      "\u001b[0;31mTypeError\u001b[0m                                 Traceback (most recent call last)",
      "File \u001b[0;32m~/Documents/geolog/geolog/geotest.py:25\u001b[0m, in \u001b[0;36mMap.handle_interaction\u001b[0;34m(self, event, **kwargs)\u001b[0m\n\u001b[1;32m     24\u001b[0m \u001b[39mdef\u001b[39;00m \u001b[39mhandle_interaction\u001b[39m(\u001b[39mself\u001b[39m, event, \u001b[39m*\u001b[39m\u001b[39m*\u001b[39mkwargs):\n\u001b[0;32m---> 25\u001b[0m     \u001b[39mif\u001b[39;00m event[\u001b[39m'\u001b[39;49m\u001b[39mtype\u001b[39;49m\u001b[39m'\u001b[39;49m] \u001b[39m==\u001b[39m \u001b[39m'\u001b[39m\u001b[39mclick\u001b[39m\u001b[39m'\u001b[39m:\n\u001b[1;32m     26\u001b[0m         lat, lon \u001b[39m=\u001b[39m event[\u001b[39m'\u001b[39m\u001b[39mcoordinates\u001b[39m\u001b[39m'\u001b[39m]\n\u001b[1;32m     27\u001b[0m         marker \u001b[39m=\u001b[39m ipyleaflet\u001b[39m.\u001b[39mMarker(location\u001b[39m=\u001b[39m(lat, lon))\n",
      "\u001b[0;31mTypeError\u001b[0m: string indices must be integers, not 'str'"
     ]
    },
    {
     "ename": "TypeError",
     "evalue": "string indices must be integers, not 'str'",
     "output_type": "error",
     "traceback": [
      "\u001b[0;31m---------------------------------------------------------------------------\u001b[0m",
      "\u001b[0;31mTypeError\u001b[0m                                 Traceback (most recent call last)",
      "File \u001b[0;32m~/Documents/geolog/geolog/geotest.py:25\u001b[0m, in \u001b[0;36mMap.handle_interaction\u001b[0;34m(self, event, **kwargs)\u001b[0m\n\u001b[1;32m     24\u001b[0m \u001b[39mdef\u001b[39;00m \u001b[39mhandle_interaction\u001b[39m(\u001b[39mself\u001b[39m, event, \u001b[39m*\u001b[39m\u001b[39m*\u001b[39mkwargs):\n\u001b[0;32m---> 25\u001b[0m     \u001b[39mif\u001b[39;00m event[\u001b[39m'\u001b[39;49m\u001b[39mtype\u001b[39;49m\u001b[39m'\u001b[39;49m] \u001b[39m==\u001b[39m \u001b[39m'\u001b[39m\u001b[39mclick\u001b[39m\u001b[39m'\u001b[39m:\n\u001b[1;32m     26\u001b[0m         lat, lon \u001b[39m=\u001b[39m event[\u001b[39m'\u001b[39m\u001b[39mcoordinates\u001b[39m\u001b[39m'\u001b[39m]\n\u001b[1;32m     27\u001b[0m         marker \u001b[39m=\u001b[39m ipyleaflet\u001b[39m.\u001b[39mMarker(location\u001b[39m=\u001b[39m(lat, lon))\n",
      "\u001b[0;31mTypeError\u001b[0m: string indices must be integers, not 'str'"
     ]
    },
    {
     "ename": "TypeError",
     "evalue": "string indices must be integers, not 'str'",
     "output_type": "error",
     "traceback": [
      "\u001b[0;31m---------------------------------------------------------------------------\u001b[0m",
      "\u001b[0;31mTypeError\u001b[0m                                 Traceback (most recent call last)",
      "File \u001b[0;32m~/Documents/geolog/geolog/geotest.py:25\u001b[0m, in \u001b[0;36mMap.handle_interaction\u001b[0;34m(self, event, **kwargs)\u001b[0m\n\u001b[1;32m     24\u001b[0m \u001b[39mdef\u001b[39;00m \u001b[39mhandle_interaction\u001b[39m(\u001b[39mself\u001b[39m, event, \u001b[39m*\u001b[39m\u001b[39m*\u001b[39mkwargs):\n\u001b[0;32m---> 25\u001b[0m     \u001b[39mif\u001b[39;00m event[\u001b[39m'\u001b[39;49m\u001b[39mtype\u001b[39;49m\u001b[39m'\u001b[39;49m] \u001b[39m==\u001b[39m \u001b[39m'\u001b[39m\u001b[39mclick\u001b[39m\u001b[39m'\u001b[39m:\n\u001b[1;32m     26\u001b[0m         lat, lon \u001b[39m=\u001b[39m event[\u001b[39m'\u001b[39m\u001b[39mcoordinates\u001b[39m\u001b[39m'\u001b[39m]\n\u001b[1;32m     27\u001b[0m         marker \u001b[39m=\u001b[39m ipyleaflet\u001b[39m.\u001b[39mMarker(location\u001b[39m=\u001b[39m(lat, lon))\n",
      "\u001b[0;31mTypeError\u001b[0m: string indices must be integers, not 'str'"
     ]
    },
    {
     "ename": "TypeError",
     "evalue": "string indices must be integers, not 'str'",
     "output_type": "error",
     "traceback": [
      "\u001b[0;31m---------------------------------------------------------------------------\u001b[0m",
      "\u001b[0;31mTypeError\u001b[0m                                 Traceback (most recent call last)",
      "File \u001b[0;32m~/Documents/geolog/geolog/geotest.py:25\u001b[0m, in \u001b[0;36mMap.handle_interaction\u001b[0;34m(self, event, **kwargs)\u001b[0m\n\u001b[1;32m     24\u001b[0m \u001b[39mdef\u001b[39;00m \u001b[39mhandle_interaction\u001b[39m(\u001b[39mself\u001b[39m, event, \u001b[39m*\u001b[39m\u001b[39m*\u001b[39mkwargs):\n\u001b[0;32m---> 25\u001b[0m     \u001b[39mif\u001b[39;00m event[\u001b[39m'\u001b[39;49m\u001b[39mtype\u001b[39;49m\u001b[39m'\u001b[39;49m] \u001b[39m==\u001b[39m \u001b[39m'\u001b[39m\u001b[39mclick\u001b[39m\u001b[39m'\u001b[39m:\n\u001b[1;32m     26\u001b[0m         lat, lon \u001b[39m=\u001b[39m event[\u001b[39m'\u001b[39m\u001b[39mcoordinates\u001b[39m\u001b[39m'\u001b[39m]\n\u001b[1;32m     27\u001b[0m         marker \u001b[39m=\u001b[39m ipyleaflet\u001b[39m.\u001b[39mMarker(location\u001b[39m=\u001b[39m(lat, lon))\n",
      "\u001b[0;31mTypeError\u001b[0m: string indices must be integers, not 'str'"
     ]
    },
    {
     "ename": "TypeError",
     "evalue": "string indices must be integers, not 'str'",
     "output_type": "error",
     "traceback": [
      "\u001b[0;31m---------------------------------------------------------------------------\u001b[0m",
      "\u001b[0;31mTypeError\u001b[0m                                 Traceback (most recent call last)",
      "File \u001b[0;32m~/Documents/geolog/geolog/geotest.py:25\u001b[0m, in \u001b[0;36mMap.handle_interaction\u001b[0;34m(self, event, **kwargs)\u001b[0m\n\u001b[1;32m     24\u001b[0m \u001b[39mdef\u001b[39;00m \u001b[39mhandle_interaction\u001b[39m(\u001b[39mself\u001b[39m, event, \u001b[39m*\u001b[39m\u001b[39m*\u001b[39mkwargs):\n\u001b[0;32m---> 25\u001b[0m     \u001b[39mif\u001b[39;00m event[\u001b[39m'\u001b[39;49m\u001b[39mtype\u001b[39;49m\u001b[39m'\u001b[39;49m] \u001b[39m==\u001b[39m \u001b[39m'\u001b[39m\u001b[39mclick\u001b[39m\u001b[39m'\u001b[39m:\n\u001b[1;32m     26\u001b[0m         lat, lon \u001b[39m=\u001b[39m event[\u001b[39m'\u001b[39m\u001b[39mcoordinates\u001b[39m\u001b[39m'\u001b[39m]\n\u001b[1;32m     27\u001b[0m         marker \u001b[39m=\u001b[39m ipyleaflet\u001b[39m.\u001b[39mMarker(location\u001b[39m=\u001b[39m(lat, lon))\n",
      "\u001b[0;31mTypeError\u001b[0m: string indices must be integers, not 'str'"
     ]
    },
    {
     "ename": "TypeError",
     "evalue": "string indices must be integers, not 'str'",
     "output_type": "error",
     "traceback": [
      "\u001b[0;31m---------------------------------------------------------------------------\u001b[0m",
      "\u001b[0;31mTypeError\u001b[0m                                 Traceback (most recent call last)",
      "File \u001b[0;32m~/Documents/geolog/geolog/geotest.py:25\u001b[0m, in \u001b[0;36mMap.handle_interaction\u001b[0;34m(self, event, **kwargs)\u001b[0m\n\u001b[1;32m     24\u001b[0m \u001b[39mdef\u001b[39;00m \u001b[39mhandle_interaction\u001b[39m(\u001b[39mself\u001b[39m, event, \u001b[39m*\u001b[39m\u001b[39m*\u001b[39mkwargs):\n\u001b[0;32m---> 25\u001b[0m     \u001b[39mif\u001b[39;00m event[\u001b[39m'\u001b[39;49m\u001b[39mtype\u001b[39;49m\u001b[39m'\u001b[39;49m] \u001b[39m==\u001b[39m \u001b[39m'\u001b[39m\u001b[39mclick\u001b[39m\u001b[39m'\u001b[39m:\n\u001b[1;32m     26\u001b[0m         lat, lon \u001b[39m=\u001b[39m event[\u001b[39m'\u001b[39m\u001b[39mcoordinates\u001b[39m\u001b[39m'\u001b[39m]\n\u001b[1;32m     27\u001b[0m         marker \u001b[39m=\u001b[39m ipyleaflet\u001b[39m.\u001b[39mMarker(location\u001b[39m=\u001b[39m(lat, lon))\n",
      "\u001b[0;31mTypeError\u001b[0m: string indices must be integers, not 'str'"
     ]
    },
    {
     "ename": "TypeError",
     "evalue": "string indices must be integers, not 'str'",
     "output_type": "error",
     "traceback": [
      "\u001b[0;31m---------------------------------------------------------------------------\u001b[0m",
      "\u001b[0;31mTypeError\u001b[0m                                 Traceback (most recent call last)",
      "File \u001b[0;32m~/Documents/geolog/geolog/geotest.py:25\u001b[0m, in \u001b[0;36mMap.handle_interaction\u001b[0;34m(self, event, **kwargs)\u001b[0m\n\u001b[1;32m     24\u001b[0m \u001b[39mdef\u001b[39;00m \u001b[39mhandle_interaction\u001b[39m(\u001b[39mself\u001b[39m, event, \u001b[39m*\u001b[39m\u001b[39m*\u001b[39mkwargs):\n\u001b[0;32m---> 25\u001b[0m     \u001b[39mif\u001b[39;00m event[\u001b[39m'\u001b[39;49m\u001b[39mtype\u001b[39;49m\u001b[39m'\u001b[39;49m] \u001b[39m==\u001b[39m \u001b[39m'\u001b[39m\u001b[39mclick\u001b[39m\u001b[39m'\u001b[39m:\n\u001b[1;32m     26\u001b[0m         lat, lon \u001b[39m=\u001b[39m event[\u001b[39m'\u001b[39m\u001b[39mcoordinates\u001b[39m\u001b[39m'\u001b[39m]\n\u001b[1;32m     27\u001b[0m         marker \u001b[39m=\u001b[39m ipyleaflet\u001b[39m.\u001b[39mMarker(location\u001b[39m=\u001b[39m(lat, lon))\n",
      "\u001b[0;31mTypeError\u001b[0m: string indices must be integers, not 'str'"
     ]
    },
    {
     "ename": "TypeError",
     "evalue": "string indices must be integers, not 'str'",
     "output_type": "error",
     "traceback": [
      "\u001b[0;31m---------------------------------------------------------------------------\u001b[0m",
      "\u001b[0;31mTypeError\u001b[0m                                 Traceback (most recent call last)",
      "File \u001b[0;32m~/Documents/geolog/geolog/geotest.py:25\u001b[0m, in \u001b[0;36mMap.handle_interaction\u001b[0;34m(self, event, **kwargs)\u001b[0m\n\u001b[1;32m     24\u001b[0m \u001b[39mdef\u001b[39;00m \u001b[39mhandle_interaction\u001b[39m(\u001b[39mself\u001b[39m, event, \u001b[39m*\u001b[39m\u001b[39m*\u001b[39mkwargs):\n\u001b[0;32m---> 25\u001b[0m     \u001b[39mif\u001b[39;00m event[\u001b[39m'\u001b[39;49m\u001b[39mtype\u001b[39;49m\u001b[39m'\u001b[39;49m] \u001b[39m==\u001b[39m \u001b[39m'\u001b[39m\u001b[39mclick\u001b[39m\u001b[39m'\u001b[39m:\n\u001b[1;32m     26\u001b[0m         lat, lon \u001b[39m=\u001b[39m event[\u001b[39m'\u001b[39m\u001b[39mcoordinates\u001b[39m\u001b[39m'\u001b[39m]\n\u001b[1;32m     27\u001b[0m         marker \u001b[39m=\u001b[39m ipyleaflet\u001b[39m.\u001b[39mMarker(location\u001b[39m=\u001b[39m(lat, lon))\n",
      "\u001b[0;31mTypeError\u001b[0m: string indices must be integers, not 'str'"
     ]
    },
    {
     "ename": "TypeError",
     "evalue": "string indices must be integers, not 'str'",
     "output_type": "error",
     "traceback": [
      "\u001b[0;31m---------------------------------------------------------------------------\u001b[0m",
      "\u001b[0;31mTypeError\u001b[0m                                 Traceback (most recent call last)",
      "File \u001b[0;32m~/Documents/geolog/geolog/geotest.py:25\u001b[0m, in \u001b[0;36mMap.handle_interaction\u001b[0;34m(self, event, **kwargs)\u001b[0m\n\u001b[1;32m     24\u001b[0m \u001b[39mdef\u001b[39;00m \u001b[39mhandle_interaction\u001b[39m(\u001b[39mself\u001b[39m, event, \u001b[39m*\u001b[39m\u001b[39m*\u001b[39mkwargs):\n\u001b[0;32m---> 25\u001b[0m     \u001b[39mif\u001b[39;00m event[\u001b[39m'\u001b[39;49m\u001b[39mtype\u001b[39;49m\u001b[39m'\u001b[39;49m] \u001b[39m==\u001b[39m \u001b[39m'\u001b[39m\u001b[39mclick\u001b[39m\u001b[39m'\u001b[39m:\n\u001b[1;32m     26\u001b[0m         lat, lon \u001b[39m=\u001b[39m event[\u001b[39m'\u001b[39m\u001b[39mcoordinates\u001b[39m\u001b[39m'\u001b[39m]\n\u001b[1;32m     27\u001b[0m         marker \u001b[39m=\u001b[39m ipyleaflet\u001b[39m.\u001b[39mMarker(location\u001b[39m=\u001b[39m(lat, lon))\n",
      "\u001b[0;31mTypeError\u001b[0m: string indices must be integers, not 'str'"
     ]
    },
    {
     "ename": "TypeError",
     "evalue": "string indices must be integers, not 'str'",
     "output_type": "error",
     "traceback": [
      "\u001b[0;31m---------------------------------------------------------------------------\u001b[0m",
      "\u001b[0;31mTypeError\u001b[0m                                 Traceback (most recent call last)",
      "File \u001b[0;32m~/Documents/geolog/geolog/geotest.py:25\u001b[0m, in \u001b[0;36mMap.handle_interaction\u001b[0;34m(self, event, **kwargs)\u001b[0m\n\u001b[1;32m     24\u001b[0m \u001b[39mdef\u001b[39;00m \u001b[39mhandle_interaction\u001b[39m(\u001b[39mself\u001b[39m, event, \u001b[39m*\u001b[39m\u001b[39m*\u001b[39mkwargs):\n\u001b[0;32m---> 25\u001b[0m     \u001b[39mif\u001b[39;00m event[\u001b[39m'\u001b[39;49m\u001b[39mtype\u001b[39;49m\u001b[39m'\u001b[39;49m] \u001b[39m==\u001b[39m \u001b[39m'\u001b[39m\u001b[39mclick\u001b[39m\u001b[39m'\u001b[39m:\n\u001b[1;32m     26\u001b[0m         lat, lon \u001b[39m=\u001b[39m event[\u001b[39m'\u001b[39m\u001b[39mcoordinates\u001b[39m\u001b[39m'\u001b[39m]\n\u001b[1;32m     27\u001b[0m         marker \u001b[39m=\u001b[39m ipyleaflet\u001b[39m.\u001b[39mMarker(location\u001b[39m=\u001b[39m(lat, lon))\n",
      "\u001b[0;31mTypeError\u001b[0m: string indices must be integers, not 'str'"
     ]
    },
    {
     "ename": "TypeError",
     "evalue": "string indices must be integers, not 'str'",
     "output_type": "error",
     "traceback": [
      "\u001b[0;31m---------------------------------------------------------------------------\u001b[0m",
      "\u001b[0;31mTypeError\u001b[0m                                 Traceback (most recent call last)",
      "File \u001b[0;32m~/Documents/geolog/geolog/geotest.py:25\u001b[0m, in \u001b[0;36mMap.handle_interaction\u001b[0;34m(self, event, **kwargs)\u001b[0m\n\u001b[1;32m     24\u001b[0m \u001b[39mdef\u001b[39;00m \u001b[39mhandle_interaction\u001b[39m(\u001b[39mself\u001b[39m, event, \u001b[39m*\u001b[39m\u001b[39m*\u001b[39mkwargs):\n\u001b[0;32m---> 25\u001b[0m     \u001b[39mif\u001b[39;00m event[\u001b[39m'\u001b[39;49m\u001b[39mtype\u001b[39;49m\u001b[39m'\u001b[39;49m] \u001b[39m==\u001b[39m \u001b[39m'\u001b[39m\u001b[39mclick\u001b[39m\u001b[39m'\u001b[39m:\n\u001b[1;32m     26\u001b[0m         lat, lon \u001b[39m=\u001b[39m event[\u001b[39m'\u001b[39m\u001b[39mcoordinates\u001b[39m\u001b[39m'\u001b[39m]\n\u001b[1;32m     27\u001b[0m         marker \u001b[39m=\u001b[39m ipyleaflet\u001b[39m.\u001b[39mMarker(location\u001b[39m=\u001b[39m(lat, lon))\n",
      "\u001b[0;31mTypeError\u001b[0m: string indices must be integers, not 'str'"
     ]
    },
    {
     "ename": "TypeError",
     "evalue": "string indices must be integers, not 'str'",
     "output_type": "error",
     "traceback": [
      "\u001b[0;31m---------------------------------------------------------------------------\u001b[0m",
      "\u001b[0;31mTypeError\u001b[0m                                 Traceback (most recent call last)",
      "File \u001b[0;32m~/Documents/geolog/geolog/geotest.py:25\u001b[0m, in \u001b[0;36mMap.handle_interaction\u001b[0;34m(self, event, **kwargs)\u001b[0m\n\u001b[1;32m     24\u001b[0m \u001b[39mdef\u001b[39;00m \u001b[39mhandle_interaction\u001b[39m(\u001b[39mself\u001b[39m, event, \u001b[39m*\u001b[39m\u001b[39m*\u001b[39mkwargs):\n\u001b[0;32m---> 25\u001b[0m     \u001b[39mif\u001b[39;00m event[\u001b[39m'\u001b[39;49m\u001b[39mtype\u001b[39;49m\u001b[39m'\u001b[39;49m] \u001b[39m==\u001b[39m \u001b[39m'\u001b[39m\u001b[39mclick\u001b[39m\u001b[39m'\u001b[39m:\n\u001b[1;32m     26\u001b[0m         lat, lon \u001b[39m=\u001b[39m event[\u001b[39m'\u001b[39m\u001b[39mcoordinates\u001b[39m\u001b[39m'\u001b[39m]\n\u001b[1;32m     27\u001b[0m         marker \u001b[39m=\u001b[39m ipyleaflet\u001b[39m.\u001b[39mMarker(location\u001b[39m=\u001b[39m(lat, lon))\n",
      "\u001b[0;31mTypeError\u001b[0m: string indices must be integers, not 'str'"
     ]
    },
    {
     "ename": "TypeError",
     "evalue": "string indices must be integers, not 'str'",
     "output_type": "error",
     "traceback": [
      "\u001b[0;31m---------------------------------------------------------------------------\u001b[0m",
      "\u001b[0;31mTypeError\u001b[0m                                 Traceback (most recent call last)",
      "File \u001b[0;32m~/Documents/geolog/geolog/geotest.py:25\u001b[0m, in \u001b[0;36mMap.handle_interaction\u001b[0;34m(self, event, **kwargs)\u001b[0m\n\u001b[1;32m     24\u001b[0m \u001b[39mdef\u001b[39;00m \u001b[39mhandle_interaction\u001b[39m(\u001b[39mself\u001b[39m, event, \u001b[39m*\u001b[39m\u001b[39m*\u001b[39mkwargs):\n\u001b[0;32m---> 25\u001b[0m     \u001b[39mif\u001b[39;00m event[\u001b[39m'\u001b[39;49m\u001b[39mtype\u001b[39;49m\u001b[39m'\u001b[39;49m] \u001b[39m==\u001b[39m \u001b[39m'\u001b[39m\u001b[39mclick\u001b[39m\u001b[39m'\u001b[39m:\n\u001b[1;32m     26\u001b[0m         lat, lon \u001b[39m=\u001b[39m event[\u001b[39m'\u001b[39m\u001b[39mcoordinates\u001b[39m\u001b[39m'\u001b[39m]\n\u001b[1;32m     27\u001b[0m         marker \u001b[39m=\u001b[39m ipyleaflet\u001b[39m.\u001b[39mMarker(location\u001b[39m=\u001b[39m(lat, lon))\n",
      "\u001b[0;31mTypeError\u001b[0m: string indices must be integers, not 'str'"
     ]
    },
    {
     "ename": "TypeError",
     "evalue": "string indices must be integers, not 'str'",
     "output_type": "error",
     "traceback": [
      "\u001b[0;31m---------------------------------------------------------------------------\u001b[0m",
      "\u001b[0;31mTypeError\u001b[0m                                 Traceback (most recent call last)",
      "File \u001b[0;32m~/Documents/geolog/geolog/geotest.py:25\u001b[0m, in \u001b[0;36mMap.handle_interaction\u001b[0;34m(self, event, **kwargs)\u001b[0m\n\u001b[1;32m     24\u001b[0m \u001b[39mdef\u001b[39;00m \u001b[39mhandle_interaction\u001b[39m(\u001b[39mself\u001b[39m, event, \u001b[39m*\u001b[39m\u001b[39m*\u001b[39mkwargs):\n\u001b[0;32m---> 25\u001b[0m     \u001b[39mif\u001b[39;00m event[\u001b[39m'\u001b[39;49m\u001b[39mtype\u001b[39;49m\u001b[39m'\u001b[39;49m] \u001b[39m==\u001b[39m \u001b[39m'\u001b[39m\u001b[39mclick\u001b[39m\u001b[39m'\u001b[39m:\n\u001b[1;32m     26\u001b[0m         lat, lon \u001b[39m=\u001b[39m event[\u001b[39m'\u001b[39m\u001b[39mcoordinates\u001b[39m\u001b[39m'\u001b[39m]\n\u001b[1;32m     27\u001b[0m         marker \u001b[39m=\u001b[39m ipyleaflet\u001b[39m.\u001b[39mMarker(location\u001b[39m=\u001b[39m(lat, lon))\n",
      "\u001b[0;31mTypeError\u001b[0m: string indices must be integers, not 'str'"
     ]
    },
    {
     "ename": "TypeError",
     "evalue": "string indices must be integers, not 'str'",
     "output_type": "error",
     "traceback": [
      "\u001b[0;31m---------------------------------------------------------------------------\u001b[0m",
      "\u001b[0;31mTypeError\u001b[0m                                 Traceback (most recent call last)",
      "File \u001b[0;32m~/Documents/geolog/geolog/geotest.py:25\u001b[0m, in \u001b[0;36mMap.handle_interaction\u001b[0;34m(self, event, **kwargs)\u001b[0m\n\u001b[1;32m     24\u001b[0m \u001b[39mdef\u001b[39;00m \u001b[39mhandle_interaction\u001b[39m(\u001b[39mself\u001b[39m, event, \u001b[39m*\u001b[39m\u001b[39m*\u001b[39mkwargs):\n\u001b[0;32m---> 25\u001b[0m     \u001b[39mif\u001b[39;00m event[\u001b[39m'\u001b[39;49m\u001b[39mtype\u001b[39;49m\u001b[39m'\u001b[39;49m] \u001b[39m==\u001b[39m \u001b[39m'\u001b[39m\u001b[39mclick\u001b[39m\u001b[39m'\u001b[39m:\n\u001b[1;32m     26\u001b[0m         lat, lon \u001b[39m=\u001b[39m event[\u001b[39m'\u001b[39m\u001b[39mcoordinates\u001b[39m\u001b[39m'\u001b[39m]\n\u001b[1;32m     27\u001b[0m         marker \u001b[39m=\u001b[39m ipyleaflet\u001b[39m.\u001b[39mMarker(location\u001b[39m=\u001b[39m(lat, lon))\n",
      "\u001b[0;31mTypeError\u001b[0m: string indices must be integers, not 'str'"
     ]
    },
    {
     "ename": "TypeError",
     "evalue": "string indices must be integers, not 'str'",
     "output_type": "error",
     "traceback": [
      "\u001b[0;31m---------------------------------------------------------------------------\u001b[0m",
      "\u001b[0;31mTypeError\u001b[0m                                 Traceback (most recent call last)",
      "File \u001b[0;32m~/Documents/geolog/geolog/geotest.py:25\u001b[0m, in \u001b[0;36mMap.handle_interaction\u001b[0;34m(self, event, **kwargs)\u001b[0m\n\u001b[1;32m     24\u001b[0m \u001b[39mdef\u001b[39;00m \u001b[39mhandle_interaction\u001b[39m(\u001b[39mself\u001b[39m, event, \u001b[39m*\u001b[39m\u001b[39m*\u001b[39mkwargs):\n\u001b[0;32m---> 25\u001b[0m     \u001b[39mif\u001b[39;00m event[\u001b[39m'\u001b[39;49m\u001b[39mtype\u001b[39;49m\u001b[39m'\u001b[39;49m] \u001b[39m==\u001b[39m \u001b[39m'\u001b[39m\u001b[39mclick\u001b[39m\u001b[39m'\u001b[39m:\n\u001b[1;32m     26\u001b[0m         lat, lon \u001b[39m=\u001b[39m event[\u001b[39m'\u001b[39m\u001b[39mcoordinates\u001b[39m\u001b[39m'\u001b[39m]\n\u001b[1;32m     27\u001b[0m         marker \u001b[39m=\u001b[39m ipyleaflet\u001b[39m.\u001b[39mMarker(location\u001b[39m=\u001b[39m(lat, lon))\n",
      "\u001b[0;31mTypeError\u001b[0m: string indices must be integers, not 'str'"
     ]
    },
    {
     "ename": "TypeError",
     "evalue": "string indices must be integers, not 'str'",
     "output_type": "error",
     "traceback": [
      "\u001b[0;31m---------------------------------------------------------------------------\u001b[0m",
      "\u001b[0;31mTypeError\u001b[0m                                 Traceback (most recent call last)",
      "File \u001b[0;32m~/Documents/geolog/geolog/geotest.py:25\u001b[0m, in \u001b[0;36mMap.handle_interaction\u001b[0;34m(self, event, **kwargs)\u001b[0m\n\u001b[1;32m     24\u001b[0m \u001b[39mdef\u001b[39;00m \u001b[39mhandle_interaction\u001b[39m(\u001b[39mself\u001b[39m, event, \u001b[39m*\u001b[39m\u001b[39m*\u001b[39mkwargs):\n\u001b[0;32m---> 25\u001b[0m     \u001b[39mif\u001b[39;00m event[\u001b[39m'\u001b[39;49m\u001b[39mtype\u001b[39;49m\u001b[39m'\u001b[39;49m] \u001b[39m==\u001b[39m \u001b[39m'\u001b[39m\u001b[39mclick\u001b[39m\u001b[39m'\u001b[39m:\n\u001b[1;32m     26\u001b[0m         lat, lon \u001b[39m=\u001b[39m event[\u001b[39m'\u001b[39m\u001b[39mcoordinates\u001b[39m\u001b[39m'\u001b[39m]\n\u001b[1;32m     27\u001b[0m         marker \u001b[39m=\u001b[39m ipyleaflet\u001b[39m.\u001b[39mMarker(location\u001b[39m=\u001b[39m(lat, lon))\n",
      "\u001b[0;31mTypeError\u001b[0m: string indices must be integers, not 'str'"
     ]
    },
    {
     "ename": "TypeError",
     "evalue": "string indices must be integers, not 'str'",
     "output_type": "error",
     "traceback": [
      "\u001b[0;31m---------------------------------------------------------------------------\u001b[0m",
      "\u001b[0;31mTypeError\u001b[0m                                 Traceback (most recent call last)",
      "File \u001b[0;32m~/Documents/geolog/geolog/geotest.py:25\u001b[0m, in \u001b[0;36mMap.handle_interaction\u001b[0;34m(self, event, **kwargs)\u001b[0m\n\u001b[1;32m     24\u001b[0m \u001b[39mdef\u001b[39;00m \u001b[39mhandle_interaction\u001b[39m(\u001b[39mself\u001b[39m, event, \u001b[39m*\u001b[39m\u001b[39m*\u001b[39mkwargs):\n\u001b[0;32m---> 25\u001b[0m     \u001b[39mif\u001b[39;00m event[\u001b[39m'\u001b[39;49m\u001b[39mtype\u001b[39;49m\u001b[39m'\u001b[39;49m] \u001b[39m==\u001b[39m \u001b[39m'\u001b[39m\u001b[39mclick\u001b[39m\u001b[39m'\u001b[39m:\n\u001b[1;32m     26\u001b[0m         lat, lon \u001b[39m=\u001b[39m event[\u001b[39m'\u001b[39m\u001b[39mcoordinates\u001b[39m\u001b[39m'\u001b[39m]\n\u001b[1;32m     27\u001b[0m         marker \u001b[39m=\u001b[39m ipyleaflet\u001b[39m.\u001b[39mMarker(location\u001b[39m=\u001b[39m(lat, lon))\n",
      "\u001b[0;31mTypeError\u001b[0m: string indices must be integers, not 'str'"
     ]
    },
    {
     "ename": "TypeError",
     "evalue": "string indices must be integers, not 'str'",
     "output_type": "error",
     "traceback": [
      "\u001b[0;31m---------------------------------------------------------------------------\u001b[0m",
      "\u001b[0;31mTypeError\u001b[0m                                 Traceback (most recent call last)",
      "File \u001b[0;32m~/Documents/geolog/geolog/geotest.py:25\u001b[0m, in \u001b[0;36mMap.handle_interaction\u001b[0;34m(self, event, **kwargs)\u001b[0m\n\u001b[1;32m     24\u001b[0m \u001b[39mdef\u001b[39;00m \u001b[39mhandle_interaction\u001b[39m(\u001b[39mself\u001b[39m, event, \u001b[39m*\u001b[39m\u001b[39m*\u001b[39mkwargs):\n\u001b[0;32m---> 25\u001b[0m     \u001b[39mif\u001b[39;00m event[\u001b[39m'\u001b[39;49m\u001b[39mtype\u001b[39;49m\u001b[39m'\u001b[39;49m] \u001b[39m==\u001b[39m \u001b[39m'\u001b[39m\u001b[39mclick\u001b[39m\u001b[39m'\u001b[39m:\n\u001b[1;32m     26\u001b[0m         lat, lon \u001b[39m=\u001b[39m event[\u001b[39m'\u001b[39m\u001b[39mcoordinates\u001b[39m\u001b[39m'\u001b[39m]\n\u001b[1;32m     27\u001b[0m         marker \u001b[39m=\u001b[39m ipyleaflet\u001b[39m.\u001b[39mMarker(location\u001b[39m=\u001b[39m(lat, lon))\n",
      "\u001b[0;31mTypeError\u001b[0m: string indices must be integers, not 'str'"
     ]
    },
    {
     "ename": "TypeError",
     "evalue": "string indices must be integers, not 'str'",
     "output_type": "error",
     "traceback": [
      "\u001b[0;31m---------------------------------------------------------------------------\u001b[0m",
      "\u001b[0;31mTypeError\u001b[0m                                 Traceback (most recent call last)",
      "File \u001b[0;32m~/Documents/geolog/geolog/geotest.py:25\u001b[0m, in \u001b[0;36mMap.handle_interaction\u001b[0;34m(self, event, **kwargs)\u001b[0m\n\u001b[1;32m     24\u001b[0m \u001b[39mdef\u001b[39;00m \u001b[39mhandle_interaction\u001b[39m(\u001b[39mself\u001b[39m, event, \u001b[39m*\u001b[39m\u001b[39m*\u001b[39mkwargs):\n\u001b[0;32m---> 25\u001b[0m     \u001b[39mif\u001b[39;00m event[\u001b[39m'\u001b[39;49m\u001b[39mtype\u001b[39;49m\u001b[39m'\u001b[39;49m] \u001b[39m==\u001b[39m \u001b[39m'\u001b[39m\u001b[39mclick\u001b[39m\u001b[39m'\u001b[39m:\n\u001b[1;32m     26\u001b[0m         lat, lon \u001b[39m=\u001b[39m event[\u001b[39m'\u001b[39m\u001b[39mcoordinates\u001b[39m\u001b[39m'\u001b[39m]\n\u001b[1;32m     27\u001b[0m         marker \u001b[39m=\u001b[39m ipyleaflet\u001b[39m.\u001b[39mMarker(location\u001b[39m=\u001b[39m(lat, lon))\n",
      "\u001b[0;31mTypeError\u001b[0m: string indices must be integers, not 'str'"
     ]
    },
    {
     "ename": "TypeError",
     "evalue": "string indices must be integers, not 'str'",
     "output_type": "error",
     "traceback": [
      "\u001b[0;31m---------------------------------------------------------------------------\u001b[0m",
      "\u001b[0;31mTypeError\u001b[0m                                 Traceback (most recent call last)",
      "File \u001b[0;32m~/Documents/geolog/geolog/geotest.py:25\u001b[0m, in \u001b[0;36mMap.handle_interaction\u001b[0;34m(self, event, **kwargs)\u001b[0m\n\u001b[1;32m     24\u001b[0m \u001b[39mdef\u001b[39;00m \u001b[39mhandle_interaction\u001b[39m(\u001b[39mself\u001b[39m, event, \u001b[39m*\u001b[39m\u001b[39m*\u001b[39mkwargs):\n\u001b[0;32m---> 25\u001b[0m     \u001b[39mif\u001b[39;00m event[\u001b[39m'\u001b[39;49m\u001b[39mtype\u001b[39;49m\u001b[39m'\u001b[39;49m] \u001b[39m==\u001b[39m \u001b[39m'\u001b[39m\u001b[39mclick\u001b[39m\u001b[39m'\u001b[39m:\n\u001b[1;32m     26\u001b[0m         lat, lon \u001b[39m=\u001b[39m event[\u001b[39m'\u001b[39m\u001b[39mcoordinates\u001b[39m\u001b[39m'\u001b[39m]\n\u001b[1;32m     27\u001b[0m         marker \u001b[39m=\u001b[39m ipyleaflet\u001b[39m.\u001b[39mMarker(location\u001b[39m=\u001b[39m(lat, lon))\n",
      "\u001b[0;31mTypeError\u001b[0m: string indices must be integers, not 'str'"
     ]
    },
    {
     "ename": "TypeError",
     "evalue": "string indices must be integers, not 'str'",
     "output_type": "error",
     "traceback": [
      "\u001b[0;31m---------------------------------------------------------------------------\u001b[0m",
      "\u001b[0;31mTypeError\u001b[0m                                 Traceback (most recent call last)",
      "File \u001b[0;32m~/Documents/geolog/geolog/geotest.py:25\u001b[0m, in \u001b[0;36mMap.handle_interaction\u001b[0;34m(self, event, **kwargs)\u001b[0m\n\u001b[1;32m     24\u001b[0m \u001b[39mdef\u001b[39;00m \u001b[39mhandle_interaction\u001b[39m(\u001b[39mself\u001b[39m, event, \u001b[39m*\u001b[39m\u001b[39m*\u001b[39mkwargs):\n\u001b[0;32m---> 25\u001b[0m     \u001b[39mif\u001b[39;00m event[\u001b[39m'\u001b[39;49m\u001b[39mtype\u001b[39;49m\u001b[39m'\u001b[39;49m] \u001b[39m==\u001b[39m \u001b[39m'\u001b[39m\u001b[39mclick\u001b[39m\u001b[39m'\u001b[39m:\n\u001b[1;32m     26\u001b[0m         lat, lon \u001b[39m=\u001b[39m event[\u001b[39m'\u001b[39m\u001b[39mcoordinates\u001b[39m\u001b[39m'\u001b[39m]\n\u001b[1;32m     27\u001b[0m         marker \u001b[39m=\u001b[39m ipyleaflet\u001b[39m.\u001b[39mMarker(location\u001b[39m=\u001b[39m(lat, lon))\n",
      "\u001b[0;31mTypeError\u001b[0m: string indices must be integers, not 'str'"
     ]
    },
    {
     "ename": "TypeError",
     "evalue": "string indices must be integers, not 'str'",
     "output_type": "error",
     "traceback": [
      "\u001b[0;31m---------------------------------------------------------------------------\u001b[0m",
      "\u001b[0;31mTypeError\u001b[0m                                 Traceback (most recent call last)",
      "File \u001b[0;32m~/Documents/geolog/geolog/geotest.py:25\u001b[0m, in \u001b[0;36mMap.handle_interaction\u001b[0;34m(self, event, **kwargs)\u001b[0m\n\u001b[1;32m     24\u001b[0m \u001b[39mdef\u001b[39;00m \u001b[39mhandle_interaction\u001b[39m(\u001b[39mself\u001b[39m, event, \u001b[39m*\u001b[39m\u001b[39m*\u001b[39mkwargs):\n\u001b[0;32m---> 25\u001b[0m     \u001b[39mif\u001b[39;00m event[\u001b[39m'\u001b[39;49m\u001b[39mtype\u001b[39;49m\u001b[39m'\u001b[39;49m] \u001b[39m==\u001b[39m \u001b[39m'\u001b[39m\u001b[39mclick\u001b[39m\u001b[39m'\u001b[39m:\n\u001b[1;32m     26\u001b[0m         lat, lon \u001b[39m=\u001b[39m event[\u001b[39m'\u001b[39m\u001b[39mcoordinates\u001b[39m\u001b[39m'\u001b[39m]\n\u001b[1;32m     27\u001b[0m         marker \u001b[39m=\u001b[39m ipyleaflet\u001b[39m.\u001b[39mMarker(location\u001b[39m=\u001b[39m(lat, lon))\n",
      "\u001b[0;31mTypeError\u001b[0m: string indices must be integers, not 'str'"
     ]
    },
    {
     "ename": "TypeError",
     "evalue": "string indices must be integers, not 'str'",
     "output_type": "error",
     "traceback": [
      "\u001b[0;31m---------------------------------------------------------------------------\u001b[0m",
      "\u001b[0;31mTypeError\u001b[0m                                 Traceback (most recent call last)",
      "File \u001b[0;32m~/Documents/geolog/geolog/geotest.py:25\u001b[0m, in \u001b[0;36mMap.handle_interaction\u001b[0;34m(self, event, **kwargs)\u001b[0m\n\u001b[1;32m     24\u001b[0m \u001b[39mdef\u001b[39;00m \u001b[39mhandle_interaction\u001b[39m(\u001b[39mself\u001b[39m, event, \u001b[39m*\u001b[39m\u001b[39m*\u001b[39mkwargs):\n\u001b[0;32m---> 25\u001b[0m     \u001b[39mif\u001b[39;00m event[\u001b[39m'\u001b[39;49m\u001b[39mtype\u001b[39;49m\u001b[39m'\u001b[39;49m] \u001b[39m==\u001b[39m \u001b[39m'\u001b[39m\u001b[39mclick\u001b[39m\u001b[39m'\u001b[39m:\n\u001b[1;32m     26\u001b[0m         lat, lon \u001b[39m=\u001b[39m event[\u001b[39m'\u001b[39m\u001b[39mcoordinates\u001b[39m\u001b[39m'\u001b[39m]\n\u001b[1;32m     27\u001b[0m         marker \u001b[39m=\u001b[39m ipyleaflet\u001b[39m.\u001b[39mMarker(location\u001b[39m=\u001b[39m(lat, lon))\n",
      "\u001b[0;31mTypeError\u001b[0m: string indices must be integers, not 'str'"
     ]
    },
    {
     "ename": "TypeError",
     "evalue": "string indices must be integers, not 'str'",
     "output_type": "error",
     "traceback": [
      "\u001b[0;31m---------------------------------------------------------------------------\u001b[0m",
      "\u001b[0;31mTypeError\u001b[0m                                 Traceback (most recent call last)",
      "File \u001b[0;32m~/Documents/geolog/geolog/geotest.py:25\u001b[0m, in \u001b[0;36mMap.handle_interaction\u001b[0;34m(self, event, **kwargs)\u001b[0m\n\u001b[1;32m     24\u001b[0m \u001b[39mdef\u001b[39;00m \u001b[39mhandle_interaction\u001b[39m(\u001b[39mself\u001b[39m, event, \u001b[39m*\u001b[39m\u001b[39m*\u001b[39mkwargs):\n\u001b[0;32m---> 25\u001b[0m     \u001b[39mif\u001b[39;00m event[\u001b[39m'\u001b[39;49m\u001b[39mtype\u001b[39;49m\u001b[39m'\u001b[39;49m] \u001b[39m==\u001b[39m \u001b[39m'\u001b[39m\u001b[39mclick\u001b[39m\u001b[39m'\u001b[39m:\n\u001b[1;32m     26\u001b[0m         lat, lon \u001b[39m=\u001b[39m event[\u001b[39m'\u001b[39m\u001b[39mcoordinates\u001b[39m\u001b[39m'\u001b[39m]\n\u001b[1;32m     27\u001b[0m         marker \u001b[39m=\u001b[39m ipyleaflet\u001b[39m.\u001b[39mMarker(location\u001b[39m=\u001b[39m(lat, lon))\n",
      "\u001b[0;31mTypeError\u001b[0m: string indices must be integers, not 'str'"
     ]
    },
    {
     "ename": "TypeError",
     "evalue": "string indices must be integers, not 'str'",
     "output_type": "error",
     "traceback": [
      "\u001b[0;31m---------------------------------------------------------------------------\u001b[0m",
      "\u001b[0;31mTypeError\u001b[0m                                 Traceback (most recent call last)",
      "File \u001b[0;32m~/Documents/geolog/geolog/geotest.py:25\u001b[0m, in \u001b[0;36mMap.handle_interaction\u001b[0;34m(self, event, **kwargs)\u001b[0m\n\u001b[1;32m     24\u001b[0m \u001b[39mdef\u001b[39;00m \u001b[39mhandle_interaction\u001b[39m(\u001b[39mself\u001b[39m, event, \u001b[39m*\u001b[39m\u001b[39m*\u001b[39mkwargs):\n\u001b[0;32m---> 25\u001b[0m     \u001b[39mif\u001b[39;00m event[\u001b[39m'\u001b[39;49m\u001b[39mtype\u001b[39;49m\u001b[39m'\u001b[39;49m] \u001b[39m==\u001b[39m \u001b[39m'\u001b[39m\u001b[39mclick\u001b[39m\u001b[39m'\u001b[39m:\n\u001b[1;32m     26\u001b[0m         lat, lon \u001b[39m=\u001b[39m event[\u001b[39m'\u001b[39m\u001b[39mcoordinates\u001b[39m\u001b[39m'\u001b[39m]\n\u001b[1;32m     27\u001b[0m         marker \u001b[39m=\u001b[39m ipyleaflet\u001b[39m.\u001b[39mMarker(location\u001b[39m=\u001b[39m(lat, lon))\n",
      "\u001b[0;31mTypeError\u001b[0m: string indices must be integers, not 'str'"
     ]
    },
    {
     "ename": "TypeError",
     "evalue": "string indices must be integers, not 'str'",
     "output_type": "error",
     "traceback": [
      "\u001b[0;31m---------------------------------------------------------------------------\u001b[0m",
      "\u001b[0;31mTypeError\u001b[0m                                 Traceback (most recent call last)",
      "File \u001b[0;32m~/Documents/geolog/geolog/geotest.py:25\u001b[0m, in \u001b[0;36mMap.handle_interaction\u001b[0;34m(self, event, **kwargs)\u001b[0m\n\u001b[1;32m     24\u001b[0m \u001b[39mdef\u001b[39;00m \u001b[39mhandle_interaction\u001b[39m(\u001b[39mself\u001b[39m, event, \u001b[39m*\u001b[39m\u001b[39m*\u001b[39mkwargs):\n\u001b[0;32m---> 25\u001b[0m     \u001b[39mif\u001b[39;00m event[\u001b[39m'\u001b[39;49m\u001b[39mtype\u001b[39;49m\u001b[39m'\u001b[39;49m] \u001b[39m==\u001b[39m \u001b[39m'\u001b[39m\u001b[39mclick\u001b[39m\u001b[39m'\u001b[39m:\n\u001b[1;32m     26\u001b[0m         lat, lon \u001b[39m=\u001b[39m event[\u001b[39m'\u001b[39m\u001b[39mcoordinates\u001b[39m\u001b[39m'\u001b[39m]\n\u001b[1;32m     27\u001b[0m         marker \u001b[39m=\u001b[39m ipyleaflet\u001b[39m.\u001b[39mMarker(location\u001b[39m=\u001b[39m(lat, lon))\n",
      "\u001b[0;31mTypeError\u001b[0m: string indices must be integers, not 'str'"
     ]
    },
    {
     "ename": "TypeError",
     "evalue": "string indices must be integers, not 'str'",
     "output_type": "error",
     "traceback": [
      "\u001b[0;31m---------------------------------------------------------------------------\u001b[0m",
      "\u001b[0;31mTypeError\u001b[0m                                 Traceback (most recent call last)",
      "File \u001b[0;32m~/Documents/geolog/geolog/geotest.py:25\u001b[0m, in \u001b[0;36mMap.handle_interaction\u001b[0;34m(self, event, **kwargs)\u001b[0m\n\u001b[1;32m     24\u001b[0m \u001b[39mdef\u001b[39;00m \u001b[39mhandle_interaction\u001b[39m(\u001b[39mself\u001b[39m, event, \u001b[39m*\u001b[39m\u001b[39m*\u001b[39mkwargs):\n\u001b[0;32m---> 25\u001b[0m     \u001b[39mif\u001b[39;00m event[\u001b[39m'\u001b[39;49m\u001b[39mtype\u001b[39;49m\u001b[39m'\u001b[39;49m] \u001b[39m==\u001b[39m \u001b[39m'\u001b[39m\u001b[39mclick\u001b[39m\u001b[39m'\u001b[39m:\n\u001b[1;32m     26\u001b[0m         lat, lon \u001b[39m=\u001b[39m event[\u001b[39m'\u001b[39m\u001b[39mcoordinates\u001b[39m\u001b[39m'\u001b[39m]\n\u001b[1;32m     27\u001b[0m         marker \u001b[39m=\u001b[39m ipyleaflet\u001b[39m.\u001b[39mMarker(location\u001b[39m=\u001b[39m(lat, lon))\n",
      "\u001b[0;31mTypeError\u001b[0m: string indices must be integers, not 'str'"
     ]
    },
    {
     "ename": "TypeError",
     "evalue": "string indices must be integers, not 'str'",
     "output_type": "error",
     "traceback": [
      "\u001b[0;31m---------------------------------------------------------------------------\u001b[0m",
      "\u001b[0;31mTypeError\u001b[0m                                 Traceback (most recent call last)",
      "File \u001b[0;32m~/Documents/geolog/geolog/geotest.py:25\u001b[0m, in \u001b[0;36mMap.handle_interaction\u001b[0;34m(self, event, **kwargs)\u001b[0m\n\u001b[1;32m     24\u001b[0m \u001b[39mdef\u001b[39;00m \u001b[39mhandle_interaction\u001b[39m(\u001b[39mself\u001b[39m, event, \u001b[39m*\u001b[39m\u001b[39m*\u001b[39mkwargs):\n\u001b[0;32m---> 25\u001b[0m     \u001b[39mif\u001b[39;00m event[\u001b[39m'\u001b[39;49m\u001b[39mtype\u001b[39;49m\u001b[39m'\u001b[39;49m] \u001b[39m==\u001b[39m \u001b[39m'\u001b[39m\u001b[39mclick\u001b[39m\u001b[39m'\u001b[39m:\n\u001b[1;32m     26\u001b[0m         lat, lon \u001b[39m=\u001b[39m event[\u001b[39m'\u001b[39m\u001b[39mcoordinates\u001b[39m\u001b[39m'\u001b[39m]\n\u001b[1;32m     27\u001b[0m         marker \u001b[39m=\u001b[39m ipyleaflet\u001b[39m.\u001b[39mMarker(location\u001b[39m=\u001b[39m(lat, lon))\n",
      "\u001b[0;31mTypeError\u001b[0m: string indices must be integers, not 'str'"
     ]
    },
    {
     "ename": "TypeError",
     "evalue": "string indices must be integers, not 'str'",
     "output_type": "error",
     "traceback": [
      "\u001b[0;31m---------------------------------------------------------------------------\u001b[0m",
      "\u001b[0;31mTypeError\u001b[0m                                 Traceback (most recent call last)",
      "File \u001b[0;32m~/Documents/geolog/geolog/geotest.py:25\u001b[0m, in \u001b[0;36mMap.handle_interaction\u001b[0;34m(self, event, **kwargs)\u001b[0m\n\u001b[1;32m     24\u001b[0m \u001b[39mdef\u001b[39;00m \u001b[39mhandle_interaction\u001b[39m(\u001b[39mself\u001b[39m, event, \u001b[39m*\u001b[39m\u001b[39m*\u001b[39mkwargs):\n\u001b[0;32m---> 25\u001b[0m     \u001b[39mif\u001b[39;00m event[\u001b[39m'\u001b[39;49m\u001b[39mtype\u001b[39;49m\u001b[39m'\u001b[39;49m] \u001b[39m==\u001b[39m \u001b[39m'\u001b[39m\u001b[39mclick\u001b[39m\u001b[39m'\u001b[39m:\n\u001b[1;32m     26\u001b[0m         lat, lon \u001b[39m=\u001b[39m event[\u001b[39m'\u001b[39m\u001b[39mcoordinates\u001b[39m\u001b[39m'\u001b[39m]\n\u001b[1;32m     27\u001b[0m         marker \u001b[39m=\u001b[39m ipyleaflet\u001b[39m.\u001b[39mMarker(location\u001b[39m=\u001b[39m(lat, lon))\n",
      "\u001b[0;31mTypeError\u001b[0m: string indices must be integers, not 'str'"
     ]
    },
    {
     "ename": "TypeError",
     "evalue": "string indices must be integers, not 'str'",
     "output_type": "error",
     "traceback": [
      "\u001b[0;31m---------------------------------------------------------------------------\u001b[0m",
      "\u001b[0;31mTypeError\u001b[0m                                 Traceback (most recent call last)",
      "File \u001b[0;32m~/Documents/geolog/geolog/geotest.py:25\u001b[0m, in \u001b[0;36mMap.handle_interaction\u001b[0;34m(self, event, **kwargs)\u001b[0m\n\u001b[1;32m     24\u001b[0m \u001b[39mdef\u001b[39;00m \u001b[39mhandle_interaction\u001b[39m(\u001b[39mself\u001b[39m, event, \u001b[39m*\u001b[39m\u001b[39m*\u001b[39mkwargs):\n\u001b[0;32m---> 25\u001b[0m     \u001b[39mif\u001b[39;00m event[\u001b[39m'\u001b[39;49m\u001b[39mtype\u001b[39;49m\u001b[39m'\u001b[39;49m] \u001b[39m==\u001b[39m \u001b[39m'\u001b[39m\u001b[39mclick\u001b[39m\u001b[39m'\u001b[39m:\n\u001b[1;32m     26\u001b[0m         lat, lon \u001b[39m=\u001b[39m event[\u001b[39m'\u001b[39m\u001b[39mcoordinates\u001b[39m\u001b[39m'\u001b[39m]\n\u001b[1;32m     27\u001b[0m         marker \u001b[39m=\u001b[39m ipyleaflet\u001b[39m.\u001b[39mMarker(location\u001b[39m=\u001b[39m(lat, lon))\n",
      "\u001b[0;31mTypeError\u001b[0m: string indices must be integers, not 'str'"
     ]
    },
    {
     "ename": "TypeError",
     "evalue": "string indices must be integers, not 'str'",
     "output_type": "error",
     "traceback": [
      "\u001b[0;31m---------------------------------------------------------------------------\u001b[0m",
      "\u001b[0;31mTypeError\u001b[0m                                 Traceback (most recent call last)",
      "File \u001b[0;32m~/Documents/geolog/geolog/geotest.py:25\u001b[0m, in \u001b[0;36mMap.handle_interaction\u001b[0;34m(self, event, **kwargs)\u001b[0m\n\u001b[1;32m     24\u001b[0m \u001b[39mdef\u001b[39;00m \u001b[39mhandle_interaction\u001b[39m(\u001b[39mself\u001b[39m, event, \u001b[39m*\u001b[39m\u001b[39m*\u001b[39mkwargs):\n\u001b[0;32m---> 25\u001b[0m     \u001b[39mif\u001b[39;00m event[\u001b[39m'\u001b[39;49m\u001b[39mtype\u001b[39;49m\u001b[39m'\u001b[39;49m] \u001b[39m==\u001b[39m \u001b[39m'\u001b[39m\u001b[39mclick\u001b[39m\u001b[39m'\u001b[39m:\n\u001b[1;32m     26\u001b[0m         lat, lon \u001b[39m=\u001b[39m event[\u001b[39m'\u001b[39m\u001b[39mcoordinates\u001b[39m\u001b[39m'\u001b[39m]\n\u001b[1;32m     27\u001b[0m         marker \u001b[39m=\u001b[39m ipyleaflet\u001b[39m.\u001b[39mMarker(location\u001b[39m=\u001b[39m(lat, lon))\n",
      "\u001b[0;31mTypeError\u001b[0m: string indices must be integers, not 'str'"
     ]
    },
    {
     "ename": "TypeError",
     "evalue": "string indices must be integers, not 'str'",
     "output_type": "error",
     "traceback": [
      "\u001b[0;31m---------------------------------------------------------------------------\u001b[0m",
      "\u001b[0;31mTypeError\u001b[0m                                 Traceback (most recent call last)",
      "File \u001b[0;32m~/Documents/geolog/geolog/geotest.py:25\u001b[0m, in \u001b[0;36mMap.handle_interaction\u001b[0;34m(self, event, **kwargs)\u001b[0m\n\u001b[1;32m     24\u001b[0m \u001b[39mdef\u001b[39;00m \u001b[39mhandle_interaction\u001b[39m(\u001b[39mself\u001b[39m, event, \u001b[39m*\u001b[39m\u001b[39m*\u001b[39mkwargs):\n\u001b[0;32m---> 25\u001b[0m     \u001b[39mif\u001b[39;00m event[\u001b[39m'\u001b[39;49m\u001b[39mtype\u001b[39;49m\u001b[39m'\u001b[39;49m] \u001b[39m==\u001b[39m \u001b[39m'\u001b[39m\u001b[39mclick\u001b[39m\u001b[39m'\u001b[39m:\n\u001b[1;32m     26\u001b[0m         lat, lon \u001b[39m=\u001b[39m event[\u001b[39m'\u001b[39m\u001b[39mcoordinates\u001b[39m\u001b[39m'\u001b[39m]\n\u001b[1;32m     27\u001b[0m         marker \u001b[39m=\u001b[39m ipyleaflet\u001b[39m.\u001b[39mMarker(location\u001b[39m=\u001b[39m(lat, lon))\n",
      "\u001b[0;31mTypeError\u001b[0m: string indices must be integers, not 'str'"
     ]
    },
    {
     "ename": "TypeError",
     "evalue": "string indices must be integers, not 'str'",
     "output_type": "error",
     "traceback": [
      "\u001b[0;31m---------------------------------------------------------------------------\u001b[0m",
      "\u001b[0;31mTypeError\u001b[0m                                 Traceback (most recent call last)",
      "File \u001b[0;32m~/Documents/geolog/geolog/geotest.py:25\u001b[0m, in \u001b[0;36mMap.handle_interaction\u001b[0;34m(self, event, **kwargs)\u001b[0m\n\u001b[1;32m     24\u001b[0m \u001b[39mdef\u001b[39;00m \u001b[39mhandle_interaction\u001b[39m(\u001b[39mself\u001b[39m, event, \u001b[39m*\u001b[39m\u001b[39m*\u001b[39mkwargs):\n\u001b[0;32m---> 25\u001b[0m     \u001b[39mif\u001b[39;00m event[\u001b[39m'\u001b[39;49m\u001b[39mtype\u001b[39;49m\u001b[39m'\u001b[39;49m] \u001b[39m==\u001b[39m \u001b[39m'\u001b[39m\u001b[39mclick\u001b[39m\u001b[39m'\u001b[39m:\n\u001b[1;32m     26\u001b[0m         lat, lon \u001b[39m=\u001b[39m event[\u001b[39m'\u001b[39m\u001b[39mcoordinates\u001b[39m\u001b[39m'\u001b[39m]\n\u001b[1;32m     27\u001b[0m         marker \u001b[39m=\u001b[39m ipyleaflet\u001b[39m.\u001b[39mMarker(location\u001b[39m=\u001b[39m(lat, lon))\n",
      "\u001b[0;31mTypeError\u001b[0m: string indices must be integers, not 'str'"
     ]
    },
    {
     "ename": "TypeError",
     "evalue": "string indices must be integers, not 'str'",
     "output_type": "error",
     "traceback": [
      "\u001b[0;31m---------------------------------------------------------------------------\u001b[0m",
      "\u001b[0;31mTypeError\u001b[0m                                 Traceback (most recent call last)",
      "File \u001b[0;32m~/Documents/geolog/geolog/geotest.py:25\u001b[0m, in \u001b[0;36mMap.handle_interaction\u001b[0;34m(self, event, **kwargs)\u001b[0m\n\u001b[1;32m     24\u001b[0m \u001b[39mdef\u001b[39;00m \u001b[39mhandle_interaction\u001b[39m(\u001b[39mself\u001b[39m, event, \u001b[39m*\u001b[39m\u001b[39m*\u001b[39mkwargs):\n\u001b[0;32m---> 25\u001b[0m     \u001b[39mif\u001b[39;00m event[\u001b[39m'\u001b[39;49m\u001b[39mtype\u001b[39;49m\u001b[39m'\u001b[39;49m] \u001b[39m==\u001b[39m \u001b[39m'\u001b[39m\u001b[39mclick\u001b[39m\u001b[39m'\u001b[39m:\n\u001b[1;32m     26\u001b[0m         lat, lon \u001b[39m=\u001b[39m event[\u001b[39m'\u001b[39m\u001b[39mcoordinates\u001b[39m\u001b[39m'\u001b[39m]\n\u001b[1;32m     27\u001b[0m         marker \u001b[39m=\u001b[39m ipyleaflet\u001b[39m.\u001b[39mMarker(location\u001b[39m=\u001b[39m(lat, lon))\n",
      "\u001b[0;31mTypeError\u001b[0m: string indices must be integers, not 'str'"
     ]
    },
    {
     "ename": "TypeError",
     "evalue": "string indices must be integers, not 'str'",
     "output_type": "error",
     "traceback": [
      "\u001b[0;31m---------------------------------------------------------------------------\u001b[0m",
      "\u001b[0;31mTypeError\u001b[0m                                 Traceback (most recent call last)",
      "File \u001b[0;32m~/Documents/geolog/geolog/geotest.py:25\u001b[0m, in \u001b[0;36mMap.handle_interaction\u001b[0;34m(self, event, **kwargs)\u001b[0m\n\u001b[1;32m     24\u001b[0m \u001b[39mdef\u001b[39;00m \u001b[39mhandle_interaction\u001b[39m(\u001b[39mself\u001b[39m, event, \u001b[39m*\u001b[39m\u001b[39m*\u001b[39mkwargs):\n\u001b[0;32m---> 25\u001b[0m     \u001b[39mif\u001b[39;00m event[\u001b[39m'\u001b[39;49m\u001b[39mtype\u001b[39;49m\u001b[39m'\u001b[39;49m] \u001b[39m==\u001b[39m \u001b[39m'\u001b[39m\u001b[39mclick\u001b[39m\u001b[39m'\u001b[39m:\n\u001b[1;32m     26\u001b[0m         lat, lon \u001b[39m=\u001b[39m event[\u001b[39m'\u001b[39m\u001b[39mcoordinates\u001b[39m\u001b[39m'\u001b[39m]\n\u001b[1;32m     27\u001b[0m         marker \u001b[39m=\u001b[39m ipyleaflet\u001b[39m.\u001b[39mMarker(location\u001b[39m=\u001b[39m(lat, lon))\n",
      "\u001b[0;31mTypeError\u001b[0m: string indices must be integers, not 'str'"
     ]
    },
    {
     "ename": "TypeError",
     "evalue": "string indices must be integers, not 'str'",
     "output_type": "error",
     "traceback": [
      "\u001b[0;31m---------------------------------------------------------------------------\u001b[0m",
      "\u001b[0;31mTypeError\u001b[0m                                 Traceback (most recent call last)",
      "File \u001b[0;32m~/Documents/geolog/geolog/geotest.py:25\u001b[0m, in \u001b[0;36mMap.handle_interaction\u001b[0;34m(self, event, **kwargs)\u001b[0m\n\u001b[1;32m     24\u001b[0m \u001b[39mdef\u001b[39;00m \u001b[39mhandle_interaction\u001b[39m(\u001b[39mself\u001b[39m, event, \u001b[39m*\u001b[39m\u001b[39m*\u001b[39mkwargs):\n\u001b[0;32m---> 25\u001b[0m     \u001b[39mif\u001b[39;00m event[\u001b[39m'\u001b[39;49m\u001b[39mtype\u001b[39;49m\u001b[39m'\u001b[39;49m] \u001b[39m==\u001b[39m \u001b[39m'\u001b[39m\u001b[39mclick\u001b[39m\u001b[39m'\u001b[39m:\n\u001b[1;32m     26\u001b[0m         lat, lon \u001b[39m=\u001b[39m event[\u001b[39m'\u001b[39m\u001b[39mcoordinates\u001b[39m\u001b[39m'\u001b[39m]\n\u001b[1;32m     27\u001b[0m         marker \u001b[39m=\u001b[39m ipyleaflet\u001b[39m.\u001b[39mMarker(location\u001b[39m=\u001b[39m(lat, lon))\n",
      "\u001b[0;31mTypeError\u001b[0m: string indices must be integers, not 'str'"
     ]
    },
    {
     "ename": "TypeError",
     "evalue": "string indices must be integers, not 'str'",
     "output_type": "error",
     "traceback": [
      "\u001b[0;31m---------------------------------------------------------------------------\u001b[0m",
      "\u001b[0;31mTypeError\u001b[0m                                 Traceback (most recent call last)",
      "File \u001b[0;32m~/Documents/geolog/geolog/geotest.py:25\u001b[0m, in \u001b[0;36mMap.handle_interaction\u001b[0;34m(self, event, **kwargs)\u001b[0m\n\u001b[1;32m     24\u001b[0m \u001b[39mdef\u001b[39;00m \u001b[39mhandle_interaction\u001b[39m(\u001b[39mself\u001b[39m, event, \u001b[39m*\u001b[39m\u001b[39m*\u001b[39mkwargs):\n\u001b[0;32m---> 25\u001b[0m     \u001b[39mif\u001b[39;00m event[\u001b[39m'\u001b[39;49m\u001b[39mtype\u001b[39;49m\u001b[39m'\u001b[39;49m] \u001b[39m==\u001b[39m \u001b[39m'\u001b[39m\u001b[39mclick\u001b[39m\u001b[39m'\u001b[39m:\n\u001b[1;32m     26\u001b[0m         lat, lon \u001b[39m=\u001b[39m event[\u001b[39m'\u001b[39m\u001b[39mcoordinates\u001b[39m\u001b[39m'\u001b[39m]\n\u001b[1;32m     27\u001b[0m         marker \u001b[39m=\u001b[39m ipyleaflet\u001b[39m.\u001b[39mMarker(location\u001b[39m=\u001b[39m(lat, lon))\n",
      "\u001b[0;31mTypeError\u001b[0m: string indices must be integers, not 'str'"
     ]
    },
    {
     "ename": "TypeError",
     "evalue": "string indices must be integers, not 'str'",
     "output_type": "error",
     "traceback": [
      "\u001b[0;31m---------------------------------------------------------------------------\u001b[0m",
      "\u001b[0;31mTypeError\u001b[0m                                 Traceback (most recent call last)",
      "File \u001b[0;32m~/Documents/geolog/geolog/geotest.py:25\u001b[0m, in \u001b[0;36mMap.handle_interaction\u001b[0;34m(self, event, **kwargs)\u001b[0m\n\u001b[1;32m     24\u001b[0m \u001b[39mdef\u001b[39;00m \u001b[39mhandle_interaction\u001b[39m(\u001b[39mself\u001b[39m, event, \u001b[39m*\u001b[39m\u001b[39m*\u001b[39mkwargs):\n\u001b[0;32m---> 25\u001b[0m     \u001b[39mif\u001b[39;00m event[\u001b[39m'\u001b[39;49m\u001b[39mtype\u001b[39;49m\u001b[39m'\u001b[39;49m] \u001b[39m==\u001b[39m \u001b[39m'\u001b[39m\u001b[39mclick\u001b[39m\u001b[39m'\u001b[39m:\n\u001b[1;32m     26\u001b[0m         lat, lon \u001b[39m=\u001b[39m event[\u001b[39m'\u001b[39m\u001b[39mcoordinates\u001b[39m\u001b[39m'\u001b[39m]\n\u001b[1;32m     27\u001b[0m         marker \u001b[39m=\u001b[39m ipyleaflet\u001b[39m.\u001b[39mMarker(location\u001b[39m=\u001b[39m(lat, lon))\n",
      "\u001b[0;31mTypeError\u001b[0m: string indices must be integers, not 'str'"
     ]
    },
    {
     "ename": "TypeError",
     "evalue": "string indices must be integers, not 'str'",
     "output_type": "error",
     "traceback": [
      "\u001b[0;31m---------------------------------------------------------------------------\u001b[0m",
      "\u001b[0;31mTypeError\u001b[0m                                 Traceback (most recent call last)",
      "File \u001b[0;32m~/Documents/geolog/geolog/geotest.py:25\u001b[0m, in \u001b[0;36mMap.handle_interaction\u001b[0;34m(self, event, **kwargs)\u001b[0m\n\u001b[1;32m     24\u001b[0m \u001b[39mdef\u001b[39;00m \u001b[39mhandle_interaction\u001b[39m(\u001b[39mself\u001b[39m, event, \u001b[39m*\u001b[39m\u001b[39m*\u001b[39mkwargs):\n\u001b[0;32m---> 25\u001b[0m     \u001b[39mif\u001b[39;00m event[\u001b[39m'\u001b[39;49m\u001b[39mtype\u001b[39;49m\u001b[39m'\u001b[39;49m] \u001b[39m==\u001b[39m \u001b[39m'\u001b[39m\u001b[39mclick\u001b[39m\u001b[39m'\u001b[39m:\n\u001b[1;32m     26\u001b[0m         lat, lon \u001b[39m=\u001b[39m event[\u001b[39m'\u001b[39m\u001b[39mcoordinates\u001b[39m\u001b[39m'\u001b[39m]\n\u001b[1;32m     27\u001b[0m         marker \u001b[39m=\u001b[39m ipyleaflet\u001b[39m.\u001b[39mMarker(location\u001b[39m=\u001b[39m(lat, lon))\n",
      "\u001b[0;31mTypeError\u001b[0m: string indices must be integers, not 'str'"
     ]
    },
    {
     "ename": "TypeError",
     "evalue": "string indices must be integers, not 'str'",
     "output_type": "error",
     "traceback": [
      "\u001b[0;31m---------------------------------------------------------------------------\u001b[0m",
      "\u001b[0;31mTypeError\u001b[0m                                 Traceback (most recent call last)",
      "File \u001b[0;32m~/Documents/geolog/geolog/geotest.py:25\u001b[0m, in \u001b[0;36mMap.handle_interaction\u001b[0;34m(self, event, **kwargs)\u001b[0m\n\u001b[1;32m     24\u001b[0m \u001b[39mdef\u001b[39;00m \u001b[39mhandle_interaction\u001b[39m(\u001b[39mself\u001b[39m, event, \u001b[39m*\u001b[39m\u001b[39m*\u001b[39mkwargs):\n\u001b[0;32m---> 25\u001b[0m     \u001b[39mif\u001b[39;00m event[\u001b[39m'\u001b[39;49m\u001b[39mtype\u001b[39;49m\u001b[39m'\u001b[39;49m] \u001b[39m==\u001b[39m \u001b[39m'\u001b[39m\u001b[39mclick\u001b[39m\u001b[39m'\u001b[39m:\n\u001b[1;32m     26\u001b[0m         lat, lon \u001b[39m=\u001b[39m event[\u001b[39m'\u001b[39m\u001b[39mcoordinates\u001b[39m\u001b[39m'\u001b[39m]\n\u001b[1;32m     27\u001b[0m         marker \u001b[39m=\u001b[39m ipyleaflet\u001b[39m.\u001b[39mMarker(location\u001b[39m=\u001b[39m(lat, lon))\n",
      "\u001b[0;31mTypeError\u001b[0m: string indices must be integers, not 'str'"
     ]
    },
    {
     "ename": "TypeError",
     "evalue": "string indices must be integers, not 'str'",
     "output_type": "error",
     "traceback": [
      "\u001b[0;31m---------------------------------------------------------------------------\u001b[0m",
      "\u001b[0;31mTypeError\u001b[0m                                 Traceback (most recent call last)",
      "File \u001b[0;32m~/Documents/geolog/geolog/geotest.py:25\u001b[0m, in \u001b[0;36mMap.handle_interaction\u001b[0;34m(self, event, **kwargs)\u001b[0m\n\u001b[1;32m     24\u001b[0m \u001b[39mdef\u001b[39;00m \u001b[39mhandle_interaction\u001b[39m(\u001b[39mself\u001b[39m, event, \u001b[39m*\u001b[39m\u001b[39m*\u001b[39mkwargs):\n\u001b[0;32m---> 25\u001b[0m     \u001b[39mif\u001b[39;00m event[\u001b[39m'\u001b[39;49m\u001b[39mtype\u001b[39;49m\u001b[39m'\u001b[39;49m] \u001b[39m==\u001b[39m \u001b[39m'\u001b[39m\u001b[39mclick\u001b[39m\u001b[39m'\u001b[39m:\n\u001b[1;32m     26\u001b[0m         lat, lon \u001b[39m=\u001b[39m event[\u001b[39m'\u001b[39m\u001b[39mcoordinates\u001b[39m\u001b[39m'\u001b[39m]\n\u001b[1;32m     27\u001b[0m         marker \u001b[39m=\u001b[39m ipyleaflet\u001b[39m.\u001b[39mMarker(location\u001b[39m=\u001b[39m(lat, lon))\n",
      "\u001b[0;31mTypeError\u001b[0m: string indices must be integers, not 'str'"
     ]
    },
    {
     "ename": "TypeError",
     "evalue": "string indices must be integers, not 'str'",
     "output_type": "error",
     "traceback": [
      "\u001b[0;31m---------------------------------------------------------------------------\u001b[0m",
      "\u001b[0;31mTypeError\u001b[0m                                 Traceback (most recent call last)",
      "File \u001b[0;32m~/Documents/geolog/geolog/geotest.py:25\u001b[0m, in \u001b[0;36mMap.handle_interaction\u001b[0;34m(self, event, **kwargs)\u001b[0m\n\u001b[1;32m     24\u001b[0m \u001b[39mdef\u001b[39;00m \u001b[39mhandle_interaction\u001b[39m(\u001b[39mself\u001b[39m, event, \u001b[39m*\u001b[39m\u001b[39m*\u001b[39mkwargs):\n\u001b[0;32m---> 25\u001b[0m     \u001b[39mif\u001b[39;00m event[\u001b[39m'\u001b[39;49m\u001b[39mtype\u001b[39;49m\u001b[39m'\u001b[39;49m] \u001b[39m==\u001b[39m \u001b[39m'\u001b[39m\u001b[39mclick\u001b[39m\u001b[39m'\u001b[39m:\n\u001b[1;32m     26\u001b[0m         lat, lon \u001b[39m=\u001b[39m event[\u001b[39m'\u001b[39m\u001b[39mcoordinates\u001b[39m\u001b[39m'\u001b[39m]\n\u001b[1;32m     27\u001b[0m         marker \u001b[39m=\u001b[39m ipyleaflet\u001b[39m.\u001b[39mMarker(location\u001b[39m=\u001b[39m(lat, lon))\n",
      "\u001b[0;31mTypeError\u001b[0m: string indices must be integers, not 'str'"
     ]
    },
    {
     "ename": "TypeError",
     "evalue": "string indices must be integers, not 'str'",
     "output_type": "error",
     "traceback": [
      "\u001b[0;31m---------------------------------------------------------------------------\u001b[0m",
      "\u001b[0;31mTypeError\u001b[0m                                 Traceback (most recent call last)",
      "File \u001b[0;32m~/Documents/geolog/geolog/geotest.py:25\u001b[0m, in \u001b[0;36mMap.handle_interaction\u001b[0;34m(self, event, **kwargs)\u001b[0m\n\u001b[1;32m     24\u001b[0m \u001b[39mdef\u001b[39;00m \u001b[39mhandle_interaction\u001b[39m(\u001b[39mself\u001b[39m, event, \u001b[39m*\u001b[39m\u001b[39m*\u001b[39mkwargs):\n\u001b[0;32m---> 25\u001b[0m     \u001b[39mif\u001b[39;00m event[\u001b[39m'\u001b[39;49m\u001b[39mtype\u001b[39;49m\u001b[39m'\u001b[39;49m] \u001b[39m==\u001b[39m \u001b[39m'\u001b[39m\u001b[39mclick\u001b[39m\u001b[39m'\u001b[39m:\n\u001b[1;32m     26\u001b[0m         lat, lon \u001b[39m=\u001b[39m event[\u001b[39m'\u001b[39m\u001b[39mcoordinates\u001b[39m\u001b[39m'\u001b[39m]\n\u001b[1;32m     27\u001b[0m         marker \u001b[39m=\u001b[39m ipyleaflet\u001b[39m.\u001b[39mMarker(location\u001b[39m=\u001b[39m(lat, lon))\n",
      "\u001b[0;31mTypeError\u001b[0m: string indices must be integers, not 'str'"
     ]
    },
    {
     "ename": "TypeError",
     "evalue": "string indices must be integers, not 'str'",
     "output_type": "error",
     "traceback": [
      "\u001b[0;31m---------------------------------------------------------------------------\u001b[0m",
      "\u001b[0;31mTypeError\u001b[0m                                 Traceback (most recent call last)",
      "File \u001b[0;32m~/Documents/geolog/geolog/geotest.py:25\u001b[0m, in \u001b[0;36mMap.handle_interaction\u001b[0;34m(self, event, **kwargs)\u001b[0m\n\u001b[1;32m     24\u001b[0m \u001b[39mdef\u001b[39;00m \u001b[39mhandle_interaction\u001b[39m(\u001b[39mself\u001b[39m, event, \u001b[39m*\u001b[39m\u001b[39m*\u001b[39mkwargs):\n\u001b[0;32m---> 25\u001b[0m     \u001b[39mif\u001b[39;00m event[\u001b[39m'\u001b[39;49m\u001b[39mtype\u001b[39;49m\u001b[39m'\u001b[39;49m] \u001b[39m==\u001b[39m \u001b[39m'\u001b[39m\u001b[39mclick\u001b[39m\u001b[39m'\u001b[39m:\n\u001b[1;32m     26\u001b[0m         lat, lon \u001b[39m=\u001b[39m event[\u001b[39m'\u001b[39m\u001b[39mcoordinates\u001b[39m\u001b[39m'\u001b[39m]\n\u001b[1;32m     27\u001b[0m         marker \u001b[39m=\u001b[39m ipyleaflet\u001b[39m.\u001b[39mMarker(location\u001b[39m=\u001b[39m(lat, lon))\n",
      "\u001b[0;31mTypeError\u001b[0m: string indices must be integers, not 'str'"
     ]
    },
    {
     "ename": "TypeError",
     "evalue": "string indices must be integers, not 'str'",
     "output_type": "error",
     "traceback": [
      "\u001b[0;31m---------------------------------------------------------------------------\u001b[0m",
      "\u001b[0;31mTypeError\u001b[0m                                 Traceback (most recent call last)",
      "File \u001b[0;32m~/Documents/geolog/geolog/geotest.py:25\u001b[0m, in \u001b[0;36mMap.handle_interaction\u001b[0;34m(self, event, **kwargs)\u001b[0m\n\u001b[1;32m     24\u001b[0m \u001b[39mdef\u001b[39;00m \u001b[39mhandle_interaction\u001b[39m(\u001b[39mself\u001b[39m, event, \u001b[39m*\u001b[39m\u001b[39m*\u001b[39mkwargs):\n\u001b[0;32m---> 25\u001b[0m     \u001b[39mif\u001b[39;00m event[\u001b[39m'\u001b[39;49m\u001b[39mtype\u001b[39;49m\u001b[39m'\u001b[39;49m] \u001b[39m==\u001b[39m \u001b[39m'\u001b[39m\u001b[39mclick\u001b[39m\u001b[39m'\u001b[39m:\n\u001b[1;32m     26\u001b[0m         lat, lon \u001b[39m=\u001b[39m event[\u001b[39m'\u001b[39m\u001b[39mcoordinates\u001b[39m\u001b[39m'\u001b[39m]\n\u001b[1;32m     27\u001b[0m         marker \u001b[39m=\u001b[39m ipyleaflet\u001b[39m.\u001b[39mMarker(location\u001b[39m=\u001b[39m(lat, lon))\n",
      "\u001b[0;31mTypeError\u001b[0m: string indices must be integers, not 'str'"
     ]
    },
    {
     "ename": "TypeError",
     "evalue": "string indices must be integers, not 'str'",
     "output_type": "error",
     "traceback": [
      "\u001b[0;31m---------------------------------------------------------------------------\u001b[0m",
      "\u001b[0;31mTypeError\u001b[0m                                 Traceback (most recent call last)",
      "File \u001b[0;32m~/Documents/geolog/geolog/geotest.py:25\u001b[0m, in \u001b[0;36mMap.handle_interaction\u001b[0;34m(self, event, **kwargs)\u001b[0m\n\u001b[1;32m     24\u001b[0m \u001b[39mdef\u001b[39;00m \u001b[39mhandle_interaction\u001b[39m(\u001b[39mself\u001b[39m, event, \u001b[39m*\u001b[39m\u001b[39m*\u001b[39mkwargs):\n\u001b[0;32m---> 25\u001b[0m     \u001b[39mif\u001b[39;00m event[\u001b[39m'\u001b[39;49m\u001b[39mtype\u001b[39;49m\u001b[39m'\u001b[39;49m] \u001b[39m==\u001b[39m \u001b[39m'\u001b[39m\u001b[39mclick\u001b[39m\u001b[39m'\u001b[39m:\n\u001b[1;32m     26\u001b[0m         lat, lon \u001b[39m=\u001b[39m event[\u001b[39m'\u001b[39m\u001b[39mcoordinates\u001b[39m\u001b[39m'\u001b[39m]\n\u001b[1;32m     27\u001b[0m         marker \u001b[39m=\u001b[39m ipyleaflet\u001b[39m.\u001b[39mMarker(location\u001b[39m=\u001b[39m(lat, lon))\n",
      "\u001b[0;31mTypeError\u001b[0m: string indices must be integers, not 'str'"
     ]
    },
    {
     "ename": "TypeError",
     "evalue": "string indices must be integers, not 'str'",
     "output_type": "error",
     "traceback": [
      "\u001b[0;31m---------------------------------------------------------------------------\u001b[0m",
      "\u001b[0;31mTypeError\u001b[0m                                 Traceback (most recent call last)",
      "File \u001b[0;32m~/Documents/geolog/geolog/geotest.py:25\u001b[0m, in \u001b[0;36mMap.handle_interaction\u001b[0;34m(self, event, **kwargs)\u001b[0m\n\u001b[1;32m     24\u001b[0m \u001b[39mdef\u001b[39;00m \u001b[39mhandle_interaction\u001b[39m(\u001b[39mself\u001b[39m, event, \u001b[39m*\u001b[39m\u001b[39m*\u001b[39mkwargs):\n\u001b[0;32m---> 25\u001b[0m     \u001b[39mif\u001b[39;00m event[\u001b[39m'\u001b[39;49m\u001b[39mtype\u001b[39;49m\u001b[39m'\u001b[39;49m] \u001b[39m==\u001b[39m \u001b[39m'\u001b[39m\u001b[39mclick\u001b[39m\u001b[39m'\u001b[39m:\n\u001b[1;32m     26\u001b[0m         lat, lon \u001b[39m=\u001b[39m event[\u001b[39m'\u001b[39m\u001b[39mcoordinates\u001b[39m\u001b[39m'\u001b[39m]\n\u001b[1;32m     27\u001b[0m         marker \u001b[39m=\u001b[39m ipyleaflet\u001b[39m.\u001b[39mMarker(location\u001b[39m=\u001b[39m(lat, lon))\n",
      "\u001b[0;31mTypeError\u001b[0m: string indices must be integers, not 'str'"
     ]
    },
    {
     "ename": "TypeError",
     "evalue": "string indices must be integers, not 'str'",
     "output_type": "error",
     "traceback": [
      "\u001b[0;31m---------------------------------------------------------------------------\u001b[0m",
      "\u001b[0;31mTypeError\u001b[0m                                 Traceback (most recent call last)",
      "File \u001b[0;32m~/Documents/geolog/geolog/geotest.py:25\u001b[0m, in \u001b[0;36mMap.handle_interaction\u001b[0;34m(self, event, **kwargs)\u001b[0m\n\u001b[1;32m     24\u001b[0m \u001b[39mdef\u001b[39;00m \u001b[39mhandle_interaction\u001b[39m(\u001b[39mself\u001b[39m, event, \u001b[39m*\u001b[39m\u001b[39m*\u001b[39mkwargs):\n\u001b[0;32m---> 25\u001b[0m     \u001b[39mif\u001b[39;00m event[\u001b[39m'\u001b[39;49m\u001b[39mtype\u001b[39;49m\u001b[39m'\u001b[39;49m] \u001b[39m==\u001b[39m \u001b[39m'\u001b[39m\u001b[39mclick\u001b[39m\u001b[39m'\u001b[39m:\n\u001b[1;32m     26\u001b[0m         lat, lon \u001b[39m=\u001b[39m event[\u001b[39m'\u001b[39m\u001b[39mcoordinates\u001b[39m\u001b[39m'\u001b[39m]\n\u001b[1;32m     27\u001b[0m         marker \u001b[39m=\u001b[39m ipyleaflet\u001b[39m.\u001b[39mMarker(location\u001b[39m=\u001b[39m(lat, lon))\n",
      "\u001b[0;31mTypeError\u001b[0m: string indices must be integers, not 'str'"
     ]
    },
    {
     "ename": "TypeError",
     "evalue": "string indices must be integers, not 'str'",
     "output_type": "error",
     "traceback": [
      "\u001b[0;31m---------------------------------------------------------------------------\u001b[0m",
      "\u001b[0;31mTypeError\u001b[0m                                 Traceback (most recent call last)",
      "File \u001b[0;32m~/Documents/geolog/geolog/geotest.py:25\u001b[0m, in \u001b[0;36mMap.handle_interaction\u001b[0;34m(self, event, **kwargs)\u001b[0m\n\u001b[1;32m     24\u001b[0m \u001b[39mdef\u001b[39;00m \u001b[39mhandle_interaction\u001b[39m(\u001b[39mself\u001b[39m, event, \u001b[39m*\u001b[39m\u001b[39m*\u001b[39mkwargs):\n\u001b[0;32m---> 25\u001b[0m     \u001b[39mif\u001b[39;00m event[\u001b[39m'\u001b[39;49m\u001b[39mtype\u001b[39;49m\u001b[39m'\u001b[39;49m] \u001b[39m==\u001b[39m \u001b[39m'\u001b[39m\u001b[39mclick\u001b[39m\u001b[39m'\u001b[39m:\n\u001b[1;32m     26\u001b[0m         lat, lon \u001b[39m=\u001b[39m event[\u001b[39m'\u001b[39m\u001b[39mcoordinates\u001b[39m\u001b[39m'\u001b[39m]\n\u001b[1;32m     27\u001b[0m         marker \u001b[39m=\u001b[39m ipyleaflet\u001b[39m.\u001b[39mMarker(location\u001b[39m=\u001b[39m(lat, lon))\n",
      "\u001b[0;31mTypeError\u001b[0m: string indices must be integers, not 'str'"
     ]
    },
    {
     "ename": "TypeError",
     "evalue": "string indices must be integers, not 'str'",
     "output_type": "error",
     "traceback": [
      "\u001b[0;31m---------------------------------------------------------------------------\u001b[0m",
      "\u001b[0;31mTypeError\u001b[0m                                 Traceback (most recent call last)",
      "File \u001b[0;32m~/Documents/geolog/geolog/geotest.py:25\u001b[0m, in \u001b[0;36mMap.handle_interaction\u001b[0;34m(self, event, **kwargs)\u001b[0m\n\u001b[1;32m     24\u001b[0m \u001b[39mdef\u001b[39;00m \u001b[39mhandle_interaction\u001b[39m(\u001b[39mself\u001b[39m, event, \u001b[39m*\u001b[39m\u001b[39m*\u001b[39mkwargs):\n\u001b[0;32m---> 25\u001b[0m     \u001b[39mif\u001b[39;00m event[\u001b[39m'\u001b[39;49m\u001b[39mtype\u001b[39;49m\u001b[39m'\u001b[39;49m] \u001b[39m==\u001b[39m \u001b[39m'\u001b[39m\u001b[39mclick\u001b[39m\u001b[39m'\u001b[39m:\n\u001b[1;32m     26\u001b[0m         lat, lon \u001b[39m=\u001b[39m event[\u001b[39m'\u001b[39m\u001b[39mcoordinates\u001b[39m\u001b[39m'\u001b[39m]\n\u001b[1;32m     27\u001b[0m         marker \u001b[39m=\u001b[39m ipyleaflet\u001b[39m.\u001b[39mMarker(location\u001b[39m=\u001b[39m(lat, lon))\n",
      "\u001b[0;31mTypeError\u001b[0m: string indices must be integers, not 'str'"
     ]
    },
    {
     "ename": "TypeError",
     "evalue": "string indices must be integers, not 'str'",
     "output_type": "error",
     "traceback": [
      "\u001b[0;31m---------------------------------------------------------------------------\u001b[0m",
      "\u001b[0;31mTypeError\u001b[0m                                 Traceback (most recent call last)",
      "File \u001b[0;32m~/Documents/geolog/geolog/geotest.py:25\u001b[0m, in \u001b[0;36mMap.handle_interaction\u001b[0;34m(self, event, **kwargs)\u001b[0m\n\u001b[1;32m     24\u001b[0m \u001b[39mdef\u001b[39;00m \u001b[39mhandle_interaction\u001b[39m(\u001b[39mself\u001b[39m, event, \u001b[39m*\u001b[39m\u001b[39m*\u001b[39mkwargs):\n\u001b[0;32m---> 25\u001b[0m     \u001b[39mif\u001b[39;00m event[\u001b[39m'\u001b[39;49m\u001b[39mtype\u001b[39;49m\u001b[39m'\u001b[39;49m] \u001b[39m==\u001b[39m \u001b[39m'\u001b[39m\u001b[39mclick\u001b[39m\u001b[39m'\u001b[39m:\n\u001b[1;32m     26\u001b[0m         lat, lon \u001b[39m=\u001b[39m event[\u001b[39m'\u001b[39m\u001b[39mcoordinates\u001b[39m\u001b[39m'\u001b[39m]\n\u001b[1;32m     27\u001b[0m         marker \u001b[39m=\u001b[39m ipyleaflet\u001b[39m.\u001b[39mMarker(location\u001b[39m=\u001b[39m(lat, lon))\n",
      "\u001b[0;31mTypeError\u001b[0m: string indices must be integers, not 'str'"
     ]
    },
    {
     "ename": "TypeError",
     "evalue": "string indices must be integers, not 'str'",
     "output_type": "error",
     "traceback": [
      "\u001b[0;31m---------------------------------------------------------------------------\u001b[0m",
      "\u001b[0;31mTypeError\u001b[0m                                 Traceback (most recent call last)",
      "File \u001b[0;32m~/Documents/geolog/geolog/geotest.py:25\u001b[0m, in \u001b[0;36mMap.handle_interaction\u001b[0;34m(self, event, **kwargs)\u001b[0m\n\u001b[1;32m     24\u001b[0m \u001b[39mdef\u001b[39;00m \u001b[39mhandle_interaction\u001b[39m(\u001b[39mself\u001b[39m, event, \u001b[39m*\u001b[39m\u001b[39m*\u001b[39mkwargs):\n\u001b[0;32m---> 25\u001b[0m     \u001b[39mif\u001b[39;00m event[\u001b[39m'\u001b[39;49m\u001b[39mtype\u001b[39;49m\u001b[39m'\u001b[39;49m] \u001b[39m==\u001b[39m \u001b[39m'\u001b[39m\u001b[39mclick\u001b[39m\u001b[39m'\u001b[39m:\n\u001b[1;32m     26\u001b[0m         lat, lon \u001b[39m=\u001b[39m event[\u001b[39m'\u001b[39m\u001b[39mcoordinates\u001b[39m\u001b[39m'\u001b[39m]\n\u001b[1;32m     27\u001b[0m         marker \u001b[39m=\u001b[39m ipyleaflet\u001b[39m.\u001b[39mMarker(location\u001b[39m=\u001b[39m(lat, lon))\n",
      "\u001b[0;31mTypeError\u001b[0m: string indices must be integers, not 'str'"
     ]
    },
    {
     "ename": "TypeError",
     "evalue": "string indices must be integers, not 'str'",
     "output_type": "error",
     "traceback": [
      "\u001b[0;31m---------------------------------------------------------------------------\u001b[0m",
      "\u001b[0;31mTypeError\u001b[0m                                 Traceback (most recent call last)",
      "File \u001b[0;32m~/Documents/geolog/geolog/geotest.py:25\u001b[0m, in \u001b[0;36mMap.handle_interaction\u001b[0;34m(self, event, **kwargs)\u001b[0m\n\u001b[1;32m     24\u001b[0m \u001b[39mdef\u001b[39;00m \u001b[39mhandle_interaction\u001b[39m(\u001b[39mself\u001b[39m, event, \u001b[39m*\u001b[39m\u001b[39m*\u001b[39mkwargs):\n\u001b[0;32m---> 25\u001b[0m     \u001b[39mif\u001b[39;00m event[\u001b[39m'\u001b[39;49m\u001b[39mtype\u001b[39;49m\u001b[39m'\u001b[39;49m] \u001b[39m==\u001b[39m \u001b[39m'\u001b[39m\u001b[39mclick\u001b[39m\u001b[39m'\u001b[39m:\n\u001b[1;32m     26\u001b[0m         lat, lon \u001b[39m=\u001b[39m event[\u001b[39m'\u001b[39m\u001b[39mcoordinates\u001b[39m\u001b[39m'\u001b[39m]\n\u001b[1;32m     27\u001b[0m         marker \u001b[39m=\u001b[39m ipyleaflet\u001b[39m.\u001b[39mMarker(location\u001b[39m=\u001b[39m(lat, lon))\n",
      "\u001b[0;31mTypeError\u001b[0m: string indices must be integers, not 'str'"
     ]
    },
    {
     "ename": "TypeError",
     "evalue": "string indices must be integers, not 'str'",
     "output_type": "error",
     "traceback": [
      "\u001b[0;31m---------------------------------------------------------------------------\u001b[0m",
      "\u001b[0;31mTypeError\u001b[0m                                 Traceback (most recent call last)",
      "File \u001b[0;32m~/Documents/geolog/geolog/geotest.py:25\u001b[0m, in \u001b[0;36mMap.handle_interaction\u001b[0;34m(self, event, **kwargs)\u001b[0m\n\u001b[1;32m     24\u001b[0m \u001b[39mdef\u001b[39;00m \u001b[39mhandle_interaction\u001b[39m(\u001b[39mself\u001b[39m, event, \u001b[39m*\u001b[39m\u001b[39m*\u001b[39mkwargs):\n\u001b[0;32m---> 25\u001b[0m     \u001b[39mif\u001b[39;00m event[\u001b[39m'\u001b[39;49m\u001b[39mtype\u001b[39;49m\u001b[39m'\u001b[39;49m] \u001b[39m==\u001b[39m \u001b[39m'\u001b[39m\u001b[39mclick\u001b[39m\u001b[39m'\u001b[39m:\n\u001b[1;32m     26\u001b[0m         lat, lon \u001b[39m=\u001b[39m event[\u001b[39m'\u001b[39m\u001b[39mcoordinates\u001b[39m\u001b[39m'\u001b[39m]\n\u001b[1;32m     27\u001b[0m         marker \u001b[39m=\u001b[39m ipyleaflet\u001b[39m.\u001b[39mMarker(location\u001b[39m=\u001b[39m(lat, lon))\n",
      "\u001b[0;31mTypeError\u001b[0m: string indices must be integers, not 'str'"
     ]
    },
    {
     "ename": "TypeError",
     "evalue": "string indices must be integers, not 'str'",
     "output_type": "error",
     "traceback": [
      "\u001b[0;31m---------------------------------------------------------------------------\u001b[0m",
      "\u001b[0;31mTypeError\u001b[0m                                 Traceback (most recent call last)",
      "File \u001b[0;32m~/Documents/geolog/geolog/geotest.py:25\u001b[0m, in \u001b[0;36mMap.handle_interaction\u001b[0;34m(self, event, **kwargs)\u001b[0m\n\u001b[1;32m     24\u001b[0m \u001b[39mdef\u001b[39;00m \u001b[39mhandle_interaction\u001b[39m(\u001b[39mself\u001b[39m, event, \u001b[39m*\u001b[39m\u001b[39m*\u001b[39mkwargs):\n\u001b[0;32m---> 25\u001b[0m     \u001b[39mif\u001b[39;00m event[\u001b[39m'\u001b[39;49m\u001b[39mtype\u001b[39;49m\u001b[39m'\u001b[39;49m] \u001b[39m==\u001b[39m \u001b[39m'\u001b[39m\u001b[39mclick\u001b[39m\u001b[39m'\u001b[39m:\n\u001b[1;32m     26\u001b[0m         lat, lon \u001b[39m=\u001b[39m event[\u001b[39m'\u001b[39m\u001b[39mcoordinates\u001b[39m\u001b[39m'\u001b[39m]\n\u001b[1;32m     27\u001b[0m         marker \u001b[39m=\u001b[39m ipyleaflet\u001b[39m.\u001b[39mMarker(location\u001b[39m=\u001b[39m(lat, lon))\n",
      "\u001b[0;31mTypeError\u001b[0m: string indices must be integers, not 'str'"
     ]
    }
   ],
   "source": [
    "import geolog\n",
    "\n",
    "from ipyleaflet import Map, basemaps, basemap_to_tiles\n",
    "\n",
    "m = geolog.Map(center=(35.89, -85.42), zoom=12)\n",
    "\n",
    "dark_matter_layer = basemap_to_tiles(basemaps.OpenTopoMap)\n",
    "m.add_layer(dark_matter_layer)\n",
    "\n",
    "# Display the map\n",
    "\n",
    "m.add_draw_control()\n",
    "\n",
    "m"
   ]
  }
 ],
 "metadata": {
  "kernelspec": {
   "display_name": "Python 3.9.15",
   "language": "python",
   "name": "python3"
  },
  "language_info": {
   "codemirror_mode": {
    "name": "ipython",
    "version": 3
   },
   "file_extension": ".py",
   "mimetype": "text/x-python",
   "name": "python",
   "nbconvert_exporter": "python",
   "pygments_lexer": "ipython3",
   "version": "3.11.2"
  },
  "orig_nbformat": 4,
  "vscode": {
   "interpreter": {
    "hash": "49482d0c53b7202a4aecf1ecf55b338f4b3a925461cadaf4aa9bd41607fd0526"
   }
  }
 },
 "nbformat": 4,
 "nbformat_minor": 2
}
