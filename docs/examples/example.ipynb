{
 "cells": [
  {
   "cell_type": "code",
   "execution_count": 1,
   "metadata": {},
   "outputs": [
    {
     "ename": "AttributeError",
     "evalue": "'Map' object has no attribute 'add_search_control'",
     "output_type": "error",
     "traceback": [
      "\u001b[0;31m---------------------------------------------------------------------------\u001b[0m",
      "\u001b[0;31mAttributeError\u001b[0m                            Traceback (most recent call last)",
      "Cell \u001b[0;32mIn[1], line 5\u001b[0m\n\u001b[1;32m      1\u001b[0m \u001b[39mimport\u001b[39;00m \u001b[39mgeolog\u001b[39;00m\n\u001b[1;32m      3\u001b[0m m \u001b[39m=\u001b[39m geolog\u001b[39m.\u001b[39mMap(center\u001b[39m=\u001b[39m[\u001b[39m35\u001b[39m,\u001b[39m100\u001b[39m],zoom\u001b[39m=\u001b[39m\u001b[39m4\u001b[39m)\n\u001b[0;32m----> 5\u001b[0m m\u001b[39m.\u001b[39;49madd_search_control(position\u001b[39m=\u001b[39m\u001b[39m\"\u001b[39m\u001b[39mtopright\u001b[39m\u001b[39m\"\u001b[39m)\n",
      "\u001b[0;31mAttributeError\u001b[0m: 'Map' object has no attribute 'add_search_control'"
     ]
    }
   ],
   "source": [
    "import geolog\n",
    "\n",
    "m = geolog.Map(center=[35,100],zoom=4)\n",
    "\n",
    "m.add_search_control(position=\"topright\")"
   ]
  }
 ],
 "metadata": {
  "kernelspec": {
   "display_name": "Python 3.9.15",
   "language": "python",
   "name": "python3"
  },
  "language_info": {
   "codemirror_mode": {
    "name": "ipython",
    "version": 3
   },
   "file_extension": ".py",
   "mimetype": "text/x-python",
   "name": "python",
   "nbconvert_exporter": "python",
   "pygments_lexer": "ipython3",
   "version": "3.11.2"
  },
  "orig_nbformat": 4,
  "vscode": {
   "interpreter": {
    "hash": "49482d0c53b7202a4aecf1ecf55b338f4b3a925461cadaf4aa9bd41607fd0526"
   }
  }
 },
 "nbformat": 4,
 "nbformat_minor": 2
}
