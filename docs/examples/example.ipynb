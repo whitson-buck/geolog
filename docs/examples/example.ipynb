{
  "cells": [
    {
      "cell_type": "code",
      "execution_count": 1,
      "metadata": {
        "id": "2ariMItdcwI0"
      },
      "outputs": [],
      "source": [
        "import geolog\n",
        "\n",
        "m = geolog.Map()\n",
        "\n",
        "# By default, the map loads in at 35,-90 xy coordinates. These can be changed:\n",
        "\n",
        "# m = geolog.Map(center=[35,45],zoom=3)"
      ]
    },
    {
      "cell_type": "code",
      "execution_count": 2,
      "metadata": {
        "colab": {
          "referenced_widgets": [
            "24f51c45ceb84a829b4152fbd8d18c27"
          ]
        },
        "id": "RSqp55OicwI1",
        "outputId": "ab23928e-9013-4372-86d2-5456cb755d90"
      },
      "outputs": [
        {
          "data": {
            "application/vnd.jupyter.widget-view+json": {
              "model_id": "e4a398c2ec6c4a2abf4712742e15e07e",
              "version_major": 2,
              "version_minor": 0
            },
            "text/plain": [
              "Map(center=[35, -90], controls=(ZoomControl(options=['position', 'zoom_in_text', 'zoom_in_title', 'zoom_out_te…"
            ]
          },
          "execution_count": 2,
          "metadata": {},
          "output_type": "execute_result"
        }
      ],
      "source": [
        "# The following adds a search button to your Map.\n",
        "# You can adjust the location with topright, bottomleft, etc.\n",
        "\n",
        "m.add_search_control(position=\"topright\")\n",
        "m"
      ]
    },
    {
      "cell_type": "code",
      "execution_count": 3,
      "metadata": {
        "colab": {
          "referenced_widgets": [
            "24f51c45ceb84a829b4152fbd8d18c27"
          ]
        },
        "id": "ZezObJnDcwI1",
        "outputId": "639b95f5-47e4-4daa-ca91-d026fb2763e9"
      },
      "outputs": [
        {
          "data": {
            "application/vnd.jupyter.widget-view+json": {
              "model_id": "e4a398c2ec6c4a2abf4712742e15e07e",
              "version_major": 2,
              "version_minor": 0
            },
            "text/plain": [
              "Map(bottom=3445.0, center=[35, -90], controls=(ZoomControl(options=['position', 'zoom_in_text', 'zoom_in_title…"
            ]
          },
          "execution_count": 3,
          "metadata": {},
          "output_type": "execute_result"
        }
      ],
      "source": [
        "# Here, you can draw shapes and lines in the map.\n",
        "\n",
        "m.add_draw_control()\n",
        "m"
      ]
    },
    {
      "cell_type": "code",
      "execution_count": 7,
      "metadata": {
        "id": "jH4o_60idrw7"
      },
      "outputs": [
        {
          "data": {
            "application/vnd.jupyter.widget-view+json": {
              "model_id": "e4a398c2ec6c4a2abf4712742e15e07e",
              "version_major": 2,
              "version_minor": 0
            },
            "text/plain": [
              "Map(bottom=3445.0, center=[34.994003757575776, -90], controls=(ZoomControl(options=['position', 'zoom_in_text'…"
            ]
          },
          "execution_count": 7,
          "metadata": {},
          "output_type": "execute_result"
        }
      ],
      "source": [
        "# Next, add a basemap with the following command:\n",
        "\n",
        "m.add_basemap(\"Esri.WorldImagery\")\n",
        "m\n",
        "\n",
        "# My personal favorite is m.add_basemap(\"Esri.NatGeoWorldMap\")"
      ]
    },
    {
      "cell_type": "code",
      "execution_count": 5,
      "metadata": {
        "id": "bLul8g2XeVoK"
      },
      "outputs": [
        {
          "data": {
            "application/vnd.jupyter.widget-view+json": {
              "model_id": "e4a398c2ec6c4a2abf4712742e15e07e",
              "version_major": 2,
              "version_minor": 0
            },
            "text/plain": [
              "Map(bottom=3445.0, center=[35, -90], controls=(ZoomControl(options=['position', 'zoom_in_text', 'zoom_in_title…"
            ]
          },
          "execution_count": 5,
          "metadata": {},
          "output_type": "execute_result"
        }
      ],
      "source": [
        "# You can add new layers from URL's too.\n",
        "\n",
        "url = \"https://www.google.cn/maps/vt?lyrs=s@189&gl=cn&x={x}&y={y}&z={z}\"\n",
        "\n",
        "m.add_tile_layer(url=url,name=\"Google Maps\",attribution=\"Google\")\n",
        "\n",
        "m"
      ]
    },
    {
      "cell_type": "code",
      "execution_count": 6,
      "metadata": {},
      "outputs": [
        {
          "data": {
            "application/vnd.jupyter.widget-view+json": {
              "model_id": "e4a398c2ec6c4a2abf4712742e15e07e",
              "version_major": 2,
              "version_minor": 0
            },
            "text/plain": [
              "Map(bottom=3445.0, center=[34.994003757575776, -90], controls=(ZoomControl(options=['position', 'zoom_in_text'…"
            ]
          },
          "execution_count": 6,
          "metadata": {},
          "output_type": "execute_result"
        }
      ],
      "source": [
        "# Finally, flip through layers with...\n",
        "\n",
        "m.add_layers_control(position=\"bottomright\")\n",
        "\n",
        "m"
      ]
    }
  ],
  "metadata": {
    "colab": {
      "provenance": []
    },
    "kernelspec": {
      "display_name": "Python 3.9.15",
      "language": "python",
      "name": "python3"
    },
    "language_info": {
      "codemirror_mode": {
        "name": "ipython",
        "version": 3
      },
      "file_extension": ".py",
      "mimetype": "text/x-python",
      "name": "python",
      "nbconvert_exporter": "python",
      "pygments_lexer": "ipython3",
      "version": "3.11.2"
    },
    "orig_nbformat": 4,
    "vscode": {
      "interpreter": {
        "hash": "49482d0c53b7202a4aecf1ecf55b338f4b3a925461cadaf4aa9bd41607fd0526"
      }
    }
  },
  "nbformat": 4,
  "nbformat_minor": 0
}
