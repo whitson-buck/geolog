{
 "cells": [
  {
   "cell_type": "code",
   "execution_count": 2,
   "metadata": {},
   "outputs": [
    {
     "data": {
      "application/vnd.jupyter.widget-view+json": {
       "model_id": "77e6c5b0250c43b0be623aad37a45033",
       "version_major": 2,
       "version_minor": 0
      },
      "text/plain": [
       "Map(center=[35, -90], controls=(ZoomControl(options=['position', 'zoom_in_text', 'zoom_in_title', 'zoom_out_te…"
      ]
     },
     "execution_count": 2,
     "metadata": {},
     "output_type": "execute_result"
    }
   ],
   "source": [
    "import ipyleaflet\n",
    "import geolog\n",
    "\n",
    "m = geolog.Map()\n",
    "\n",
    "url = \"https://mt1.google.com/vt/lyrs=r&x={x}&y={y}&z={z}\"\n",
    "\n",
    "layer = ipyleaflet.TileLayer(url=url,name=\"Google Maps\")\n",
    "\n",
    "m.add_layer(layer)\n",
    "\n",
    "m"
   ]
  },
  {
   "cell_type": "code",
   "execution_count": 6,
   "metadata": {},
   "outputs": [
    {
     "data": {
      "application/vnd.jupyter.widget-view+json": {
       "model_id": "77e6c5b0250c43b0be623aad37a45033",
       "version_major": 2,
       "version_minor": 0
      },
      "text/plain": [
       "Map(bottom=51751.0, center=[35.820040281161, -83.68011474609376], controls=(ZoomControl(options=['position', '…"
      ]
     },
     "execution_count": 6,
     "metadata": {},
     "output_type": "execute_result"
    }
   ],
   "source": [
    "url = \"https://mt1.google.com/vt/lyrs=h&x={x}&y={y}&z={z}\"\n",
    "\n",
    "layer = ipyleaflet.TileLayer(url=url,name=\"Roads\")\n",
    "\n",
    "m.add_layer(layer)\n",
    "\n",
    "m"
   ]
  }
 ],
 "metadata": {
  "kernelspec": {
   "display_name": "Python 3.9.15",
   "language": "python",
   "name": "python3"
  },
  "language_info": {
   "codemirror_mode": {
    "name": "ipython",
    "version": 3
   },
   "file_extension": ".py",
   "mimetype": "text/x-python",
   "name": "python",
   "nbconvert_exporter": "python",
   "pygments_lexer": "ipython3",
   "version": "3.11.2"
  },
  "orig_nbformat": 4,
  "vscode": {
   "interpreter": {
    "hash": "49482d0c53b7202a4aecf1ecf55b338f4b3a925461cadaf4aa9bd41607fd0526"
   }
  }
 },
 "nbformat": 4,
 "nbformat_minor": 2
}
