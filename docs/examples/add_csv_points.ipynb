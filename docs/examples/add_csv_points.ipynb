{
 "cells": [
  {
   "cell_type": "code",
   "execution_count": 1,
   "metadata": {},
   "outputs": [
    {
     "data": {
      "application/vnd.jupyter.widget-view+json": {
       "model_id": "ed9d82070f1341b2ad86a81900c9b6e7",
       "version_major": 2,
       "version_minor": 0
      },
      "text/plain": [
       "Map(center=[0, 0], controls=(ZoomControl(options=['position', 'zoom_in_text', 'zoom_in_title', 'zoom_out_text'…"
      ]
     },
     "metadata": {},
     "output_type": "display_data"
    },
    {
     "ename": "TypeError",
     "evalue": "'module' object is not callable",
     "output_type": "error",
     "traceback": [
      "\u001b[1;31m---------------------------------------------------------------------------\u001b[0m",
      "\u001b[1;31mTypeError\u001b[0m                                 Traceback (most recent call last)",
      "File \u001b[1;32mc:\\users\\wbuck4\\documents\\geolog\\geolog\\geolog.py:333\u001b[0m, in \u001b[0;36mMap.load_csv\u001b[1;34m(self, button)\u001b[0m\n\u001b[0;32m    331\u001b[0m \u001b[39mdef\u001b[39;00m \u001b[39mload_csv\u001b[39m(\u001b[39mself\u001b[39m, button):\n\u001b[0;32m    332\u001b[0m     csv_chooser \u001b[39m=\u001b[39m ipyfilechooser\u001b[39m.\u001b[39mFileChooser()\n\u001b[1;32m--> 333\u001b[0m     display(csv_chooser)\n\u001b[0;32m    334\u001b[0m     csv_chooser\u001b[39m.\u001b[39muse_dir_icons \u001b[39m=\u001b[39m \u001b[39mTrue\u001b[39;00m\n\u001b[0;32m    336\u001b[0m     \u001b[39mif\u001b[39;00m csv_chooser\u001b[39m.\u001b[39mselected:\n",
      "\u001b[1;31mTypeError\u001b[0m: 'module' object is not callable"
     ]
    }
   ],
   "source": [
    "import geolog\n",
    "\n",
    "# Create a map\n",
    "m = geolog.Map(center=(0, 0), zoom=2)\n",
    "\n",
    "m.add_markers_from_csv('C:/Users/wbuck4/Documents/geolog/test.csv')\n",
    "\n",
    "# Add markers from a CSV file\n",
    "m"
   ]
  }
 ],
 "metadata": {
  "kernelspec": {
   "display_name": "Python 3.9.15",
   "language": "python",
   "name": "python3"
  },
  "language_info": {
   "codemirror_mode": {
    "name": "ipython",
    "version": 3
   },
   "file_extension": ".py",
   "mimetype": "text/x-python",
   "name": "python",
   "nbconvert_exporter": "python",
   "pygments_lexer": "ipython3",
   "version": "3.9.15"
  },
  "orig_nbformat": 4,
  "vscode": {
   "interpreter": {
    "hash": "49482d0c53b7202a4aecf1ecf55b338f4b3a925461cadaf4aa9bd41607fd0526"
   }
  }
 },
 "nbformat": 4,
 "nbformat_minor": 2
}
