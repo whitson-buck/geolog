{
 "cells": [
  {
   "cell_type": "code",
   "execution_count": 1,
   "metadata": {},
   "outputs": [
    {
     "data": {
      "application/vnd.jupyter.widget-view+json": {
       "model_id": "61c75b82644d4d658718698f53653b3c",
       "version_major": 2,
       "version_minor": 0
      },
      "text/plain": [
       "Map(center=[0, 0], controls=(ZoomControl(options=['position', 'zoom_in_text', 'zoom_in_title', 'zoom_out_text'…"
      ]
     },
     "metadata": {},
     "output_type": "display_data"
    }
   ],
   "source": [
    "import geolog\n",
    "from ipyleaflet import basemaps, basemap_to_tiles\n",
    "\n",
    "# Create a map\n",
    "m = geolog.Map(center=(0, 0), zoom=2)\n",
    "\n",
    "layer = basemap_to_tiles(basemaps.OpenTopoMap)\n",
    "m.add_layer(layer)\n",
    "\n",
    "m.add_markers_from_csv('/Users/whitsonbuck/Documents/geolog/test.csv')\n",
    "\n",
    "m.add_draw_control()\n",
    "\n",
    "# Add markers from a CSV file\n",
    "m"
   ]
  },
  {
   "cell_type": "code",
   "execution_count": 2,
   "metadata": {},
   "outputs": [
    {
     "data": {
      "application/vnd.jupyter.widget-view+json": {
       "model_id": "61c75b82644d4d658718698f53653b3c",
       "version_major": 2,
       "version_minor": 0
      },
      "text/plain": [
       "Map(center=[0, 0], controls=(ZoomControl(options=['position', 'zoom_in_text', 'zoom_in_title', 'zoom_out_text'…"
      ]
     },
     "metadata": {},
     "output_type": "display_data"
    }
   ],
   "source": [
    "m.add_basemap('roadmap')\n",
    "m"
   ]
  },
  {
   "cell_type": "code",
   "execution_count": 1,
   "metadata": {},
   "outputs": [
    {
     "ename": "ZeroDivisionError",
     "evalue": "float division by zero",
     "output_type": "error",
     "traceback": [
      "\u001b[0;31m---------------------------------------------------------------------------\u001b[0m",
      "\u001b[0;31mZeroDivisionError\u001b[0m                         Traceback (most recent call last)",
      "Cell \u001b[0;32mIn[1], line 3\u001b[0m\n\u001b[1;32m      1\u001b[0m \u001b[39mfrom\u001b[39;00m \u001b[39mgeolog\u001b[39;00m \u001b[39mimport\u001b[39;00m calculate_circularity_index\n\u001b[0;32m----> 3\u001b[0m calculate_circularity_index(\u001b[39m\"\u001b[39;49m\u001b[39m/Users/whitsonbuck/Documents/geolog/output_file.shp\u001b[39;49m\u001b[39m\"\u001b[39;49m)\n",
      "File \u001b[0;32m~/Documents/geolog/geolog/geolog.py:590\u001b[0m, in \u001b[0;36mcalculate_circularity_index\u001b[0;34m(shp_file)\u001b[0m\n\u001b[1;32m    587\u001b[0m area \u001b[39m=\u001b[39m shape(sf\u001b[39m.\u001b[39mloc[\u001b[39m0\u001b[39m,\u001b[39m'\u001b[39m\u001b[39mgeometry\u001b[39m\u001b[39m'\u001b[39m])\u001b[39m.\u001b[39marea\n\u001b[1;32m    589\u001b[0m \u001b[39mfor\u001b[39;00m i \u001b[39min\u001b[39;00m \u001b[39mrange\u001b[39m(\u001b[39mlen\u001b[39m(sf)):\n\u001b[0;32m--> 590\u001b[0m     sf\u001b[39m.\u001b[39mloc[i,\u001b[39m'\u001b[39m\u001b[39mCI\u001b[39m\u001b[39m'\u001b[39m] \u001b[39m=\u001b[39m math\u001b[39m.\u001b[39;49msqrt(\u001b[39m4\u001b[39;49m \u001b[39m*\u001b[39;49m math\u001b[39m.\u001b[39;49mpi \u001b[39m*\u001b[39;49m shape(sf\u001b[39m.\u001b[39;49mloc[i,\u001b[39m'\u001b[39;49m\u001b[39mgeometry\u001b[39;49m\u001b[39m'\u001b[39;49m])\u001b[39m.\u001b[39;49marea) \u001b[39m/\u001b[39;49m shape(sf\u001b[39m.\u001b[39;49mloc[i,\u001b[39m'\u001b[39;49m\u001b[39mgeometry\u001b[39;49m\u001b[39m'\u001b[39;49m])\u001b[39m.\u001b[39;49mlength\n\u001b[1;32m    592\u001b[0m \u001b[39m# Get the shapefile's shape records\u001b[39;00m\n\u001b[1;32m    593\u001b[0m \u001b[39m# shapes = sf.shapes()\u001b[39;00m\n\u001b[1;32m    596\u001b[0m \u001b[39mreturn\u001b[39;00m sf\n",
      "\u001b[0;31mZeroDivisionError\u001b[0m: float division by zero"
     ]
    }
   ],
   "source": [
    "from geolog import calculate_circularity_index\n",
    "\n",
    "calculate_circularity_index(\"/Users/whitsonbuck/Documents/geolog/output_file.shp\")"
   ]
  }
 ],
 "metadata": {
  "kernelspec": {
   "display_name": "Python 3.9.15",
   "language": "python",
   "name": "python3"
  },
  "language_info": {
   "codemirror_mode": {
    "name": "ipython",
    "version": 3
   },
   "file_extension": ".py",
   "mimetype": "text/x-python",
   "name": "python",
   "nbconvert_exporter": "python",
   "pygments_lexer": "ipython3",
   "version": "3.11.2"
  },
  "orig_nbformat": 4,
  "vscode": {
   "interpreter": {
    "hash": "49482d0c53b7202a4aecf1ecf55b338f4b3a925461cadaf4aa9bd41607fd0526"
   }
  }
 },
 "nbformat": 4,
 "nbformat_minor": 2
}
